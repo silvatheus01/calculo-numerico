{
 "cells": [
  {
   "cell_type": "markdown",
   "id": "021d3a71",
   "metadata": {},
   "source": [
    "## 1.1\n",
    "A função f escolhida é $ f(x) = (x+1)(x-\\sqrt{10})$, já que, $f(\\sqrt{10})=0$ e, pelo intervalo dado, $f(0)=-\\sqrt{10} < 0$ e $f(20)=21(20-\\sqrt{10}) > 0$ visto que $3 < \\sqrt{10} < 4$. Dessa forma, pelo teorema do valor intermediário, podemos usar o método da bisseção.\n",
    "\n",
    "Para calcular o número de interações necessárias com um erro máximo de $10^{-8}$, utilizamos a o resultado\n",
    "$$\n",
    "t_i = \\frac{b-a}{2^k}\n",
    "$$\n",
    "onde $t_i$ é o tamanho do intervalo e $k$ é o número de interações realizadas pelo algoritmo em um certo momento. Dessa forma,\n",
    "\\begin{align*}\n",
    "10^{-8} &= \\frac{20-0}{2^k}\\\\\n",
    "2^k &= \\frac{20}{10^{-8}}\\\\\n",
    "k &= \\log_2(2*10^9)\n",
    "\\end{align*}\n",
    "pois assim o intervalo observado em um certo momento é no máximo $10^{-8}$, e assim garantimos o teto do erro. Vale frizar também que esse erro é no domínio, pois $a$ e $b$ são pontos no domínio da função $f$. O algoritmo abaixo faz o cálculo baseado nestes argumentos."
   ]
  },
  {
   "cell_type": "code",
   "execution_count": 22,
   "id": "e0ebedfa",
   "metadata": {},
   "outputs": [
    {
     "name": "stdout",
     "output_type": "stream",
     "text": [
      "√10 ≈ 3.162277659866959"
     ]
    }
   ],
   "source": [
    "# Função f que será utilizada\n",
    "f(x) = (x+1)*(x-sqrt(10))\n",
    "\n",
    "# Valor inicial do intervalo\n",
    "a = 0\n",
    "#Valor final do intervalo\n",
    "b = 20\n",
    "# Menor tamanho do intervalo que será analisado\n",
    "tam = 10^-8\n",
    "\n",
    "# f: Função que queremos descobrir uma raiz\n",
    "# a: Primeiro ponto no intervalo analisado\n",
    "# b: Último ponto no intervalo analisado\n",
    "# tam: Menor tamanho do intervalo analisado\n",
    "function bissecao(f,a,b,tam) \n",
    "    # Testa se f(a) e f(b) possuem sinais trocados\n",
    "    if(f(a)*f(b) > 0)\n",
    "        throw(error(\"A função não possue os sinais trocados nos pontos f(a) e f(b)\"))\n",
    "    end\n",
    "    \n",
    "    # Número de interações que serão calculadas\n",
    "    # Utilizamos a função floor para retornar apenas a parte inteira do número. \n",
    "    # Somamos o valor 1 para retornar um teto maior\n",
    "    k = floor(log2(abs(a-b)/tam)) + 1\n",
    "    \n",
    "    # Repete k vezes.\n",
    "    for i in 0:k\n",
    "        # Divide o intervalo em duas partes iguais. A variável m é o \"ponto\" no meio desse intervalo.\n",
    "        m = (a+b)/2\n",
    "        # Se f(a)*f(m) < 0, então quer dizer que a raiz está no intervalo [a,m)\n",
    "        if(f(a)*f(m) < 0)\n",
    "            # O último ponto do intervalo observado passa a ser m, dessa forma olhamos para o intervalo [a,m)\n",
    "            b = m\n",
    "        # Se f(m)*f(b) < 0, então quer dizer que a raiz está no intervalo (m,b]\n",
    "        elseif(f(m)*f(b) < 0)\n",
    "             # O primeiro ponto do intervalo observado passa a ser m, dessa forma olhamos para o intervalo (m,b]\n",
    "            a = m\n",
    "        # Senão, m é raiz.\n",
    "        #= OBS.: Esse último caso pode ser difícil ocorrer devido a imprecisão do ponto flutuante e\n",
    "        a termos sorte de a raiz estar exatamente no meio do intervalo.\n",
    "        =#\n",
    "        else\n",
    "            # Retorna o resultado, já que encontramos a raiz\n",
    "            return m\n",
    "        end\n",
    "    end\n",
    "\n",
    "    #Retorna o resultado final. \n",
    "    # A média aqui serve apenas para melhorar o resultado, mas poderíamos printar a ou b.\n",
    "    return (a+b)/2\n",
    "end\n",
    "\n",
    "print(\"√10 ≈ \", bissecao(f,a,b,tam))"
   ]
  },
  {
   "cell_type": "code",
   "execution_count": 15,
   "id": "e6230128",
   "metadata": {},
   "outputs": [
    {
     "data": {
      "text/plain": [
       "newton (generic function with 1 method)"
      ]
     },
     "execution_count": 15,
     "metadata": {},
     "output_type": "execute_result"
    }
   ],
   "source": [
    "# x: Valor inicial\n",
    "# f: Função f(x)\n",
    "# f_linha: Derivada da função f(x)\n",
    "# n: Número de interações que serão feitas\n",
    "function newton(x,f,f_linha,n)\n",
    "    # Método de newton sendo aplicado. A cada iteração, temos uma aproximação melhor.\n",
    "    for i in 1:n\n",
    "        x = x - f(x)/f_linha(x)\n",
    "    end\n",
    "    # Retorna a aproximação desejada\n",
    "    return x\n",
    "end"
   ]
  },
  {
   "cell_type": "markdown",
   "id": "6d330cb8",
   "metadata": {},
   "source": [
    "## 1.2"
   ]
  },
  {
   "cell_type": "code",
   "execution_count": 25,
   "id": "22ccd7ca",
   "metadata": {},
   "outputs": [
    {
     "name": "stdout",
     "output_type": "stream",
     "text": [
      "-1.3733913786816283"
     ]
    }
   ],
   "source": [
    "a = -100\n",
    "b = 100\n",
    "\n",
    "tam = 10^-2\n",
    "n = 50\n",
    "\n",
    "f(x) = x^5+x^2+3\n",
    "f_linha(x) = 5*x^4+2*x\n",
    "\n",
    "function bissnewton(f,f_linha,a,b,tam,n)\n",
    "    x = bissecao(f,a,b,tam)\n",
    "    if x == 0\n",
    "        return 0\n",
    "    else\n",
    "        return newton(x,f,f_linha,n)\n",
    "    end\n",
    "end\n",
    "    \n",
    "print(bissnewton(f,f_linha,a,b,tam,n))"
   ]
  },
  {
   "cell_type": "markdown",
   "id": "71257f9e",
   "metadata": {},
   "source": [
    "## 1.3"
   ]
  },
  {
   "cell_type": "markdown",
   "id": "4ae8725b",
   "metadata": {},
   "source": [
    "### 1"
   ]
  },
  {
   "cell_type": "markdown",
   "id": "6b579b93",
   "metadata": {},
   "source": [
    "A função que nos interessa é $f(x) = \\ln(3x)$ quando $x=1$. Tornando ambos os lados como o expoente da função $e$, temos\n",
    "\\begin{align*}\n",
    "e^{f(1)} = 3\n",
    "\\end{align*}\n",
    "pois x = 1. Isolando o 3\n",
    "\\begin{align*}\n",
    "e^{f(1)} - 3 = 0\n",
    "\\end{align*}\n",
    "Dessa forma, procuramos a raiz da função\n",
    "\\begin{align*}\n",
    "g(y)=e^y-3 \n",
    "\\end{align*}\n",
    "onde $y = f(1) = \\ln(3)$"
   ]
  },
  {
   "cell_type": "code",
   "execution_count": 27,
   "id": "c5b261a8",
   "metadata": {},
   "outputs": [
    {
     "name": "stdout",
     "output_type": "stream",
     "text": [
      "1.098388671875"
     ]
    }
   ],
   "source": [
    "# Função utlizada\n",
    "g(y)=exp(y)-3\n",
    "# Utilizamos a=0 pois e⁰-3 = 1-3 = -2 < 0\n",
    "a = 0\n",
    "# Utilizamos b=2 pois e²-3 = e*e-3 e como e = 2.71.., então e²-3 > 0\n",
    "b = 2\n",
    "tam = 10^-3\n",
    "\n",
    "print(bissecao(g,a,b,tam))"
   ]
  },
  {
   "cell_type": "markdown",
   "id": "f0f7f432",
   "metadata": {},
   "source": [
    "### 2"
   ]
  },
  {
   "cell_type": "markdown",
   "id": "fe4cc599",
   "metadata": {},
   "source": [
    "Podemos utilizar o mesmo resultado do item 1 acima. Além disso, precisamos da primeira derivada, ou seja\n",
    "$$\n",
    "g'(y) = e^y\n",
    "$$\n",
    "e também do chute inicial. Do mesmo modo, como no item anterior, sabemos que a raiz está entre $g(0)=-2$ e $g(2)\\approx4.3890$, sendo assim, tomando a média desses dois resultados, podemos supor um chute inicial $x=1.1945$. O algoritmo será"
   ]
  },
  {
   "cell_type": "code",
   "execution_count": 36,
   "id": "9efa8747",
   "metadata": {},
   "outputs": [
    {
     "name": "stdout",
     "output_type": "stream",
     "text": [
      "1.0986122886681098"
     ]
    }
   ],
   "source": [
    "# Derivada da função g\n",
    "g_linha(x) = exp(x)\n",
    "# Número de passos\n",
    "n = 20\n",
    "# CHute inical\n",
    "x = 1.1945\n",
    "# Imprime o resultado\n",
    "print(newton(x,g,g_linha,n))"
   ]
  },
  {
   "cell_type": "markdown",
   "id": "60debe78",
   "metadata": {},
   "source": [
    "## 1.4"
   ]
  },
  {
   "cell_type": "markdown",
   "id": "ae6bbbbf",
   "metadata": {},
   "source": [
    "Vamos utilizar 3 pontos conhecidos da função $\\cos(x)$. Os pontos que temos para utilizar na interpolação são\n",
    "$$\n",
    "\\left\\{\\left(\\frac{\\pi}{6},\\frac{\\sqrt{3}}{2}\\right) , \\left(\\frac{\\pi}{4},\\frac{\\sqrt{2}}{2}\\right) , \\left(\\frac{\\pi}{3},\\frac{1}{2}\\right)\\right\\}\n",
    "$$\n",
    "onde $\\frac{\\pi}{6} = 30°,\\frac{\\pi}{4} = 45°$ e $\\frac{\\pi}{3}=60°$.\n",
    "Dessa forma, teremos um polinômio de grau 2 da forma\n",
    "$$\n",
    "y_i=c_1+c_2x_i+c_3x_i^2\n",
    "$$\n",
    "com $1 \\le i \\le 3 \\in \\mathbb{N}$. A matriz de vandermonde será\n",
    "$$\n",
    "Vc=y\\\\\n",
    "\\begin{bmatrix} \n",
    "  1 & \\frac{\\pi}{6} & (\\frac{\\pi}{6})^2 \\\\ \n",
    "  1 & \\frac{\\pi}{4} & (\\frac{\\pi}{4})^2 \\\\\n",
    "  1 & \\frac{\\pi}{3} & (\\frac{\\pi}{3})^2\n",
    "\\end{bmatrix}\n",
    "\\begin{bmatrix} \n",
    "  c_0 \\\\\n",
    "  c_1 \\\\\n",
    "  c_2\n",
    "\\end{bmatrix} =\n",
    "\\begin{bmatrix} \n",
    "  \\frac{\\sqrt{3}}{2}\\\\\n",
    "  \\frac{\\sqrt{2}}{2}\\\\\n",
    "  \\frac{1}{2}\n",
    "\\end{bmatrix} \n",
    "$$\n",
    "Abaixo é utilizado um algoritmo para calcular a matriz coluna $c$"
   ]
  },
  {
   "cell_type": "code",
   "execution_count": 1,
   "id": "4c150084",
   "metadata": {},
   "outputs": [
    {
     "name": "stdout",
     "output_type": "stream",
     "text": [
      "cos(40°) ≈ 0.7654338952290285"
     ]
    }
   ],
   "source": [
    "using LinearAlgebra\n",
    "# x's conhecidos\n",
    "V = [1 π/6 (π/6)^2 ; 1 π/4 (π/4)^2 ; 1 π/3 (π/3)^2]\n",
    "# y's conhecidos\n",
    "y = [√3/2;√2/2;1/2]\n",
    "# Resolve o sistema linear, ou seja, encontra os coeficientes da matriz coluna c\n",
    "c = V\\y\n",
    "\n",
    "# Montagem do polinômio. c[i] representa o i-ésimo elemento da matriz coluna c.\n",
    "f(x) = c[1] + c[2]*x + c[3]*x^2\n",
    "\n",
    "# Printa o resultado levando em consideração que 2π/9 = 40°\n",
    "print(\"cos(40°) ≈ \", f(2π/9))"
   ]
  },
  {
   "cell_type": "markdown",
   "id": "2f486a02",
   "metadata": {},
   "source": [
    "## 1.6"
   ]
  },
  {
   "cell_type": "markdown",
   "id": "81c42adf",
   "metadata": {},
   "source": [
    "Utilizando a ideia do método de Lagrange, sabemos que\n",
    "$$\n",
    "A(x,y) = 800L_1(x,y)+600L_2(x,y)+400L_3(x,y)+500L_4(x,y)\n",
    "$$\n",
    "onde \n",
    "\\begin{align*}\n",
    "L_1 &= \\frac{(x_1-x)(y_1-y)}{(x_1-x_0)(y_1-y_0)}\\\\\n",
    "L_2 &= \\frac{(x-x_0)(y_1-y)}{(x_1-x_0)(y_1-y_0)}\\\\\n",
    "L_3 &= \\frac{(x_1-x)(y-y_0)}{(x_1-x_0)(y_1-y_0)}\\\\\n",
    "L_4 &= \\frac{(x-x_0)(y-y_0)}{(x_1-x_0)(y_1-y_0)}\n",
    "\\end{align*}\n",
    "já que quando $L_i(x,y) = 1$, $L_j(x,y) = 0$ para $i \\ne j$. Simplificando o denominador de cada fração, encontramos a função simplificada\n",
    "$$\n",
    "A(x,y) = \\frac{1}{(x_1-x_0)(y_1-y_0)}(800(x_1-x)(y_1-y)+600(x-x_0)(y_1-y)+400(x_1-x)(y-y_0)+500(x-x_0)(y-y_0))\n",
    "$$\n",
    "Para descobrir os possíveis mínimo e o máximo globais, é preciso primeiro saber quais são os pontos críticos da função acima $A$. Como a função é uma soma de polinômios, então sabemos que ela é diferenciável em todo o domínio, e dessa forma não há pontos não diferenciáveis que seriam pontos críticos, com isso, resta saber se o gradiente se anula em algum ponto. Depois de derivar $A$ na direção $\\vec i$ e $\\vec j$, e avaliar a derivada nos pontos dados pela tabela, chegamos ao resultado\n",
    "\\begin{align*}\n",
    "A_x(x,y) &= 75y-250\\\\\n",
    "A_y(x,y) &= 75x-275\n",
    "\\end{align*}\n",
    "Precisamos que as derivadas parciais acima se anulem, então\n",
    "\\begin{align*}\n",
    "75y-250 &= 0\\\\\n",
    "y &= 3.333\\cdots\\\\\n",
    "75x-275 &= 0\\\\\n",
    "x &= 3.666\\cdots\n",
    "\\end{align*}\n",
    "Dessa forma, o ponto próximo a $(3.333,3.666,A(3.333,3.666))$ é um ponto crítico da função $A$. Agora, para responder a questão, precisamos utilizar o determinante da matriz hessiana no intuito de saber o tipo de ponto crítico que estamos trabalhando. Com isso, derivando novamente, encontramos\n",
    "\\begin{align*}\n",
    "A_{xy}(x,y) &= -250\\\\\n",
    "A_{yx}(x,y) &= -275\\\\\n",
    "A_{xx}(x,y) &= A_{yy}(x,y) = 0\n",
    "\\end{align*}\n",
    "e o determinante será\n",
    "$$\n",
    "H(x,y) = A_{xx}(x,y)A_{yy}(x,y) - A_{xy}(x,y)A_{yx}(x,y) = -68750\n",
    "$$\n",
    "Como $H(x,y) < 0$, então concluímos que o ponto crítico é um ponto de sela."
   ]
  },
  {
   "cell_type": "markdown",
   "id": "ec347fac",
   "metadata": {},
   "source": [
    "## 1.7"
   ]
  },
  {
   "cell_type": "code",
   "execution_count": 39,
   "id": "531d223d",
   "metadata": {},
   "outputs": [
    {
     "data": {
      "image/svg+xml": [
       "<?xml version=\"1.0\" encoding=\"utf-8\"?>\n",
       "<svg xmlns=\"http://www.w3.org/2000/svg\" xmlns:xlink=\"http://www.w3.org/1999/xlink\" width=\"600\" height=\"400\" viewBox=\"0 0 2400 1600\">\n",
       "<defs>\n",
       "  <clipPath id=\"clip820\">\n",
       "    <rect x=\"0\" y=\"0\" width=\"2400\" height=\"1600\"/>\n",
       "  </clipPath>\n",
       "</defs>\n",
       "<path clip-path=\"url(#clip820)\" d=\"\n",
       "M0 1600 L2400 1600 L2400 0 L0 0  Z\n",
       "  \" fill=\"#ffffff\" fill-rule=\"evenodd\" fill-opacity=\"1\"/>\n",
       "<defs>\n",
       "  <clipPath id=\"clip821\">\n",
       "    <rect x=\"480\" y=\"0\" width=\"1681\" height=\"1600\"/>\n",
       "  </clipPath>\n",
       "</defs>\n",
       "<path clip-path=\"url(#clip820)\" d=\"\n",
       "M149.191 1486.45 L2352.76 1486.45 L2352.76 47.2441 L149.191 47.2441  Z\n",
       "  \" fill=\"#ffffff\" fill-rule=\"evenodd\" fill-opacity=\"1\"/>\n",
       "<defs>\n",
       "  <clipPath id=\"clip822\">\n",
       "    <rect x=\"149\" y=\"47\" width=\"2205\" height=\"1440\"/>\n",
       "  </clipPath>\n",
       "</defs>\n",
       "<polyline clip-path=\"url(#clip822)\" style=\"stroke:#000000; stroke-linecap:butt; stroke-linejoin:round; stroke-width:2; stroke-opacity:0.1; fill:none\" points=\"\n",
       "  149.191,1486.45 149.191,47.2441 \n",
       "  \"/>\n",
       "<polyline clip-path=\"url(#clip822)\" style=\"stroke:#000000; stroke-linecap:butt; stroke-linejoin:round; stroke-width:2; stroke-opacity:0.1; fill:none\" points=\"\n",
       "  883.713,1486.45 883.713,47.2441 \n",
       "  \"/>\n",
       "<polyline clip-path=\"url(#clip822)\" style=\"stroke:#000000; stroke-linecap:butt; stroke-linejoin:round; stroke-width:2; stroke-opacity:0.1; fill:none\" points=\"\n",
       "  1618.23,1486.45 1618.23,47.2441 \n",
       "  \"/>\n",
       "<polyline clip-path=\"url(#clip822)\" style=\"stroke:#000000; stroke-linecap:butt; stroke-linejoin:round; stroke-width:2; stroke-opacity:0.1; fill:none\" points=\"\n",
       "  2352.76,1486.45 2352.76,47.2441 \n",
       "  \"/>\n",
       "<polyline clip-path=\"url(#clip820)\" style=\"stroke:#000000; stroke-linecap:butt; stroke-linejoin:round; stroke-width:4; stroke-opacity:1; fill:none\" points=\"\n",
       "  149.191,1486.45 2352.76,1486.45 \n",
       "  \"/>\n",
       "<polyline clip-path=\"url(#clip820)\" style=\"stroke:#000000; stroke-linecap:butt; stroke-linejoin:round; stroke-width:4; stroke-opacity:1; fill:none\" points=\"\n",
       "  149.191,1486.45 149.191,1467.55 \n",
       "  \"/>\n",
       "<polyline clip-path=\"url(#clip820)\" style=\"stroke:#000000; stroke-linecap:butt; stroke-linejoin:round; stroke-width:4; stroke-opacity:1; fill:none\" points=\"\n",
       "  883.713,1486.45 883.713,1467.55 \n",
       "  \"/>\n",
       "<polyline clip-path=\"url(#clip820)\" style=\"stroke:#000000; stroke-linecap:butt; stroke-linejoin:round; stroke-width:4; stroke-opacity:1; fill:none\" points=\"\n",
       "  1618.23,1486.45 1618.23,1467.55 \n",
       "  \"/>\n",
       "<polyline clip-path=\"url(#clip820)\" style=\"stroke:#000000; stroke-linecap:butt; stroke-linejoin:round; stroke-width:4; stroke-opacity:1; fill:none\" points=\"\n",
       "  2352.76,1486.45 2352.76,1467.55 \n",
       "  \"/>\n",
       "<path clip-path=\"url(#clip820)\" d=\"M118.832 1532.02 L148.508 1532.02 L148.508 1535.95 L118.832 1535.95 L118.832 1532.02 Z\" fill=\"#000000\" fill-rule=\"evenodd\" fill-opacity=\"1\" /><path clip-path=\"url(#clip820)\" d=\"M158.647 1514.29 L177.003 1514.29 L177.003 1518.22 L162.929 1518.22 L162.929 1526.7 Q163.948 1526.35 164.966 1526.19 Q165.985 1526 167.003 1526 Q172.79 1526 176.17 1529.17 Q179.55 1532.34 179.55 1537.76 Q179.55 1543.34 176.077 1546.44 Q172.605 1549.52 166.286 1549.52 Q164.11 1549.52 161.841 1549.15 Q159.596 1548.78 157.189 1548.04 L157.189 1543.34 Q159.272 1544.47 161.494 1545.03 Q163.716 1545.58 166.193 1545.58 Q170.198 1545.58 172.536 1543.48 Q174.874 1541.37 174.874 1537.76 Q174.874 1534.15 172.536 1532.04 Q170.198 1529.94 166.193 1529.94 Q164.318 1529.94 162.443 1530.35 Q160.591 1530.77 158.647 1531.65 L158.647 1514.29 Z\" fill=\"#000000\" fill-rule=\"evenodd\" fill-opacity=\"1\" /><path clip-path=\"url(#clip820)\" d=\"M883.713 1517.37 Q880.101 1517.37 878.273 1520.93 Q876.467 1524.47 876.467 1531.6 Q876.467 1538.71 878.273 1542.27 Q880.101 1545.82 883.713 1545.82 Q887.347 1545.82 889.152 1542.27 Q890.981 1538.71 890.981 1531.6 Q890.981 1524.47 889.152 1520.93 Q887.347 1517.37 883.713 1517.37 M883.713 1513.66 Q889.523 1513.66 892.578 1518.27 Q895.657 1522.85 895.657 1531.6 Q895.657 1540.33 892.578 1544.94 Q889.523 1549.52 883.713 1549.52 Q877.902 1549.52 874.824 1544.94 Q871.768 1540.33 871.768 1531.6 Q871.768 1522.85 874.824 1518.27 Q877.902 1513.66 883.713 1513.66 Z\" fill=\"#000000\" fill-rule=\"evenodd\" fill-opacity=\"1\" /><path clip-path=\"url(#clip820)\" d=\"M1608.51 1514.29 L1626.87 1514.29 L1626.87 1518.22 L1612.79 1518.22 L1612.79 1526.7 Q1613.81 1526.35 1614.83 1526.19 Q1615.85 1526 1616.87 1526 Q1622.66 1526 1626.04 1529.17 Q1629.41 1532.34 1629.41 1537.76 Q1629.41 1543.34 1625.94 1546.44 Q1622.47 1549.52 1616.15 1549.52 Q1613.97 1549.52 1611.71 1549.15 Q1609.46 1548.78 1607.05 1548.04 L1607.05 1543.34 Q1609.14 1544.47 1611.36 1545.03 Q1613.58 1545.58 1616.06 1545.58 Q1620.06 1545.58 1622.4 1543.48 Q1624.74 1541.37 1624.74 1537.76 Q1624.74 1534.15 1622.4 1532.04 Q1620.06 1529.94 1616.06 1529.94 Q1614.18 1529.94 1612.31 1530.35 Q1610.46 1530.77 1608.51 1531.65 L1608.51 1514.29 Z\" fill=\"#000000\" fill-rule=\"evenodd\" fill-opacity=\"1\" /><path clip-path=\"url(#clip820)\" d=\"M2327.44 1544.91 L2335.08 1544.91 L2335.08 1518.55 L2326.77 1520.21 L2326.77 1515.95 L2335.04 1514.29 L2339.71 1514.29 L2339.71 1544.91 L2347.35 1544.91 L2347.35 1548.85 L2327.44 1548.85 L2327.44 1544.91 Z\" fill=\"#000000\" fill-rule=\"evenodd\" fill-opacity=\"1\" /><path clip-path=\"url(#clip820)\" d=\"M2366.8 1517.37 Q2363.18 1517.37 2361.36 1520.93 Q2359.55 1524.47 2359.55 1531.6 Q2359.55 1538.71 2361.36 1542.27 Q2363.18 1545.82 2366.8 1545.82 Q2370.43 1545.82 2372.23 1542.27 Q2374.06 1538.71 2374.06 1531.6 Q2374.06 1524.47 2372.23 1520.93 Q2370.43 1517.37 2366.8 1517.37 M2366.8 1513.66 Q2372.61 1513.66 2375.66 1518.27 Q2378.74 1522.85 2378.74 1531.6 Q2378.74 1540.33 2375.66 1544.94 Q2372.61 1549.52 2366.8 1549.52 Q2360.99 1549.52 2357.91 1544.94 Q2354.85 1540.33 2354.85 1531.6 Q2354.85 1522.85 2357.91 1518.27 Q2360.99 1513.66 2366.8 1513.66 Z\" fill=\"#000000\" fill-rule=\"evenodd\" fill-opacity=\"1\" /><polyline clip-path=\"url(#clip822)\" style=\"stroke:#000000; stroke-linecap:butt; stroke-linejoin:round; stroke-width:2; stroke-opacity:0.1; fill:none\" points=\"\n",
       "  149.191,1383.65 2352.76,1383.65 \n",
       "  \"/>\n",
       "<polyline clip-path=\"url(#clip822)\" style=\"stroke:#000000; stroke-linecap:butt; stroke-linejoin:round; stroke-width:2; stroke-opacity:0.1; fill:none\" points=\"\n",
       "  149.191,1178.05 2352.76,1178.05 \n",
       "  \"/>\n",
       "<polyline clip-path=\"url(#clip822)\" style=\"stroke:#000000; stroke-linecap:butt; stroke-linejoin:round; stroke-width:2; stroke-opacity:0.1; fill:none\" points=\"\n",
       "  149.191,972.447 2352.76,972.447 \n",
       "  \"/>\n",
       "<polyline clip-path=\"url(#clip822)\" style=\"stroke:#000000; stroke-linecap:butt; stroke-linejoin:round; stroke-width:2; stroke-opacity:0.1; fill:none\" points=\"\n",
       "  149.191,766.846 2352.76,766.846 \n",
       "  \"/>\n",
       "<polyline clip-path=\"url(#clip822)\" style=\"stroke:#000000; stroke-linecap:butt; stroke-linejoin:round; stroke-width:2; stroke-opacity:0.1; fill:none\" points=\"\n",
       "  149.191,561.245 2352.76,561.245 \n",
       "  \"/>\n",
       "<polyline clip-path=\"url(#clip822)\" style=\"stroke:#000000; stroke-linecap:butt; stroke-linejoin:round; stroke-width:2; stroke-opacity:0.1; fill:none\" points=\"\n",
       "  149.191,355.645 2352.76,355.645 \n",
       "  \"/>\n",
       "<polyline clip-path=\"url(#clip822)\" style=\"stroke:#000000; stroke-linecap:butt; stroke-linejoin:round; stroke-width:2; stroke-opacity:0.1; fill:none\" points=\"\n",
       "  149.191,150.044 2352.76,150.044 \n",
       "  \"/>\n",
       "<polyline clip-path=\"url(#clip820)\" style=\"stroke:#000000; stroke-linecap:butt; stroke-linejoin:round; stroke-width:4; stroke-opacity:1; fill:none\" points=\"\n",
       "  149.191,1486.45 149.191,47.2441 \n",
       "  \"/>\n",
       "<polyline clip-path=\"url(#clip820)\" style=\"stroke:#000000; stroke-linecap:butt; stroke-linejoin:round; stroke-width:4; stroke-opacity:1; fill:none\" points=\"\n",
       "  149.191,1383.65 168.089,1383.65 \n",
       "  \"/>\n",
       "<polyline clip-path=\"url(#clip820)\" style=\"stroke:#000000; stroke-linecap:butt; stroke-linejoin:round; stroke-width:4; stroke-opacity:1; fill:none\" points=\"\n",
       "  149.191,1178.05 168.089,1178.05 \n",
       "  \"/>\n",
       "<polyline clip-path=\"url(#clip820)\" style=\"stroke:#000000; stroke-linecap:butt; stroke-linejoin:round; stroke-width:4; stroke-opacity:1; fill:none\" points=\"\n",
       "  149.191,972.447 168.089,972.447 \n",
       "  \"/>\n",
       "<polyline clip-path=\"url(#clip820)\" style=\"stroke:#000000; stroke-linecap:butt; stroke-linejoin:round; stroke-width:4; stroke-opacity:1; fill:none\" points=\"\n",
       "  149.191,766.846 168.089,766.846 \n",
       "  \"/>\n",
       "<polyline clip-path=\"url(#clip820)\" style=\"stroke:#000000; stroke-linecap:butt; stroke-linejoin:round; stroke-width:4; stroke-opacity:1; fill:none\" points=\"\n",
       "  149.191,561.245 168.089,561.245 \n",
       "  \"/>\n",
       "<polyline clip-path=\"url(#clip820)\" style=\"stroke:#000000; stroke-linecap:butt; stroke-linejoin:round; stroke-width:4; stroke-opacity:1; fill:none\" points=\"\n",
       "  149.191,355.645 168.089,355.645 \n",
       "  \"/>\n",
       "<polyline clip-path=\"url(#clip820)\" style=\"stroke:#000000; stroke-linecap:butt; stroke-linejoin:round; stroke-width:4; stroke-opacity:1; fill:none\" points=\"\n",
       "  149.191,150.044 168.089,150.044 \n",
       "  \"/>\n",
       "<path clip-path=\"url(#clip820)\" d=\"M50.9921 1384.1 L80.6679 1384.1 L80.6679 1388.03 L50.9921 1388.03 L50.9921 1384.1 Z\" fill=\"#000000\" fill-rule=\"evenodd\" fill-opacity=\"1\" /><path clip-path=\"url(#clip820)\" d=\"M103.608 1370.44 L91.8021 1388.89 L103.608 1388.89 L103.608 1370.44 M102.381 1366.37 L108.26 1366.37 L108.26 1388.89 L113.191 1388.89 L113.191 1392.78 L108.26 1392.78 L108.26 1400.93 L103.608 1400.93 L103.608 1392.78 L88.0058 1392.78 L88.0058 1388.27 L102.381 1366.37 Z\" fill=\"#000000\" fill-rule=\"evenodd\" fill-opacity=\"1\" /><path clip-path=\"url(#clip820)\" d=\"M53.0754 1178.5 L82.7512 1178.5 L82.7512 1182.43 L53.0754 1182.43 L53.0754 1178.5 Z\" fill=\"#000000\" fill-rule=\"evenodd\" fill-opacity=\"1\" /><path clip-path=\"url(#clip820)\" d=\"M96.8715 1191.39 L113.191 1191.39 L113.191 1195.33 L91.2465 1195.33 L91.2465 1191.39 Q93.9086 1188.64 98.4919 1184.01 Q103.098 1179.35 104.279 1178.01 Q106.524 1175.49 107.404 1173.75 Q108.307 1171.99 108.307 1170.3 Q108.307 1167.55 106.362 1165.81 Q104.441 1164.08 101.339 1164.08 Q99.14 1164.08 96.6863 1164.84 Q94.2558 1165.61 91.478 1167.16 L91.478 1162.43 Q94.3021 1161.3 96.7558 1160.72 Q99.2095 1160.14 101.246 1160.14 Q106.617 1160.14 109.811 1162.83 Q113.006 1165.51 113.006 1170 Q113.006 1172.13 112.196 1174.05 Q111.408 1175.95 109.302 1178.54 Q108.723 1179.22 105.621 1182.43 Q102.52 1185.63 96.8715 1191.39 Z\" fill=\"#000000\" fill-rule=\"evenodd\" fill-opacity=\"1\" /><path clip-path=\"url(#clip820)\" d=\"M101.246 958.245 Q97.6354 958.245 95.8067 961.81 Q94.0012 965.352 94.0012 972.481 Q94.0012 979.588 95.8067 983.152 Q97.6354 986.694 101.246 986.694 Q104.881 986.694 106.686 983.152 Q108.515 979.588 108.515 972.481 Q108.515 965.352 106.686 961.81 Q104.881 958.245 101.246 958.245 M101.246 954.542 Q107.057 954.542 110.112 959.148 Q113.191 963.731 113.191 972.481 Q113.191 981.208 110.112 985.815 Q107.057 990.398 101.246 990.398 Q95.4363 990.398 92.3576 985.815 Q89.3021 981.208 89.3021 972.481 Q89.3021 963.731 92.3576 959.148 Q95.4363 954.542 101.246 954.542 Z\" fill=\"#000000\" fill-rule=\"evenodd\" fill-opacity=\"1\" /><path clip-path=\"url(#clip820)\" d=\"M96.8715 780.191 L113.191 780.191 L113.191 784.126 L91.2465 784.126 L91.2465 780.191 Q93.9086 777.436 98.4919 772.807 Q103.098 768.154 104.279 766.811 Q106.524 764.288 107.404 762.552 Q108.307 760.793 108.307 759.103 Q108.307 756.348 106.362 754.612 Q104.441 752.876 101.339 752.876 Q99.14 752.876 96.6863 753.64 Q94.2558 754.404 91.478 755.955 L91.478 751.233 Q94.3021 750.098 96.7558 749.52 Q99.2095 748.941 101.246 748.941 Q106.617 748.941 109.811 751.626 Q113.006 754.311 113.006 758.802 Q113.006 760.932 112.196 762.853 Q111.408 764.751 109.302 767.344 Q108.723 768.015 105.621 771.233 Q102.52 774.427 96.8715 780.191 Z\" fill=\"#000000\" fill-rule=\"evenodd\" fill-opacity=\"1\" /><path clip-path=\"url(#clip820)\" d=\"M103.608 548.039 L91.8021 566.488 L103.608 566.488 L103.608 548.039 M102.381 543.965 L108.26 543.965 L108.26 566.488 L113.191 566.488 L113.191 570.377 L108.26 570.377 L108.26 578.525 L103.608 578.525 L103.608 570.377 L88.0058 570.377 L88.0058 565.863 L102.381 543.965 Z\" fill=\"#000000\" fill-rule=\"evenodd\" fill-opacity=\"1\" /><path clip-path=\"url(#clip820)\" d=\"M101.663 353.781 Q98.515 353.781 96.6632 355.934 Q94.8345 358.087 94.8345 361.837 Q94.8345 365.564 96.6632 367.74 Q98.515 369.893 101.663 369.893 Q104.811 369.893 106.64 367.74 Q108.492 365.564 108.492 361.837 Q108.492 358.087 106.64 355.934 Q104.811 353.781 101.663 353.781 M110.946 339.129 L110.946 343.388 Q109.186 342.555 107.381 342.115 Q105.598 341.675 103.839 341.675 Q99.2095 341.675 96.7558 344.8 Q94.3252 347.925 93.978 354.244 Q95.3437 352.231 97.4039 351.166 Q99.4641 350.078 101.941 350.078 Q107.149 350.078 110.158 353.249 Q113.191 356.397 113.191 361.837 Q113.191 367.161 110.043 370.379 Q106.895 373.596 101.663 373.596 Q95.6678 373.596 92.4965 369.013 Q89.3253 364.406 89.3253 355.68 Q89.3253 347.485 93.2141 342.624 Q97.103 337.74 103.654 337.74 Q105.413 337.74 107.196 338.087 Q109.001 338.434 110.946 339.129 Z\" fill=\"#000000\" fill-rule=\"evenodd\" fill-opacity=\"1\" /><path clip-path=\"url(#clip820)\" d=\"M101.339 150.912 Q98.0058 150.912 96.0845 152.695 Q94.1863 154.477 94.1863 157.602 Q94.1863 160.727 96.0845 162.51 Q98.0058 164.292 101.339 164.292 Q104.672 164.292 106.594 162.51 Q108.515 160.704 108.515 157.602 Q108.515 154.477 106.594 152.695 Q104.696 150.912 101.339 150.912 M96.6632 148.922 Q93.6539 148.181 91.9641 146.121 Q90.2975 144.061 90.2975 141.098 Q90.2975 136.954 93.2373 134.547 Q96.2002 132.139 101.339 132.139 Q106.501 132.139 109.441 134.547 Q112.381 136.954 112.381 141.098 Q112.381 144.061 110.691 146.121 Q109.024 148.181 106.038 148.922 Q109.418 149.709 111.293 152 Q113.191 154.292 113.191 157.602 Q113.191 162.625 110.112 165.31 Q107.057 167.996 101.339 167.996 Q95.6215 167.996 92.5428 165.31 Q89.4873 162.625 89.4873 157.602 Q89.4873 154.292 91.3854 152 Q93.2836 149.709 96.6632 148.922 M94.9502 141.537 Q94.9502 144.223 96.6169 145.727 Q98.3067 147.232 101.339 147.232 Q104.348 147.232 106.038 145.727 Q107.751 144.223 107.751 141.537 Q107.751 138.852 106.038 137.348 Q104.348 135.843 101.339 135.843 Q98.3067 135.843 96.6169 137.348 Q94.9502 138.852 94.9502 141.537 Z\" fill=\"#000000\" fill-rule=\"evenodd\" fill-opacity=\"1\" /><polyline clip-path=\"url(#clip822)\" style=\"stroke:#009af9; stroke-linecap:butt; stroke-linejoin:round; stroke-width:4; stroke-opacity:1; fill:none\" points=\"\n",
       "  149.191,92721.7 159.578,89466.4 169.965,86288.5 180.352,83186.8 190.74,80160.6 201.127,77208.9 211.514,74330.8 221.901,71525.4 232.288,68791.7 242.675,66128.8 \n",
       "  253.063,63535.8 263.45,61011.8 273.837,58555.9 284.224,56167.1 294.611,53844.5 304.998,51587.2 315.386,49394.3 325.773,47264.8 336.16,45197.9 346.547,43192.5 \n",
       "  356.934,41247.9 367.322,39363 377.709,37537 388.096,35768.8 398.483,34057.7 408.87,32402.7 419.257,30802.8 429.645,29257.1 440.032,27764.8 450.419,26324.8 \n",
       "  460.806,24936.4 471.193,23598.4 481.58,22310.1 491.968,21070.5 502.355,19878.7 512.742,18733.8 523.129,17634.8 533.516,16580.8 543.904,15570.9 554.291,14604.2 \n",
       "  564.678,13679.8 575.065,12796.6 585.452,11953.9 595.839,11150.7 606.227,10386.1 616.614,9659.11 627.001,8968.85 637.388,8314.39 647.775,7694.82 658.162,7109.21 \n",
       "  668.55,6556.64 678.937,6036.19 689.324,5546.94 699.711,5087.97 710.098,4658.35 720.486,4257.17 730.873,3883.5 741.26,3536.42 751.647,3215.01 762.034,2918.34 \n",
       "  772.421,2645.51 782.809,2395.58 793.196,2167.63 803.583,1960.75 813.97,1774.01 824.357,1606.48 834.744,1457.26 845.132,1325.41 855.519,1210.01 865.906,1110.15 \n",
       "  876.293,1024.9 886.68,953.344 897.067,894.555 907.455,847.612 917.842,811.596 928.229,785.585 938.616,768.656 949.003,759.889 959.391,758.362 969.778,763.154 \n",
       "  980.165,773.344 990.552,788.008 1000.94,806.228 1011.33,827.08 1021.71,849.643 1032.1,872.996 1042.49,896.217 1052.88,918.386 1063.26,938.579 1073.65,955.877 \n",
       "  1084.04,969.357 1094.42,978.098 1104.81,981.179 1115.2,977.678 1125.59,966.673 1135.97,947.243 1146.36,918.467 1156.75,879.423 1167.13,829.19 1177.52,766.846 \n",
       "  \n",
       "  \"/>\n",
       "<polyline clip-path=\"url(#clip822)\" style=\"stroke:#e26f46; stroke-linecap:butt; stroke-linejoin:round; stroke-width:4; stroke-opacity:1; fill:none\" points=\"\n",
       "  1177.52,766.846 1189.39,680.096 1201.26,578.017 1213.13,462.302 1225.01,334.646 1236.88,196.74 1248.75,50.2794 1260.62,-103.044 1272.49,-261.537 1284.36,-423.505 \n",
       "  1296.23,-587.257 1308.1,-751.098 1319.97,-913.336 1331.84,-1072.28 1343.72,-1226.23 1355.59,-1373.49 1367.46,-1512.39 1379.33,-1641.21 1391.2,-1758.26 1403.07,-1861.87 \n",
       "  1414.94,-1950.32 1426.81,-2021.93 1438.68,-2075 1450.56,-2107.85 1462.43,-2118.77 1474.3,-2106.08 1486.17,-2068.08 1498.04,-2003.08 1509.91,-1909.38 1521.78,-1785.3 \n",
       "  1533.65,-1629.13 1545.52,-1439.19 1557.4,-1213.78 1569.27,-951.206 1581.14,-649.78 1593.01,-307.808 1604.88,76.406 1616.75,504.554 1628.62,978.328 1640.49,1499.42 \n",
       "  1652.36,2069.53 1664.23,2690.35 1676.11,3363.56 1687.98,4090.87 1699.85,4873.97 1711.72,5714.54 1723.59,6614.29 1735.46,7574.91 1747.33,8598.08 1759.2,9685.51 \n",
       "  1771.07,10838.9 1782.95,12059.9 1794.82,13350.2 1806.69,14711.6 1818.56,16145.7 1830.43,17654.2 1842.3,19238.8 1854.17,20901.2 1866.04,22643.1 1877.91,24466.2 \n",
       "  1889.78,26372.1 1901.66,28362.6 1913.53,30439.4 1925.4,32604.2 1937.27,34858.6 1949.14,37204.3 1961.01,39643.1 1972.88,42176.6 1984.75,44806.6 1996.62,47534.6 \n",
       "  2008.5,50362.5 2020.37,53291.8 2032.24,56324.4 2044.11,59461.9 2055.98,62705.9 2067.85,66058.2 2079.72,69520.5 2091.59,73094.4 2103.46,76781.7 2115.33,80584.1 \n",
       "  2127.21,84503.2 2139.08,88540.7 2150.95,92698.3 2162.82,96977.8 2174.69,101381 2186.56,105909 2198.43,110564 2210.3,115348 2222.17,120262 2234.05,125308 \n",
       "  2245.92,130487 2257.79,135802 2269.66,141254 2281.53,146845 2293.4,152577 2305.27,158450 2317.14,164467 2329.01,170630 2340.88,176940 2352.76,183399 \n",
       "  \n",
       "  \"/>\n",
       "<path clip-path=\"url(#clip820)\" d=\"\n",
       "M1982.03 250.738 L2279.3 250.738 L2279.3 95.2176 L1982.03 95.2176  Z\n",
       "  \" fill=\"#ffffff\" fill-rule=\"evenodd\" fill-opacity=\"1\"/>\n",
       "<polyline clip-path=\"url(#clip820)\" style=\"stroke:#000000; stroke-linecap:butt; stroke-linejoin:round; stroke-width:4; stroke-opacity:1; fill:none\" points=\"\n",
       "  1982.03,250.738 2279.3,250.738 2279.3,95.2176 1982.03,95.2176 1982.03,250.738 \n",
       "  \"/>\n",
       "<polyline clip-path=\"url(#clip820)\" style=\"stroke:#009af9; stroke-linecap:butt; stroke-linejoin:round; stroke-width:4; stroke-opacity:1; fill:none\" points=\"\n",
       "  2006.52,147.058 2153.42,147.058 \n",
       "  \"/>\n",
       "<path clip-path=\"url(#clip820)\" d=\"M2191.75 166.745 Q2189.94 171.375 2188.23 172.787 Q2186.52 174.199 2183.65 174.199 L2180.24 174.199 L2180.24 170.634 L2182.74 170.634 Q2184.5 170.634 2185.47 169.8 Q2186.45 168.967 2187.63 165.865 L2188.39 163.921 L2177.91 138.412 L2182.42 138.412 L2190.52 158.689 L2198.62 138.412 L2203.14 138.412 L2191.75 166.745 Z\" fill=\"#000000\" fill-rule=\"evenodd\" fill-opacity=\"1\" /><path clip-path=\"url(#clip820)\" d=\"M2210.43 160.402 L2218.07 160.402 L2218.07 134.037 L2209.76 135.703 L2209.76 131.444 L2218.02 129.778 L2222.7 129.778 L2222.7 160.402 L2230.34 160.402 L2230.34 164.338 L2210.43 164.338 L2210.43 160.402 Z\" fill=\"#000000\" fill-rule=\"evenodd\" fill-opacity=\"1\" /><polyline clip-path=\"url(#clip820)\" style=\"stroke:#e26f46; stroke-linecap:butt; stroke-linejoin:round; stroke-width:4; stroke-opacity:1; fill:none\" points=\"\n",
       "  2006.52,198.898 2153.42,198.898 \n",
       "  \"/>\n",
       "<path clip-path=\"url(#clip820)\" d=\"M2191.75 218.585 Q2189.94 223.215 2188.23 224.627 Q2186.52 226.039 2183.65 226.039 L2180.24 226.039 L2180.24 222.474 L2182.74 222.474 Q2184.5 222.474 2185.47 221.64 Q2186.45 220.807 2187.63 217.705 L2188.39 215.761 L2177.91 190.252 L2182.42 190.252 L2190.52 210.529 L2198.62 190.252 L2203.14 190.252 L2191.75 218.585 Z\" fill=\"#000000\" fill-rule=\"evenodd\" fill-opacity=\"1\" /><path clip-path=\"url(#clip820)\" d=\"M2213.65 212.242 L2229.97 212.242 L2229.97 216.178 L2208.02 216.178 L2208.02 212.242 Q2210.68 209.488 2215.27 204.858 Q2219.87 200.205 2221.05 198.863 Q2223.3 196.34 2224.18 194.604 Q2225.08 192.844 2225.08 191.155 Q2225.08 188.4 2223.14 186.664 Q2221.22 184.928 2218.11 184.928 Q2215.91 184.928 2213.46 185.692 Q2211.03 186.455 2208.25 188.006 L2208.25 183.284 Q2211.08 182.15 2213.53 181.571 Q2215.98 180.993 2218.02 180.993 Q2223.39 180.993 2226.59 183.678 Q2229.78 186.363 2229.78 190.854 Q2229.78 192.983 2228.97 194.905 Q2228.18 196.803 2226.08 199.395 Q2225.5 200.067 2222.4 203.284 Q2219.29 206.479 2213.65 212.242 Z\" fill=\"#000000\" fill-rule=\"evenodd\" fill-opacity=\"1\" /></svg>\n"
      ]
     },
     "execution_count": 39,
     "metadata": {},
     "output_type": "execute_result"
    }
   ],
   "source": [
    "using Plots\n",
    "\n",
    "x = [0,1,2,4,5]\n",
    "y = [0,1,2,30,4]\n",
    "\n",
    "function interpolacao_por_partes(x,y)\n",
    "    V = \n",
    "    [1 x[1] x[1]^2 x[1]^3 0 0 0 0;\n",
    "    1 x[2] x[2]^2 x[2]^3 0 0 0 0;\n",
    "    1 x[3] x[3]^2 x[3]^3 0 0 0 0;\n",
    "    0 0 0 0 1 x[3] x[3]^2 x[3]^3;\n",
    "    0 0 0 0 1 x[4] x[4]^2 x[4]^3;\n",
    "    0 0 0 0 1 x[5] x[5]^2 x[5]^3;\n",
    "    0 1 2*x[3] 3*x[3]^2 0 -1 -2*x[3] -3*x[3]^2    \n",
    "    0 0 2 6*x[3] 0 0 -2 -6*x[3]\n",
    "    ]\n",
    "    \n",
    "    y = [y[1]; y[2]; y[3]; y[3]; y[4]; y[5]; 0; 0]\n",
    "    \n",
    "    return V\\y\n",
    "end\n",
    "\n",
    "cons = interpolacao_por_partes(x,y)\n",
    "\n",
    "p(x) = cons[1]+ cons[2]*x+ cons[3]*x^2+cons[4]*x^3\n",
    "q(x) = cons[5]+ cons[6]*x+ cons[7]*x^2+cons[8]*x^3\n",
    "\n",
    "X1 = range(x[1]-5, x[3], length = 100)\n",
    "X2 = range(x[3], x[5]+5, length = 100)\n",
    "\n",
    "plot(p, X1, ylims=(y[1]-5,y[5]+5),xlims=(x[1]-5,x[5]+5))\n",
    "plot!(q, X2)\n",
    "\n",
    "#print(interpolacao_por_partes([0,1,2,3,4,5],[0,1,2,3,4,5]))\n"
   ]
  },
  {
   "cell_type": "code",
   "execution_count": null,
   "id": "01cb3969",
   "metadata": {},
   "outputs": [],
   "source": []
  }
 ],
 "metadata": {
  "kernelspec": {
   "display_name": "Julia 1.6.4",
   "language": "julia",
   "name": "julia-1.6"
  },
  "language_info": {
   "file_extension": ".jl",
   "mimetype": "application/julia",
   "name": "julia",
   "version": "1.6.4"
  }
 },
 "nbformat": 4,
 "nbformat_minor": 5
}
