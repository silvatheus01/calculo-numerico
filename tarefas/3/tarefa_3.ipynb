{
 "cells": [
  {
   "cell_type": "markdown",
   "id": "021d3a71",
   "metadata": {},
   "source": [
    "## 1.1\n",
    "A função f escolhida é $ f(x) = (x+1)(x-\\sqrt{10})$, já que, $f(\\sqrt{10})=0$ e, pelo intervalo dado, $f(0)=-\\sqrt{10} < 0$ e $f(20)=21(20-\\sqrt{10}) > 0$ visto que $3 < \\sqrt{10} < 4$. Dessa forma, pelo teorema do valor intermediário, podemos usar o método da bisseção.\n",
    "\n",
    "Para calcular o número de interações necessárias com um erro máximo de $10^{-8}$, utilizamos a o resultado\n",
    "$$\n",
    "t_i = \\frac{b-a}{2^k}\n",
    "$$\n",
    "onde $t_i$ é o tamanho do intervalo e $k$ é o número de interações realizadas pelo algoritmo em um certo momento. Dessa forma,\n",
    "\\begin{align*}\n",
    "10^{-8} &= \\frac{20-0}{2^k}\\\\\n",
    "2^k &= \\frac{20}{10^{-8}}\\\\\n",
    "k &= \\log_2(2*10^9)\n",
    "\\end{align*}\n",
    "pois assim o intervalo observado em um certo momento é no máximo $10^{-8}$, e assim garantimos o teto do erro. Vale frizar também que esse erro é no domínio, pois $a$ e $b$ são pontos no domínio da função $f$. O algoritmo abaixo faz o cálculo baseado nestes argumentos."
   ]
  },
  {
   "cell_type": "code",
   "execution_count": 22,
   "id": "e0ebedfa",
   "metadata": {},
   "outputs": [
    {
     "name": "stdout",
     "output_type": "stream",
     "text": [
      "√10 ≈ 3.162277659866959"
     ]
    }
   ],
   "source": [
    "# Função f que será utilizada\n",
    "f(x) = (x+1)*(x-sqrt(10))\n",
    "\n",
    "# Valor inicial do intervalo\n",
    "a = 0\n",
    "#Valor final do intervalo\n",
    "b = 20\n",
    "# Menor tamanho do intervalo que será analisado\n",
    "tam = 10^-8\n",
    "\n",
    "# f: Função que queremos descobrir uma raiz\n",
    "# a: Primeiro ponto no intervalo analisado\n",
    "# b: Último ponto no intervalo analisado\n",
    "# tam: Menor tamanho do intervalo analisado\n",
    "function bissecao(f,a,b,tam) \n",
    "    # Testa se f(a) e f(b) possuem sinais trocados\n",
    "    if(f(a)*f(b) > 0)\n",
    "        throw(error(\"A função não possue os sinais trocados nos pontos f(a) e f(b)\"))\n",
    "    end\n",
    "    \n",
    "    # Número de interações que serão calculadas\n",
    "    # Utilizamos a função floor para retornar apenas a parte inteira do número. \n",
    "    # Somamos o valor 1 para retornar um teto maior\n",
    "    k = floor(log2(abs(a-b)/tam)) + 1\n",
    "    \n",
    "    # Repete k vezes.\n",
    "    for i in 0:k\n",
    "        # Divide o intervalo em duas partes iguais. A variável m é o \"ponto\" no meio desse intervalo.\n",
    "        m = (a+b)/2\n",
    "        # Se f(a)*f(m) < 0, então quer dizer que a raiz está no intervalo [a,m)\n",
    "        if(f(a)*f(m) < 0)\n",
    "            # O último ponto do intervalo observado passa a ser m, dessa forma olhamos para o intervalo [a,m)\n",
    "            b = m\n",
    "        # Se f(m)*f(b) < 0, então quer dizer que a raiz está no intervalo (m,b]\n",
    "        elseif(f(m)*f(b) < 0)\n",
    "             # O primeiro ponto do intervalo observado passa a ser m, dessa forma olhamos para o intervalo (m,b]\n",
    "            a = m\n",
    "        # Senão, m é raiz.\n",
    "        #= OBS.: Esse último caso pode ser difícil ocorrer devido a imprecisão do ponto flutuante e\n",
    "        a termos sorte de a raiz estar exatamente no meio do intervalo.\n",
    "        =#\n",
    "        else\n",
    "            # Retorna o resultado, já que encontramos a raiz\n",
    "            return m\n",
    "        end\n",
    "    end\n",
    "\n",
    "    #Retorna o resultado final. \n",
    "    # A média aqui serve apenas para melhorar o resultado, mas poderíamos printar a ou b.\n",
    "    return (a+b)/2\n",
    "end\n",
    "\n",
    "print(\"√10 ≈ \", bissecao(f,a,b,tam))"
   ]
  },
  {
   "cell_type": "code",
   "execution_count": 15,
   "id": "e6230128",
   "metadata": {},
   "outputs": [
    {
     "data": {
      "text/plain": [
       "newton (generic function with 1 method)"
      ]
     },
     "execution_count": 15,
     "metadata": {},
     "output_type": "execute_result"
    }
   ],
   "source": [
    "# x: Valor inicial\n",
    "# f: Função f(x)\n",
    "# f_linha: Derivada da função f(x)\n",
    "# n: Número de interações que serão feitas\n",
    "function newton(x,f,f_linha,n)\n",
    "    # Método de newton sendo aplicado. A cada iteração, temos uma aproximação melhor.\n",
    "    for i in 1:n\n",
    "        x = x - f(x)/f_linha(x)\n",
    "    end\n",
    "    # Retorna a aproximação desejada\n",
    "    return x\n",
    "end"
   ]
  },
  {
   "cell_type": "markdown",
   "id": "6d330cb8",
   "metadata": {},
   "source": [
    "## 1.2"
   ]
  },
  {
   "cell_type": "code",
   "execution_count": 25,
   "id": "22ccd7ca",
   "metadata": {},
   "outputs": [
    {
     "name": "stdout",
     "output_type": "stream",
     "text": [
      "-1.3733913786816283"
     ]
    }
   ],
   "source": [
    "a = -100\n",
    "b = 100\n",
    "\n",
    "tam = 10^-2\n",
    "n = 50\n",
    "\n",
    "f(x) = x^5+x^2+3\n",
    "f_linha(x) = 5*x^4+2*x\n",
    "\n",
    "function bissnewton(f,f_linha,a,b,tam,n)\n",
    "    x = bissecao(f,a,b,tam)\n",
    "    if x == 0\n",
    "        return 0\n",
    "    else\n",
    "        return newton(x,f,f_linha,n)\n",
    "    end\n",
    "end\n",
    "    \n",
    "print(bissnewton(f,f_linha,a,b,tam,n))"
   ]
  },
  {
   "cell_type": "markdown",
   "id": "71257f9e",
   "metadata": {},
   "source": [
    "## 1.3"
   ]
  },
  {
   "cell_type": "markdown",
   "id": "4ae8725b",
   "metadata": {},
   "source": [
    "### 1"
   ]
  },
  {
   "cell_type": "markdown",
   "id": "6b579b93",
   "metadata": {},
   "source": [
    "A função que nos interessa é $f(x) = \\ln(3x)$ quando $x=1$. Tornando ambos os lados como o expoente da função $e$, temos\n",
    "\\begin{align*}\n",
    "e^{f(1)} = 3\n",
    "\\end{align*}\n",
    "pois x = 1. Isolando o 3\n",
    "\\begin{align*}\n",
    "e^{f(1)} - 3 = 0\n",
    "\\end{align*}\n",
    "Dessa forma, procuramos a raiz da função\n",
    "\\begin{align*}\n",
    "g(y)=e^y-3 \n",
    "\\end{align*}\n",
    "onde $y = f(1) = \\ln(3)$"
   ]
  },
  {
   "cell_type": "code",
   "execution_count": 27,
   "id": "c5b261a8",
   "metadata": {},
   "outputs": [
    {
     "name": "stdout",
     "output_type": "stream",
     "text": [
      "1.098388671875"
     ]
    }
   ],
   "source": [
    "# Função utlizada\n",
    "g(y)=exp(y)-3\n",
    "# Utilizamos a=0 pois e⁰-3 = 1-3 = -2 < 0\n",
    "a = 0\n",
    "# Utilizamos b=2 pois e²-3 = e*e-3 e como e = 2.71.., então e²-3 > 0\n",
    "b = 2\n",
    "tam = 10^-3\n",
    "\n",
    "print(bissecao(g,a,b,tam))"
   ]
  },
  {
   "cell_type": "markdown",
   "id": "f0f7f432",
   "metadata": {},
   "source": [
    "### 2"
   ]
  },
  {
   "cell_type": "markdown",
   "id": "fe4cc599",
   "metadata": {},
   "source": [
    "Podemos utilizar o mesmo resultado do item 1 acima. Além disso, precisamos da primeira derivada, ou seja\n",
    "$$\n",
    "g'(y) = e^y\n",
    "$$\n",
    "e também do chute inicial. Do mesmo modo, como no item anterior, sabemos que a raiz está entre $g(0)=-2$ e $g(2)\\approx4.3890$, sendo assim, tomando a média desses dois resultados, podemos supor um chute inicial $x=1.1945$. O algoritmo será"
   ]
  },
  {
   "cell_type": "code",
   "execution_count": 36,
   "id": "9efa8747",
   "metadata": {},
   "outputs": [
    {
     "name": "stdout",
     "output_type": "stream",
     "text": [
      "1.0986122886681098"
     ]
    }
   ],
   "source": [
    "# Derivada da função g\n",
    "g_linha(x) = exp(x)\n",
    "# Número de passos\n",
    "n = 20\n",
    "# CHute inical\n",
    "x = 1.1945\n",
    "# Imprime o resultado\n",
    "print(newton(x,g,g_linha,n))"
   ]
  },
  {
   "cell_type": "markdown",
   "id": "60debe78",
   "metadata": {},
   "source": [
    "## 1.4"
   ]
  },
  {
   "cell_type": "markdown",
   "id": "ae6bbbbf",
   "metadata": {},
   "source": [
    "Vamos utilizar 3 pontos conhecidos da função $\\cos(x)$. Os pontos que temos para utilizar na interpolação são\n",
    "$$\n",
    "\\left\\{\\left(\\frac{\\pi}{6},\\frac{\\sqrt{3}}{2}\\right) , \\left(\\frac{\\pi}{4},\\frac{\\sqrt{2}}{2}\\right) , \\left(\\frac{\\pi}{3},\\frac{1}{2}\\right)\\right\\}\n",
    "$$\n",
    "onde $\\frac{\\pi}{6} = 30°,\\frac{\\pi}{4} = 45°$ e $\\frac{\\pi}{3}=60°$.\n",
    "Dessa forma, teremos um polinômio de grau 2 da forma\n",
    "$$\n",
    "y_i=c_1+c_2x_i+c_3x_i^2\n",
    "$$\n",
    "com $1 \\le i \\le 3 \\in \\mathbb{N}$. A matriz de vandermonde será\n",
    "$$\n",
    "Vc=y\\\\\n",
    "\\begin{bmatrix} \n",
    "  1 & \\frac{\\pi}{6} & (\\frac{\\pi}{6})^2 \\\\ \n",
    "  1 & \\frac{\\pi}{4} & (\\frac{\\pi}{4})^2 \\\\\n",
    "  1 & \\frac{\\pi}{3} & (\\frac{\\pi}{3})^2\n",
    "\\end{bmatrix}\n",
    "\\begin{bmatrix} \n",
    "  c_0 \\\\\n",
    "  c_1 \\\\\n",
    "  c_2\n",
    "\\end{bmatrix} =\n",
    "\\begin{bmatrix} \n",
    "  \\frac{\\sqrt{3}}{2}\\\\\n",
    "  \\frac{\\sqrt{2}}{2}\\\\\n",
    "  \\frac{1}{2}\n",
    "\\end{bmatrix} \n",
    "$$\n",
    "Abaixo é utilizado um algoritmo para calcular a matriz coluna $c$"
   ]
  },
  {
   "cell_type": "code",
   "execution_count": 48,
   "id": "4c150084",
   "metadata": {},
   "outputs": [
    {
     "name": "stdout",
     "output_type": "stream",
     "text": [
      "cos(40°) ≈ 0.7654338952290285"
     ]
    }
   ],
   "source": [
    "using LinearAlgebra\n",
    "# x's conhecidos\n",
    "A = [1 π/6 (π/6)^2 ; 1 π/4 (π/4)^2 ; 1 π/3 (π/3)^2]\n",
    "# y's conhecidos\n",
    "y = [√3/2;√2/2;1/2]\n",
    "# Resolve o sistema linear, ou seja, encontra os coeficientes da matriz coluna c\n",
    "c = A\\b\n",
    "\n",
    "# Montagem do polinômio. c[i] representa o i-ésimo elemento da matriz coluna c.\n",
    "f(x) = c[1] + c[2]*x + c[3]*x^2\n",
    "\n",
    "# Printa o resultado levando em consideração que 2π/9 = 40°\n",
    "print(\"cos(40°) ≈ \", f(2π/9))"
   ]
  },
  {
   "cell_type": "code",
   "execution_count": null,
   "id": "ab41ea7c",
   "metadata": {},
   "outputs": [],
   "source": []
  }
 ],
 "metadata": {
  "kernelspec": {
   "display_name": "Julia 1.6.4",
   "language": "julia",
   "name": "julia-1.6"
  },
  "language_info": {
   "file_extension": ".jl",
   "mimetype": "application/julia",
   "name": "julia",
   "version": "1.6.4"
  }
 },
 "nbformat": 4,
 "nbformat_minor": 5
}
