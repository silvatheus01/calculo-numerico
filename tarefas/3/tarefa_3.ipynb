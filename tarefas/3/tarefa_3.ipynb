{
 "cells": [
  {
   "cell_type": "markdown",
   "id": "021d3a71",
   "metadata": {},
   "source": [
    "## 1.1\n",
    "A função f escolhida é $ f(x) = (x+1)(x-\\sqrt{10})$, já que, $f(\\sqrt{10})=0$ e, pelo intervalo dado, $f(0)=-\\sqrt{10} < 0$ e $f(20)=21(20-\\sqrt{10}) > 0$ visto que $3 < \\sqrt{10} < 4$. Dessa forma, pelo teorema do valor intermediário, podemos usar o método da bisseção.\n",
    "\n",
    "Para calcular o número de interações necessárias com um erro máximo de $10^{-8}$, utilizamos a o resultado\n",
    "$$\n",
    "t_i = \\frac{b-a}{2^k}\n",
    "$$\n",
    "onde $t_i$ é o tamanho do intervalo e $k$ é o número de interações realizadas pelo algoritmo em um certo momento. Dessa forma,\n",
    "\\begin{align*}\n",
    "10^{-8} &= \\frac{20-0}{2^k}\\\\\n",
    "2^k &= \\frac{20}{10^{-8}}\\\\\n",
    "k &= \\log_2(2*10^9)\n",
    "\\end{align*}\n",
    "pois assim o intervalo observado em um certo momento é no máximo $10^{-8}$, e assim garantimos o teto do erro. Vale frizar também que esse erro é no domínio, pois $a$ e $b$ são pontos no domínio da função $f$. O algoritmo abaixo faz o cálculo baseado nestes argumentos."
   ]
  },
  {
   "cell_type": "code",
   "execution_count": 17,
   "id": "e0ebedfa",
   "metadata": {},
   "outputs": [
    {
     "name": "stdout",
     "output_type": "stream",
     "text": [
      "√10 ≈ 3.162277659866959"
     ]
    }
   ],
   "source": [
    "# Função f que será utilizada\n",
    "f(x) = (x+1)*(x-sqrt(10))\n",
    "\n",
    "# Valor inicial do intervalo\n",
    "a = 0\n",
    "#Valor final do intervalo\n",
    "b = 20\n",
    "\n",
    "# Número de interações que serão calculadas\n",
    "# Utilizamos a função floor para retornar apenas a parte inteira do número. \n",
    "# Somamos o valor 1 para retornar um teto maior\n",
    "k = floor(log2(2*10^9)) + 1\n",
    "\n",
    "function bissecao(f,a,b,k)\n",
    "    # Repete k vezes.\n",
    "    for i in 0:k\n",
    "        # Divide o intervalo em duas partes iguais. A variável m é o \"ponto\" no meio desse intervalo.\n",
    "        m = (a+b)/2\n",
    "        # Se f(a)*f(m) < 0, então quer dizer que a raiz está no intervalo [a,m)\n",
    "        if(f(a)*f(m) < 0)\n",
    "            # O último ponto do intervalo observado passa a ser m, dessa forma olhamos para o intervalo [a,m)\n",
    "            b = m\n",
    "        # Se f(m)*f(b) < 0, então quer dizer que a raiz está no intervalo (m,b]\n",
    "        elseif(f(m)*f(b) < 0)\n",
    "             # O primeiro ponto do intervalo observado passa a ser m, dessa forma olhamos para o intervalo (m,b]\n",
    "            a = m\n",
    "        # Senão, m é raiz.\n",
    "        #OBS.: Esse último caso é muito difícil ocorrer devido a imprecisão do ponto flutuante\n",
    "        else\n",
    "            # Retorna o resultado, já que encontramos a raiz\n",
    "            return m\n",
    "        end\n",
    "    end\n",
    "\n",
    "    #Retorna o resultado final. \n",
    "    # A média aqui serve apenas para melhorar o resultado, mas poderíamos printar a ou b.\n",
    "    return (a+b)/2\n",
    "end\n",
    "\n",
    "print(\"√10 ≈ \", bissecao(f,a,b,k))"
   ]
  },
  {
   "cell_type": "code",
   "execution_count": 24,
   "id": "22ccd7ca",
   "metadata": {},
   "outputs": [
    {
     "ename": "LoadError",
     "evalue": "SystemError: opening file \"/home/matheus/Code/graduacao/2021-2/cn/tarefas/2/tarefa_2.ipynb:In[40]\": Arquivo ou diretório inexistente",
     "output_type": "error",
     "traceback": [
      "SystemError: opening file \"/home/matheus/Code/graduacao/2021-2/cn/tarefas/2/tarefa_2.ipynb:In[40]\": Arquivo ou diretório inexistente",
      "",
      "Stacktrace:",
      "  [1] systemerror(p::String, errno::Int32; extrainfo::Nothing)",
      "    @ Base ./error.jl:168",
      "  [2] #systemerror#62",
      "    @ ./error.jl:167 [inlined]",
      "  [3] systemerror",
      "    @ ./error.jl:167 [inlined]",
      "  [4] open(fname::String; lock::Bool, read::Bool, write::Nothing, create::Nothing, truncate::Nothing, append::Nothing)",
      "    @ Base ./iostream.jl:293",
      "  [5] open(fname::String, mode::String; lock::Bool)",
      "    @ Base ./iostream.jl:355",
      "  [6] open(fname::String, mode::String)",
      "    @ Base ./iostream.jl:355",
      "  [7] open(::typeof(JSON.Parser.parse), ::String, ::Vararg{String, N} where N; kwargs::Base.Iterators.Pairs{Union{}, Union{}, Tuple{}, NamedTuple{(), Tuple{}}})",
      "    @ Base ./io.jl:328",
      "  [8] open",
      "    @ ./io.jl:328 [inlined]",
      "  [9] nbinclude(m::Module, path::String; renumber::Bool, counters::UnitRange{Int64}, regex::Regex, anshook::typeof(identity), softscope::Bool)",
      "    @ NBInclude ~/.julia/packages/NBInclude/MxvbF/src/NBInclude.jl:73",
      " [10] nbinclude(m::Module, path::String)",
      "    @ NBInclude ~/.julia/packages/NBInclude/MxvbF/src/NBInclude.jl:65",
      " [11] top-level scope",
      "    @ In[24]:3",
      " [12] eval",
      "    @ ./boot.jl:360 [inlined]",
      " [13] include_string(mapexpr::typeof(REPL.softscope), mod::Module, code::String, filename::String)",
      "    @ Base ./loading.jl:1116"
     ]
    }
   ],
   "source": [
    "# https://github.com/stevengj/NBInclude.jl\n",
    "using NBInclude\n",
    "@nbinclude(\"../2/tarefa_2.ipynb\")\n",
    "\n",
    "a = -100\n",
    "b = 100\n",
    "\n",
    "k = floor(log2(2*10^4)) + 1\n",
    "function bissnewton(f,f_linha,a,b,k)\n",
    "    m = bissecao(f,a,b,k)\n",
    "    \n",
    "end"
   ]
  },
  {
   "cell_type": "code",
   "execution_count": null,
   "id": "b02b16f0",
   "metadata": {},
   "outputs": [],
   "source": []
  },
  {
   "cell_type": "code",
   "execution_count": null,
   "id": "4d244889",
   "metadata": {},
   "outputs": [],
   "source": []
  }
 ],
 "metadata": {
  "kernelspec": {
   "display_name": "Julia 1.6.4",
   "language": "julia",
   "name": "julia-1.6"
  },
  "language_info": {
   "file_extension": ".jl",
   "mimetype": "application/julia",
   "name": "julia",
   "version": "1.6.4"
  }
 },
 "nbformat": 4,
 "nbformat_minor": 5
}
