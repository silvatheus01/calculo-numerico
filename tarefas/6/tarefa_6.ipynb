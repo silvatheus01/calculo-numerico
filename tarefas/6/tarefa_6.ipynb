{
 "cells": [
  {
   "cell_type": "markdown",
   "id": "74d1a21f",
   "metadata": {},
   "source": [
    "# Nome: Matheus da Silva Oliveira\n",
    "# DRE: 118178020"
   ]
  },
  {
   "cell_type": "markdown",
   "id": "cbce6382",
   "metadata": {},
   "source": [
    "## 1"
   ]
  },
  {
   "cell_type": "markdown",
   "id": "394a52a1",
   "metadata": {},
   "source": [
    "Será usada a [biblioteca Test](https://docs.julialang.org/en/v1/stdlib/Test/) para facilitar nos units tests."
   ]
  },
  {
   "cell_type": "code",
   "execution_count": 117,
   "id": "961cd4bb",
   "metadata": {},
   "outputs": [],
   "source": [
    "using LinearAlgebra\n",
    "using Test"
   ]
  },
  {
   "cell_type": "markdown",
   "id": "93c32ffe",
   "metadata": {},
   "source": [
    "### RESOLVE_DIAGONAL"
   ]
  },
  {
   "cell_type": "markdown",
   "id": "7e597cfa",
   "metadata": {},
   "source": [
    "Como sabemos, quando a matriz $A$ é diagonal, o sistema $Ax=b$ é determinado, pois todos os $x_i$ são determinados por apenas uma divisão, desde que a diagonal de $A$ seja não nula. Caso fosse, deveriámos olhar para o vetor $b$, mas não precisamos nos preocupar com este caso agora. Sendo assim, determinamos todos os elementos do vetor $x$ através da fórmula\n",
    "$$\n",
    "x_i = \\frac{b_i}{a_{ii}}\n",
    "$$"
   ]
  },
  {
   "cell_type": "code",
   "execution_count": 118,
   "id": "a6dd3726",
   "metadata": {},
   "outputs": [
    {
     "data": {
      "text/plain": [
       "resolve_diagonal"
      ]
     },
     "execution_count": 118,
     "metadata": {},
     "output_type": "execute_result"
    }
   ],
   "source": [
    "\"\"\"\n",
    "    resolve_diagonal(A,b)\n",
    "    \n",
    "Retorna a matriz coluna x que é o resultado do sistema linear diagonal Ax=b.\n",
    "A é uma matriz nxn e b nx1.\n",
    "\"\"\"\n",
    "function resolve_diagonal(A, b)\n",
    "    # Computa n, que será o número de linhas da matriz x\n",
    "    n = length(b)\n",
    "    x = zeros(n)\n",
    "    # Computa o vetor x\n",
    "    for i=1:n\n",
    "        x[i] = b[i] / A[i,i]\n",
    "    end\n",
    "    return x\n",
    "end"
   ]
  },
  {
   "cell_type": "markdown",
   "id": "7f6e7e50",
   "metadata": {},
   "source": [
    "#### Testes"
   ]
  },
  {
   "cell_type": "markdown",
   "id": "f9f0be22",
   "metadata": {},
   "source": [
    "As matrizes para os testes são geradas randomicamente. A matriz identidade $I$ concedida pela biblioteca *LinearAlgebra* foi usada para gerar as matrizes diagonais."
   ]
  },
  {
   "cell_type": "code",
   "execution_count": 119,
   "id": "0fe7372c",
   "metadata": {},
   "outputs": [
    {
     "data": {
      "text/plain": [
       "2-element Vector{Float64}:\n",
       " 0.144008336256361\n",
       " 0.007322648979642422"
      ]
     },
     "execution_count": 119,
     "metadata": {},
     "output_type": "execute_result"
    }
   ],
   "source": [
    "# n é o número de linhas e colunas da matriz A_i e o número de linhas da matriz b_i\n",
    "n = 5\n",
    "A1 = randn()*Matrix{Float64}(I,n,n)\n",
    "b1 = randn(n)\n",
    "\n",
    "n = 6\n",
    "A2 = randn()*Matrix{Float64}(I,n,n)\n",
    "b2 = randn(n)\n",
    "\n",
    "n = 2\n",
    "A3 = randn()*Matrix{Float64}(I,n,n)\n",
    "b3 = randn(n)"
   ]
  },
  {
   "cell_type": "code",
   "execution_count": 120,
   "id": "c50629c5",
   "metadata": {},
   "outputs": [
    {
     "data": {
      "text/plain": [
       "\u001b[32m\u001b[1mTest Passed\u001b[22m\u001b[39m"
      ]
     },
     "execution_count": 120,
     "metadata": {},
     "output_type": "execute_result"
    }
   ],
   "source": [
    "x1 = resolve_diagonal(A1,b1)\n",
    "@test A1*x1 ≈ b1 "
   ]
  },
  {
   "cell_type": "code",
   "execution_count": 121,
   "id": "ca08d909",
   "metadata": {},
   "outputs": [
    {
     "data": {
      "text/plain": [
       "\u001b[32m\u001b[1mTest Passed\u001b[22m\u001b[39m"
      ]
     },
     "execution_count": 121,
     "metadata": {},
     "output_type": "execute_result"
    }
   ],
   "source": [
    "x2 = resolve_diagonal(A2,b2)\n",
    "@test A2*x2 ≈ b2 "
   ]
  },
  {
   "cell_type": "code",
   "execution_count": 122,
   "id": "9f77d718",
   "metadata": {},
   "outputs": [
    {
     "data": {
      "text/plain": [
       "\u001b[32m\u001b[1mTest Passed\u001b[22m\u001b[39m"
      ]
     },
     "execution_count": 122,
     "metadata": {},
     "output_type": "execute_result"
    }
   ],
   "source": [
    "x3 = resolve_diagonal(A3,b3)\n",
    "@test A3*x3 ≈ b3 "
   ]
  },
  {
   "cell_type": "markdown",
   "id": "ed381f35",
   "metadata": {},
   "source": [
    "### RESOLVE_TRIANGULAR_SUPERIOR"
   ]
  },
  {
   "cell_type": "markdown",
   "id": "076db6b1",
   "metadata": {},
   "source": [
    "Como visto nos vídeos do Abel, a fórmula para cada $x_i$ é dado por \n",
    "$$\n",
    "x_i = \\frac{b_i-\\sum_{j=i+1}^{n} a_{ij}x_j}{a_{ii}}\n",
    "$$\n",
    "onde $a_{ij}$ são os elementos da matriz $A$."
   ]
  },
  {
   "cell_type": "code",
   "execution_count": 123,
   "id": "b5410dc5",
   "metadata": {},
   "outputs": [
    {
     "data": {
      "text/plain": [
       "resolve_triangular_superior"
      ]
     },
     "execution_count": 123,
     "metadata": {},
     "output_type": "execute_result"
    }
   ],
   "source": [
    "\"\"\"\n",
    "    resolve_triangular_superior(A,b)\n",
    "    \n",
    "Retorna a matriz coluna x que é o resultado do sistema linear Ax=b, onde\n",
    "A é uma matriz nxn triangular superior e b possui tamanho nx1.\n",
    "\"\"\"\n",
    "function resolve_triangular_superior(A, b)\n",
    "    # Computa n, que será o número de linhas da matriz x\n",
    "    n = length(b)\n",
    "    x = zeros(n)\n",
    "    #= Para cada linha i de A e b, começando na última linha e terminando na primeira,\n",
    "    computamos cada variável nas colunas por substituição direta=# \n",
    "    for i = n:-1:1\n",
    "        # x_i = b_i no começo de cada iteração\n",
    "        x[i] = b[i]\n",
    "        for j = i+1:n\n",
    "            # Subtraímos de b_i o somatório da fórmula\n",
    "            x[i] = x[i] - (A[i,j]*x[j])\n",
    "        end\n",
    "        # Dividimos por a_ii \n",
    "        x[i] = x[i]/A[i,i]\n",
    "    end\n",
    "     # Retorna a matriz coluna resultado\n",
    "    return x\n",
    "end"
   ]
  },
  {
   "cell_type": "markdown",
   "id": "7ab435c1",
   "metadata": {},
   "source": [
    "#### Testes"
   ]
  },
  {
   "cell_type": "markdown",
   "id": "d974b837",
   "metadata": {},
   "source": [
    "Como o $det(A) \\neq 0$, sendo A uma matriz triangular superior ou inferior, então o sistema é determinado, visto que o determinante de uma matriz triangular superior ou inferior é o produto de sua diagonal principal. Sendo assim, utilizamos a função [UpperTriangular](https://docs.julialang.org/en/v1/stdlib/LinearAlgebra/#LinearAlgebra.UpperTriangular) para gerar as matrizes $A_i$. "
   ]
  },
  {
   "cell_type": "code",
   "execution_count": 124,
   "id": "f1056bba",
   "metadata": {},
   "outputs": [
    {
     "data": {
      "text/plain": [
       "2-element Vector{Float64}:\n",
       "  2.0390187289197312\n",
       " -1.9433461548910869"
      ]
     },
     "execution_count": 124,
     "metadata": {},
     "output_type": "execute_result"
    }
   ],
   "source": [
    "n = 5\n",
    "A1 = randn(n,n)\n",
    "A1 = UpperTriangular(A1)\n",
    "b1 = randn(n)\n",
    "\n",
    "n = 6\n",
    "A2 = randn(n,n)\n",
    "A2 = UpperTriangular(A2)\n",
    "b2 = randn(n)\n",
    "\n",
    "n = 2\n",
    "A3 = randn(n,n)\n",
    "A3 = UpperTriangular(A3)\n",
    "b3 = randn(n)"
   ]
  },
  {
   "cell_type": "code",
   "execution_count": 125,
   "id": "119816a2",
   "metadata": {},
   "outputs": [
    {
     "data": {
      "text/plain": [
       "\u001b[32m\u001b[1mTest Passed\u001b[22m\u001b[39m"
      ]
     },
     "execution_count": 125,
     "metadata": {},
     "output_type": "execute_result"
    }
   ],
   "source": [
    "x1 = resolve_triangular_superior(A1,b1)\n",
    "@test A1*x1 ≈ b1 "
   ]
  },
  {
   "cell_type": "code",
   "execution_count": 126,
   "id": "c7c24bd8",
   "metadata": {},
   "outputs": [
    {
     "data": {
      "text/plain": [
       "\u001b[32m\u001b[1mTest Passed\u001b[22m\u001b[39m"
      ]
     },
     "execution_count": 126,
     "metadata": {},
     "output_type": "execute_result"
    }
   ],
   "source": [
    "x2 = resolve_triangular_superior(A2,b2)\n",
    "@test A2*x2 ≈ b2 "
   ]
  },
  {
   "cell_type": "code",
   "execution_count": 127,
   "id": "57b2d50d",
   "metadata": {},
   "outputs": [
    {
     "data": {
      "text/plain": [
       "\u001b[32m\u001b[1mTest Passed\u001b[22m\u001b[39m"
      ]
     },
     "execution_count": 127,
     "metadata": {},
     "output_type": "execute_result"
    }
   ],
   "source": [
    "x3 = resolve_triangular_superior(A3,b3)\n",
    "@test A3*x3 ≈ b3 "
   ]
  },
  {
   "cell_type": "markdown",
   "id": "6d836fb1",
   "metadata": {},
   "source": [
    "### RESOLVE_TRIANGULAR_INFERIOR"
   ]
  },
  {
   "cell_type": "markdown",
   "id": "db1260b4",
   "metadata": {},
   "source": [
    "Como visto nos vídeos do Abel, a fórmula para cada $x_i$ é dado por \n",
    "$$\n",
    "x_i = \\frac{b_i-\\sum_{j=1}^{i-1} a_{ij}x_j}{a_{ii}}\n",
    "$$"
   ]
  },
  {
   "cell_type": "code",
   "execution_count": 128,
   "id": "52325d5b",
   "metadata": {},
   "outputs": [
    {
     "data": {
      "text/plain": [
       "resolve_triangular_inferior"
      ]
     },
     "execution_count": 128,
     "metadata": {},
     "output_type": "execute_result"
    }
   ],
   "source": [
    "\"\"\"\n",
    "    resolve_triangular_inferior(A,b)\n",
    "    \n",
    "Retorna a matriz coluna x que é o resultado do sistema linear Ax=b, onde\n",
    "A é uma matriz nxn triangular inferior e b possui tamanho nx1.\n",
    "\"\"\"\n",
    "function resolve_triangular_inferior(A, b)\n",
    "    # Computa n, que será o número de linhas da matriz x\n",
    "    n = length(b)\n",
    "    x = zeros(n)\n",
    "    #= Para cada linha i de A e b, começando na primeira linha e terminando na última,\n",
    "    computamos cada variável nas colunas por substituição direta=# \n",
    "    for i = 1:n\n",
    "        # x_i = b_i no começo de cada iteração\n",
    "        x[i] = b[i]\n",
    "        for j = 1:(i - 1)\n",
    "            # Subtraímos de b_i o somatório da fórmula\n",
    "            x[i] = x[i] - (A[i,j]*x[j])\n",
    "        end\n",
    "        # Dividimos por a_ii \n",
    "        x[i] = x[i]/A[i,i]\n",
    "    end\n",
    "    # Retorna a matriz coluna resultado\n",
    "    return x\n",
    "end"
   ]
  },
  {
   "cell_type": "markdown",
   "id": "a4a50524",
   "metadata": {},
   "source": [
    "#### Testes"
   ]
  },
  {
   "cell_type": "markdown",
   "id": "a53319e6",
   "metadata": {},
   "source": [
    "O resultado visto na parte da matriz triangular superior pode ser utilizado aqui para geração dos testes. Dessa forma, seguimos o mesmo algoritmo, mas agora utilizamos a função [LowerTriangular](https://docs.julialang.org/en/v1/stdlib/LinearAlgebra/#LinearAlgebra.LowerTriangular) para gerar matrizes triangulares inferiores."
   ]
  },
  {
   "cell_type": "code",
   "execution_count": 129,
   "id": "9e6fb143",
   "metadata": {},
   "outputs": [
    {
     "data": {
      "text/plain": [
       "2-element Vector{Float64}:\n",
       " -0.9704986210770746\n",
       " -0.005849452139337621"
      ]
     },
     "execution_count": 129,
     "metadata": {},
     "output_type": "execute_result"
    }
   ],
   "source": [
    "n = 5\n",
    "A1 = randn(n,n)\n",
    "A1 = LowerTriangular(A1)\n",
    "b1 = randn(n)\n",
    "\n",
    "n = 6\n",
    "A2 = randn(n,n)\n",
    "A2 = LowerTriangular(A2)\n",
    "b2 = randn(n)\n",
    "\n",
    "n = 2\n",
    "A3 = randn(n,n)\n",
    "A3 = LowerTriangular(A3)\n",
    "b3 = randn(n)"
   ]
  },
  {
   "cell_type": "code",
   "execution_count": 130,
   "id": "af76f514",
   "metadata": {},
   "outputs": [
    {
     "data": {
      "text/plain": [
       "\u001b[32m\u001b[1mTest Passed\u001b[22m\u001b[39m"
      ]
     },
     "execution_count": 130,
     "metadata": {},
     "output_type": "execute_result"
    }
   ],
   "source": [
    "x1 = resolve_triangular_inferior(A1,b1)\n",
    "@test A1*x1 ≈ b1 "
   ]
  },
  {
   "cell_type": "code",
   "execution_count": 131,
   "id": "e9146044",
   "metadata": {},
   "outputs": [
    {
     "data": {
      "text/plain": [
       "\u001b[32m\u001b[1mTest Passed\u001b[22m\u001b[39m"
      ]
     },
     "execution_count": 131,
     "metadata": {},
     "output_type": "execute_result"
    }
   ],
   "source": [
    "x2 = resolve_triangular_inferior(A2,b2)\n",
    "@test A2*x2 ≈ b2 "
   ]
  },
  {
   "cell_type": "code",
   "execution_count": 132,
   "id": "72519fc6",
   "metadata": {},
   "outputs": [
    {
     "data": {
      "text/plain": [
       "\u001b[32m\u001b[1mTest Passed\u001b[22m\u001b[39m"
      ]
     },
     "execution_count": 132,
     "metadata": {},
     "output_type": "execute_result"
    }
   ],
   "source": [
    "x3 = resolve_triangular_inferior(A3,b3)\n",
    "@test A3*x3 ≈ b3 "
   ]
  },
  {
   "cell_type": "markdown",
   "id": "bc5fdf99",
   "metadata": {},
   "source": [
    "### DECOMPOSICAO_LU"
   ]
  },
  {
   "cell_type": "code",
   "execution_count": 133,
   "id": "cce7044d",
   "metadata": {},
   "outputs": [
    {
     "data": {
      "text/plain": [
       "decomposicao_LU"
      ]
     },
     "execution_count": 133,
     "metadata": {},
     "output_type": "execute_result"
    }
   ],
   "source": [
    "\"\"\"\n",
    "    decomposicao_LU(A)\n",
    "    \n",
    "Retorna as matrizes L,U nxn que correspondem a igualdade L*U = A.\n",
    "A é uma matriz nxn.\n",
    "\"\"\"\n",
    "function decomposicao_LU(A)\n",
    "    # Pega o número de linhas de A\n",
    "    n, = size(A)\n",
    "    # Gera a matriz que será L \n",
    "    L = Matrix{Float64}(I,n,n)\n",
    "    # Fazemos uma cópia de A para não alterar a entrada. Essa matriz será nossa matriz triangular superior.\n",
    "    U = copy(A)\n",
    "    # Inicializamos a constante que multiplica as linhas\n",
    "    v = 0\n",
    "    # A variável i representa a linha do pivo atual\n",
    "    for i = 1:(n-1)\n",
    "        pivo = U[i,i]\n",
    "        # Para cada linha abaixo da linha do pivo, realizamos o escalonamento\n",
    "        for j = (i+1):n \n",
    "            # Constante que multiplicará toda uma linha\n",
    "            v = U[j,i]/pivo\n",
    "            # Multiplica todos elementos da linha correspondente para balancear o sistema\n",
    "            for k = 1:n  \n",
    "                U[j,k] = U[j,k] - U[i,k]*v\n",
    "            end\n",
    "            # Zeramos os elementos manualmente devido ao erro de precisão da máquina\n",
    "            U[j,i] = 0 \n",
    "            # Gera a matriz triangular inferior elemento por elemento\n",
    "            L[j,i] = v\n",
    "        end\n",
    "    end\n",
    "    # Retorna a tupla (L,U)\n",
    "    return L,U\n",
    "end         "
   ]
  },
  {
   "cell_type": "markdown",
   "id": "58763494",
   "metadata": {},
   "source": [
    "#### Testes"
   ]
  },
  {
   "cell_type": "code",
   "execution_count": 134,
   "id": "8d406fc2",
   "metadata": {},
   "outputs": [
    {
     "data": {
      "text/plain": [
       "3×3 Matrix{Float64}:\n",
       "  8.0  -4.0  -2.0\n",
       " -4.0  10.0  -2.0\n",
       " -2.0  -2.0  10.0"
      ]
     },
     "execution_count": 134,
     "metadata": {},
     "output_type": "execute_result"
    }
   ],
   "source": [
    "A1 = [3.0 2.0 4.0; \n",
    "    1.0 1.0 2.0; \n",
    "    4.0 3.0 -2.0]\n",
    "\n",
    "A2 = [1.0 2.0 3.0; \n",
    "    4.0 -2.0 6.0; \n",
    "    1.0 4.0 5.0]\n",
    "\n",
    "A3 = [8.0 -4.0 -2.0; \n",
    "    -4.0 10.0 -2.0; \n",
    "    -2.0 -2.0 10.0]"
   ]
  },
  {
   "cell_type": "code",
   "execution_count": 135,
   "id": "41c0334b",
   "metadata": {},
   "outputs": [
    {
     "data": {
      "text/plain": [
       "\u001b[32m\u001b[1mTest Passed\u001b[22m\u001b[39m"
      ]
     },
     "execution_count": 135,
     "metadata": {},
     "output_type": "execute_result"
    }
   ],
   "source": [
    "L,U = decomposicao_LU(A1)\n",
    "@test L*U ≈ A1"
   ]
  },
  {
   "cell_type": "code",
   "execution_count": 136,
   "id": "c0f0fdff",
   "metadata": {},
   "outputs": [
    {
     "data": {
      "text/plain": [
       "\u001b[32m\u001b[1mTest Passed\u001b[22m\u001b[39m"
      ]
     },
     "execution_count": 136,
     "metadata": {},
     "output_type": "execute_result"
    }
   ],
   "source": [
    "L,U = decomposicao_LU(A2)\n",
    "@test L*U ≈ A2"
   ]
  },
  {
   "cell_type": "code",
   "execution_count": 137,
   "id": "fde368d4",
   "metadata": {},
   "outputs": [
    {
     "data": {
      "text/plain": [
       "\u001b[32m\u001b[1mTest Passed\u001b[22m\u001b[39m"
      ]
     },
     "execution_count": 137,
     "metadata": {},
     "output_type": "execute_result"
    }
   ],
   "source": [
    "L,U = decomposicao_LU(A3)\n",
    "@test L*U ≈ A3"
   ]
  },
  {
   "cell_type": "markdown",
   "id": "1a66b5cb",
   "metadata": {},
   "source": [
    "### INVERSA"
   ]
  },
  {
   "cell_type": "markdown",
   "id": "48723eb8",
   "metadata": {},
   "source": [
    "Para encontrar a matriz inversa, é preciso resolver o sistema $AA^{-1} = I$, onde $A^{-1}$ será determinado. Contudo, podemos pensar em resolver os sistemas $AA^{-1}_j = I_j$ onde $A^{-1}_j$ e $I_j$ correspondem as colunas $j$ da inversa de $A$ e da matriz identidade. Fazendo isso, podemos determinar completamente $A^{-1}$."
   ]
  },
  {
   "cell_type": "code",
   "execution_count": 138,
   "id": "7168f914",
   "metadata": {},
   "outputs": [
    {
     "data": {
      "text/plain": [
       "inversa"
      ]
     },
     "execution_count": 138,
     "metadata": {},
     "output_type": "execute_result"
    }
   ],
   "source": [
    "\"\"\"\n",
    "   inversa(A)\n",
    "    \n",
    "Retorna a inversa A^-1 da matriz A\n",
    "A é uma matriz nxn.\n",
    "\"\"\"\n",
    "function inversa(A)\n",
    "    # Calcula o tamanho da inversa\n",
    "    n, = size(A)\n",
    "    # Inicializa A^-1\n",
    "    A_inv = zeros(n, n)\n",
    "    # Gera a matriz identidade \n",
    "    Ident = Matrix{Float64}(I,n,n)\n",
    "    # Computa A*A^(-1)_j = I_j para cada coluna j \n",
    "    L,U = decomposicao_LU(A)\n",
    "    for j=1:n\n",
    "         Y = resolve_triangular_inferior(L,Ident[:,j])\n",
    "         A_inv[:,j] = resolve_triangular_superior(U,Y)\n",
    "    end\n",
    "    # Retorna a inversa\n",
    "    return A_inv\n",
    "end      "
   ]
  },
  {
   "cell_type": "markdown",
   "id": "70ea83c3",
   "metadata": {},
   "source": [
    "#### Testes"
   ]
  },
  {
   "cell_type": "markdown",
   "id": "aa8fdb3b",
   "metadata": {},
   "source": [
    "Para gerar os testes, precisamos que cada matriz $A$ gerada possua $det(A) \\neq 0$, pois matrizes não invertíveis possuem determinante igual a 0. Com isso, o algoritmo computa uma matriz A aleatoriamente. Se $det(A) = 0$, calculamos uma nova matriz A."
   ]
  },
  {
   "cell_type": "code",
   "execution_count": 139,
   "id": "defd1b49",
   "metadata": {},
   "outputs": [
    {
     "data": {
      "text/plain": [
       "\u001b[32m\u001b[1mTest Passed\u001b[22m\u001b[39m"
      ]
     },
     "execution_count": 139,
     "metadata": {},
     "output_type": "execute_result"
    }
   ],
   "source": [
    "n = 5\n",
    "A = randn(n,n)\n",
    "while(det(A) == 0)\n",
    "    A = randn(n,n)\n",
    "end\n",
    "A_inv = inversa(A)\n",
    "Ident = Matrix{Float64}(I,n,n)\n",
    "# Testa se A*A^-1 ≈ I\n",
    "@test A*A_inv ≈ Ident"
   ]
  },
  {
   "cell_type": "code",
   "execution_count": 140,
   "id": "057063fd",
   "metadata": {},
   "outputs": [
    {
     "data": {
      "text/plain": [
       "\u001b[32m\u001b[1mTest Passed\u001b[22m\u001b[39m"
      ]
     },
     "execution_count": 140,
     "metadata": {},
     "output_type": "execute_result"
    }
   ],
   "source": [
    "n = 10\n",
    "A = randn(n,n)\n",
    "while(det(A) == 0)\n",
    "    A = randn(n,n)\n",
    "end\n",
    "A_inv = inversa(A)\n",
    "Ident = Matrix{Float64}(I,n,n)\n",
    "# Testa se A*A^-1 ≈ I\n",
    "@test A*A_inv ≈ Ident"
   ]
  },
  {
   "cell_type": "code",
   "execution_count": 141,
   "id": "b149b004",
   "metadata": {},
   "outputs": [
    {
     "data": {
      "text/plain": [
       "\u001b[32m\u001b[1mTest Passed\u001b[22m\u001b[39m"
      ]
     },
     "execution_count": 141,
     "metadata": {},
     "output_type": "execute_result"
    }
   ],
   "source": [
    "n = 27\n",
    "A = randn(n,n)\n",
    "while(det(A) == 0)\n",
    "    A = randn(n,n)\n",
    "end\n",
    "A_inv = inversa(A)\n",
    "Ident = Matrix{Float64}(I,n,n)\n",
    "# Testa se A*A^-1 ≈ I\n",
    "@test A*A_inv ≈ Ident"
   ]
  },
  {
   "cell_type": "markdown",
   "id": "90fe0056",
   "metadata": {},
   "source": [
    "#### Complexidade"
   ]
  },
  {
   "cell_type": "markdown",
   "id": "47943657",
   "metadata": {},
   "source": [
    "Primeiro, ocorre a decomposição LU que possui complexidade $O(n^3)$. Para cada coluna $A^{-1}_j$ e $I_j$, chamamos as funções *resolve_triangular_superior* e *resolve_triangular_inferior*, então temos $n$ operações. Ambas as funções anteriores possuem complexidade $O(n^2)$, então temos uma complexidade $O(n^3)$ juntando com as $n$ operações para cada coluna. Somando as duas ordem, podemos dizer que a função inversa implementada possui complexidade $O(n^3)$."
   ]
  },
  {
   "cell_type": "markdown",
   "id": "ca938092",
   "metadata": {},
   "source": [
    "*Refs.:*\n",
    "- https://www.youtube.com/watch?v=5RWstMXFohQ\n",
    "- https://en.wikipedia.org/wiki/Invertible_matrix"
   ]
  },
  {
   "cell_type": "markdown",
   "id": "14019b03",
   "metadata": {},
   "source": [
    "## 3"
   ]
  },
  {
   "cell_type": "code",
   "execution_count": 142,
   "id": "0e84a9fd",
   "metadata": {},
   "outputs": [
    {
     "data": {
      "text/plain": [
       "discretiza (generic function with 1 method)"
      ]
     },
     "execution_count": 142,
     "metadata": {},
     "output_type": "execute_result"
    }
   ],
   "source": [
    "function discretiza(n)\n",
    "    A = zeros(n,n)\n",
    "    A[:,1] .= 25\n",
    "    A[1,:] .= 20 \n",
    "    A[:,n] .= 20 \n",
    "    A[n,:] .= 30\n",
    "    for i=1:(n-1)\n",
    "        for j=1:(n-1)\n",
    "            \n",
    "        end\n",
    "    end\n",
    "end"
   ]
  },
  {
   "cell_type": "code",
   "execution_count": 143,
   "id": "c5db7236",
   "metadata": {},
   "outputs": [
    {
     "data": {
      "text/plain": [
       "discretiza (generic function with 1 method)"
      ]
     },
     "execution_count": 143,
     "metadata": {},
     "output_type": "execute_result"
    }
   ],
   "source": [
    "function discretiza(n)\n",
    "    A = zeros(n)\n",
    "    b = zeros(n)\n",
    "    for i=1:n^2\n",
    "        A[i,i] = 1\n",
    "        if i <= n \n",
    "            b[i] += 20/4\n",
    "        end\n",
    "        if (i-1)%n == 0\n",
    "            b[i] += 25/4\n",
    "        end\n",
    "        if i%n == 0\n",
    "            b[i] += 20/4\n",
    "        end\n",
    "        if i >= n*(n-1) + 1\n",
    "            b[i] += 30/4\n",
    "        end\n",
    "    end\n",
    "end"
   ]
  },
  {
   "cell_type": "code",
   "execution_count": null,
   "id": "93f0bf6b",
   "metadata": {},
   "outputs": [],
   "source": []
  },
  {
   "cell_type": "code",
   "execution_count": 144,
   "id": "1c58e686",
   "metadata": {},
   "outputs": [
    {
     "data": {
      "text/plain": [
       "7×7 Matrix{Float64}:\n",
       " 20.0  20.0  20.0  20.0  20.0  20.0  20.0\n",
       " 25.0   0.0   0.0   0.0   0.0   0.0  20.0\n",
       " 25.0   0.0   0.0   0.0   0.0   0.0  20.0\n",
       " 25.0   0.0   0.0   0.0   0.0   0.0  20.0\n",
       " 25.0   0.0   0.0   0.0   0.0   0.0  20.0\n",
       " 25.0   0.0   0.0   0.0   0.0   0.0  20.0\n",
       " 30.0  30.0  30.0  30.0  30.0  30.0  30.0"
      ]
     },
     "execution_count": 144,
     "metadata": {},
     "output_type": "execute_result"
    }
   ],
   "source": [
    "n = 7\n",
    " A = zeros(n,n)\n",
    "A[:,1] .= 25\n",
    "A[1,:] .= 20 \n",
    "A[:,n] .= 20 \n",
    "A[n,:] .= 30\n",
    "A"
   ]
  },
  {
   "cell_type": "markdown",
   "id": "cd3487db",
   "metadata": {},
   "source": [
    "## 4"
   ]
  },
  {
   "cell_type": "markdown",
   "id": "2196bf8f",
   "metadata": {},
   "source": [
    "A função *resolve* soluciona o sistema $Ax=b$ através de decomposição LU, onde A é uma matriz $nxn$. Isso pode ser feito através dos passos\n",
    "\\begin{align*}\n",
    "Ax&=b\\\\\n",
    "LUx&=b\\\\\n",
    "LY&=b &\\text{onde } Y &= Ux\\\\\n",
    "UX &= Y\n",
    "\\end{align*}\n",
    "Dessa forma $X$ é o vetor coluna que procuramos."
   ]
  },
  {
   "cell_type": "code",
   "execution_count": 145,
   "id": "d1fc43e6",
   "metadata": {},
   "outputs": [
    {
     "data": {
      "text/plain": [
       "resolve"
      ]
     },
     "execution_count": 145,
     "metadata": {},
     "output_type": "execute_result"
    }
   ],
   "source": [
    "\"\"\"\n",
    "    resolve(A,b)\n",
    "    \n",
    "Retorna a matriz coluna x que é o resultado do sistema linear Ax=b, onde\n",
    "A é uma matriz nxn e b possui tamanho nx1.\n",
    "\"\"\"\n",
    "function resolve(A,b)\n",
    "    L,U = decomposicao_LU(A)\n",
    "    Y = resolve_triangular_inferior(L,b)\n",
    "    return resolve_triangular_superior(U,Y)\n",
    "end"
   ]
  },
  {
   "cell_type": "markdown",
   "id": "1e3659dd",
   "metadata": {},
   "source": [
    "#### Testes"
   ]
  },
  {
   "cell_type": "code",
   "execution_count": 146,
   "id": "11d22a91",
   "metadata": {},
   "outputs": [
    {
     "data": {
      "text/plain": [
       "10-element Vector{Float64}:\n",
       "  0.13600075434621756\n",
       " -0.45711743444600383\n",
       " -2.077268838972131\n",
       " -1.8478305518091456\n",
       " -5.257967869423813\n",
       " -1.5378472800837228\n",
       "  0.8220992803581075\n",
       "  2.2073007960538162\n",
       "  3.0574206155202983\n",
       " -4.325981879825736"
      ]
     },
     "execution_count": 146,
     "metadata": {},
     "output_type": "execute_result"
    }
   ],
   "source": [
    "n = 4\n",
    "A1 = randn(n,n)\n",
    "b1 = A1 * ones(n)\n",
    "\n",
    "n = 5\n",
    "A2 = randn(n,n)\n",
    "b2 = A2 * ones(n)\n",
    "\n",
    "n = 10\n",
    "A3 = randn(n,n)\n",
    "b3 = A3 * ones(n)"
   ]
  },
  {
   "cell_type": "code",
   "execution_count": 147,
   "id": "d5637f90",
   "metadata": {},
   "outputs": [
    {
     "data": {
      "text/plain": [
       "\u001b[32m\u001b[1mTest Passed\u001b[22m\u001b[39m"
      ]
     },
     "execution_count": 147,
     "metadata": {},
     "output_type": "execute_result"
    }
   ],
   "source": [
    "x1 = resolve(A1,b1)\n",
    "@test A1*x1 ≈ b1"
   ]
  },
  {
   "cell_type": "code",
   "execution_count": 148,
   "id": "b11074bb",
   "metadata": {},
   "outputs": [
    {
     "data": {
      "text/plain": [
       "\u001b[32m\u001b[1mTest Passed\u001b[22m\u001b[39m"
      ]
     },
     "execution_count": 148,
     "metadata": {},
     "output_type": "execute_result"
    }
   ],
   "source": [
    "x2 = resolve(A2,b2)\n",
    "@test A2*x2 ≈ b2"
   ]
  },
  {
   "cell_type": "code",
   "execution_count": 149,
   "id": "ab68697a",
   "metadata": {},
   "outputs": [
    {
     "data": {
      "text/plain": [
       "\u001b[32m\u001b[1mTest Passed\u001b[22m\u001b[39m"
      ]
     },
     "execution_count": 149,
     "metadata": {},
     "output_type": "execute_result"
    }
   ],
   "source": [
    "x3 = resolve(A3,b3)\n",
    "@test A3*x3 ≈ b3"
   ]
  },
  {
   "cell_type": "markdown",
   "id": "153a841c",
   "metadata": {},
   "source": [
    "Para montar o sistema, podemos pensar que todos os canos conservam o volume de água que passa por eles, em outras palavras, todo volume de água que entra em um cano deve sair dele. Com isso em mente, podemos determinar o sistema\n",
    "\\begin{align*}\n",
    " x_1-2000-5000 &= 0 & \\text{A} \\\\ \n",
    "x_2-1500-2000 &= 0 & \\text{B}\\\\\n",
    "x_3-8000-1000 &= 0 & \\text{C}\\\\\n",
    "-x_2-x_4+x_6 &= 0 & \\text{F}\\\\\n",
    "-x_5+x_7-3000 &= 0 & \\text{G}\\\\\n",
    "-x_6-x_7+x_8-500&= 0 & \\text{H}\\\\\n",
    "-x_1+x_4-30000 &= 0 & \\text{D}\\\\\n",
    "-x_3+x_5-3000 &= 0 & \\text{E}\\\\\n",
    "\\end{align*}\n",
    "Colocando todas as constantes do lado direito das equações e montando o sistema $Ax=c$, chegamos ao resultado"
   ]
  },
  {
   "cell_type": "code",
   "execution_count": 150,
   "id": "61b3c8c5",
   "metadata": {},
   "outputs": [
    {
     "data": {
      "text/plain": [
       "8-element Vector{Float64}:\n",
       "  7000.0\n",
       "  3500.0\n",
       "  9000.0\n",
       " 37000.0\n",
       " 12000.0\n",
       " 40500.0\n",
       " 15000.0\n",
       " 56000.0"
      ]
     },
     "execution_count": 150,
     "metadata": {},
     "output_type": "execute_result"
    }
   ],
   "source": [
    "A = [\n",
    "    1 0 0 0 0 0 0 0;\n",
    "    0 1 0 0 0 0 0 0;\n",
    "    0 0 1 0 0 0 0 0;\n",
    "    0 -1 0 -1 0 1 0 0;\n",
    "    0 0 0 0 -1 0 1 0;\n",
    "    0 0 0 0 0 -1 -1 1;\n",
    "    -1 0 0 1 0 0 0 0;\n",
    "    0 0 -1 0 1 0 0 0;\n",
    "   ]\n",
    "\n",
    "c = [\n",
    "    2000+5000;\n",
    "    1500+2000;\n",
    "    8000+1000;\n",
    "    0;\n",
    "    3000;\n",
    "    500; \n",
    "    30000;\n",
    "    3000;  \n",
    "]\n",
    "\n",
    "resolve(A,c)"
   ]
  },
  {
   "cell_type": "markdown",
   "id": "29f2773f",
   "metadata": {},
   "source": [
    "Agora o sistema com a variável $x_9$ será\n",
    "\\begin{align*}\n",
    " x_1-2000-5000 &= 0 & \\text{A} \\\\ \n",
    "x_2-1500-2000 &= 0 & \\text{B}\\\\\n",
    "x_3-8000-1000 &= 0 & \\text{C}\\\\\n",
    "-x_2-x_4+x_6 &= 0 & \\text{F}\\\\\n",
    "-x_5+x_7-3000 &= 0 & \\text{G}\\\\\n",
    "-x_6-x_7+x_8-500&= 0 & \\text{H}\\\\\n",
    "-x_1+x_4-30000 -x_9 &= 0 & \\text{D}\\\\\n",
    "-x_3+x_5-3000+x_9 &= 0 & \\text{E}\\\\\n",
    "\\end{align*}\n",
    "Com isso adicionamos a coluna abaixo a matriz $A$ e resolvemos o sistema novamente."
   ]
  },
  {
   "cell_type": "code",
   "execution_count": 151,
   "id": "bd533f4a",
   "metadata": {},
   "outputs": [
    {
     "data": {
      "text/plain": [
       "8-element Vector{Float64}:\n",
       "  7000.0\n",
       "  3500.0\n",
       "  9000.0\n",
       " 37000.0\n",
       " 12000.0\n",
       " 40500.0\n",
       " 15000.0\n",
       " 56000.0"
      ]
     },
     "execution_count": 151,
     "metadata": {},
     "output_type": "execute_result"
    }
   ],
   "source": [
    "A1 = hcat(A,[0; 0; 0; 0; 0; 0; -1; 1])\n",
    "resolve(A1,c)"
   ]
  },
  {
   "cell_type": "markdown",
   "id": "005b12ae",
   "metadata": {},
   "source": [
    "Como estamos tratando apenas matrizes $A_{nxn}$, o resultado não é modificado, visto que a última coluna não é considerada pois $A1$ possui tamanho $8x9$."
   ]
  }
 ],
 "metadata": {
  "kernelspec": {
   "display_name": "Julia 1.6.4",
   "language": "julia",
   "name": "julia-1.6"
  },
  "language_info": {
   "file_extension": ".jl",
   "mimetype": "application/julia",
   "name": "julia",
   "version": "1.6.4"
  }
 },
 "nbformat": 4,
 "nbformat_minor": 5
}
