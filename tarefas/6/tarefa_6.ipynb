{
 "cells": [
  {
   "cell_type": "code",
   "execution_count": 4,
   "id": "961cd4bb",
   "metadata": {},
   "outputs": [],
   "source": [
    "using LinearAlgebra"
   ]
  },
  {
   "cell_type": "code",
   "execution_count": 2,
   "id": "a6dd3726",
   "metadata": {},
   "outputs": [
    {
     "data": {
      "text/plain": [
       "resolve_diagonal (generic function with 1 method)"
      ]
     },
     "execution_count": 2,
     "metadata": {},
     "output_type": "execute_result"
    }
   ],
   "source": [
    "function resolve_diagonal(A, b)\n",
    "    x = b\\A\n",
    "    return x\n",
    "end"
   ]
  },
  {
   "cell_type": "code",
   "execution_count": 121,
   "id": "b5410dc5",
   "metadata": {},
   "outputs": [
    {
     "data": {
      "text/plain": [
       "resolve_triangular_superior (generic function with 1 method)"
      ]
     },
     "execution_count": 121,
     "metadata": {},
     "output_type": "execute_result"
    }
   ],
   "source": [
    "function resolve_triangular_superior(A, b)\n",
    "    n = length(b)\n",
    "    x = zeros(n)\n",
    "    for i = n:-1:1\n",
    "        x[i] = b[i]\n",
    "        for j = i+1:n\n",
    "            x[i] = x[i] - (A[i,j]*x[j])\n",
    "        end\n",
    "        x[i] = x[i]/A[i, i]\n",
    "    end\n",
    "    return x\n",
    "end"
   ]
  },
  {
   "cell_type": "code",
   "execution_count": 126,
   "id": "52325d5b",
   "metadata": {},
   "outputs": [
    {
     "data": {
      "text/plain": [
       "resolve_triangular_inferior (generic function with 1 method)"
      ]
     },
     "execution_count": 126,
     "metadata": {},
     "output_type": "execute_result"
    }
   ],
   "source": [
    "function resolve_triangular_inferior(A, b)\n",
    "    n = length(b)\n",
    "    x = zeros(n)\n",
    "    for i = 1:n\n",
    "        x[i] = b[i]\n",
    "        for j = 1:(i - 1)\n",
    "            x[i] = x[i] - (A[i,j]*x[j])\n",
    "        end\n",
    "        x[i] = x[i]/A[i, i]\n",
    "    end\n",
    "    return x\n",
    "end"
   ]
  },
  {
   "cell_type": "code",
   "execution_count": 94,
   "id": "a9177115",
   "metadata": {},
   "outputs": [
    {
     "data": {
      "text/plain": [
       "5×5 Matrix{Float64}:\n",
       " 1.0  5.0  0.0  0.0  0.0\n",
       " 0.0  1.0  0.0  0.0  0.0\n",
       " 0.0  0.0  1.0  0.0  0.0\n",
       " 0.0  0.0  0.0  1.0  0.0\n",
       " 0.0  0.0  0.0  0.0  1.0"
      ]
     },
     "execution_count": 94,
     "metadata": {},
     "output_type": "execute_result"
    }
   ],
   "source": [
    "A = Matrix{Float64}(I,5,5)\n",
    "size(A)\n",
    "A\n",
    "A[1,2] = 5\n",
    "A"
   ]
  },
  {
   "cell_type": "code",
   "execution_count": 99,
   "id": "cce7044d",
   "metadata": {},
   "outputs": [
    {
     "data": {
      "text/plain": [
       "decomposicao_LU (generic function with 1 method)"
      ]
     },
     "execution_count": 99,
     "metadata": {},
     "output_type": "execute_result"
    }
   ],
   "source": [
    "function decomposicao_LU(A)\n",
    "    # Pega o número de linhas de A\n",
    "    n, = size(A)\n",
    "    # Gera a matriz que será L \n",
    "    L = Matrix{Float64}(I,n,n)\n",
    "    # Fazemos uma cópia de A. Será nossa matriz triangular superior\n",
    "    U = copy(A)\n",
    "    # Constante que multiplica as linhas\n",
    "    v = 0\n",
    "    for i = 1:(n-1)\n",
    "        pivo = U[i,i]\n",
    "        # Para cada linha abaixo da linha do pivo, realizamos o escalonamento\n",
    "        for j = (i+1):n \n",
    "            # Constante que multiplicará toda uma linha\n",
    "            v = U[j,i]/pivo\n",
    "            # Multiplica todos elementos da linha correspondente para balancear o sistema\n",
    "            for k = 1:n  \n",
    "                U[j,k] = U[j,k] - U[i,k]*v\n",
    "            end\n",
    "            # Zeramos os elementos manualmente devido ao erro de precisão da máquina\n",
    "            U[j,i] = 0 \n",
    "            # Gera a matriz triangular inferior elemento por elemento\n",
    "            L[j,i] = v\n",
    "        end\n",
    "    end\n",
    "    return L,U\n",
    "end         "
   ]
  },
  {
   "cell_type": "code",
   "execution_count": 101,
   "id": "41c0334b",
   "metadata": {},
   "outputs": [
    {
     "data": {
      "text/plain": [
       "true"
      ]
     },
     "execution_count": 101,
     "metadata": {},
     "output_type": "execute_result"
    }
   ],
   "source": [
    "A =37*randn(5,5)\n",
    "L,U = decomposicao_LU(A)\n",
    "L*U ≈ A \n",
    "#U"
   ]
  },
  {
   "cell_type": "code",
   "execution_count": 92,
   "id": "7e83a34b",
   "metadata": {},
   "outputs": [
    {
     "data": {
      "text/plain": [
       "15.883089742125456"
      ]
     },
     "execution_count": 92,
     "metadata": {},
     "output_type": "execute_result"
    }
   ],
   "source": [
    "A[3,2]"
   ]
  },
  {
   "cell_type": "raw",
   "id": "8cea1962",
   "metadata": {
    "scrolled": true
   },
   "source": [
    "Matrix(I,4,4)"
   ]
  },
  {
   "cell_type": "code",
   "execution_count": 112,
   "id": "489acc38",
   "metadata": {},
   "outputs": [
    {
     "data": {
      "text/plain": [
       "([1.0 0.0 0.0; 0.0 1.0 0.0; 0.0 0.0 1.0], [3.0 2.0 4.0; 0.0 0.33333333333333337 0.6666666666666667; 0.0 0.0 -8.0])"
      ]
     },
     "execution_count": 112,
     "metadata": {},
     "output_type": "execute_result"
    }
   ],
   "source": [
    "decomposicao_LU(A)"
   ]
  },
  {
   "cell_type": "code",
   "execution_count": 83,
   "id": "b7d1af2b",
   "metadata": {},
   "outputs": [
    {
     "data": {
      "text/plain": [
       "5"
      ]
     },
     "execution_count": 83,
     "metadata": {},
     "output_type": "execute_result"
    }
   ],
   "source": [
    "B = zeros(5,5)\n",
    "n, = size(B)\n",
    "n"
   ]
  },
  {
   "cell_type": "code",
   "execution_count": 130,
   "id": "7168f914",
   "metadata": {},
   "outputs": [
    {
     "data": {
      "text/plain": [
       "inversa_LU (generic function with 1 method)"
      ]
     },
     "execution_count": 130,
     "metadata": {},
     "output_type": "execute_result"
    }
   ],
   "source": [
    "function inversa_LU(A)\n",
    "    L, U = decomposicao_LU(A)\n",
    "    n, = size(A)\n",
    "    y = zeros(n, n)\n",
    "    A_inv = zeros(n, n)\n",
    "    ident = zeros(n, n)\n",
    "    for i = 1:n\n",
    "        ident[i,i] = 1\n",
    "    end\n",
    "    for i = 1:n\n",
    "        y[:,i] = resolve_triangular_inferior(L, ident[:,i])\n",
    "        A_inv[:, i] = resolve_triangular_superior(U, y[:, i])\n",
    "    end\n",
    "    return A_inv\n",
    "end\n",
    "                "
   ]
  },
  {
   "cell_type": "code",
   "execution_count": 114,
   "id": "58f52ff8",
   "metadata": {},
   "outputs": [
    {
     "data": {
      "text/plain": [
       "([1.0 0.0 0.0; 0.3333333333333333 1.0 0.0; 1.3333333333333333 1.0000000000000002 1.0], [3.0 2.0 4.0; 0.0 0.33333333333333337 0.6666666666666667; 0.0 5.551115123125783e-17 -8.0])"
      ]
     },
     "execution_count": 114,
     "metadata": {},
     "output_type": "execute_result"
    }
   ],
   "source": [
    "L, U = decomposicao_LU(A)"
   ]
  },
  {
   "cell_type": "code",
   "execution_count": 123,
   "id": "6680b77d",
   "metadata": {},
   "outputs": [
    {
     "data": {
      "text/plain": [
       "3-element Vector{Float64}:\n",
       " 1.0\n",
       " 0.9999999999999999\n",
       " 1.0000000000000002"
      ]
     },
     "execution_count": 123,
     "metadata": {},
     "output_type": "execute_result"
    }
   ],
   "source": [
    "n, = size(U)\n",
    "b = ones(n)\n",
    "x = resolve_triangular_superior(U, b)\n",
    "U*x"
   ]
  },
  {
   "cell_type": "code",
   "execution_count": 127,
   "id": "c237dfae",
   "metadata": {},
   "outputs": [
    {
     "data": {
      "text/plain": [
       "3-element Vector{Float64}:\n",
       " 1.0\n",
       " 1.0\n",
       " 1.0"
      ]
     },
     "execution_count": 127,
     "metadata": {},
     "output_type": "execute_result"
    }
   ],
   "source": [
    "n, = size(L)\n",
    "b = ones(n)\n",
    "x = resolve_triangular_inferior(L, b)\n",
    "L*x"
   ]
  },
  {
   "cell_type": "code",
   "execution_count": 131,
   "id": "54a0cf6b",
   "metadata": {},
   "outputs": [
    {
     "data": {
      "text/plain": [
       "3×3 Matrix{Float64}:\n",
       "  1.0    -2.0     0.0\n",
       " -1.25    2.75    0.25\n",
       "  0.125   0.125  -0.125"
      ]
     },
     "execution_count": 131,
     "metadata": {},
     "output_type": "execute_result"
    }
   ],
   "source": [
    "inversa_LU(A)"
   ]
  },
  {
   "cell_type": "code",
   "execution_count": null,
   "id": "fd2dd5a2",
   "metadata": {},
   "outputs": [],
   "source": []
  }
 ],
 "metadata": {
  "kernelspec": {
   "display_name": "Julia 1.6.4",
   "language": "julia",
   "name": "julia-1.6"
  },
  "language_info": {
   "file_extension": ".jl",
   "mimetype": "application/julia",
   "name": "julia",
   "version": "1.6.4"
  }
 },
 "nbformat": 4,
 "nbformat_minor": 5
}
