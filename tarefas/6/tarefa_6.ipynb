{
 "cells": [
  {
   "cell_type": "code",
   "execution_count": 39,
   "id": "961cd4bb",
   "metadata": {},
   "outputs": [],
   "source": [
    "using LinearAlgebra\n",
    "using Test"
   ]
  },
  {
   "cell_type": "markdown",
   "id": "92bfafab",
   "metadata": {},
   "source": [
    "## 1"
   ]
  },
  {
   "cell_type": "markdown",
   "id": "4702fbd3",
   "metadata": {},
   "source": [
    "### RESOLVE_DIAGONAL"
   ]
  },
  {
   "cell_type": "code",
   "execution_count": 40,
   "id": "a6dd3726",
   "metadata": {},
   "outputs": [
    {
     "data": {
      "text/plain": [
       "resolve_diagonal (generic function with 1 method)"
      ]
     },
     "execution_count": 40,
     "metadata": {},
     "output_type": "execute_result"
    }
   ],
   "source": [
    "function resolve_diagonal(A, b)\n",
    "    n = length(b)\n",
    "    x = zeros(n)\n",
    "    for i=1:n\n",
    "        x[i] = b[i] / A[i,i]\n",
    "    end\n",
    "    return x\n",
    "end"
   ]
  },
  {
   "cell_type": "markdown",
   "id": "42ae5a5b",
   "metadata": {},
   "source": [
    "#### Testes"
   ]
  },
  {
   "cell_type": "code",
   "execution_count": 41,
   "id": "cb78e9c5",
   "metadata": {},
   "outputs": [
    {
     "data": {
      "text/plain": [
       "5-element Vector{Float64}:\n",
       " -0.4204119472456362\n",
       "  1.3420391534929759\n",
       "  0.32051382320709887\n",
       "  0.5960390138657149\n",
       "  0.7662247466485679"
      ]
     },
     "execution_count": 41,
     "metadata": {},
     "output_type": "execute_result"
    }
   ],
   "source": [
    "n = 5\n",
    "A1 = randn()*Matrix{Float64}(I,n,n)\n",
    "b1 = randn(n)\n",
    "\n",
    "A2 = randn()*Matrix{Float64}(I,n,n)\n",
    "b2 = randn(n)\n",
    "\n",
    "A3 = randn()*Matrix{Float64}(I,n,n)\n",
    "b3 = randn(n)"
   ]
  },
  {
   "cell_type": "code",
   "execution_count": 42,
   "id": "a0e7b5e3",
   "metadata": {},
   "outputs": [
    {
     "data": {
      "text/plain": [
       "\u001b[32m\u001b[1mTest Passed\u001b[22m\u001b[39m"
      ]
     },
     "execution_count": 42,
     "metadata": {},
     "output_type": "execute_result"
    }
   ],
   "source": [
    "@test resolve_diagonal(A1,b1) ≈ A1\\b1 "
   ]
  },
  {
   "cell_type": "code",
   "execution_count": 43,
   "id": "8e4324ec",
   "metadata": {},
   "outputs": [
    {
     "data": {
      "text/plain": [
       "\u001b[32m\u001b[1mTest Passed\u001b[22m\u001b[39m"
      ]
     },
     "execution_count": 43,
     "metadata": {},
     "output_type": "execute_result"
    }
   ],
   "source": [
    "@test resolve_diagonal(A2,b2) ≈ A2\\b2 "
   ]
  },
  {
   "cell_type": "code",
   "execution_count": 44,
   "id": "74f3388d",
   "metadata": {},
   "outputs": [
    {
     "data": {
      "text/plain": [
       "\u001b[32m\u001b[1mTest Passed\u001b[22m\u001b[39m"
      ]
     },
     "execution_count": 44,
     "metadata": {},
     "output_type": "execute_result"
    }
   ],
   "source": [
    "@test resolve_diagonal(A3,b3) ≈ A3\\b3 "
   ]
  },
  {
   "cell_type": "markdown",
   "id": "22aec074",
   "metadata": {},
   "source": [
    "### RESOLVE_TRIANGULAR_SUPERIOR"
   ]
  },
  {
   "cell_type": "code",
   "execution_count": 45,
   "id": "b5410dc5",
   "metadata": {},
   "outputs": [
    {
     "data": {
      "text/plain": [
       "resolve_triangular_superior (generic function with 1 method)"
      ]
     },
     "execution_count": 45,
     "metadata": {},
     "output_type": "execute_result"
    }
   ],
   "source": [
    "function resolve_triangular_superior(A, b)\n",
    "    n = length(b)\n",
    "    x = zeros(n)\n",
    "    for i = n:-1:1\n",
    "        x[i] = b[i]\n",
    "        for j = i+1:n\n",
    "            x[i] = x[i] - (A[i,j]*x[j])\n",
    "        end\n",
    "        x[i] = x[i]/A[i, i]\n",
    "    end\n",
    "    return x\n",
    "end"
   ]
  },
  {
   "cell_type": "markdown",
   "id": "c511490b",
   "metadata": {},
   "source": [
    "#### Testes"
   ]
  },
  {
   "cell_type": "code",
   "execution_count": null,
   "id": "e5691eff",
   "metadata": {},
   "outputs": [],
   "source": []
  },
  {
   "cell_type": "code",
   "execution_count": 46,
   "id": "52325d5b",
   "metadata": {},
   "outputs": [
    {
     "data": {
      "text/plain": [
       "resolve_triangular_inferior (generic function with 1 method)"
      ]
     },
     "execution_count": 46,
     "metadata": {},
     "output_type": "execute_result"
    }
   ],
   "source": [
    "function resolve_triangular_inferior(A, b)\n",
    "    n = length(b)\n",
    "    x = zeros(n)\n",
    "    for i = 1:n\n",
    "        # Vetor com os resultados\n",
    "        x[i] = b[i]\n",
    "        for j = 1:(i - 1)\n",
    "            x[i] = x[i] - (A[i,j]*x[j])\n",
    "        end\n",
    "        x[i] = x[i]/A[i,i]\n",
    "    end\n",
    "    return x\n",
    "end"
   ]
  },
  {
   "cell_type": "code",
   "execution_count": 47,
   "id": "cce7044d",
   "metadata": {},
   "outputs": [
    {
     "data": {
      "text/plain": [
       "decomposicao_LU (generic function with 1 method)"
      ]
     },
     "execution_count": 47,
     "metadata": {},
     "output_type": "execute_result"
    }
   ],
   "source": [
    "function decomposicao_LU(A)\n",
    "    # Pega o número de linhas de A\n",
    "    n, = size(A)\n",
    "    # Gera a matriz que será L \n",
    "    L = Matrix{Float64}(I,n,n)\n",
    "    # Fazemos uma cópia de A. Será nossa matriz triangular superior\n",
    "    U = copy(A)\n",
    "    # Constante que multiplica as linhas\n",
    "    v = 0\n",
    "    for i = 1:(n-1)\n",
    "        pivo = U[i,i]\n",
    "        # Para cada linha abaixo da linha do pivo, realizamos o escalonamento\n",
    "        for j = (i+1):n \n",
    "            # Constante que multiplicará toda uma linha\n",
    "            v = U[j,i]/pivo\n",
    "            # Multiplica todos elementos da linha correspondente para balancear o sistema\n",
    "            for k = 1:n  \n",
    "                U[j,k] = U[j,k] - U[i,k]*v\n",
    "            end\n",
    "            # Zeramos os elementos manualmente devido ao erro de precisão da máquina\n",
    "            U[j,i] = 0 \n",
    "            # Gera a matriz triangular inferior elemento por elemento\n",
    "            L[j,i] = v\n",
    "        end\n",
    "    end\n",
    "    return L,U\n",
    "end         "
   ]
  },
  {
   "cell_type": "code",
   "execution_count": 48,
   "id": "41c0334b",
   "metadata": {},
   "outputs": [
    {
     "data": {
      "text/plain": [
       "5×5 Matrix{Float64}:\n",
       "  1.0       0.0         0.0        0.0       0.0\n",
       "  2.58733   1.0         0.0        0.0       0.0\n",
       " -4.19842  -0.119406    1.0        0.0       0.0\n",
       "  4.68228  -0.0857574  -0.784976   1.0       0.0\n",
       "  6.41157   0.569692   -1.42186   -0.318857  1.0"
      ]
     },
     "execution_count": 48,
     "metadata": {},
     "output_type": "execute_result"
    }
   ],
   "source": [
    "A =37*randn(5,5)\n",
    "L,U = decomposicao_LU(A)\n",
    "L*U ≈ A \n",
    "#U\n",
    "L"
   ]
  },
  {
   "cell_type": "code",
   "execution_count": 49,
   "id": "722bc57c",
   "metadata": {},
   "outputs": [
    {
     "name": "stdout",
     "output_type": "stream",
     "text": [
      "[-24.429936047813655, -18.874540636369883, -4.339049298228314, 6.202539904809807, 19.20919018610366]\n",
      "[-24.429936047813655 28.754439375214986 30.420106170732524 25.053466218864646 -14.588037734788376; -18.874540636369883 -45.100858566470215 -4.2305589452484265 -16.794245115842156 61.679972087231235; -4.339049298228314 7.886276974853253 -7.820829472268075 6.194604398525881 2.953225396355694; 6.202539904809807 52.741040629250556 40.29845825349469 -43.244740010822646 -47.6833315271298; 19.20919018610366 10.383743334453214 -31.32838675171 34.26960457785082 19.776079138501814]\n"
     ]
    }
   ],
   "source": [
    "A =37*randn(5,5)\n",
    "\n",
    "println(A[:,1])\n",
    "println(A)"
   ]
  },
  {
   "cell_type": "code",
   "execution_count": 50,
   "id": "68721f02",
   "metadata": {},
   "outputs": [
    {
     "data": {
      "text/plain": [
       "resolve (generic function with 1 method)"
      ]
     },
     "execution_count": 50,
     "metadata": {},
     "output_type": "execute_result"
    }
   ],
   "source": [
    "function resolve(A,b)\n",
    "    L,U = decomposicao_LU(A)\n",
    "    Y = resolve_triangular_inferior(L,b)\n",
    "    return resolve_triangular_superior(U,Y)\n",
    "end"
   ]
  },
  {
   "cell_type": "code",
   "execution_count": 60,
   "id": "9aca0829",
   "metadata": {},
   "outputs": [
    {
     "data": {
      "text/plain": [
       "\u001b[32m\u001b[1mTest Passed\u001b[22m\u001b[39m"
      ]
     },
     "execution_count": 60,
     "metadata": {},
     "output_type": "execute_result"
    }
   ],
   "source": [
    "A = randn(n,n)\n",
    "b = A * ones(n)\n",
    "@test resolve(A,b) ≈ A\\b"
   ]
  },
  {
   "cell_type": "code",
   "execution_count": 62,
   "id": "a6af0e84",
   "metadata": {},
   "outputs": [
    {
     "data": {
      "text/plain": [
       "5×5 Matrix{Float64}:\n",
       "  0.929597   0.685575   0.664074    0.0934643  -1.12662\n",
       " -0.13872   -0.080687   1.68679     0.258155    0.223977\n",
       "  0.880768   0.270508   3.10584     1.08844    -0.214803\n",
       " -1.10138   -0.285054  -0.0938987  -0.349839    0.981171\n",
       "  0.439383   1.07314   -0.815929    0.665115    0.467584"
      ]
     },
     "execution_count": 62,
     "metadata": {},
     "output_type": "execute_result"
    }
   ],
   "source": [
    "A = randn(n,n)"
   ]
  },
  {
   "cell_type": "code",
   "execution_count": 64,
   "id": "823184e7",
   "metadata": {},
   "outputs": [
    {
     "data": {
      "text/plain": [
       "5×5 Matrix{Float64}:\n",
       " -1.12662    0.685575   0.664074    0.0934643  -1.12662\n",
       "  0.223977  -0.080687   1.68679     0.258155    0.223977\n",
       " -0.214803   0.270508   3.10584     1.08844    -0.214803\n",
       "  0.981171  -0.285054  -0.0938987  -0.349839    0.981171\n",
       "  0.467584   1.07314   -0.815929    0.665115    0.467584"
      ]
     },
     "execution_count": 64,
     "metadata": {},
     "output_type": "execute_result"
    }
   ],
   "source": [
    "A[:,1] = A[:,5]\n",
    "A"
   ]
  },
  {
   "cell_type": "code",
   "execution_count": 66,
   "id": "7168f914",
   "metadata": {},
   "outputs": [
    {
     "data": {
      "text/plain": [
       "inversa (generic function with 1 method)"
      ]
     },
     "execution_count": 66,
     "metadata": {},
     "output_type": "execute_result"
    }
   ],
   "source": [
    "function inversa(A)\n",
    "    n, = size(A)\n",
    "    A_inv = zeros(n, n)\n",
    "    Ident = Matrix{Float64}(I,n,n)\n",
    "    for i=1:n\n",
    "        A_inv[:,i] = resolve(A,Ident[:,i])\n",
    "    end\n",
    "    return A_inv\n",
    "end               "
   ]
  },
  {
   "cell_type": "code",
   "execution_count": 77,
   "id": "c9f9df3d",
   "metadata": {},
   "outputs": [
    {
     "data": {
      "text/plain": [
       "\u001b[32m\u001b[1mTest Passed\u001b[22m\u001b[39m"
      ]
     },
     "execution_count": 77,
     "metadata": {},
     "output_type": "execute_result"
    }
   ],
   "source": [
    "A = randn(n,n)\n",
    "@test inversa(A) ≈ inv(A)"
   ]
  },
  {
   "cell_type": "markdown",
   "id": "2acb7586",
   "metadata": {},
   "source": [
    "## 4"
   ]
  },
  {
   "cell_type": "code",
   "execution_count": null,
   "id": "aef86c7c",
   "metadata": {},
   "outputs": [],
   "source": []
  }
 ],
 "metadata": {
  "kernelspec": {
   "display_name": "Julia 1.6.4",
   "language": "julia",
   "name": "julia-1.6"
  },
  "language_info": {
   "file_extension": ".jl",
   "mimetype": "application/julia",
   "name": "julia",
   "version": "1.6.4"
  }
 },
 "nbformat": 4,
 "nbformat_minor": 5
}
