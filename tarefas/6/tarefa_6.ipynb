{
 "cells": [
  {
   "cell_type": "markdown",
   "id": "31153bc3",
   "metadata": {},
   "source": [
    "# Nome: Matheus da Silva Oliveira\n",
    "# DRE: 118178020"
   ]
  },
  {
   "cell_type": "markdown",
   "id": "cbce6382",
   "metadata": {},
   "source": [
    "## 1"
   ]
  },
  {
   "cell_type": "markdown",
   "id": "485f1ac1",
   "metadata": {},
   "source": [
    "Será usada a [biblioteca Test](https://docs.julialang.org/en/v1/stdlib/Test/) para facilitar nos units tests."
   ]
  },
  {
   "cell_type": "code",
   "execution_count": 2,
   "id": "961cd4bb",
   "metadata": {},
   "outputs": [],
   "source": [
    "using LinearAlgebra\n",
    "using Test"
   ]
  },
  {
   "cell_type": "markdown",
   "id": "93c32ffe",
   "metadata": {},
   "source": [
    "### RESOLVE_DIAGONAL"
   ]
  },
  {
   "cell_type": "markdown",
   "id": "c70989b0",
   "metadata": {},
   "source": [
    "Como sabemos, quando a matriz $A$ é diagonal, o sistema $Ax=b$ é determinado, pois todos os $x_i$ são determinados por apenas uma divisão, desde que a diagonal de $A$ seja não nula. Caso fosse, deveriámos olhar para o vetor $b$, mas não precisamos nos preocupar com este caso agora. Sendo assim, determinamos todos os elementos do vetor $x$ através da fórmula\n",
    "$$\n",
    "x_i = \\frac{b_i}{a_{ii}}\n",
    "$$"
   ]
  },
  {
   "cell_type": "code",
   "execution_count": 6,
   "id": "a6dd3726",
   "metadata": {},
   "outputs": [
    {
     "data": {
      "text/plain": [
       "resolve_diagonal"
      ]
     },
     "execution_count": 6,
     "metadata": {},
     "output_type": "execute_result"
    }
   ],
   "source": [
    "\"\"\"\n",
    "    resolve_diagonal(A,b)\n",
    "    \n",
    "Retorna a matriz coluna x que é o resultado do sistema linear diagonal Ax=b.\n",
    "A é uma matriz nxn e b nx1.\n",
    "\"\"\"\n",
    "function resolve_diagonal(A, b)\n",
    "    # Computa n, que será o número de linhas da matriz x\n",
    "    n = length(b)\n",
    "    x = zeros(n)\n",
    "    # Computa o vetor x\n",
    "    for i=1:n\n",
    "        x[i] = b[i] / A[i,i]\n",
    "    end\n",
    "    return x\n",
    "end"
   ]
  },
  {
   "cell_type": "markdown",
   "id": "7f6e7e50",
   "metadata": {},
   "source": [
    "#### Testes"
   ]
  },
  {
   "cell_type": "markdown",
   "id": "6dafdaef",
   "metadata": {},
   "source": [
    "As matrizes para os testes são geradas randomicamente. A matriz identidade $I$ concedida pela biblioteca *LinearAlgebra* foi usada para gerar as matrizes diagonais."
   ]
  },
  {
   "cell_type": "code",
   "execution_count": 8,
   "id": "0fe7372c",
   "metadata": {},
   "outputs": [
    {
     "data": {
      "text/plain": [
       "2-element Vector{Float64}:\n",
       " 0.6958678176188422\n",
       " 1.0964548754524037"
      ]
     },
     "execution_count": 8,
     "metadata": {},
     "output_type": "execute_result"
    }
   ],
   "source": [
    "# n é o número de linhas e colunas da matriz A_i e o número de linhas da matriz b_i\n",
    "n = 5\n",
    "A1 = randn()*Matrix{Float64}(I,n,n)\n",
    "b1 = randn(n)\n",
    "\n",
    "n = 6\n",
    "A2 = randn()*Matrix{Float64}(I,n,n)\n",
    "b2 = randn(n)\n",
    "\n",
    "n = 2\n",
    "A3 = randn()*Matrix{Float64}(I,n,n)\n",
    "b3 = randn(n)"
   ]
  },
  {
   "cell_type": "code",
   "execution_count": 9,
   "id": "c50629c5",
   "metadata": {},
   "outputs": [
    {
     "data": {
      "text/plain": [
       "\u001b[32m\u001b[1mTest Passed\u001b[22m\u001b[39m"
      ]
     },
     "execution_count": 9,
     "metadata": {},
     "output_type": "execute_result"
    }
   ],
   "source": [
    "x1 = resolve_diagonal(A1,b1)\n",
    "@test A1*x1 ≈ b1 "
   ]
  },
  {
   "cell_type": "code",
   "execution_count": 10,
   "id": "ca08d909",
   "metadata": {},
   "outputs": [
    {
     "data": {
      "text/plain": [
       "\u001b[32m\u001b[1mTest Passed\u001b[22m\u001b[39m"
      ]
     },
     "execution_count": 10,
     "metadata": {},
     "output_type": "execute_result"
    }
   ],
   "source": [
    "x2 = resolve_diagonal(A2,b2)\n",
    "@test A2*x2 ≈ b2 "
   ]
  },
  {
   "cell_type": "code",
   "execution_count": 12,
   "id": "9f77d718",
   "metadata": {},
   "outputs": [
    {
     "data": {
      "text/plain": [
       "\u001b[32m\u001b[1mTest Passed\u001b[22m\u001b[39m"
      ]
     },
     "execution_count": 12,
     "metadata": {},
     "output_type": "execute_result"
    }
   ],
   "source": [
    "x3 = resolve_diagonal(A3,b3)\n",
    "@test A3*x3 ≈ b3 "
   ]
  },
  {
   "cell_type": "markdown",
   "id": "ed381f35",
   "metadata": {},
   "source": [
    "### RESOLVE_TRIANGULAR_SUPERIOR"
   ]
  },
  {
   "cell_type": "markdown",
   "id": "d3215306",
   "metadata": {},
   "source": [
    "Como visto nos vídeos do Abel, a fórmula para cada $x_i$ é dado por \n",
    "$$\n",
    "x_i = \\frac{b_i-\\sum_{j=i+1}^{n} a_{ij}x_j}{a_{ii}}\n",
    "$$\n",
    "onde $a_{ij}$ são os elementos da matriz $A$."
   ]
  },
  {
   "cell_type": "code",
   "execution_count": 26,
   "id": "b5410dc5",
   "metadata": {},
   "outputs": [
    {
     "data": {
      "text/plain": [
       "resolve_triangular_superior"
      ]
     },
     "execution_count": 26,
     "metadata": {},
     "output_type": "execute_result"
    }
   ],
   "source": [
    "\"\"\"\n",
    "    resolve_triangular_superior(A,b)\n",
    "    \n",
    "Retorna a matriz coluna x que é o resultado do sistema linear Ax=b, onde\n",
    "A é uma matriz nxn triangular superior e b possui tamanho nx1.\n",
    "\"\"\"\n",
    "function resolve_triangular_superior(A, b)\n",
    "    # Computa n, que será o número de linhas da matriz x\n",
    "    n = length(b)\n",
    "    x = zeros(n)\n",
    "    #= Para cada linha i de A e b, começando na última linha e terminando na primeira,\n",
    "    computamos cada variável nas colunas por substituição direta=# \n",
    "    for i = n:-1:1\n",
    "        x[i] = b[i]\n",
    "        for j = i+1:n\n",
    "            x[i] = x[i] - (A[i,j]*x[j])\n",
    "        end\n",
    "        x[i] = x[i]/A[i,i]\n",
    "    end\n",
    "    return x\n",
    "end"
   ]
  },
  {
   "cell_type": "markdown",
   "id": "7ab435c1",
   "metadata": {},
   "source": [
    "#### Testes"
   ]
  },
  {
   "cell_type": "markdown",
   "id": "aadb2b58",
   "metadata": {},
   "source": [
    "Como o $det(A) \\neq 0$, sendo A uma matriz triangular superior ou inferior, então o sistema é determinado, visto que o determinante de uma matriz triangular superior ou inferior é o produto de sua diagonal principal. Sendo assim, utilizamos a função [UpperTriangular](https://docs.julialang.org/en/v1/stdlib/LinearAlgebra/#LinearAlgebra.UpperTriangular) para gerar as matrizes $A_i$. "
   ]
  },
  {
   "cell_type": "code",
   "execution_count": 59,
   "id": "f1056bba",
   "metadata": {},
   "outputs": [
    {
     "data": {
      "text/plain": [
       "2-element Vector{Float64}:\n",
       "  1.3822534864866032\n",
       " -0.9166586582046224"
      ]
     },
     "execution_count": 59,
     "metadata": {},
     "output_type": "execute_result"
    }
   ],
   "source": [
    "n = 5\n",
    "A1 = randn(n,n)\n",
    "A1 = UpperTriangular(A1)\n",
    "b1 = randn(n)\n",
    "\n",
    "n = 6\n",
    "A2 = randn(n,n)\n",
    "A2 = UpperTriangular(A2)\n",
    "b2 = randn(n)\n",
    "\n",
    "n = 2\n",
    "A3 = randn(n,n)\n",
    "A3 = UpperTriangular(A3)\n",
    "b3 = randn(n)"
   ]
  },
  {
   "cell_type": "code",
   "execution_count": 63,
   "id": "f16f20a5",
   "metadata": {},
   "outputs": [
    {
     "data": {
      "text/plain": [
       "\u001b[32m\u001b[1mTest Passed\u001b[22m\u001b[39m"
      ]
     },
     "execution_count": 63,
     "metadata": {},
     "output_type": "execute_result"
    }
   ],
   "source": [
    "x1 = resolve_triangular_superior(A1,b1)\n",
    "@test A1*x1 ≈ b1 "
   ]
  },
  {
   "cell_type": "code",
   "execution_count": 64,
   "id": "3cecc8dc",
   "metadata": {},
   "outputs": [
    {
     "data": {
      "text/plain": [
       "\u001b[32m\u001b[1mTest Passed\u001b[22m\u001b[39m"
      ]
     },
     "execution_count": 64,
     "metadata": {},
     "output_type": "execute_result"
    }
   ],
   "source": [
    "x2 = resolve_triangular_superior(A2,b2)\n",
    "@test A2*x2 ≈ b2 "
   ]
  },
  {
   "cell_type": "code",
   "execution_count": 65,
   "id": "2e6f6f89",
   "metadata": {},
   "outputs": [
    {
     "data": {
      "text/plain": [
       "\u001b[32m\u001b[1mTest Passed\u001b[22m\u001b[39m"
      ]
     },
     "execution_count": 65,
     "metadata": {},
     "output_type": "execute_result"
    }
   ],
   "source": [
    "x3 = resolve_triangular_superior(A3,b3)\n",
    "@test A3*x3 ≈ b3 "
   ]
  },
  {
   "cell_type": "markdown",
   "id": "b10a7f1a",
   "metadata": {},
   "source": [
    "### RESOLVE_TRIANGULAR_INFERIOR"
   ]
  },
  {
   "cell_type": "code",
   "execution_count": 27,
   "id": "52325d5b",
   "metadata": {},
   "outputs": [
    {
     "data": {
      "text/plain": [
       "resolve_triangular_inferior (generic function with 1 method)"
      ]
     },
     "execution_count": 27,
     "metadata": {},
     "output_type": "execute_result"
    }
   ],
   "source": [
    "function resolve_triangular_inferior(A, b)\n",
    "    n = length(b)\n",
    "    x = zeros(n)\n",
    "    for i = 1:n\n",
    "        # Vetor com os resultados\n",
    "        x[i] = b[i]\n",
    "        for j = 1:(i - 1)\n",
    "            x[i] = x[i] - (A[i,j]*x[j])\n",
    "        end\n",
    "        x[i] = x[i]/A[i,i]\n",
    "    end\n",
    "    return x\n",
    "end"
   ]
  },
  {
   "cell_type": "code",
   "execution_count": 28,
   "id": "cce7044d",
   "metadata": {},
   "outputs": [
    {
     "data": {
      "text/plain": [
       "decomposicao_LU (generic function with 1 method)"
      ]
     },
     "execution_count": 28,
     "metadata": {},
     "output_type": "execute_result"
    }
   ],
   "source": [
    "function decomposicao_LU(A)\n",
    "    # Pega o número de linhas de A\n",
    "    n, = size(A)\n",
    "    # Gera a matriz que será L \n",
    "    L = Matrix{Float64}(I,n,n)\n",
    "    # Fazemos uma cópia de A. Será nossa matriz triangular superior\n",
    "    U = copy(A)\n",
    "    # Constante que multiplica as linhas\n",
    "    v = 0\n",
    "    for i = 1:(n-1)\n",
    "        #j = i+1\n",
    "        #linha = argmax(abs.A[j:n,j])\n",
    "        #U[[j,linha],:] = [[linha,j],:]\n",
    "        pivo = U[i,i]\n",
    "        # Para cada linha abaixo da linha do pivo, realizamos o escalonamento\n",
    "        for j = (i+1):n \n",
    "            # Constante que multiplicará toda uma linha\n",
    "            v = U[j,i]/pivo\n",
    "            # Multiplica todos elementos da linha correspondente para balancear o sistema\n",
    "            for k = 1:n  \n",
    "                U[j,k] = U[j,k] - U[i,k]*v\n",
    "            end\n",
    "            # Zeramos os elementos manualmente devido ao erro de precisão da máquina\n",
    "            U[j,i] = 0 \n",
    "            # Gera a matriz triangular inferior elemento por elemento\n",
    "            L[j,i] = v\n",
    "        end\n",
    "    end\n",
    "    return L,U\n",
    "end         "
   ]
  },
  {
   "cell_type": "code",
   "execution_count": 29,
   "id": "41c0334b",
   "metadata": {},
   "outputs": [
    {
     "data": {
      "text/plain": [
       "5×5 Matrix{Float64}:\n",
       "  1.0         0.0        0.0       0.0       0.0\n",
       " -0.454159    1.0        0.0       0.0       0.0\n",
       " -0.371855    0.38642    1.0       0.0       0.0\n",
       "  0.0473934  -0.605284  -0.821462  1.0       0.0\n",
       " -0.592716   -0.224049   1.2762    0.560414  1.0"
      ]
     },
     "execution_count": 29,
     "metadata": {},
     "output_type": "execute_result"
    }
   ],
   "source": [
    "A =37*randn(5,5)\n",
    "L,U = decomposicao_LU(A)\n",
    "L*U ≈ A \n",
    "#U\n",
    "L"
   ]
  },
  {
   "cell_type": "code",
   "execution_count": 30,
   "id": "f316d35e",
   "metadata": {},
   "outputs": [
    {
     "name": "stdout",
     "output_type": "stream",
     "text": [
      "[19.854281793592072, -29.004165448492728, 15.617598835025177, -7.112150631822241, -2.105591565816797]\n",
      "[19.854281793592072 -17.79417334016122 25.448920800277424 40.23602409232503 -23.24155539242017; -29.004165448492728 -45.10718112436474 9.30145766063689 43.28304227534812 14.886010439336818; 15.617598835025177 8.680475604395818 18.62876948399793 -2.1257932735222065 -40.62958957414308; -7.112150631822241 41.45350745668476 -50.490287907772185 65.98136157428047 52.941718104067; -2.105591565816797 -48.63404695474461 1.106432573470475 -8.058803320976862 33.56061462809958]\n"
     ]
    }
   ],
   "source": [
    "A =37*randn(5,5)\n",
    "\n",
    "println(A[:,1])\n",
    "println(A)"
   ]
  },
  {
   "cell_type": "code",
   "execution_count": 31,
   "id": "d1fc43e6",
   "metadata": {},
   "outputs": [
    {
     "data": {
      "text/plain": [
       "resolve (generic function with 1 method)"
      ]
     },
     "execution_count": 31,
     "metadata": {},
     "output_type": "execute_result"
    }
   ],
   "source": [
    "function resolve(A,b)\n",
    "    L,U = decomposicao_LU(A)\n",
    "    Y = resolve_triangular_inferior(L,b)\n",
    "    return resolve_triangular_superior(U,Y)\n",
    "end"
   ]
  },
  {
   "cell_type": "code",
   "execution_count": 32,
   "id": "defd1b49",
   "metadata": {},
   "outputs": [
    {
     "data": {
      "text/plain": [
       "\u001b[32m\u001b[1mTest Passed\u001b[22m\u001b[39m"
      ]
     },
     "execution_count": 32,
     "metadata": {},
     "output_type": "execute_result"
    }
   ],
   "source": [
    "A = 37*randn(n,n)\n",
    "b = A * ones(n)\n",
    "@test resolve(A,b) ≈ A\\b"
   ]
  },
  {
   "cell_type": "code",
   "execution_count": 33,
   "id": "db312e09",
   "metadata": {},
   "outputs": [
    {
     "data": {
      "text/plain": [
       "5×5 Matrix{Float64}:\n",
       "  0.980845  -1.51729   -0.582003   0.17536  -0.920429\n",
       "  1.4635    -0.335334   0.119629   1.02202   1.20501\n",
       "  1.99921    0.139928  -2.11274    1.60903  -0.489038\n",
       " -2.60808   -0.30748    0.214922  -1.99028   0.469373\n",
       "  1.33919   -0.672299  -1.48995    0.19624   0.605214"
      ]
     },
     "execution_count": 33,
     "metadata": {},
     "output_type": "execute_result"
    }
   ],
   "source": [
    "A = randn(n,n)"
   ]
  },
  {
   "cell_type": "code",
   "execution_count": 34,
   "id": "d3ca6ff5",
   "metadata": {},
   "outputs": [
    {
     "data": {
      "text/plain": [
       "5×5 Matrix{Float64}:\n",
       " -0.920429  -1.51729   -0.582003   0.17536  -0.920429\n",
       "  1.20501   -0.335334   0.119629   1.02202   1.20501\n",
       " -0.489038   0.139928  -2.11274    1.60903  -0.489038\n",
       "  0.469373  -0.30748    0.214922  -1.99028   0.469373\n",
       "  0.605214  -0.672299  -1.48995    0.19624   0.605214"
      ]
     },
     "execution_count": 34,
     "metadata": {},
     "output_type": "execute_result"
    }
   ],
   "source": [
    "A[:,1] = A[:,5]\n",
    "A"
   ]
  },
  {
   "cell_type": "code",
   "execution_count": 35,
   "id": "7168f914",
   "metadata": {},
   "outputs": [
    {
     "data": {
      "text/plain": [
       "inversa (generic function with 1 method)"
      ]
     },
     "execution_count": 35,
     "metadata": {},
     "output_type": "execute_result"
    }
   ],
   "source": [
    "function inversa(A)\n",
    "    n, = size(A)\n",
    "    A_inv = zeros(n, n)\n",
    "    Ident = Matrix{Float64}(I,n,n)\n",
    "    for i=1:n\n",
    "        A_inv[:,i] = resolve(A,Ident[:,i])\n",
    "    end\n",
    "    return A_inv\n",
    "end               "
   ]
  },
  {
   "cell_type": "code",
   "execution_count": 36,
   "id": "11d22a91",
   "metadata": {},
   "outputs": [
    {
     "data": {
      "text/plain": [
       "\u001b[32m\u001b[1mTest Passed\u001b[22m\u001b[39m"
      ]
     },
     "execution_count": 36,
     "metadata": {},
     "output_type": "execute_result"
    }
   ],
   "source": [
    "A = randn(n,n)\n",
    "@test inversa(A) ≈ inv(A)"
   ]
  },
  {
   "cell_type": "markdown",
   "id": "14019b03",
   "metadata": {},
   "source": [
    "## 3"
   ]
  },
  {
   "cell_type": "code",
   "execution_count": null,
   "id": "0e84a9fd",
   "metadata": {},
   "outputs": [],
   "source": [
    "function discretiza(n)\n",
    "    A = zeros(n,n)\n",
    "    A[:,1] .= 25\n",
    "    A[1,:] .= 20 \n",
    "    A[:,n] .= 20 \n",
    "    A[n,:] .= 30\n",
    "    for i=1:(n-1)\n",
    "        for j=1:(n-1)\n",
    "            \n",
    "        end\n",
    "    end\n",
    "end"
   ]
  },
  {
   "cell_type": "code",
   "execution_count": null,
   "id": "c5db7236",
   "metadata": {},
   "outputs": [],
   "source": [
    "function discretiza(n)\n",
    "    A = zeros(n)\n",
    "    b = zeros(n)\n",
    "    for i=1:n^2\n",
    "        A[i,i] = 1\n",
    "        if i <= n \n",
    "            b[i] += 20/4\n",
    "        end\n",
    "        if (i-1)%n == 0\n",
    "            b[i] += 25/4\n",
    "        end\n",
    "        if i%n == 0\n",
    "            b[i] += 20/4\n",
    "        end\n",
    "        if i >= n*(n-1) + 1\n",
    "            b[i] += 30/4\n",
    "        end\n",
    "    end\n",
    "end"
   ]
  },
  {
   "cell_type": "code",
   "execution_count": 84,
   "id": "93f0bf6b",
   "metadata": {},
   "outputs": [
    {
     "data": {
      "text/plain": [
       "0"
      ]
     },
     "execution_count": 84,
     "metadata": {},
     "output_type": "execute_result"
    }
   ],
   "source": []
  },
  {
   "cell_type": "code",
   "execution_count": 80,
   "id": "1c58e686",
   "metadata": {},
   "outputs": [
    {
     "data": {
      "text/plain": [
       "7×7 Matrix{Float64}:\n",
       " 20.0  20.0  20.0  20.0  20.0  20.0  20.0\n",
       " 25.0   0.0   0.0   0.0   0.0   0.0  20.0\n",
       " 25.0   0.0   0.0   0.0   0.0   0.0  20.0\n",
       " 25.0   0.0   0.0   0.0   0.0   0.0  20.0\n",
       " 25.0   0.0   0.0   0.0   0.0   0.0  20.0\n",
       " 25.0   0.0   0.0   0.0   0.0   0.0  20.0\n",
       " 30.0  30.0  30.0  30.0  30.0  30.0  30.0"
      ]
     },
     "execution_count": 80,
     "metadata": {},
     "output_type": "execute_result"
    }
   ],
   "source": [
    "n = 7\n",
    " A = zeros(n,n)\n",
    "A[:,1] .= 25\n",
    "A[1,:] .= 20 \n",
    "A[:,n] .= 20 \n",
    "A[n,:] .= 30\n",
    "A"
   ]
  },
  {
   "cell_type": "markdown",
   "id": "cd3487db",
   "metadata": {},
   "source": [
    "## 4"
   ]
  },
  {
   "cell_type": "code",
   "execution_count": 76,
   "id": "61b3c8c5",
   "metadata": {},
   "outputs": [
    {
     "data": {
      "text/plain": [
       "8-element Vector{Float64}:\n",
       "   7000.0\n",
       "   3500.0\n",
       "   9000.0\n",
       "  37000.0\n",
       "  12000.0\n",
       "  40500.0\n",
       "  15000.0\n",
       " -25000.0"
      ]
     },
     "execution_count": 76,
     "metadata": {},
     "output_type": "execute_result"
    }
   ],
   "source": [
    "A = [\n",
    "    1 0 0 0 0 0 0 0;\n",
    "    0 1 0 0 0 0 0 0;\n",
    "    0 0 1 0 0 0 0 0;\n",
    "    0 -1 0 -1 0 1 0 0;\n",
    "    0 0 0 0 -1 0 1 0;\n",
    "    0 0 0 0 0 1 -1 1;\n",
    "    -1 0 0 1 0 0 0 0;\n",
    "    0 0 -1 0 1 0 0 0;\n",
    "   ]\n",
    "\n",
    "b = [\n",
    "    2000+5000;\n",
    "    1500+2000;\n",
    "    8000+1000;\n",
    "    0;\n",
    "    3000;\n",
    "    500; \n",
    "    30000;\n",
    "    3000;  \n",
    "]\n",
    "\n",
    "resolve(A,b)"
   ]
  },
  {
   "cell_type": "code",
   "execution_count": 75,
   "id": "bd533f4a",
   "metadata": {},
   "outputs": [
    {
     "data": {
      "text/plain": [
       "8-element Vector{Float64}:\n",
       "   7000.0\n",
       "   3500.0\n",
       "   9000.0\n",
       "  37000.0\n",
       "  12000.0\n",
       "  40500.0\n",
       "  15000.0\n",
       " -25000.0"
      ]
     },
     "execution_count": 75,
     "metadata": {},
     "output_type": "execute_result"
    }
   ],
   "source": [
    "A1 = hcat(A,[0; 0; 0; 0; 0; 0; -1; 1])\n",
    "resolve(A1,b)"
   ]
  },
  {
   "cell_type": "markdown",
   "id": "005b12ae",
   "metadata": {},
   "source": [
    "Estamos tratando apenas matrizes $A_{nxn}$, mas $A1 = A_{8x9}$"
   ]
  },
  {
   "cell_type": "code",
   "execution_count": null,
   "id": "3f1c999f",
   "metadata": {},
   "outputs": [],
   "source": []
  }
 ],
 "metadata": {
  "kernelspec": {
   "display_name": "Julia 1.6.4",
   "language": "julia",
   "name": "julia-1.6"
  },
  "language_info": {
   "file_extension": ".jl",
   "mimetype": "application/julia",
   "name": "julia",
   "version": "1.6.4"
  }
 },
 "nbformat": 4,
 "nbformat_minor": 5
}
