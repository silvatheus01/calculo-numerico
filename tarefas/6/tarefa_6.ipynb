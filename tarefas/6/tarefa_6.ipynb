{
 "cells": [
  {
   "cell_type": "markdown",
   "id": "74d1a21f",
   "metadata": {},
   "source": [
    "# Nome: Matheus da Silva Oliveira\n",
    "# DRE: 118178020"
   ]
  },
  {
   "cell_type": "markdown",
   "id": "cbce6382",
   "metadata": {},
   "source": [
    "## 1"
   ]
  },
  {
   "cell_type": "markdown",
   "id": "394a52a1",
   "metadata": {},
   "source": [
    "Será usada a [biblioteca Test](https://docs.julialang.org/en/v1/stdlib/Test/) para facilitar nos units tests."
   ]
  },
  {
   "cell_type": "code",
   "execution_count": 5,
   "id": "961cd4bb",
   "metadata": {},
   "outputs": [],
   "source": [
    "using LinearAlgebra\n",
    "using Test"
   ]
  },
  {
   "cell_type": "markdown",
   "id": "93c32ffe",
   "metadata": {},
   "source": [
    "### RESOLVE_DIAGONAL"
   ]
  },
  {
   "cell_type": "markdown",
   "id": "7e597cfa",
   "metadata": {},
   "source": [
    "Como sabemos, quando a matriz $A$ é diagonal, o sistema $Ax=b$ é determinado, pois todos os $x_i$ são determinados por apenas uma divisão, desde que a diagonal de $A$ seja não nula. Caso fosse, deveriámos olhar para o vetor $b$, mas não precisamos nos preocupar com este caso agora. Sendo assim, determinamos todos os elementos do vetor $x$ através da fórmula\n",
    "$$\n",
    "x_i = \\frac{b_i}{a_{ii}}\n",
    "$$"
   ]
  },
  {
   "cell_type": "code",
   "execution_count": 6,
   "id": "a6dd3726",
   "metadata": {},
   "outputs": [
    {
     "data": {
      "text/plain": [
       "resolve_diagonal"
      ]
     },
     "execution_count": 6,
     "metadata": {},
     "output_type": "execute_result"
    }
   ],
   "source": [
    "\"\"\"\n",
    "    resolve_diagonal(A,b)\n",
    "    \n",
    "Retorna a matriz coluna x que é o resultado do sistema linear diagonal Ax=b.\n",
    "A é uma matriz nxn e b nx1.\n",
    "\"\"\"\n",
    "function resolve_diagonal(A, b)\n",
    "    # Computa n, que será o número de linhas da matriz x\n",
    "    n = length(b)\n",
    "    x = zeros(n)\n",
    "    # Computa o vetor x\n",
    "    for i=1:n\n",
    "        x[i] = b[i] / A[i,i]\n",
    "    end\n",
    "    return x\n",
    "end"
   ]
  },
  {
   "cell_type": "markdown",
   "id": "7f6e7e50",
   "metadata": {},
   "source": [
    "#### Testes"
   ]
  },
  {
   "cell_type": "markdown",
   "id": "f9f0be22",
   "metadata": {},
   "source": [
    "As matrizes para os testes são geradas randomicamente. A matriz identidade $I$ concedida pela biblioteca *LinearAlgebra* foi usada para gerar as matrizes diagonais."
   ]
  },
  {
   "cell_type": "code",
   "execution_count": 7,
   "id": "0fe7372c",
   "metadata": {},
   "outputs": [
    {
     "data": {
      "text/plain": [
       "2-element Vector{Float64}:\n",
       "  0.06121262434927656\n",
       " -0.47187871741481063"
      ]
     },
     "execution_count": 7,
     "metadata": {},
     "output_type": "execute_result"
    }
   ],
   "source": [
    "# n é o número de linhas e colunas da matriz A_i e o número de linhas da matriz b_i\n",
    "n = 5\n",
    "A1 = randn()*Matrix{Float64}(I,n,n)\n",
    "b1 = randn(n)\n",
    "\n",
    "n = 6\n",
    "A2 = randn()*Matrix{Float64}(I,n,n)\n",
    "b2 = randn(n)\n",
    "\n",
    "n = 2\n",
    "A3 = randn()*Matrix{Float64}(I,n,n)\n",
    "b3 = randn(n)"
   ]
  },
  {
   "cell_type": "code",
   "execution_count": 8,
   "id": "c50629c5",
   "metadata": {},
   "outputs": [
    {
     "data": {
      "text/plain": [
       "\u001b[32m\u001b[1mTest Passed\u001b[22m\u001b[39m"
      ]
     },
     "execution_count": 8,
     "metadata": {},
     "output_type": "execute_result"
    }
   ],
   "source": [
    "x1 = resolve_diagonal(A1,b1)\n",
    "@test A1*x1 ≈ b1 "
   ]
  },
  {
   "cell_type": "code",
   "execution_count": 9,
   "id": "ca08d909",
   "metadata": {},
   "outputs": [
    {
     "data": {
      "text/plain": [
       "\u001b[32m\u001b[1mTest Passed\u001b[22m\u001b[39m"
      ]
     },
     "execution_count": 9,
     "metadata": {},
     "output_type": "execute_result"
    }
   ],
   "source": [
    "x2 = resolve_diagonal(A2,b2)\n",
    "@test A2*x2 ≈ b2 "
   ]
  },
  {
   "cell_type": "code",
   "execution_count": 10,
   "id": "9f77d718",
   "metadata": {},
   "outputs": [
    {
     "data": {
      "text/plain": [
       "\u001b[32m\u001b[1mTest Passed\u001b[22m\u001b[39m"
      ]
     },
     "execution_count": 10,
     "metadata": {},
     "output_type": "execute_result"
    }
   ],
   "source": [
    "x3 = resolve_diagonal(A3,b3)\n",
    "@test A3*x3 ≈ b3 "
   ]
  },
  {
   "cell_type": "markdown",
   "id": "ed381f35",
   "metadata": {},
   "source": [
    "### RESOLVE_TRIANGULAR_SUPERIOR"
   ]
  },
  {
   "cell_type": "markdown",
   "id": "076db6b1",
   "metadata": {},
   "source": [
    "Como visto nos vídeos do Abel, a fórmula para cada $x_i$ é dado por \n",
    "$$\n",
    "x_i = \\frac{b_i-\\sum_{j=i+1}^{n} a_{ij}x_j}{a_{ii}}\n",
    "$$\n",
    "onde $a_{ij}$ são os elementos da matriz $A$."
   ]
  },
  {
   "cell_type": "code",
   "execution_count": 11,
   "id": "b5410dc5",
   "metadata": {},
   "outputs": [
    {
     "data": {
      "text/plain": [
       "resolve_triangular_superior"
      ]
     },
     "execution_count": 11,
     "metadata": {},
     "output_type": "execute_result"
    }
   ],
   "source": [
    "\"\"\"\n",
    "    resolve_triangular_superior(A,b)\n",
    "    \n",
    "Retorna a matriz coluna x que é o resultado do sistema linear Ax=b, onde\n",
    "A é uma matriz nxn triangular superior e b possui tamanho nx1.\n",
    "\"\"\"\n",
    "function resolve_triangular_superior(A, b)\n",
    "    # Computa n, que será o número de linhas da matriz x\n",
    "    n = length(b)\n",
    "    x = zeros(n)\n",
    "    #= Para cada linha i de A e b, começando na última linha e terminando na primeira,\n",
    "    computamos cada variável nas colunas por substituição direta=# \n",
    "    for i = n:-1:1\n",
    "        # x_i = b_i no começo de cada iteração\n",
    "        x[i] = b[i]\n",
    "        for j = i+1:n\n",
    "            # Subtraímos de b_i o somatório da fórmula\n",
    "            x[i] = x[i] - (A[i,j]*x[j])\n",
    "        end\n",
    "        # Dividimos por a_ii \n",
    "        x[i] = x[i]/A[i,i]\n",
    "    end\n",
    "     # Retorna a matriz coluna resultado\n",
    "    return x\n",
    "end"
   ]
  },
  {
   "cell_type": "markdown",
   "id": "7ab435c1",
   "metadata": {},
   "source": [
    "#### Testes"
   ]
  },
  {
   "cell_type": "markdown",
   "id": "d974b837",
   "metadata": {},
   "source": [
    "Como o $det(A) \\neq 0$, sendo A uma matriz triangular superior ou inferior, então o sistema é determinado, visto que o determinante de uma matriz triangular superior ou inferior é o produto de sua diagonal principal. Sendo assim, utilizamos a função [UpperTriangular](https://docs.julialang.org/en/v1/stdlib/LinearAlgebra/#LinearAlgebra.UpperTriangular) para gerar as matrizes $A_i$. "
   ]
  },
  {
   "cell_type": "code",
   "execution_count": 12,
   "id": "f1056bba",
   "metadata": {},
   "outputs": [
    {
     "data": {
      "text/plain": [
       "2-element Vector{Float64}:\n",
       " -0.8073706722298588\n",
       "  0.5910534459988577"
      ]
     },
     "execution_count": 12,
     "metadata": {},
     "output_type": "execute_result"
    }
   ],
   "source": [
    "n = 5\n",
    "A1 = randn(n,n)\n",
    "A1 = UpperTriangular(A1)\n",
    "b1 = randn(n)\n",
    "\n",
    "n = 6\n",
    "A2 = randn(n,n)\n",
    "A2 = UpperTriangular(A2)\n",
    "b2 = randn(n)\n",
    "\n",
    "n = 2\n",
    "A3 = randn(n,n)\n",
    "A3 = UpperTriangular(A3)\n",
    "b3 = randn(n)"
   ]
  },
  {
   "cell_type": "code",
   "execution_count": 13,
   "id": "119816a2",
   "metadata": {},
   "outputs": [
    {
     "data": {
      "text/plain": [
       "\u001b[32m\u001b[1mTest Passed\u001b[22m\u001b[39m"
      ]
     },
     "execution_count": 13,
     "metadata": {},
     "output_type": "execute_result"
    }
   ],
   "source": [
    "x1 = resolve_triangular_superior(A1,b1)\n",
    "@test A1*x1 ≈ b1 "
   ]
  },
  {
   "cell_type": "code",
   "execution_count": 14,
   "id": "c7c24bd8",
   "metadata": {},
   "outputs": [
    {
     "data": {
      "text/plain": [
       "\u001b[32m\u001b[1mTest Passed\u001b[22m\u001b[39m"
      ]
     },
     "execution_count": 14,
     "metadata": {},
     "output_type": "execute_result"
    }
   ],
   "source": [
    "x2 = resolve_triangular_superior(A2,b2)\n",
    "@test A2*x2 ≈ b2 "
   ]
  },
  {
   "cell_type": "code",
   "execution_count": 15,
   "id": "57b2d50d",
   "metadata": {},
   "outputs": [
    {
     "data": {
      "text/plain": [
       "\u001b[32m\u001b[1mTest Passed\u001b[22m\u001b[39m"
      ]
     },
     "execution_count": 15,
     "metadata": {},
     "output_type": "execute_result"
    }
   ],
   "source": [
    "x3 = resolve_triangular_superior(A3,b3)\n",
    "@test A3*x3 ≈ b3 "
   ]
  },
  {
   "cell_type": "markdown",
   "id": "6d836fb1",
   "metadata": {},
   "source": [
    "### RESOLVE_TRIANGULAR_INFERIOR"
   ]
  },
  {
   "cell_type": "markdown",
   "id": "db1260b4",
   "metadata": {},
   "source": [
    "Como visto nos vídeos do Abel, a fórmula para cada $x_i$ é dado por \n",
    "$$\n",
    "x_i = \\frac{b_i-\\sum_{j=1}^{i-1} a_{ij}x_j}{a_{ii}}\n",
    "$$"
   ]
  },
  {
   "cell_type": "code",
   "execution_count": 16,
   "id": "52325d5b",
   "metadata": {},
   "outputs": [
    {
     "data": {
      "text/plain": [
       "resolve_triangular_inferior"
      ]
     },
     "execution_count": 16,
     "metadata": {},
     "output_type": "execute_result"
    }
   ],
   "source": [
    "\"\"\"\n",
    "    resolve_triangular_inferior(A,b)\n",
    "    \n",
    "Retorna a matriz coluna x que é o resultado do sistema linear Ax=b, onde\n",
    "A é uma matriz nxn triangular inferior e b possui tamanho nx1.\n",
    "\"\"\"\n",
    "function resolve_triangular_inferior(A, b)\n",
    "    # Computa n, que será o número de linhas da matriz x\n",
    "    n = length(b)\n",
    "    x = zeros(n)\n",
    "    #= Para cada linha i de A e b, começando na primeira linha e terminando na última,\n",
    "    computamos cada variável nas colunas por substituição direta=# \n",
    "    for i = 1:n\n",
    "        # x_i = b_i no começo de cada iteração\n",
    "        x[i] = b[i]\n",
    "        for j = 1:(i - 1)\n",
    "            # Subtraímos de b_i o somatório da fórmula\n",
    "            x[i] = x[i] - (A[i,j]*x[j])\n",
    "        end\n",
    "        # Dividimos por a_ii \n",
    "        x[i] = x[i]/A[i,i]\n",
    "    end\n",
    "    # Retorna a matriz coluna resultado\n",
    "    return x\n",
    "end"
   ]
  },
  {
   "cell_type": "markdown",
   "id": "a4a50524",
   "metadata": {},
   "source": [
    "#### Testes"
   ]
  },
  {
   "cell_type": "markdown",
   "id": "a53319e6",
   "metadata": {},
   "source": [
    "O resultado visto na parte da matriz triangular superior pode ser utilizado aqui para geração dos testes. Dessa forma, seguimos o mesmo algoritmo, mas agora utilizamos a função [LowerTriangular](https://docs.julialang.org/en/v1/stdlib/LinearAlgebra/#LinearAlgebra.LowerTriangular) para gerar matrizes triangulares inferiores."
   ]
  },
  {
   "cell_type": "code",
   "execution_count": 17,
   "id": "9e6fb143",
   "metadata": {},
   "outputs": [
    {
     "data": {
      "text/plain": [
       "2-element Vector{Float64}:\n",
       " 2.788281170674329\n",
       " 0.5069090474634781"
      ]
     },
     "execution_count": 17,
     "metadata": {},
     "output_type": "execute_result"
    }
   ],
   "source": [
    "n = 5\n",
    "A1 = randn(n,n)\n",
    "A1 = LowerTriangular(A1)\n",
    "b1 = randn(n)\n",
    "\n",
    "n = 6\n",
    "A2 = randn(n,n)\n",
    "A2 = LowerTriangular(A2)\n",
    "b2 = randn(n)\n",
    "\n",
    "n = 2\n",
    "A3 = randn(n,n)\n",
    "A3 = LowerTriangular(A3)\n",
    "b3 = randn(n)"
   ]
  },
  {
   "cell_type": "code",
   "execution_count": 18,
   "id": "af76f514",
   "metadata": {},
   "outputs": [
    {
     "data": {
      "text/plain": [
       "\u001b[32m\u001b[1mTest Passed\u001b[22m\u001b[39m"
      ]
     },
     "execution_count": 18,
     "metadata": {},
     "output_type": "execute_result"
    }
   ],
   "source": [
    "x1 = resolve_triangular_inferior(A1,b1)\n",
    "@test A1*x1 ≈ b1 "
   ]
  },
  {
   "cell_type": "code",
   "execution_count": 19,
   "id": "e9146044",
   "metadata": {},
   "outputs": [
    {
     "data": {
      "text/plain": [
       "\u001b[32m\u001b[1mTest Passed\u001b[22m\u001b[39m"
      ]
     },
     "execution_count": 19,
     "metadata": {},
     "output_type": "execute_result"
    }
   ],
   "source": [
    "x2 = resolve_triangular_inferior(A2,b2)\n",
    "@test A2*x2 ≈ b2 "
   ]
  },
  {
   "cell_type": "code",
   "execution_count": 20,
   "id": "72519fc6",
   "metadata": {},
   "outputs": [
    {
     "data": {
      "text/plain": [
       "\u001b[32m\u001b[1mTest Passed\u001b[22m\u001b[39m"
      ]
     },
     "execution_count": 20,
     "metadata": {},
     "output_type": "execute_result"
    }
   ],
   "source": [
    "x3 = resolve_triangular_inferior(A3,b3)\n",
    "@test A3*x3 ≈ b3 "
   ]
  },
  {
   "cell_type": "markdown",
   "id": "bc5fdf99",
   "metadata": {},
   "source": [
    "### DECOMPOSICAO_LU"
   ]
  },
  {
   "cell_type": "code",
   "execution_count": 21,
   "id": "cce7044d",
   "metadata": {},
   "outputs": [
    {
     "data": {
      "text/plain": [
       "decomposicao_LU (generic function with 1 method)"
      ]
     },
     "execution_count": 21,
     "metadata": {},
     "output_type": "execute_result"
    }
   ],
   "source": [
    "\"\"\"\n",
    "    decomposicao_LU(A)\n",
    "    \n",
    "Retorna as matrizes L,U nxn que correspondem a igualdade L*U = A.\n",
    "A é uma matriz nxn.\n",
    "\"\"\"\n",
    "function decomposicao_LU(A)\n",
    "    # Pega o número de linhas de A\n",
    "    n, = size(A)\n",
    "    # Gera a matriz que será L \n",
    "    L = Matrix{Float64}(I,n,n)\n",
    "    # Fazemos uma cópia de A para não alterar a entrada. Essa matriz será nossa matriz triangular superior.\n",
    "    U = copy(A)\n",
    "    # Inicializamos a constante que multiplica as linhas\n",
    "    v = 0\n",
    "    # A variável i representa a linha do pivo atual\n",
    "    for i = 1:(n-1)\n",
    "        pivo = U[i,i]\n",
    "        # Para cada linha abaixo da linha do pivo, realizamos o escalonamento\n",
    "        for j = (i+1):n \n",
    "            # Constante que multiplicará toda uma linha\n",
    "            v = U[j,i]/pivo\n",
    "            # Multiplica todos elementos da linha correspondente para balancear o sistema\n",
    "            for k = 1:n  \n",
    "                U[j,k] = U[j,k] - U[i,k]*v\n",
    "            end\n",
    "            # Zeramos os elementos manualmente devido ao erro de precisão da máquina\n",
    "            U[j,i] = 0 \n",
    "            # Gera a matriz triangular inferior elemento por elemento\n",
    "            L[j,i] = v\n",
    "        end\n",
    "    end\n",
    "    # Retorna a tupla (L,U)\n",
    "    return L,U\n",
    "end         "
   ]
  },
  {
   "cell_type": "markdown",
   "id": "58763494",
   "metadata": {},
   "source": [
    "#### Testes"
   ]
  },
  {
   "cell_type": "code",
   "execution_count": 42,
   "id": "8d406fc2",
   "metadata": {},
   "outputs": [
    {
     "data": {
      "text/plain": [
       "3×3 Matrix{Float64}:\n",
       "  8.0  -4.0  -2.0\n",
       " -4.0  10.0  -2.0\n",
       " -2.0  -2.0  10.0"
      ]
     },
     "execution_count": 42,
     "metadata": {},
     "output_type": "execute_result"
    }
   ],
   "source": [
    "A1 = [3.0 2.0 4.0; \n",
    "    1.0 1.0 2.0; \n",
    "    4.0 3.0 -2.0]\n",
    "\n",
    "A2 = [1.0 2.0 3.0; \n",
    "    4.0 -2.0 6.0; \n",
    "    1.0 4.0 5.0]\n",
    "\n",
    "A3 = [8.0 -4.0 -2.0; \n",
    "    -4.0 10.0 -2.0; \n",
    "    -2.0 -2.0 10.0]"
   ]
  },
  {
   "cell_type": "code",
   "execution_count": 43,
   "id": "41c0334b",
   "metadata": {},
   "outputs": [
    {
     "data": {
      "text/plain": [
       "\u001b[32m\u001b[1mTest Passed\u001b[22m\u001b[39m"
      ]
     },
     "execution_count": 43,
     "metadata": {},
     "output_type": "execute_result"
    }
   ],
   "source": [
    "L,U = decomposicao_LU(A1)\n",
    "@test L*U ≈ A1"
   ]
  },
  {
   "cell_type": "code",
   "execution_count": 44,
   "id": "c0f0fdff",
   "metadata": {},
   "outputs": [
    {
     "data": {
      "text/plain": [
       "\u001b[32m\u001b[1mTest Passed\u001b[22m\u001b[39m"
      ]
     },
     "execution_count": 44,
     "metadata": {},
     "output_type": "execute_result"
    }
   ],
   "source": [
    "L,U = decomposicao_LU(A2)\n",
    "@test L*U ≈ A2"
   ]
  },
  {
   "cell_type": "code",
   "execution_count": 45,
   "id": "fde368d4",
   "metadata": {},
   "outputs": [
    {
     "data": {
      "text/plain": [
       "\u001b[32m\u001b[1mTest Passed\u001b[22m\u001b[39m"
      ]
     },
     "execution_count": 45,
     "metadata": {},
     "output_type": "execute_result"
    }
   ],
   "source": [
    "L,U = decomposicao_LU(A3)\n",
    "@test L*U ≈ A3"
   ]
  },
  {
   "cell_type": "markdown",
   "id": "1a66b5cb",
   "metadata": {},
   "source": [
    "### INVERSA"
   ]
  },
  {
   "cell_type": "markdown",
   "id": "2196bf8f",
   "metadata": {},
   "source": [
    "A função *resolve* soluciona o sistema $Ax=b$ através de decomposição LU, onde A é uma matriz $nxn$. Essa função vai ajudar a resolver o problema da matriz inversa que foi dito. Isso pode ser feito através dos passos\n",
    "\\begin{align*}\n",
    "Ax&=b\\\\\n",
    "LUx&=b\\\\\n",
    "LY&=b &\\text{onde } Y &= Ux\\\\\n",
    "UX &= Y\n",
    "\\end{align*}\n",
    "Dessa forma $X$ é o vetor coluna que procuramos."
   ]
  },
  {
   "cell_type": "code",
   "execution_count": 53,
   "id": "d1fc43e6",
   "metadata": {},
   "outputs": [
    {
     "data": {
      "text/plain": [
       "resolve (generic function with 1 method)"
      ]
     },
     "execution_count": 53,
     "metadata": {},
     "output_type": "execute_result"
    }
   ],
   "source": [
    "\"\"\"\n",
    "    resolve_triangular_inferior(A,b)\n",
    "    \n",
    "Retorna a matriz coluna x que é o resultado do sistema linear Ax=b, onde\n",
    "A é uma matriz nxn e b possui tamanho nx1.\n",
    "\"\"\"\n",
    "function resolve(A,b)\n",
    "    L,U = decomposicao_LU(A)\n",
    "    Y = resolve_triangular_inferior(L,b)\n",
    "    return resolve_triangular_superior(U,Y)\n",
    "end"
   ]
  },
  {
   "cell_type": "markdown",
   "id": "1e3659dd",
   "metadata": {},
   "source": [
    "#### Testes"
   ]
  },
  {
   "cell_type": "code",
   "execution_count": 60,
   "id": "11d22a91",
   "metadata": {},
   "outputs": [
    {
     "data": {
      "text/plain": [
       "10-element Vector{Float64}:\n",
       " -0.4913380110086943\n",
       " -1.3478170405643326\n",
       "  4.631111267321863\n",
       "  2.960655447674638\n",
       "  2.1968241176293533\n",
       " -9.755824934914251\n",
       "  0.6709187676000404\n",
       " -1.6641947967891335\n",
       "  6.132987046360186\n",
       "  2.308483511963317"
      ]
     },
     "execution_count": 60,
     "metadata": {},
     "output_type": "execute_result"
    }
   ],
   "source": [
    "n = 4\n",
    "A1 = randn(n,n)\n",
    "b1 = A1 * ones(n)\n",
    "\n",
    "n = 5\n",
    "A2 = randn(n,n)\n",
    "b2 = A2 * ones(n)\n",
    "\n",
    "n = 10\n",
    "A3 = randn(n,n)\n",
    "b3 = A3 * ones(n)"
   ]
  },
  {
   "cell_type": "code",
   "execution_count": 61,
   "id": "d5637f90",
   "metadata": {},
   "outputs": [
    {
     "data": {
      "text/plain": [
       "\u001b[32m\u001b[1mTest Passed\u001b[22m\u001b[39m"
      ]
     },
     "execution_count": 61,
     "metadata": {},
     "output_type": "execute_result"
    }
   ],
   "source": [
    "x1 = resolve(A1,b1)\n",
    "@test A1*x1 ≈ b1"
   ]
  },
  {
   "cell_type": "code",
   "execution_count": 62,
   "id": "b11074bb",
   "metadata": {},
   "outputs": [
    {
     "data": {
      "text/plain": [
       "\u001b[32m\u001b[1mTest Passed\u001b[22m\u001b[39m"
      ]
     },
     "execution_count": 62,
     "metadata": {},
     "output_type": "execute_result"
    }
   ],
   "source": [
    "x2 = resolve(A2,b2)\n",
    "@test A2*x2 ≈ b2"
   ]
  },
  {
   "cell_type": "code",
   "execution_count": 63,
   "id": "ab68697a",
   "metadata": {},
   "outputs": [
    {
     "data": {
      "text/plain": [
       "\u001b[32m\u001b[1mTest Passed\u001b[22m\u001b[39m"
      ]
     },
     "execution_count": 63,
     "metadata": {},
     "output_type": "execute_result"
    }
   ],
   "source": [
    "x3 = resolve(A3,b3)\n",
    "@test A3*x3 ≈ b3"
   ]
  },
  {
   "cell_type": "markdown",
   "id": "48723eb8",
   "metadata": {},
   "source": [
    "Para encontrar a matriz inversa, é preciso resolver o sistema $AA^{-1} = I$, onde $A^{-1}$ será determinado. Contudo, podemos pensar em resolver os sistemas $AA^{-1}_j = I_j$ onde $A^{-1}_j$ e $I_j$ correspondem as colunas $j$ da inversa de $A$ e da matriz identidade. Fazendo isso, podemos determinar completamente $A^{-1}$."
   ]
  },
  {
   "cell_type": "code",
   "execution_count": 85,
   "id": "7168f914",
   "metadata": {},
   "outputs": [
    {
     "data": {
      "text/plain": [
       "\"function resolve(A,b)\\n    L,U = decomposicao_LU(A)\\n    Y = resolve_triangular_inferior(L,b)\\n    return resolve_triangular_superior(U,Y)\\nend\\n\""
      ]
     },
     "execution_count": 85,
     "metadata": {},
     "output_type": "execute_result"
    }
   ],
   "source": [
    "\"\"\"\n",
    "   inversa(A)\n",
    "    \n",
    "Retorna a inversa A^-1 da matriz A\n",
    "A é uma matriz nxn.\n",
    "\"\"\"\n",
    "function inversa(A)\n",
    "    # Calcula o tamanho da inversa\n",
    "    n, = size(A)\n",
    "    # Inicializa A^-1\n",
    "    A_inv = zeros(n, n)\n",
    "    # Gera a matriz identidade \n",
    "    Ident = Matrix{Float64}(I,n,n)\n",
    "    # Computa A*A^(-1)_j = I_j para cada coluna j \n",
    "    L,U = decomposicao_LU(A)\n",
    "    for j=1:n\n",
    "         Y = resolve_triangular_inferior(L,Ident[:,j])\n",
    "         A_inv[:,j] = resolve_triangular_superior(U,Y)\n",
    "    end\n",
    "    # Retorna a inversa\n",
    "    return A_inv\n",
    "end      \n",
    "\n",
    "\"\"\"\n",
    "function resolve(A,b)\n",
    "    L,U = decomposicao_LU(A)\n",
    "    Y = resolve_triangular_inferior(L,b)\n",
    "    return resolve_triangular_superior(U,Y)\n",
    "end\n",
    "\"\"\""
   ]
  },
  {
   "cell_type": "markdown",
   "id": "70ea83c3",
   "metadata": {},
   "source": [
    "#### Testes"
   ]
  },
  {
   "cell_type": "markdown",
   "id": "aa8fdb3b",
   "metadata": {},
   "source": [
    "Para gerar os testes, precisamos que cada matriz $A$ gerada possua $det(A) \\neq 0$, pois matrizes não invertíveis possuem determinante igual a 0. Com isso, o algoritmo computa uma matriz A aleatoriamente. Se $det(A) = 0$, calculamos uma nova matriz A."
   ]
  },
  {
   "cell_type": "code",
   "execution_count": 86,
   "id": "defd1b49",
   "metadata": {},
   "outputs": [
    {
     "data": {
      "text/plain": [
       "\u001b[32m\u001b[1mTest Passed\u001b[22m\u001b[39m"
      ]
     },
     "execution_count": 86,
     "metadata": {},
     "output_type": "execute_result"
    }
   ],
   "source": [
    "n = 5\n",
    "A = randn(n,n)\n",
    "while(det(A) == 0)\n",
    "    A = randn(n,n)\n",
    "end\n",
    "A_inv = inversa(A)\n",
    "Ident = Matrix{Float64}(I,n,n)\n",
    "# Testa se A*A^-1 ≈ I\n",
    "@test A*A_inv ≈ Ident"
   ]
  },
  {
   "cell_type": "code",
   "execution_count": 87,
   "id": "057063fd",
   "metadata": {},
   "outputs": [
    {
     "data": {
      "text/plain": [
       "\u001b[32m\u001b[1mTest Passed\u001b[22m\u001b[39m"
      ]
     },
     "execution_count": 87,
     "metadata": {},
     "output_type": "execute_result"
    }
   ],
   "source": [
    "n = 10\n",
    "A = randn(n,n)\n",
    "while(det(A) == 0)\n",
    "    A = randn(n,n)\n",
    "end\n",
    "A_inv = inversa(A)\n",
    "Ident = Matrix{Float64}(I,n,n)\n",
    "# Testa se A*A^-1 ≈ I\n",
    "@test A*A_inv ≈ Ident"
   ]
  },
  {
   "cell_type": "code",
   "execution_count": 88,
   "id": "b149b004",
   "metadata": {},
   "outputs": [
    {
     "data": {
      "text/plain": [
       "\u001b[32m\u001b[1mTest Passed\u001b[22m\u001b[39m"
      ]
     },
     "execution_count": 88,
     "metadata": {},
     "output_type": "execute_result"
    }
   ],
   "source": [
    "n = 27\n",
    "A = randn(n,n)\n",
    "while(det(A) == 0)\n",
    "    A = randn(n,n)\n",
    "end\n",
    "A_inv = inversa(A)\n",
    "Ident = Matrix{Float64}(I,n,n)\n",
    "# Testa se A*A^-1 ≈ I\n",
    "@test A*A_inv ≈ Ident"
   ]
  },
  {
   "cell_type": "markdown",
   "id": "90fe0056",
   "metadata": {},
   "source": [
    "#### Complexidade"
   ]
  },
  {
   "cell_type": "markdown",
   "id": "47943657",
   "metadata": {},
   "source": [
    "Primeiro, ocorre a decomposição LU que possui complexidade $O(n^3)$. Para cada coluna $A^-1_j$ e $I_j$, chamamos as funções *resolve_triangular_superior* e resolse_triangular_inferior, então temos $n$ operações. A função resolve chama a função *decomposicao_LU* "
   ]
  },
  {
   "cell_type": "markdown",
   "id": "ca938092",
   "metadata": {},
   "source": [
    "*Refs.:*\n",
    "- https://www.youtube.com/watch?v=5RWstMXFohQ\n",
    "- https://en.wikipedia.org/wiki/Invertible_matrix"
   ]
  },
  {
   "cell_type": "markdown",
   "id": "14019b03",
   "metadata": {},
   "source": [
    "## 3"
   ]
  },
  {
   "cell_type": "code",
   "execution_count": 31,
   "id": "0e84a9fd",
   "metadata": {},
   "outputs": [
    {
     "data": {
      "text/plain": [
       "discretiza (generic function with 1 method)"
      ]
     },
     "execution_count": 31,
     "metadata": {},
     "output_type": "execute_result"
    }
   ],
   "source": [
    "function discretiza(n)\n",
    "    A = zeros(n,n)\n",
    "    A[:,1] .= 25\n",
    "    A[1,:] .= 20 \n",
    "    A[:,n] .= 20 \n",
    "    A[n,:] .= 30\n",
    "    for i=1:(n-1)\n",
    "        for j=1:(n-1)\n",
    "            \n",
    "        end\n",
    "    end\n",
    "end"
   ]
  },
  {
   "cell_type": "code",
   "execution_count": 32,
   "id": "c5db7236",
   "metadata": {},
   "outputs": [
    {
     "data": {
      "text/plain": [
       "discretiza (generic function with 1 method)"
      ]
     },
     "execution_count": 32,
     "metadata": {},
     "output_type": "execute_result"
    }
   ],
   "source": [
    "function discretiza(n)\n",
    "    A = zeros(n)\n",
    "    b = zeros(n)\n",
    "    for i=1:n^2\n",
    "        A[i,i] = 1\n",
    "        if i <= n \n",
    "            b[i] += 20/4\n",
    "        end\n",
    "        if (i-1)%n == 0\n",
    "            b[i] += 25/4\n",
    "        end\n",
    "        if i%n == 0\n",
    "            b[i] += 20/4\n",
    "        end\n",
    "        if i >= n*(n-1) + 1\n",
    "            b[i] += 30/4\n",
    "        end\n",
    "    end\n",
    "end"
   ]
  },
  {
   "cell_type": "code",
   "execution_count": null,
   "id": "93f0bf6b",
   "metadata": {},
   "outputs": [],
   "source": []
  },
  {
   "cell_type": "code",
   "execution_count": 33,
   "id": "1c58e686",
   "metadata": {},
   "outputs": [
    {
     "data": {
      "text/plain": [
       "7×7 Matrix{Float64}:\n",
       " 20.0  20.0  20.0  20.0  20.0  20.0  20.0\n",
       " 25.0   0.0   0.0   0.0   0.0   0.0  20.0\n",
       " 25.0   0.0   0.0   0.0   0.0   0.0  20.0\n",
       " 25.0   0.0   0.0   0.0   0.0   0.0  20.0\n",
       " 25.0   0.0   0.0   0.0   0.0   0.0  20.0\n",
       " 25.0   0.0   0.0   0.0   0.0   0.0  20.0\n",
       " 30.0  30.0  30.0  30.0  30.0  30.0  30.0"
      ]
     },
     "execution_count": 33,
     "metadata": {},
     "output_type": "execute_result"
    }
   ],
   "source": [
    "n = 7\n",
    " A = zeros(n,n)\n",
    "A[:,1] .= 25\n",
    "A[1,:] .= 20 \n",
    "A[:,n] .= 20 \n",
    "A[n,:] .= 30\n",
    "A"
   ]
  },
  {
   "cell_type": "markdown",
   "id": "cd3487db",
   "metadata": {},
   "source": [
    "## 4"
   ]
  },
  {
   "cell_type": "code",
   "execution_count": 34,
   "id": "61b3c8c5",
   "metadata": {},
   "outputs": [
    {
     "data": {
      "text/plain": [
       "8-element Vector{Float64}:\n",
       "   7000.0\n",
       "   3500.0\n",
       "   9000.0\n",
       "  37000.0\n",
       "  12000.0\n",
       "  40500.0\n",
       "  15000.0\n",
       " -25000.0"
      ]
     },
     "execution_count": 34,
     "metadata": {},
     "output_type": "execute_result"
    }
   ],
   "source": [
    "A = [\n",
    "    1 0 0 0 0 0 0 0;\n",
    "    0 1 0 0 0 0 0 0;\n",
    "    0 0 1 0 0 0 0 0;\n",
    "    0 -1 0 -1 0 1 0 0;\n",
    "    0 0 0 0 -1 0 1 0;\n",
    "    0 0 0 0 0 1 -1 1;\n",
    "    -1 0 0 1 0 0 0 0;\n",
    "    0 0 -1 0 1 0 0 0;\n",
    "   ]\n",
    "\n",
    "b = [\n",
    "    2000+5000;\n",
    "    1500+2000;\n",
    "    8000+1000;\n",
    "    0;\n",
    "    3000;\n",
    "    500; \n",
    "    30000;\n",
    "    3000;  \n",
    "]\n",
    "\n",
    "resolve(A,b)"
   ]
  },
  {
   "cell_type": "code",
   "execution_count": 35,
   "id": "bd533f4a",
   "metadata": {},
   "outputs": [
    {
     "data": {
      "text/plain": [
       "8-element Vector{Float64}:\n",
       "   7000.0\n",
       "   3500.0\n",
       "   9000.0\n",
       "  37000.0\n",
       "  12000.0\n",
       "  40500.0\n",
       "  15000.0\n",
       " -25000.0"
      ]
     },
     "execution_count": 35,
     "metadata": {},
     "output_type": "execute_result"
    }
   ],
   "source": [
    "A1 = hcat(A,[0; 0; 0; 0; 0; 0; -1; 1])\n",
    "resolve(A1,b)"
   ]
  },
  {
   "cell_type": "markdown",
   "id": "005b12ae",
   "metadata": {},
   "source": [
    "Estamos tratando apenas matrizes $A_{nxn}$, mas $A1 = A_{8x9}$"
   ]
  },
  {
   "cell_type": "code",
   "execution_count": null,
   "id": "3f1c999f",
   "metadata": {},
   "outputs": [],
   "source": []
  }
 ],
 "metadata": {
  "kernelspec": {
   "display_name": "Julia 1.6.4",
   "language": "julia",
   "name": "julia-1.6"
  },
  "language_info": {
   "file_extension": ".jl",
   "mimetype": "application/julia",
   "name": "julia",
   "version": "1.6.4"
  }
 },
 "nbformat": 4,
 "nbformat_minor": 5
}
