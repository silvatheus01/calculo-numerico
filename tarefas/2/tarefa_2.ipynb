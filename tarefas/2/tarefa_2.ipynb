{
 "cells": [
  {
   "cell_type": "markdown",
   "metadata": {},
   "source": [
    "## 2.1\n",
    "Para encontrar a raiz $\\sqrt[3]{43}$, utilizamos a função $f(x)=x³-43$, já que \n",
    "$$f(\\sqrt[3]{43})=0$$\n",
    "e dessa forma podemos utilizar o método de newton.\n",
    "\n",
    "O método de newton é expresso pela fórmula\n",
    "$$ x_{n+1} = x_n - \\frac{f(x_n)}{f'(x_n)}$$\n",
    "Como $\\sqrt[3]{27}<\\sqrt[3]{43}<\\sqrt[3]{64}$, vamos dar um chute inicial $x_0 = 3.5$.\n",
    "Temos também que \n",
    "$$ f'(x) = 3x^2$$\n",
    "pela regra do coefi"
   ]
  },
  {
   "cell_type": "code",
   "execution_count": 7,
   "metadata": {},
   "outputs": [
    {
     "name": "stdout",
     "output_type": "stream",
     "text": [
      "NaN"
     ]
    }
   ],
   "source": [
    "# Valor inicial\n",
    "x = 3.5 \n",
    "\n",
    "# Função f(x)\n",
    "f(x) = x^3-43\n",
    "\n",
    "# Derivada da função f(x)\n",
    "f_linha(x) = 3*x^2\n",
    "\n",
    "# Número de interações que serão feitas\n",
    "n = 50\n",
    "\n",
    "# Método de newton sendo aplicado. A cada iteração, temos uma aproximação melhor.\n",
    "for i in 1:n\n",
    "    x = x - f(x)/f_linha(x)\n",
    "end\n",
    "\n",
    "# Imprime o valor da raiz aproximado\n",
    "print(x)"
   ]
  },
  {
   "cell_type": "markdown",
   "metadata": {},
   "source": [
    "Como $f'(x) = 3x^2$, no momento do cálcuo interativo, $f'(0) = 0$, levando a uma indeterminação, o que geraria um problema para o método. Dessa forma, $x_0 = 0$ é um valor inicial problemático."
   ]
  },
  {
   "cell_type": "markdown",
   "metadata": {},
   "source": [
    "## 4.1\n",
    "O polinômio de Taylor de ordem 1 é expresso pela fórmula\n",
    "$$ f(x) - (f(a)+f'(a)(x-a)) \\leq \\frac{M(x-a)^2}{2}$$\n",
    "Dividindo ambos os lados por $(x-a)$ e sabendo que são bem próximos, temos\n",
    "\n",
    "$$\\frac{f(x)-f(a)}{(x-a)} - f'(a) \\leq \\frac{M(x-a)}{2}$$\n",
    "$$f'_a(a) - f'(a) \\leq \\frac{M(x-a)}{2}$$\n",
    "\n",
    "Onde $f'_a(a)$ é o valor da derivada aproximado. Dessa forma o erro possui um teto \n",
    "$$\\frac{M(x-a)}{2}$$"
   ]
  },
  {
   "cell_type": "markdown",
   "metadata": {},
   "source": [
    "## 4.2\n",
    "Vamos utilizar um polinômio de taylor de ordem 2, assim, quando elevarmos $0.01^3$, teremos um valor da ordem de $10^6$ no lado direito da desigualdade como desejamos."
   ]
  }
 ],
 "metadata": {
  "kernelspec": {
   "display_name": "Julia 1.6.4",
   "language": "julia",
   "name": "julia-1.6"
  },
  "language_info": {
   "file_extension": ".jl",
   "mimetype": "application/julia",
   "name": "julia",
   "version": "1.6.4"
  },
  "orig_nbformat": 4
 },
 "nbformat": 4,
 "nbformat_minor": 2
}
