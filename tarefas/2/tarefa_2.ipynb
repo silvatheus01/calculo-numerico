{
 "cells": [
  {
   "cell_type": "markdown",
   "metadata": {},
   "source": [
    "## 2.1\n",
    "Para encontrar a raiz $\\sqrt[3]{43}$, utilizamos a função $f(a)=x³-43$, já que \n",
    "$$f(\\sqrt[3]{43})=0$$\n",
    "e dessa forma podemos utilizar o método de newton.\n",
    "\n",
    "O método de newton é expresso pela fórmula\n",
    "$$ x_{n+1} = x_n - \\frac{f(x_n)}{f'(x_n)}$$\n",
    "Como $\\sqrt[3]{27}<\\sqrt[3]{43}<\\sqrt[3]{64}$, vamos dar um chute inicial $x_0 = 3.5$.\n",
    "Temos também que \n",
    "$$ f'(x) = 3x^2$$\n",
    "pela regra do coefi"
   ]
  },
  {
   "cell_type": "code",
   "execution_count": 7,
   "metadata": {},
   "outputs": [
    {
     "name": "stdout",
     "output_type": "stream",
     "text": [
      "NaN"
     ]
    }
   ],
   "source": [
    "# Valor inicial\n",
    "x = 3.5 \n",
    "\n",
    "# Função f(x)\n",
    "f(x) = x^3-43\n",
    "\n",
    "# Derivada da função f(x)\n",
    "f_linha(x) = 3*x^2\n",
    "\n",
    "# Número de interações que serão feitas\n",
    "n = 50\n",
    "\n",
    "# Método de newton sendo aplicado. A cada iteração, temos uma aproximação melhor.\n",
    "for i in 1:n\n",
    "    x = x - f(x)/f_linha(x)\n",
    "end\n",
    "\n",
    "# Imprime o valor da raiz aproximado\n",
    "print(x)"
   ]
  },
  {
   "cell_type": "markdown",
   "metadata": {},
   "source": [
    "Como $f'(x) = 3x^2$, no momento do cálcuo interativo, $f'(0) = 0$, levando a uma indeterminação, o que geraria um problema para o método. Dessa forma, $x_0 = 0$ é um valor inicial problemático."
   ]
  },
  {
   "cell_type": "markdown",
   "metadata": {},
   "source": [
    "## 4.1\n",
    "O polinômio de Taylor de ordem 1 é expresso pela fórmula\n",
    "$$ f(x) - (f(a)+f'(a)(x-a)) \\leq \\frac{M(x-a)^2}{2}$$\n",
    "Dividindo ambos os lados por $(x-a)$ e sabendo que são bem próximos, temos\n",
    "\n",
    "$$\\frac{f(x)-f(a)}{(x-a)} - f'(a) \\leq \\frac{M(x-a)}{2}$$\n",
    "$$f'_a(a) - f'(a) \\leq \\frac{M(x-a)}{2}$$\n",
    "\n",
    "Onde $f'_a(a)$ é o valor da derivada aproximado. Dessa forma o erro possui um teto \n",
    "$$\\frac{M(x-a)}{2}$$"
   ]
  },
  {
   "cell_type": "markdown",
   "metadata": {},
   "source": [
    "## 4.2\n",
    "Vamos utilizar um polinômio de taylor de ordem 2, assim, quando elevarmos $(0.01-a)^3$, teremos um valor da ordem de $10^6$ no lado direito da desigualdade como desejamos. \n",
    "\n",
    "Os dados que temos são\n",
    "\n",
    "\\begin{align*}\n",
    "f(x) &= f(0.01) = \\sin(0.01)\\\\\n",
    "f'(x) &= \\cos(x)\\\\\n",
    "f''(x) &= -\\sin(x)\\\\\n",
    "f(a) &= \\sin(0) = 0\n",
    "\\end{align*}\n",
    "\n",
    "Como a = 0 está bem próximo de 0.01, este valor foi usado para aproximar a função. Além disso,\n",
    "$$\n",
    "M = \\frac{1}{2}\n",
    "$$\n",
    "já que \n",
    "\n",
    "\\begin{align*}\n",
    "f^{(3)}(x) &= -\\cos(x)\\\\\n",
    "-\\cos(0.01) &\\leq -\\frac{1}{2}\n",
    "\\end{align*}\n",
    "\n",
    "como pede o método, ou seja,\n",
    "$$\n",
    "f^{(3)}(x) \\leq M\n",
    "$$\n",
    "para todo o intervalo que está sendo observado.\n",
    "\n",
    "Com isso em mãos, utilizamos a fórmula com a\n",
    "\n",
    "\\begin{align*}\n",
    "\\sin(0.01) - \\left(\\frac{f^{(2)}(0)(0.01-0)^2}{2!}\\right) &+ f'(0)(0.01-0)+f(0) \\leq -\\frac{10^{-6}}{3!2}\n",
    "\\\\\n",
    "\\sin(0.01)-0.01 &\\leq -\\frac{10^{-6}}{3!2}\n",
    "\\\\\n",
    "\\sin(0.01) &\\leq 0.0099999166667\n",
    "\\end{align*}\n",
    "e assim ecnontramos o resultado que queríamos."
   ]
  },
  {
   "cell_type": "markdown",
   "metadata": {},
   "source": [
    "## 4.3\n",
    "Como\n",
    "\n",
    "\\begin{align*}\n",
    "(\\sin(x))' &=\\cos(x)\\\\\n",
    "(\\cos(x))' &=-\\sin(x)\n",
    "\\end{align*}\n",
    "\n",
    "e\n",
    "\n",
    "\\begin{align*}\n",
    "\\cos(0) &= 1\\\\\n",
    "\\sin(0) &= 0\n",
    "\\end{align*}\n",
    "\n",
    "muitos termos no polinômio de Taylor ou serão anulados, devido ao 0, ou dependerão apenas de $ \\frac{(x-a)^n}{n!}$, por causa da multiplicação por 1. Além disso, quando $|x-a| \\ll 0$, o polinômio de taylor tende 0 no lado esquerdo da desigualdade, como também o lado direito devido ao termo $(x-a)^{n+1}$. Portanto, como vimos no item anterior, quando isolamos $\\sin(x)$ no lado esquerdo da equação temos que \n",
    "$\n",
    "\\sin(x) \\leq 0.0009 \\cdots\n",
    "$\n",
    "quando x é próximo de 0."
   ]
  },
  {
   "cell_type": "markdown",
   "metadata": {},
   "source": [
    "## 4.4\n",
    "Através do que nos é dado, sabemos que\n",
    "\n",
    "\\begin{align*}\n",
    "f(x) &= \\ln(x)\\\\\n",
    "f'(x) &= \\frac{1}{x}\\\\\n",
    "f''(x) &= -\\frac{1}{x^2}\\\\\n",
    "f^{(3)}(x) &= \\frac{2}{x^3}\\\\\n",
    "f^{(4)}(x) &= -\\frac{6}{x^4}\\\\\n",
    "\\end{align*}\n",
    "Além disso,\n",
    "\\begin{align*}\n",
    "-\\frac{6}{x^4} &\\leq M\\\\\n",
    "-1.185 &\\leq M\n",
    "\\end{align*}\n",
    "já que $x = 1.5$. Com isso, utilizando o polinômio taylor de terceira ordem, temos \n",
    "\\begin{align*}\n",
    "\\ln(1.5) - (\\ln(1) + (1.5-1) - \\frac{(1.5-1)^2}{2!} + \\frac{2(1.5-1)^3}{3!}) \\leq \\frac{-1.185(1.5-1)^4}{4!}\n",
    "\\end{align*}\n",
    "Expandindo a equação e isolando o termo procurado encontramos\n",
    "$$\n",
    "\\ln(1.5) \\leq 0.4135807291667\n",
    "$$\n",
    "Comparando agora o valor gerado por uma calculadora, encontramos\n",
    "$$\n",
    "\\ln(1.5) = 0.4054651081082\n",
    "$$\n",
    "Portanto, temos apenas um dígito correto à direita da vírgula"
   ]
  },
  {
   "cell_type": "code",
   "execution_count": null,
   "metadata": {},
   "outputs": [],
   "source": []
  },
  {
   "cell_type": "code",
   "execution_count": 2,
   "metadata": {},
   "outputs": [
    {
     "data": {
      "text/plain": [
       "tylor_ln (generic function with 1 method)"
      ]
     },
     "execution_count": 2,
     "metadata": {},
     "output_type": "execute_result"
    }
   ],
   "source": [
    "function tylor_ln(x, erro_max)\n",
    "    # Primeiro termo do polinômio de taylor\n",
    "    soma = x-1\n",
    "    res = log(x)\n",
    "    k = 1\n",
    "    while abs(res-soma) >= erro_max\n",
    "        k += 1\n",
    "        soma += (-1)^(k-1)*(x-1)^k / k\n",
    "    end\n",
    "    return (soma,k)\n",
    "end"
   ]
  },
  {
   "cell_type": "code",
   "execution_count": 15,
   "metadata": {},
   "outputs": [
    {
     "name": "stdout",
     "output_type": "stream",
     "text": [
      "(0.4054651154407084, 21)"
     ]
    }
   ],
   "source": [
    "print(tylor_ln(1.5,10^-8))"
   ]
  }
 ],
 "metadata": {
  "kernelspec": {
   "display_name": "Julia 1.6.4",
   "language": "julia",
   "name": "julia-1.6"
  },
  "language_info": {
   "file_extension": ".jl",
   "mimetype": "application/julia",
   "name": "julia",
   "version": "1.6.4"
  },
  "orig_nbformat": 4
 },
 "nbformat": 4,
 "nbformat_minor": 2
}
