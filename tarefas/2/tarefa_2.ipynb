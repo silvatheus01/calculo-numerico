{
 "cells": [
  {
   "cell_type": "markdown",
   "metadata": {},
   "source": [
    "## 2.1\n",
    "Para encontrar a raiz $\\sqrt[3]{43}$, utilizamos a função $f(x)=x³-43$, já que \n",
    "$$f(\\sqrt[3]{43})=0$$\n",
    "e dessa forma podemos utilizar o método de Newton. Este método é expresso pela relação de recorrência\n",
    "$$ x_{n+1} = x_n - \\frac{f(x_n)}{f'(x_n)}$$\n",
    "Como $\\sqrt[3]{27}<\\sqrt[3]{43}<\\sqrt[3]{64}$, vamos dar um chute inicial $x_0 = 3.5$.\n",
    "Sabemos também que \n",
    "$$ f'(x) = 3x^2$$\n",
    "Portanto, o algoritmo será"
   ]
  },
  {
   "cell_type": "code",
   "execution_count": 5,
   "metadata": {},
   "outputs": [
    {
     "name": "stdout",
     "output_type": "stream",
     "text": [
      "Aproximação da raiz cúbica de 43: 3.5033980603867243"
     ]
    }
   ],
   "source": [
    "# Valor inicial\n",
    "x = 3.5 \n",
    "\n",
    "# Função f(x)\n",
    "f(x) = x^3-43\n",
    "\n",
    "# Derivada da função f(x)\n",
    "f_linha(x) = 3*x^2\n",
    "\n",
    "# Número de interações que serão feitas\n",
    "n = 50\n",
    "\n",
    "# Método de newton sendo aplicado. A cada iteração, temos uma aproximação melhor.\n",
    "for i in 1:n\n",
    "    x = x - f(x)/f_linha(x)\n",
    "end\n",
    "\n",
    "# Imprime o valor da raiz aproximado\n",
    "print(\"Aproximação da raiz cúbica de 43: \", x)"
   ]
  },
  {
   "cell_type": "markdown",
   "metadata": {},
   "source": [
    "Como $f'(x) = 3x^2$, no momento do cálculo interativo, $f'(0) = 0$, levando a uma divisão por 0, o que geraria um problema nos cálculos feito pelo computador. Dessa forma, $x_0 = 0$ é um valor inicial problemático."
   ]
  },
  {
   "cell_type": "markdown",
   "metadata": {},
   "source": [
    "## 2.2\n",
    "Sabemos que \n",
    "\\begin{align*}\n",
    "x_1 &= x_0 - \\frac{f(x_0)}{f'(x_0)}\\\\\n",
    "2 &= 1 - \\frac{f(1)}{f'(1)}\\\\\n",
    "f'(1) &= -f(1)\\\\\n",
    "\\\\\n",
    "x_2 &= x_1 - \\frac{f(x_1)}{f'(x_1)}\\\\\n",
    "1 &= 2 - \\frac{f(2)}{f'(2)}\\\\\n",
    "f'(2) &= f(2)\\\\\n",
    "\\\\\n",
    "\\vdots\n",
    "\\end{align*}\n",
    "Também sabemos que $f(x)$ possui a forma\n",
    "$$\n",
    "f(x) = ax^2+bx+c\n",
    "$$\n",
    "Portanto,\n",
    "$$\n",
    "f'(x) = 2ax+b\n",
    "$$\n",
    "Com essas informações, podemos criar o sistema \n",
    "\\begin{align*}\n",
    "f'(1) &= -f(1)\\\\\n",
    "2ax + b &= -(ax^2+bx+c)\\\\\n",
    "3a+2b+c&=0\n",
    "\\end{align*}\n",
    "para $x=1$ e\n",
    "\\begin{align*}\n",
    "f'(2) &= f(2)\\\\\n",
    "2ax + b &= ax^2+bx+c\\\\\n",
    "-c&=b\n",
    "\\end{align*}\n",
    "para $x=2$. Resolvendo o sistema, encontramos as soluções\n",
    "$$\n",
    "c = -b = 3a\n",
    "$$\n",
    "Como o sistema é indeterminado, escolhemos os valores que satisfazem o sistema\n",
    "\\begin{align*}\n",
    "c &= -3\\\\\n",
    "b &= 3\\\\\n",
    "a &= -1\n",
    "\\end{align*}\n",
    "e dessa forma\n",
    "$$\n",
    "f(x) = -x^2+3x-3\n",
    "$$\n"
   ]
  },
  {
   "cell_type": "markdown",
   "metadata": {},
   "source": [
    "## 4.1\n",
    "O polinômio de Taylor de ordem 1 é expresso pela fórmula\n",
    "$$ f(x) - (f(a)+f'(a)(x-a)) \\leq \\frac{M(x-a)^2}{2}$$\n",
    "Dividindo ambos os lados por $(x-a)$ e sabendo que são bem próximos, temos\n",
    "\n",
    "$$\\frac{f(x)-f(a)}{(x-a)} - f'(a) \\leq \\frac{M(x-a)}{2}$$\n",
    "$$f'_a(a) - f'(a) \\leq \\frac{M(x-a)}{2}$$\n",
    "\n",
    "Onde $f'_a(a)$ é o valor da derivada aproximado. Dessa forma o erro possui um teto \n",
    "$$\\frac{M(x-a)}{2}$$"
   ]
  },
  {
   "cell_type": "markdown",
   "metadata": {},
   "source": [
    "## 4.2\n",
    "Vamos utilizar um polinômio de taylor de ordem 2, assim, quando elevarmos $(0.01-a)^3$, teremos um valor da ordem de $10^6$ no lado direito da desigualdade como desejamos. \n",
    "\n",
    "Os dados que temos são\n",
    "\n",
    "\\begin{align*}\n",
    "f(x) &= f(0.01) = \\sin(0.01)\\\\\n",
    "f'(x) &= \\cos(x)\\\\\n",
    "f''(x) &= -\\sin(x)\\\\\n",
    "f(a) &= \\sin(0) = 0\n",
    "\\end{align*}\n",
    "\n",
    "Como a = 0 está bem próximo de 0.01, este valor foi usado para aproximar a função. Além disso,\n",
    "$$\n",
    "M = \\frac{1}{2}\n",
    "$$\n",
    "já que \n",
    "\n",
    "\\begin{align*}\n",
    "f^{(3)}(x) &= -\\cos(x)\\\\\n",
    "-\\cos(0.01) &\\leq -\\frac{1}{2}\n",
    "\\end{align*}\n",
    "\n",
    "como pede o método, ou seja,\n",
    "$$\n",
    "f^{(3)}(x) \\leq M\n",
    "$$\n",
    "para todo o intervalo que está sendo observado.\n",
    "\n",
    "Com isso em mãos, utilizamos a fórmula com a\n",
    "\n",
    "\\begin{align*}\n",
    "\\sin(0.01) - \\left(\\frac{f^{(2)}(0)(0.01-0)^2}{2!}\\right) &+ f'(0)(0.01-0)+f(0) \\leq -\\frac{10^{-6}}{3!2}\n",
    "\\\\\n",
    "\\sin(0.01)-0.01 &\\leq -\\frac{10^{-6}}{3!2}\n",
    "\\\\\n",
    "\\sin(0.01) &\\leq 0.0099999166667\n",
    "\\end{align*}\n",
    "e assim ecnontramos o resultado que queríamos."
   ]
  },
  {
   "cell_type": "markdown",
   "metadata": {},
   "source": [
    "## 4.3\n",
    "Como\n",
    "\n",
    "\\begin{align*}\n",
    "(\\sin(x))' &=\\cos(x)\\\\\n",
    "(\\cos(x))' &=-\\sin(x)\n",
    "\\end{align*}\n",
    "\n",
    "e\n",
    "\n",
    "\\begin{align*}\n",
    "\\cos(0) &= 1\\\\\n",
    "\\sin(0) &= 0\n",
    "\\end{align*}\n",
    "\n",
    "muitos termos no polinômio de Taylor ou serão anulados, devido ao 0, ou dependerão apenas de $ \\frac{(x-a)^n}{n!}$, por causa da multiplicação por 1. Além disso, quando $|x-a| \\ll 0$, o polinômio de taylor tende 0 no lado esquerdo da desigualdade, como também o lado direito devido ao termo $(x-a)^{n+1}$. Portanto, como vimos no item anterior, quando isolamos $\\sin(x)$ no lado esquerdo da equação temos que \n",
    "$\n",
    "\\sin(x) \\leq 0.0009 \\cdots\n",
    "$\n",
    "quando x é próximo de 0."
   ]
  },
  {
   "cell_type": "markdown",
   "metadata": {},
   "source": [
    "## 4.4\n",
    "Através do que nos é dado, sabemos que\n",
    "\n",
    "\\begin{align*}\n",
    "f(x) &= \\ln(x)\\\\\n",
    "f'(x) &= \\frac{1}{x}\\\\\n",
    "f''(x) &= -\\frac{1}{x^2}\\\\\n",
    "f^{(3)}(x) &= \\frac{2}{x^3}\\\\\n",
    "f^{(4)}(x) &= -\\frac{6}{x^4}\\\\\n",
    "\\end{align*}\n",
    "Além disso,\n",
    "\\begin{align*}\n",
    "-\\frac{6}{x^4} &\\leq M\\\\\n",
    "-1.185 &\\leq M\n",
    "\\end{align*}\n",
    "já que $x = 1.5$. Com isso, utilizando o lado direito da desigualdade de taylor de terceira ordem, temos \n",
    "\\begin{align*}\n",
    "\\text{erro} \\leq \\frac{-1.185(1.5-1)^4}{4!}\n",
    "\\end{align*}\n",
    "Expandindo a equação e isolando o termo procurado encontramos\n",
    "$$\n",
    "\\text{erro} \\leq -0.0030859375\n",
    "$$\n",
    "Portanto, temos no máximo 2 dígitos corretos à direita da vírgula no resultado de $\\ln(1.5)$."
   ]
  },
  {
   "cell_type": "markdown",
   "metadata": {},
   "source": [
    "Para saber o erro de trucamento, utilizamos a desigualdade\n",
    "$$\n",
    "\\frac{M(x-a)^n+1}{(n+1)!} \\leq 10^{-8}\n",
    "$$\n",
    "No intuito de fazer um algoritmo para calcular esse erro, podemos ver que a derivada de $\\ln(x)$ segue um padrão no item anterior que pode ser expresso como\n",
    "\\begin{align*}\n",
    "\\ln(x)^{(n)} = (-1)^{n+1}\\frac{(n-1)!}{x^n}\n",
    "\\end{align*}\n",
    "para n > 0. Sendo assim, podemos reescrever a desigualdade como\n",
    "\\begin{align*}\n",
    "(-1)^{n+2}\\frac{n!(n-1)^{n+1}}{1.5^{n+1}(n+1)!} \\leq 10^{-8}\\\\\n",
    "(-1)^{n+2}\\frac{(n-1)^{n+1}}{(n+1)1.5^{n+1}} \\leq 10^{-8}\n",
    "\\end{align*}\n",
    "já que $a=1$, pois é o valor mais próximo de $\\ln(x)$ que conhecemos e $x=1.5$. Além disso, $ \\ln(x)^{(n+1)} \\leq M$, e devido a isso utilizamos a e$(n+1)$ésima derivada. Também temos os fatoriais no denominador e numerados anulados, restando apenas $(n+1)$ no denominador. Com essa desigualdade, podemos utilizar um algoritmo para achar o número de termos."
   ]
  },
  {
   "cell_type": "code",
   "execution_count": 82,
   "metadata": {},
   "outputs": [
    {
     "name": "stdout",
     "output_type": "stream",
     "text": [
      "Número de termos utilizados: 51"
     ]
    }
   ],
   "source": [
    "\n",
    "# Ordem da derivada. Ex: f'(x) => n=1, f''(x) => n=2, ...\n",
    "n=1\n",
    "# Como no começo a ordem da derivada é 1, então já foram utilizados dois termos.\n",
    "cont=2\n",
    "# Enquanto o erro for maior que 10^-8, o algoritmos calcula o próximo erro utilizando uma derivada maior\n",
    "while abs((-1)^(n+2)*(0.5)^(n+1) / (n+1)*(1.5)^(n+1)) >= 10^(-8)\n",
    "    #Incrementa o número de termos\n",
    "    cont+=1\n",
    "    #Incrementa a ordem da derivada se o erro ainda estiver grande\n",
    "    n+=1\n",
    "end\n",
    "# Imprime o número de termos utilizados. \n",
    "print(\"Número de termos utilizados: \", cont)\n",
    "    "
   ]
  },
  {
   "cell_type": "markdown",
   "metadata": {},
   "source": [
    "## 4.5\n",
    "Sabemos que Taylor de Ordem n pode ser calculado pelo somatório\n",
    "\\begin{align*}\n",
    "\\sum_{k=0}^{n} \\frac{f^{(n)}(a)(x-a)^n}{n!}\n",
    "\\end{align*}\n",
    "Pelo padrão que encontramos na derivada de $\\ln(x)$ no exercício 4.4, podemos melhorar o somatório acima para\n",
    "\\begin{align*}\n",
    "\\sum_{k=1}^{n} & (-1)^{n-1}\\frac{(n-1)!}{a^n}\\frac{(x-a)^n}{n!}\n",
    "\\end{align*}\n",
    "O expoente de $-1$ se tornou $n-1$ para contemplar o primeiro termo do somatório. Dessa forma, simplificando o fatorial e fazendo $a=1$ temos\n",
    "\\begin{align*}\n",
    "\\sum_{k=1}^{n} & (-1)^{n-1}\\frac{(x-1)^n}{n} \\approx \\ln(x) \n",
    "\\end{align*}"
   ]
  },
  {
   "cell_type": "code",
   "execution_count": 2,
   "metadata": {},
   "outputs": [
    {
     "data": {
      "text/plain": [
       "tylor_ln (generic function with 1 method)"
      ]
     },
     "execution_count": 2,
     "metadata": {},
     "output_type": "execute_result"
    }
   ],
   "source": [
    "function tylor_ln(x, erro_max)\n",
    "    # Primeiro e segundo termo do polinômio de taylor que foi utilizado\n",
    "    soma = 0 + x-1\n",
    "    # Variável n do somatório \n",
    "    n = 1\n",
    "    # Já foram utilizamos dois até este o momento.\n",
    "    cont = 2\n",
    "    while abs((-1)^(n+2)*(x-1)^(n+1) / (n+1)*(x)^(n+1)) >= erro_max\n",
    "        # Se o erro_max ainda for antigido incrementa n e o número de termos.\n",
    "        n += 1\n",
    "        cont +=1\n",
    "        \n",
    "        # Executa o somatório melhorado que foi descoberto\n",
    "        soma += (-1)^(n-1)*(x-1)^n / n\n",
    "    end\n",
    "    \n",
    "    # Retorna a soma e a quantidade de termos utilizados\n",
    "    return (soma,cont)\n",
    "end"
   ]
  },
  {
   "cell_type": "code",
   "execution_count": null,
   "metadata": {},
   "outputs": [],
   "source": [
    "print(\"Valor de ln(x) e o número de termos do somátorio utilizados: \", tylor_ln(2.1,10^(-8)))"
   ]
  },
  {
   "cell_type": "markdown",
   "metadata": {},
   "source": [
    "## 4.6\n",
    "Utilizando um polinômio de taylor com 3 termos não nulos em $\\sin(x)$, encontramos\n",
    "\\begin{align*}\n",
    "\\sum_{k=0}^{6} = \\sin(0) + \\cos(0)(x-a) - \\frac{\\sin(0)(x-0)^2}{2!} - \\frac{x^3}{3!} + \\cdots + \\frac{x^4}{4!} = x - \\frac{x^3}{3!} + \\frac{x^4}{4!}\n",
    "\\end{align*}\n",
    "Como este polinômio de taylor é aproximadamente a função $\\sin(x)$ perto de $a=0$, então, calculando o limite, temos\n",
    "$$\n",
    "\\lim_{n \\to 0} \\frac{x - \\frac{x^3}{3!} + \\frac{x^4}{4!} - x}{x^3} = \\lim_{n \\to 0} -\\frac{1}{3!} + \\frac{x}{4!} = -\\frac{1}{6} = -0.1666666\\cdots\n",
    "$$\n",
    "É interessante notar que mesmo usando mais termos, o limite não teria um erro menor, mas continuaria sendo $-0.1666666\\cdots$, já que a partir do termo $x^4$, depois da divisão pelo dominador $x^3$, sempre resta no numerador um termo $x^n$ onde $n>0$.\n"
   ]
  },
  {
   "cell_type": "markdown",
   "metadata": {},
   "source": [
    "## 4.7"
   ]
  },
  {
   "cell_type": "markdown",
   "metadata": {},
   "source": [
    "Devido a derivada de $\\cos(x)$ ser $-\\sin(x)$ e no ponto $x = 0$, $\\sin(x)$ é nulo, precisamos calcular mais derivadas para aproximar a função $\\cos(x)$ por taylor, ou seja,\n",
    "\\begin{align*}\n",
    "s_1 &= \\cos(a)-\\sin(a)(x-a) = 1\\\\\n",
    "s_2 &= s_1 - \\frac{\\cos(a)(x-a)^2}{2} = s_1 - \\frac{x^2}{2}\\\\\n",
    "s_3 &= s_2 + \\frac{\\sin(a)(x-a)^3}{6} + \\frac{\\cos(a)(x-a)^4}{24} = s_2 + \\frac{x^4}{24}\\\\\n",
    "s_4 &= s_3 - \\frac{x^6}{6!}\\\\\n",
    "s_5 &= s_4 + \\frac{x^8}{8!}\n",
    "\\end{align*}\n",
    "com a = 1 e $s_n$ representando o polinômio de taylor com $n$ termos não nulos. Estas funções podem ser visualizadas no gráfico abaixo:"
   ]
  },
  {
   "cell_type": "code",
   "execution_count": 2,
   "metadata": {},
   "outputs": [
    {
     "ename": "LoadError",
     "evalue": "MethodError: no method matching s1(::Float64)\n\u001b[0mClosest candidates are:\n\u001b[0m  s1() at In[2]:4",
     "output_type": "error",
     "traceback": [
      "MethodError: no method matching s1(::Float64)\n\u001b[0mClosest candidates are:\n\u001b[0m  s1() at In[2]:4",
      "",
      "Stacktrace:",
      "  [1] iterate",
      "    @ ./generator.jl:47 [inlined]",
      "  [2] _collect",
      "    @ ./array.jl:695 [inlined]",
      "  [3] collect_similar(cont::StepRangeLen{Float64, Base.TwicePrecision{Float64}, Base.TwicePrecision{Float64}}, itr::Base.Generator{StepRangeLen{Float64, Base.TwicePrecision{Float64}, Base.TwicePrecision{Float64}}, typeof(s1)})",
      "    @ Base ./array.jl:606",
      "  [4] map(f::Function, A::StepRangeLen{Float64, Base.TwicePrecision{Float64}, Base.TwicePrecision{Float64}})",
      "    @ Base ./abstractarray.jl:2294",
      "  [5] _compute_y",
      "    @ ~/.julia/packages/RecipesPipeline/Bxu2O/src/series.jl:79 [inlined]",
      "  [6] _compute_xyz(x::StepRangeLen{Float64, Base.TwicePrecision{Float64}, Base.TwicePrecision{Float64}}, y::Function, z::Nothing, nice_error::Bool)",
      "    @ RecipesPipeline ~/.julia/packages/RecipesPipeline/Bxu2O/src/series.jl:93",
      "  [7] macro expansion",
      "    @ ~/.julia/packages/RecipesPipeline/Bxu2O/src/series.jl:163 [inlined]",
      "  [8] apply_recipe(plotattributes::AbstractDict{Symbol, Any}, #unused#::Type{RecipesPipeline.SliceIt}, x::Any, y::Any, z::Any)",
      "    @ RecipesPipeline ~/.julia/packages/RecipesBase/qpxEX/src/RecipesBase.jl:289",
      "  [9] _process_userrecipes!(plt::Any, plotattributes::Any, args::Any)",
      "    @ RecipesPipeline ~/.julia/packages/RecipesPipeline/Bxu2O/src/user_recipe.jl:36",
      " [10] recipe_pipeline!(plt::Any, plotattributes::Any, args::Any)",
      "    @ RecipesPipeline ~/.julia/packages/RecipesPipeline/Bxu2O/src/RecipesPipeline.jl:70",
      " [11] _plot!(plt::Plots.Plot, plotattributes::Any, args::Any)",
      "    @ Plots ~/.julia/packages/Plots/Zuo5g/src/plot.jl:208",
      " [12] #plot#165",
      "    @ ~/.julia/packages/Plots/Zuo5g/src/plot.jl:91 [inlined]",
      " [13] top-level scope",
      "    @ In[2]:14",
      " [14] eval",
      "    @ ./boot.jl:360 [inlined]",
      " [15] include_string(mapexpr::typeof(REPL.softscope), mod::Module, code::String, filename::String)",
      "    @ Base ./loading.jl:1116"
     ]
    }
   ],
   "source": [
    "using Plots\n",
    "\n",
    "# Funções que calculam os polinômios de taylor ditos acima\n",
    "s1() = 1\n",
    "s2(x) = s1() - x^2/factorial(2)\n",
    "s3(x) = s2(x) + x^4/factorial(4)\n",
    "s4(x) = s3(x) - x^6/factorial(6)\n",
    "s5(x) = s4(x) + x^8/factorial(8)\n",
    "\n",
    "# Domínio das funções, de -6.5 a 6.5. Usará 100 pontos para plotar o gráfico.\n",
    "X = range(-6.5, 6.5, length = 100)\n",
    "\n",
    "# Plota os pontos no gráfico.\n",
    "plot([cos,s1,s2,s3,s4,s5],X,ylims=(-6.5,4),xlims=(-6.5,6.5), \n",
    "    labels=[\"cos(x) function\" \"Taylor Series - 1 terms\" \"Taylor Series - 2 terms\" \"Taylor Series - 3 terms\" \"Taylor Series - 4 terms\" \"Taylor Series - 5 terms\" ], \n",
    "    lw=1, legend=:bottomleft)\n"
   ]
  },
  {
   "cell_type": "code",
   "execution_count": null,
   "metadata": {},
   "outputs": [],
   "source": []
  }
 ],
 "metadata": {
  "kernelspec": {
   "display_name": "Julia 1.6.4",
   "language": "julia",
   "name": "julia-1.6"
  },
  "language_info": {
   "file_extension": ".jl",
   "mimetype": "application/julia",
   "name": "julia",
   "version": "1.6.4"
  }
 },
 "nbformat": 4,
 "nbformat_minor": 2
}
