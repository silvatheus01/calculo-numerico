{
 "cells": [
  {
   "cell_type": "markdown",
   "id": "e8f41d9a",
   "metadata": {},
   "source": [
    "# Nome: Matheus da Silva Oliveira\n",
    "# DRE: 118178020"
   ]
  },
  {
   "cell_type": "markdown",
   "id": "9a50eb0f",
   "metadata": {},
   "source": [
    "## 1"
   ]
  },
  {
   "cell_type": "markdown",
   "id": "ef8be3a9",
   "metadata": {},
   "source": [
    "Temos $T=c_0x^{c_1}$, mas para utilizar regressão, precisamos que $c_1$ seja um termo linear. Assim, operando a equação encontramos\n",
    "\\begin{align*}\n",
    "    \\ln(T) &= \\ln(c_0x^{c_1})\\\\\n",
    "    &= \\ln(c_0) + \\ln(x^{c_1})\\\\\n",
    "    \\ln(T) &= \\ln(c_0) + c_1\\ln(x)\n",
    "\\end{align*}\n",
    "Fazendo uma mudança de variável,\n",
    "\\begin{align*}\n",
    "    \\overline{c_0} &= \\ln(c_0)\\\\\n",
    "    \\overline{c_1} &= c_1\\\\\n",
    "    \\overline{y} &= \\ln(T)\n",
    "\\end{align*}\n",
    "Então utlizamos regressão na equação\n",
    "\\begin{align*}\n",
    "    \\overline{y} &= \\overline{c_0} + \\overline{c_1}\\ln(x)\n",
    "\\end{align*}\n",
    "e o sistema através dos dados será\n",
    "$$\n",
    "\\begin{bmatrix}\n",
    "    1 & \\ln(0.1)\\\\\n",
    "    1 & \\ln(0.2)\\\\\n",
    "    1 & \\ln(0.4)\\\\\n",
    "    1 & \\ln(0.8)\\\\\n",
    "    1 & \\ln(0.9)\n",
    "\\end{bmatrix}\n",
    "\\begin{bmatrix}\n",
    "    \\overline{c_0}\\\\\n",
    "    \\overline{c_1}\n",
    "\\end{bmatrix}\n",
    "=\n",
    "\\begin{bmatrix}\n",
    "    \\ln(22)\\\\\n",
    "    \\ln(43)\\\\\n",
    "    \\ln(84)\\\\\n",
    "    \\ln(210)\\\\\n",
    "    \\ln(320)\n",
    "\\end{bmatrix}\n",
    "$$\n",
    "Depois de computar $\\overline{c_0}$, calculamos $c_0 = e^{\\overline{c_0}}$ para encontrar o valor de $c_0$. O algoritmo abaixo computa as variáveis que queremos:"
   ]
  },
  {
   "cell_type": "code",
   "execution_count": 85,
   "id": "1da93b7e",
   "metadata": {},
   "outputs": [
    {
     "name": "stdout",
     "output_type": "stream",
     "text": [
      "c_0 = 295.232768178912\n",
      "c_1 = 1.171329448559714\n",
      "T(0.3) = 72.061\n"
     ]
    }
   ],
   "source": [
    "using LinearAlgebra\n",
    "\n",
    "V = \n",
    "[\n",
    "    1 log(0.1);\n",
    "    1 log(0.2);\n",
    "    1 log(0.4);\n",
    "    1 log(0.8);\n",
    "    1 log(0.9);\n",
    "]\n",
    "\n",
    "# Valores y_barra\n",
    "y_b = \n",
    "[\n",
    "    log(22);\n",
    "    log(43);\n",
    "    log(84);\n",
    "    log(210);\n",
    "    log(320);\n",
    "]\n",
    "# Computa as variáveis c_barra\n",
    "c_b = V\\y_b\n",
    "\n",
    "# Computa c_0\n",
    "c_0 = exp(c_b[1])\n",
    "\n",
    "c_1 = c_b[2]\n",
    "\n",
    "# Printa o resultado\n",
    "println(\"c_0 = \", c_0)\n",
    "println(\"c_1 = \", c_1)\n",
    "\n",
    "# Gera a função T aproximadora e calcula T(0.3) com 3 casas decimais\n",
    "T(x) = c_0*x^c_1\n",
    "println(\"T(0.3) = \", round(T(0.3),digits=3))\n"
   ]
  },
  {
   "cell_type": "markdown",
   "id": "fa336f71",
   "metadata": {},
   "source": [
    "## 2"
   ]
  },
  {
   "cell_type": "markdown",
   "id": "a3c9e4dd",
   "metadata": {},
   "source": [
    "### a"
   ]
  },
  {
   "cell_type": "markdown",
   "id": "013a123c",
   "metadata": {},
   "source": [
    "Como visto em aula e no vídeo do Abel, a fórmula da integração numérica pelo método do trapézio é\n",
    "$$\n",
    "    \\int_{a}^{b} f(x)\\, dx = \\frac{h}{2}\\left(f(a) + 2\\sum_{i=1}^{n-1} f(a+ih) + f(b)\\right)\n",
    "$$\n",
    "onde $h$ é a dimensão dos subintervalos. A função abaixo computa essa soma."
   ]
  },
  {
   "cell_type": "code",
   "execution_count": 77,
   "id": "15090397",
   "metadata": {},
   "outputs": [
    {
     "data": {
      "text/plain": [
       "trapezio (generic function with 1 method)"
      ]
     },
     "execution_count": 77,
     "metadata": {},
     "output_type": "execute_result"
    }
   ],
   "source": [
    "\n",
    "# f: Função que será integrada\n",
    "# a: Início do intervalo de integração\n",
    "# b: Fim do intervalo de integração\n",
    "# n: Número de subintervalos \n",
    "function trapezio(f,a,b,n)\n",
    "    # Calcula h\n",
    "    h = (b-a)/n\n",
    "    S = 0\n",
    "    for i in 1:(n-1)\n",
    "        # Calcula o somatório central da fórmula.\n",
    "        S += f(a+i*h) \n",
    "    end\n",
    "    # Calcula o restante dos termos da fórmula\n",
    "    return (h/2)*(f(a)+2*S+f(b))\n",
    "end"
   ]
  },
  {
   "cell_type": "markdown",
   "id": "49fd75a1",
   "metadata": {},
   "source": [
    "A função $v(t)$ abaixo calcula a velocidade para um $t^*$ relativo, ou seja, para valores de $t$ diferentes dos que foram passados na tabela. Isso é feito para conseguirmos utilizar mais facilmente a função trapézio."
   ]
  },
  {
   "cell_type": "code",
   "execution_count": 78,
   "id": "bb333022",
   "metadata": {},
   "outputs": [
    {
     "name": "stdout",
     "output_type": "stream",
     "text": [
      "Altura = 6538.5\n"
     ]
    }
   ],
   "source": [
    "function v(t)\n",
    "    # Valores da velocidade\n",
    "    V = [0 185 319 447 742 1325 1445 4151]\n",
    "    # Valores de t relativos, ou seja, t = 0, t = 1, ..., t = 7. \n",
    "    return V[floor(Int8,t)+1]\n",
    "end\n",
    "\n",
    "# Tempo inicial.\n",
    "t_i = 0\n",
    "# Tempo final.\n",
    "t_f = 7\n",
    "# Número de intervalo igual a 7\n",
    "n = 7\n",
    "\n",
    "println(\"Altura = \", trapezio(v,t_i,t_f,n))"
   ]
  },
  {
   "cell_type": "markdown",
   "id": "6707f5ad",
   "metadata": {},
   "source": [
    "### b"
   ]
  },
  {
   "cell_type": "markdown",
   "id": "e0b59c29",
   "metadata": {},
   "source": [
    "Pelo resultado (139) encontrado no livro, o erro do método do trapézio é inferior a\n",
    "$$\n",
    "\\frac{h^2(b-a)M}{12}\n",
    "$$\n",
    "onde $M$ é o valor máximo de $|f''(x)|$ no intervalo $[a,b]$. Neste caso, precisaríamos da segunda derivada da função $v$."
   ]
  },
  {
   "cell_type": "markdown",
   "id": "688f94fc",
   "metadata": {},
   "source": [
    "### c"
   ]
  },
  {
   "cell_type": "markdown",
   "id": "c15fa207",
   "metadata": {},
   "source": [
    "A matriz será\n",
    "$$\n",
    "\\begin{bmatrix}\n",
    "    0 & 1\\\\\n",
    "    10 & 1\\\\\n",
    "    15 & 1\\\\\n",
    "    20 & 1\\\\\n",
    "    32 & 1\\\\\n",
    "    59 & 1\\\\\n",
    "    62 & 1\\\\\n",
    "    125 & 1\n",
    "\\end{bmatrix}\n",
    "\\begin{bmatrix}\n",
    "    c_0\\\\\n",
    "    c_1\n",
    "\\end{bmatrix}\n",
    "=\n",
    "\\begin{bmatrix}\n",
    "   0\\\\\n",
    "   185\\\\\n",
    "   319\\\\\n",
    "   447\\\\\n",
    "   742\\\\\n",
    "   1325\\\\\n",
    "   1445\\\\\n",
    "   4151\n",
    "\\end{bmatrix}\n",
    "$$\n",
    "pois $v(t) = c_0t + c_1$."
   ]
  },
  {
   "cell_type": "code",
   "execution_count": 79,
   "id": "f65027e8",
   "metadata": {},
   "outputs": [
    {
     "name": "stdout",
     "output_type": "stream",
     "text": [
      "c_0 = 32.438909320952575\n",
      "c_1 = -232.97096383346047\n",
      "Altura = 224307.60859075916\n"
     ]
    }
   ],
   "source": [
    "V =\n",
    "[\n",
    "    0 1;\n",
    "    10 1;\n",
    "    15 1;\n",
    "    20 1;\n",
    "    32 1;\n",
    "    59 1;\n",
    "    62 1;\n",
    "    125 1;\n",
    "    \n",
    "]\n",
    "\n",
    "# Velocidades\n",
    "y = \n",
    "[\n",
    "    0;\n",
    "    185;\n",
    "    319;\n",
    "    447; \n",
    "    742;\n",
    "    1325;\n",
    "    1445;\n",
    "    4151;\n",
    "    \n",
    "]\n",
    "\n",
    "# Executa a regressão \n",
    "c = V\\y\n",
    "# Constantes\n",
    "c_0 = c[1]\n",
    "c_1 = c[2]\n",
    "\n",
    "# Constroi a função\n",
    "f(t) = c_0*t + c_1\n",
    "# Aqui utilizamos os tempos t_i dados na tabela, pois a função é contínua\n",
    "a = 0\n",
    "b = 125\n",
    "\n",
    "# Printa o resultado\n",
    "println(\"c_0 = \", c_0)\n",
    "println(\"c_1 = \", c_1)\n",
    "println(\"Altura = \", trapezio(f,a,b,100))"
   ]
  },
  {
   "cell_type": "markdown",
   "id": "d8ddc264",
   "metadata": {},
   "source": [
    "## 3"
   ]
  },
  {
   "cell_type": "markdown",
   "id": "93630fed",
   "metadata": {},
   "source": [
    "### a"
   ]
  },
  {
   "cell_type": "markdown",
   "id": "18f1d687",
   "metadata": {},
   "source": [
    "Sabemos que o intervalo de integração é de 0 a 1, pois $A_c = \\pi r^2 = \\pi$, então $r=1$, e também porque estamos no primeiro quadrante. Sendo assim, isolando $y$, temos\n",
    "$$\n",
    "y = \\sqrt{1-x^2}\n",
    "$$\n",
    "Como queremos h = 0.1, então\n",
    "\\begin{align*}\n",
    "h &= \\frac{b-a}{n}\\\\\n",
    "0.1 &= \\frac{1-0}{n}\\\\\n",
    "n &= 10\n",
    "\\end{align*}\n",
    "Novamente, como estamos no primeiro quadrante, vamos calcular apenas $\\frac{1}{4}$ da área total do círculo. Com isso, precisamos multiplicar a integral por 4 para termos o valor de $\\pi$ aproximado. "
   ]
  },
  {
   "cell_type": "code",
   "execution_count": 80,
   "id": "7646d529",
   "metadata": {},
   "outputs": [
    {
     "name": "stdout",
     "output_type": "stream",
     "text": [
      "π ≈ 3.1045183262483182\n"
     ]
    }
   ],
   "source": [
    "f(x) = sqrt(1-x^2)\n",
    "a = 0\n",
    "b = 1\n",
    "n = 10\n",
    "println(\"π ≈ \", 4*trapezio(f,a,b,n))"
   ]
  },
  {
   "cell_type": "markdown",
   "id": "eea96210",
   "metadata": {},
   "source": [
    "### b"
   ]
  },
  {
   "cell_type": "markdown",
   "id": "3bc01bb6",
   "metadata": {},
   "source": [
    "Calculando o módulo da segunda derivada $y''$, encontramos\n",
    "$$\n",
    "|y''| = \\left|-\\frac{1}{\\sqrt{(1-x^2)}(1-x^2)}\\right| = \\frac{1}{\\sqrt{(1-x^2)}(1-x^2)}\n",
    "$$\n",
    "pois estamos no intervalo $[0,1]$. Como é possivel notar, o maior valor dessa derivada ocorre apenas quando $x \\to 1$, mas nunca temos um valor máximo exato, pois o limite é infinito. Com isso é impossível calcular o erro através dessa fórmula, pois não é possivel garantir um valor máximo."
   ]
  },
  {
   "cell_type": "markdown",
   "id": "5bbb0591",
   "metadata": {},
   "source": [
    "## 4"
   ]
  },
  {
   "cell_type": "markdown",
   "id": "5fec195b",
   "metadata": {},
   "source": [
    "Queremos computar uma integral $I$ do tipo\n",
    "$$\n",
    "I = \\int_{a}^{b}\\int_{f_1(y)}^{f_2(y)} f(x,y) \\,dx\\,dy\n",
    "$$\n",
    "que pode ser reescrita como\n",
    "$$\n",
    "I = \\int_{a}^{b} F(y) \\,dy\n",
    "$$\n",
    "onde\n",
    "$$\n",
    "F(x) = \\int_{f_1(y)}^{f_2(y)} f(x,y) \\,dx\n",
    "$$\n",
    "Utilizando o método do trapézio, temos a fórmula \n",
    "$$\n",
    "I = \\int_{a}^{b} F(y) \\,dy = \\frac{h}{2}\\left(F(a) + 2\\sum_{i=1}^{n-1} F(a+ih) + F(b)\\right)\n",
    "$$\n",
    "que pode ser vista como\n",
    "$$\n",
    "I = \\frac{h}{2}\\left(\\int_{f_1(a)}^{f_2(a)} f(x,a) \\,dx + 2\\sum_{i=1}^{n-1} \\int_{f_1(a+ih)}^{f_2(a+ih)} f(x,a+ih) \\,dx + \\int_{f_1(b)}^{f_2(b)} f(x,b) \\,dx\\right)\n",
    "$$\n",
    "Dessa forma, podemos utilizar o método do trapézio para calcular cada integral separadamente na fórmula acima. O algoritmo abaixo computa esse resultado:"
   ]
  },
  {
   "cell_type": "code",
   "execution_count": 81,
   "id": "05897e44",
   "metadata": {},
   "outputs": [
    {
     "data": {
      "text/plain": [
       "Integral_Dupla (generic function with 1 method)"
      ]
     },
     "execution_count": 81,
     "metadata": {},
     "output_type": "execute_result"
    }
   ],
   "source": [
    "# f: Função com duas variáveis que será integrada\n",
    "# f1: Função que delimita o limite inferior na integral mais interna\n",
    "# f2: Função que delimita o limite superior na integral mais interna\n",
    "# a: Constante que delimita o limite inferior na integral mais externa\n",
    "# b: Constante que delimita o limite superior na integral mais externa\n",
    "# n: Número de subintervalos\n",
    "function Integral_Dupla(f,f1,f2,a,b,n)\n",
    "    # Calcula h\n",
    "    h = (b-a)/n\n",
    "    S = 0\n",
    "    for i in 1:(n-1)\n",
    "        # Calcula o somatório central da fórmula.\n",
    "        y_i = a+i*h\n",
    "        # Função apenas de x com y constante\n",
    "        p1(x) = f(x,y_i)\n",
    "        S += trapezio(p1,f1(y_i),f2(y_i),n)\n",
    "    end\n",
    "    # Calcula o restante dos termos da fórmula\n",
    "    # Funções apenas de x com y constante\n",
    "    p2(x) = f(x,a)\n",
    "    p3(x) = f(x,b)\n",
    "    return (h/2)*( trapezio(p2,f1(a),f2(a),n) + 2*S +  trapezio(p3,f1(b),f2(b),n) )\n",
    "    \n",
    "end"
   ]
  },
  {
   "cell_type": "code",
   "execution_count": 82,
   "id": "bdb89e0b",
   "metadata": {},
   "outputs": [
    {
     "data": {
      "text/plain": [
       "376.8754949999498"
      ]
     },
     "execution_count": 82,
     "metadata": {},
     "output_type": "execute_result"
    }
   ],
   "source": [
    "# Teste\n",
    "f(x,y) = x*y\n",
    "a = 1\n",
    "b = 4\n",
    "h(y) = y\n",
    "g(y) = y^2+1\n",
    "n = 1000\n",
    "\n",
    "Integral_Dupla(f,h,g,a,b,n)"
   ]
  },
  {
   "cell_type": "markdown",
   "id": "dc036a78",
   "metadata": {},
   "source": [
    "*Ref.: https://www.youtube.com/watch?v=0EYLa7ETgwg*"
   ]
  },
  {
   "cell_type": "markdown",
   "id": "1669b784",
   "metadata": {},
   "source": [
    "## 5"
   ]
  },
  {
   "cell_type": "markdown",
   "id": "dc11d290",
   "metadata": {},
   "source": [
    "O método do gradiente descendente pode ser resumido basicamente na fórmula iterativa\n",
    "$$\n",
    "    X_{t+1} = X_t - \\eta\\nabla F(X_t)\n",
    "$$\n",
    "onde $-\\nabla F(X)$ é o vetor que sempre aponta para o maior declive da função $F$. O vetor $X_t$ é utilizado para saber a direção e o sentido desse declive a partir de uma certa posição no espaço. A constante $\\eta$ é utilizada para que haja um controle na iteração, ou seja, que o método tenda a um valor finito e $X_{t+1}$ deverá ser o vetor mais próximo do mínimo da função queremos minimizar.\n",
    "Esta função é\n",
    "$$\n",
    "F(c_0,c_1) = \\sum_{i=0}^{4} (c_0x_i^{c_1} - T(x_i))^2\n",
    "$$\n",
    "O algoritmo abaixo computa o método"
   ]
  },
  {
   "cell_type": "code",
   "execution_count": 87,
   "id": "45e04cbd",
   "metadata": {},
   "outputs": [
    {
     "name": "stdout",
     "output_type": "stream",
     "text": [
      "c_0 = 346.3291589671983\n",
      "c_1 = 1.5641882924926658\n"
     ]
    },
    {
     "data": {
      "image/svg+xml": [
       "<?xml version=\"1.0\" encoding=\"utf-8\"?>\n",
       "<svg xmlns=\"http://www.w3.org/2000/svg\" xmlns:xlink=\"http://www.w3.org/1999/xlink\" width=\"600\" height=\"400\" viewBox=\"0 0 2400 1600\">\n",
       "<defs>\n",
       "  <clipPath id=\"clip110\">\n",
       "    <rect x=\"0\" y=\"0\" width=\"2400\" height=\"1600\"/>\n",
       "  </clipPath>\n",
       "</defs>\n",
       "<path clip-path=\"url(#clip110)\" d=\"\n",
       "M0 1600 L2400 1600 L2400 0 L0 0  Z\n",
       "  \" fill=\"#ffffff\" fill-rule=\"evenodd\" fill-opacity=\"1\"/>\n",
       "<defs>\n",
       "  <clipPath id=\"clip111\">\n",
       "    <rect x=\"480\" y=\"0\" width=\"1681\" height=\"1600\"/>\n",
       "  </clipPath>\n",
       "</defs>\n",
       "<path clip-path=\"url(#clip110)\" d=\"\n",
       "M234.125 1423.18 L2352.76 1423.18 L2352.76 47.2441 L234.125 47.2441  Z\n",
       "  \" fill=\"#ffffff\" fill-rule=\"evenodd\" fill-opacity=\"1\"/>\n",
       "<defs>\n",
       "  <clipPath id=\"clip112\">\n",
       "    <rect x=\"234\" y=\"47\" width=\"2120\" height=\"1377\"/>\n",
       "  </clipPath>\n",
       "</defs>\n",
       "<polyline clip-path=\"url(#clip112)\" style=\"stroke:#000000; stroke-linecap:butt; stroke-linejoin:round; stroke-width:2; stroke-opacity:0.1; fill:none\" points=\"\n",
       "  543.925,1423.18 543.925,47.2441 \n",
       "  \"/>\n",
       "<polyline clip-path=\"url(#clip112)\" style=\"stroke:#000000; stroke-linecap:butt; stroke-linejoin:round; stroke-width:2; stroke-opacity:0.1; fill:none\" points=\"\n",
       "  1043.6,1423.18 1043.6,47.2441 \n",
       "  \"/>\n",
       "<polyline clip-path=\"url(#clip112)\" style=\"stroke:#000000; stroke-linecap:butt; stroke-linejoin:round; stroke-width:2; stroke-opacity:0.1; fill:none\" points=\"\n",
       "  1543.28,1423.18 1543.28,47.2441 \n",
       "  \"/>\n",
       "<polyline clip-path=\"url(#clip112)\" style=\"stroke:#000000; stroke-linecap:butt; stroke-linejoin:round; stroke-width:2; stroke-opacity:0.1; fill:none\" points=\"\n",
       "  2042.96,1423.18 2042.96,47.2441 \n",
       "  \"/>\n",
       "<polyline clip-path=\"url(#clip110)\" style=\"stroke:#000000; stroke-linecap:butt; stroke-linejoin:round; stroke-width:4; stroke-opacity:1; fill:none\" points=\"\n",
       "  234.125,1423.18 2352.76,1423.18 \n",
       "  \"/>\n",
       "<polyline clip-path=\"url(#clip110)\" style=\"stroke:#000000; stroke-linecap:butt; stroke-linejoin:round; stroke-width:4; stroke-opacity:1; fill:none\" points=\"\n",
       "  543.925,1423.18 543.925,1404.28 \n",
       "  \"/>\n",
       "<polyline clip-path=\"url(#clip110)\" style=\"stroke:#000000; stroke-linecap:butt; stroke-linejoin:round; stroke-width:4; stroke-opacity:1; fill:none\" points=\"\n",
       "  1043.6,1423.18 1043.6,1404.28 \n",
       "  \"/>\n",
       "<polyline clip-path=\"url(#clip110)\" style=\"stroke:#000000; stroke-linecap:butt; stroke-linejoin:round; stroke-width:4; stroke-opacity:1; fill:none\" points=\"\n",
       "  1543.28,1423.18 1543.28,1404.28 \n",
       "  \"/>\n",
       "<polyline clip-path=\"url(#clip110)\" style=\"stroke:#000000; stroke-linecap:butt; stroke-linejoin:round; stroke-width:4; stroke-opacity:1; fill:none\" points=\"\n",
       "  2042.96,1423.18 2042.96,1404.28 \n",
       "  \"/>\n",
       "<path clip-path=\"url(#clip110)\" d=\"M522.108 1454.1 Q518.497 1454.1 516.668 1457.66 Q514.863 1461.2 514.863 1468.33 Q514.863 1475.44 516.668 1479.01 Q518.497 1482.55 522.108 1482.55 Q525.742 1482.55 527.548 1479.01 Q529.377 1475.44 529.377 1468.33 Q529.377 1461.2 527.548 1457.66 Q525.742 1454.1 522.108 1454.1 M522.108 1450.39 Q527.918 1450.39 530.974 1455 Q534.053 1459.58 534.053 1468.33 Q534.053 1477.06 530.974 1481.67 Q527.918 1486.25 522.108 1486.25 Q516.298 1486.25 513.219 1481.67 Q510.164 1477.06 510.164 1468.33 Q510.164 1459.58 513.219 1455 Q516.298 1450.39 522.108 1450.39 Z\" fill=\"#000000\" fill-rule=\"evenodd\" fill-opacity=\"1\" /><path clip-path=\"url(#clip110)\" d=\"M542.27 1479.7 L547.154 1479.7 L547.154 1485.58 L542.27 1485.58 L542.27 1479.7 Z\" fill=\"#000000\" fill-rule=\"evenodd\" fill-opacity=\"1\" /><path clip-path=\"url(#clip110)\" d=\"M561.367 1481.64 L577.687 1481.64 L577.687 1485.58 L555.742 1485.58 L555.742 1481.64 Q558.404 1478.89 562.988 1474.26 Q567.594 1469.61 568.775 1468.27 Q571.02 1465.74 571.9 1464.01 Q572.802 1462.25 572.802 1460.56 Q572.802 1457.8 570.858 1456.07 Q568.937 1454.33 565.835 1454.33 Q563.636 1454.33 561.182 1455.09 Q558.751 1455.86 555.974 1457.41 L555.974 1452.69 Q558.798 1451.55 561.251 1450.97 Q563.705 1450.39 565.742 1450.39 Q571.113 1450.39 574.307 1453.08 Q577.501 1455.77 577.501 1460.26 Q577.501 1462.39 576.691 1464.31 Q575.904 1466.2 573.798 1468.8 Q573.219 1469.47 570.117 1472.69 Q567.015 1475.88 561.367 1481.64 Z\" fill=\"#000000\" fill-rule=\"evenodd\" fill-opacity=\"1\" /><path clip-path=\"url(#clip110)\" d=\"M1020.74 1454.1 Q1017.13 1454.1 1015.3 1457.66 Q1013.5 1461.2 1013.5 1468.33 Q1013.5 1475.44 1015.3 1479.01 Q1017.13 1482.55 1020.74 1482.55 Q1024.38 1482.55 1026.18 1479.01 Q1028.01 1475.44 1028.01 1468.33 Q1028.01 1461.2 1026.18 1457.66 Q1024.38 1454.1 1020.74 1454.1 M1020.74 1450.39 Q1026.55 1450.39 1029.61 1455 Q1032.69 1459.58 1032.69 1468.33 Q1032.69 1477.06 1029.61 1481.67 Q1026.55 1486.25 1020.74 1486.25 Q1014.93 1486.25 1011.85 1481.67 Q1008.8 1477.06 1008.8 1468.33 Q1008.8 1459.58 1011.85 1455 Q1014.93 1450.39 1020.74 1450.39 Z\" fill=\"#000000\" fill-rule=\"evenodd\" fill-opacity=\"1\" /><path clip-path=\"url(#clip110)\" d=\"M1040.91 1479.7 L1045.79 1479.7 L1045.79 1485.58 L1040.91 1485.58 L1040.91 1479.7 Z\" fill=\"#000000\" fill-rule=\"evenodd\" fill-opacity=\"1\" /><path clip-path=\"url(#clip110)\" d=\"M1068.82 1455.09 L1057.02 1473.54 L1068.82 1473.54 L1068.82 1455.09 M1067.6 1451.02 L1073.47 1451.02 L1073.47 1473.54 L1078.41 1473.54 L1078.41 1477.43 L1073.47 1477.43 L1073.47 1485.58 L1068.82 1485.58 L1068.82 1477.43 L1053.22 1477.43 L1053.22 1472.92 L1067.6 1451.02 Z\" fill=\"#000000\" fill-rule=\"evenodd\" fill-opacity=\"1\" /><path clip-path=\"url(#clip110)\" d=\"M1520.58 1454.1 Q1516.97 1454.1 1515.14 1457.66 Q1513.34 1461.2 1513.34 1468.33 Q1513.34 1475.44 1515.14 1479.01 Q1516.97 1482.55 1520.58 1482.55 Q1524.22 1482.55 1526.02 1479.01 Q1527.85 1475.44 1527.85 1468.33 Q1527.85 1461.2 1526.02 1457.66 Q1524.22 1454.1 1520.58 1454.1 M1520.58 1450.39 Q1526.39 1450.39 1529.45 1455 Q1532.53 1459.58 1532.53 1468.33 Q1532.53 1477.06 1529.45 1481.67 Q1526.39 1486.25 1520.58 1486.25 Q1514.77 1486.25 1511.69 1481.67 Q1508.64 1477.06 1508.64 1468.33 Q1508.64 1459.58 1511.69 1455 Q1514.77 1450.39 1520.58 1450.39 Z\" fill=\"#000000\" fill-rule=\"evenodd\" fill-opacity=\"1\" /><path clip-path=\"url(#clip110)\" d=\"M1540.74 1479.7 L1545.63 1479.7 L1545.63 1485.58 L1540.74 1485.58 L1540.74 1479.7 Z\" fill=\"#000000\" fill-rule=\"evenodd\" fill-opacity=\"1\" /><path clip-path=\"url(#clip110)\" d=\"M1566.39 1466.44 Q1563.24 1466.44 1561.39 1468.59 Q1559.56 1470.74 1559.56 1474.49 Q1559.56 1478.22 1561.39 1480.39 Q1563.24 1482.55 1566.39 1482.55 Q1569.54 1482.55 1571.37 1480.39 Q1573.22 1478.22 1573.22 1474.49 Q1573.22 1470.74 1571.37 1468.59 Q1569.54 1466.44 1566.39 1466.44 M1575.67 1451.78 L1575.67 1456.04 Q1573.92 1455.21 1572.11 1454.77 Q1570.33 1454.33 1568.57 1454.33 Q1563.94 1454.33 1561.49 1457.45 Q1559.05 1460.58 1558.71 1466.9 Q1560.07 1464.89 1562.13 1463.82 Q1564.19 1462.73 1566.67 1462.73 Q1571.88 1462.73 1574.89 1465.9 Q1577.92 1469.05 1577.92 1474.49 Q1577.92 1479.82 1574.77 1483.03 Q1571.62 1486.25 1566.39 1486.25 Q1560.4 1486.25 1557.23 1481.67 Q1554.05 1477.06 1554.05 1468.33 Q1554.05 1460.14 1557.94 1455.28 Q1561.83 1450.39 1568.38 1450.39 Q1570.14 1450.39 1571.92 1450.74 Q1573.73 1451.09 1575.67 1451.78 Z\" fill=\"#000000\" fill-rule=\"evenodd\" fill-opacity=\"1\" /><path clip-path=\"url(#clip110)\" d=\"M2020.39 1454.1 Q2016.78 1454.1 2014.95 1457.66 Q2013.14 1461.2 2013.14 1468.33 Q2013.14 1475.44 2014.95 1479.01 Q2016.78 1482.55 2020.39 1482.55 Q2024.02 1482.55 2025.83 1479.01 Q2027.66 1475.44 2027.66 1468.33 Q2027.66 1461.2 2025.83 1457.66 Q2024.02 1454.1 2020.39 1454.1 M2020.39 1450.39 Q2026.2 1450.39 2029.25 1455 Q2032.33 1459.58 2032.33 1468.33 Q2032.33 1477.06 2029.25 1481.67 Q2026.2 1486.25 2020.39 1486.25 Q2014.58 1486.25 2011.5 1481.67 Q2008.44 1477.06 2008.44 1468.33 Q2008.44 1459.58 2011.5 1455 Q2014.58 1450.39 2020.39 1450.39 Z\" fill=\"#000000\" fill-rule=\"evenodd\" fill-opacity=\"1\" /><path clip-path=\"url(#clip110)\" d=\"M2040.55 1479.7 L2045.43 1479.7 L2045.43 1485.58 L2040.55 1485.58 L2040.55 1479.7 Z\" fill=\"#000000\" fill-rule=\"evenodd\" fill-opacity=\"1\" /><path clip-path=\"url(#clip110)\" d=\"M2065.62 1469.17 Q2062.28 1469.17 2060.36 1470.95 Q2058.47 1472.73 2058.47 1475.86 Q2058.47 1478.98 2060.36 1480.77 Q2062.28 1482.55 2065.62 1482.55 Q2068.95 1482.55 2070.87 1480.77 Q2072.79 1478.96 2072.79 1475.86 Q2072.79 1472.73 2070.87 1470.95 Q2068.97 1469.17 2065.62 1469.17 M2060.94 1467.18 Q2057.93 1466.44 2056.24 1464.38 Q2054.58 1462.32 2054.58 1459.35 Q2054.58 1455.21 2057.52 1452.8 Q2060.48 1450.39 2065.62 1450.39 Q2070.78 1450.39 2073.72 1452.8 Q2076.66 1455.21 2076.66 1459.35 Q2076.66 1462.32 2074.97 1464.38 Q2073.3 1466.44 2070.32 1467.18 Q2073.7 1467.96 2075.57 1470.26 Q2077.47 1472.55 2077.47 1475.86 Q2077.47 1480.88 2074.39 1483.57 Q2071.34 1486.25 2065.62 1486.25 Q2059.9 1486.25 2056.82 1483.57 Q2053.77 1480.88 2053.77 1475.86 Q2053.77 1472.55 2055.66 1470.26 Q2057.56 1467.96 2060.94 1467.18 M2059.23 1459.79 Q2059.23 1462.48 2060.9 1463.98 Q2062.59 1465.49 2065.62 1465.49 Q2068.63 1465.49 2070.32 1463.98 Q2072.03 1462.48 2072.03 1459.79 Q2072.03 1457.11 2070.32 1455.6 Q2068.63 1454.1 2065.62 1454.1 Q2062.59 1454.1 2060.9 1455.6 Q2059.23 1457.11 2059.23 1459.79 Z\" fill=\"#000000\" fill-rule=\"evenodd\" fill-opacity=\"1\" /><path clip-path=\"url(#clip110)\" d=\"M1182.55 1525.81 L1182.55 1543.66 L1190.63 1543.66 Q1195.12 1543.66 1197.57 1541.34 Q1200.02 1539.02 1200.02 1534.72 Q1200.02 1530.45 1197.57 1528.13 Q1195.12 1525.81 1190.63 1525.81 L1182.55 1525.81 M1176.12 1520.52 L1190.63 1520.52 Q1198.62 1520.52 1202.7 1524.15 Q1206.8 1527.75 1206.8 1534.72 Q1206.8 1541.75 1202.7 1545.35 Q1198.62 1548.95 1190.63 1548.95 L1182.55 1548.95 L1182.55 1568.04 L1176.12 1568.04 L1176.12 1520.52 Z\" fill=\"#000000\" fill-rule=\"evenodd\" fill-opacity=\"1\" /><path clip-path=\"url(#clip110)\" d=\"M1226.66 1536.5 Q1221.95 1536.5 1219.22 1540.19 Q1216.48 1543.85 1216.48 1550.25 Q1216.48 1556.65 1219.18 1560.34 Q1221.92 1564 1226.66 1564 Q1231.34 1564 1234.08 1560.31 Q1236.82 1556.62 1236.82 1550.25 Q1236.82 1543.92 1234.08 1540.23 Q1231.34 1536.5 1226.66 1536.5 M1226.66 1531.54 Q1234.3 1531.54 1238.66 1536.5 Q1243.02 1541.47 1243.02 1550.25 Q1243.02 1559 1238.66 1564 Q1234.3 1568.97 1226.66 1568.97 Q1218.99 1568.97 1214.63 1564 Q1210.3 1559 1210.3 1550.25 Q1210.3 1541.47 1214.63 1536.5 Q1218.99 1531.54 1226.66 1531.54 Z\" fill=\"#000000\" fill-rule=\"evenodd\" fill-opacity=\"1\" /><path clip-path=\"url(#clip110)\" d=\"M1275.46 1533.45 L1275.46 1538.98 Q1272.97 1537.71 1270.3 1537.07 Q1267.63 1536.44 1264.76 1536.44 Q1260.4 1536.44 1258.21 1537.77 Q1256.04 1539.11 1256.04 1541.79 Q1256.04 1543.82 1257.6 1545 Q1259.16 1546.15 1263.87 1547.2 L1265.88 1547.64 Q1272.12 1548.98 1274.73 1551.43 Q1277.37 1553.85 1277.37 1558.21 Q1277.37 1563.17 1273.42 1566.07 Q1269.51 1568.97 1262.63 1568.97 Q1259.77 1568.97 1256.65 1568.39 Q1253.56 1567.85 1250.12 1566.74 L1250.12 1560.69 Q1253.37 1562.38 1256.52 1563.24 Q1259.67 1564.07 1262.76 1564.07 Q1266.9 1564.07 1269.12 1562.66 Q1271.35 1561.23 1271.35 1558.65 Q1271.35 1556.27 1269.73 1554.99 Q1268.14 1553.72 1262.69 1552.54 L1260.66 1552.07 Q1255.21 1550.92 1252.8 1548.56 Q1250.38 1546.18 1250.38 1542.04 Q1250.38 1537.01 1253.94 1534.27 Q1257.51 1531.54 1264.06 1531.54 Q1267.31 1531.54 1270.17 1532.01 Q1273.04 1532.49 1275.46 1533.45 Z\" fill=\"#000000\" fill-rule=\"evenodd\" fill-opacity=\"1\" /><path clip-path=\"url(#clip110)\" d=\"M1286.69 1532.4 L1292.55 1532.4 L1292.55 1568.04 L1286.69 1568.04 L1286.69 1532.4 M1286.69 1518.52 L1292.55 1518.52 L1292.55 1525.93 L1286.69 1525.93 L1286.69 1518.52 Z\" fill=\"#000000\" fill-rule=\"evenodd\" fill-opacity=\"1\" /><path clip-path=\"url(#clip110)\" d=\"M1330.46 1533.76 L1330.46 1539.24 Q1327.97 1537.87 1325.46 1537.2 Q1322.98 1536.5 1320.43 1536.5 Q1314.73 1536.5 1311.58 1540.13 Q1308.43 1543.73 1308.43 1550.25 Q1308.43 1556.78 1311.58 1560.4 Q1314.73 1564 1320.43 1564 Q1322.98 1564 1325.46 1563.33 Q1327.97 1562.63 1330.46 1561.26 L1330.46 1566.68 Q1328.01 1567.82 1325.36 1568.39 Q1322.75 1568.97 1319.79 1568.97 Q1311.74 1568.97 1307 1563.91 Q1302.26 1558.85 1302.26 1550.25 Q1302.26 1541.53 1307.03 1536.53 Q1311.84 1531.54 1320.18 1531.54 Q1322.88 1531.54 1325.46 1532.11 Q1328.04 1532.65 1330.46 1533.76 M1322.18 1568.04 Q1323.93 1570.02 1324.79 1571.67 Q1325.65 1573.36 1325.65 1574.89 Q1325.65 1577.72 1323.74 1579.15 Q1321.83 1580.62 1318.08 1580.62 Q1316.61 1580.62 1315.21 1580.43 Q1313.84 1580.23 1312.47 1579.85 L1312.47 1575.68 Q1313.56 1576.22 1314.73 1576.45 Q1315.91 1576.7 1317.41 1576.7 Q1319.29 1576.7 1320.24 1575.94 Q1321.2 1575.17 1321.2 1573.71 Q1321.2 1572.75 1320.49 1571.35 Q1319.83 1569.99 1318.39 1568.04 L1322.18 1568.04 Z\" fill=\"#000000\" fill-rule=\"evenodd\" fill-opacity=\"1\" /><path clip-path=\"url(#clip110)\" d=\"M1356.84 1550.12 Q1349.75 1550.12 1347.01 1551.75 Q1344.27 1553.37 1344.27 1557.29 Q1344.27 1560.4 1346.31 1562.25 Q1348.38 1564.07 1351.91 1564.07 Q1356.78 1564.07 1359.71 1560.63 Q1362.67 1557.16 1362.67 1551.43 L1362.67 1550.12 L1356.84 1550.12 M1368.52 1547.71 L1368.52 1568.04 L1362.67 1568.04 L1362.67 1562.63 Q1360.66 1565.88 1357.67 1567.44 Q1354.68 1568.97 1350.35 1568.97 Q1344.88 1568.97 1341.63 1565.91 Q1338.41 1562.82 1338.41 1557.67 Q1338.41 1551.65 1342.42 1548.6 Q1346.47 1545.54 1354.46 1545.54 L1362.67 1545.54 L1362.67 1544.97 Q1362.67 1540.93 1359.99 1538.73 Q1357.35 1536.5 1352.55 1536.5 Q1349.49 1536.5 1346.59 1537.23 Q1343.7 1537.97 1341.02 1539.43 L1341.02 1534.02 Q1344.24 1532.78 1347.26 1532.17 Q1350.29 1531.54 1353.15 1531.54 Q1360.89 1531.54 1364.7 1535.55 Q1368.52 1539.56 1368.52 1547.71 M1353.28 1524.44 L1351.46 1522.69 Q1350.76 1522.05 1350.22 1521.77 Q1349.71 1521.45 1349.3 1521.45 Q1348.09 1521.45 1347.52 1522.62 Q1346.94 1523.77 1346.88 1526.38 L1342.9 1526.38 Q1342.97 1522.08 1344.59 1519.76 Q1346.21 1517.4 1349.11 1517.4 Q1350.32 1517.4 1351.34 1517.85 Q1352.36 1518.3 1353.53 1519.35 L1355.35 1521.1 Q1356.05 1521.73 1356.56 1522.05 Q1357.1 1522.34 1357.51 1522.34 Q1358.72 1522.34 1359.29 1521.19 Q1359.87 1520.01 1359.93 1517.4 L1363.91 1517.4 Q1363.85 1521.7 1362.22 1524.06 Q1360.6 1526.38 1357.7 1526.38 Q1356.49 1526.38 1355.47 1525.93 Q1354.46 1525.49 1353.28 1524.44 Z\" fill=\"#000000\" fill-rule=\"evenodd\" fill-opacity=\"1\" /><path clip-path=\"url(#clip110)\" d=\"M1394.4 1536.5 Q1389.69 1536.5 1386.95 1540.19 Q1384.22 1543.85 1384.22 1550.25 Q1384.22 1556.65 1386.92 1560.34 Q1389.66 1564 1394.4 1564 Q1399.08 1564 1401.82 1560.31 Q1404.55 1556.62 1404.55 1550.25 Q1404.55 1543.92 1401.82 1540.23 Q1399.08 1536.5 1394.4 1536.5 M1394.4 1531.54 Q1402.04 1531.54 1406.4 1536.5 Q1410.76 1541.47 1410.76 1550.25 Q1410.76 1559 1406.4 1564 Q1402.04 1568.97 1394.4 1568.97 Q1386.73 1568.97 1382.37 1564 Q1378.04 1559 1378.04 1550.25 Q1378.04 1541.47 1382.37 1536.5 Q1386.73 1531.54 1394.4 1531.54 Z\" fill=\"#000000\" fill-rule=\"evenodd\" fill-opacity=\"1\" /><polyline clip-path=\"url(#clip112)\" style=\"stroke:#000000; stroke-linecap:butt; stroke-linejoin:round; stroke-width:2; stroke-opacity:0.1; fill:none\" points=\"\n",
       "  234.125,1214.73 2352.76,1214.73 \n",
       "  \"/>\n",
       "<polyline clip-path=\"url(#clip112)\" style=\"stroke:#000000; stroke-linecap:butt; stroke-linejoin:round; stroke-width:2; stroke-opacity:0.1; fill:none\" points=\"\n",
       "  234.125,1005.74 2352.76,1005.74 \n",
       "  \"/>\n",
       "<polyline clip-path=\"url(#clip112)\" style=\"stroke:#000000; stroke-linecap:butt; stroke-linejoin:round; stroke-width:2; stroke-opacity:0.1; fill:none\" points=\"\n",
       "  234.125,796.754 2352.76,796.754 \n",
       "  \"/>\n",
       "<polyline clip-path=\"url(#clip112)\" style=\"stroke:#000000; stroke-linecap:butt; stroke-linejoin:round; stroke-width:2; stroke-opacity:0.1; fill:none\" points=\"\n",
       "  234.125,587.763 2352.76,587.763 \n",
       "  \"/>\n",
       "<polyline clip-path=\"url(#clip112)\" style=\"stroke:#000000; stroke-linecap:butt; stroke-linejoin:round; stroke-width:2; stroke-opacity:0.1; fill:none\" points=\"\n",
       "  234.125,378.773 2352.76,378.773 \n",
       "  \"/>\n",
       "<polyline clip-path=\"url(#clip112)\" style=\"stroke:#000000; stroke-linecap:butt; stroke-linejoin:round; stroke-width:2; stroke-opacity:0.1; fill:none\" points=\"\n",
       "  234.125,169.782 2352.76,169.782 \n",
       "  \"/>\n",
       "<polyline clip-path=\"url(#clip110)\" style=\"stroke:#000000; stroke-linecap:butt; stroke-linejoin:round; stroke-width:4; stroke-opacity:1; fill:none\" points=\"\n",
       "  234.125,1423.18 234.125,47.2441 \n",
       "  \"/>\n",
       "<polyline clip-path=\"url(#clip110)\" style=\"stroke:#000000; stroke-linecap:butt; stroke-linejoin:round; stroke-width:4; stroke-opacity:1; fill:none\" points=\"\n",
       "  234.125,1214.73 253.023,1214.73 \n",
       "  \"/>\n",
       "<polyline clip-path=\"url(#clip110)\" style=\"stroke:#000000; stroke-linecap:butt; stroke-linejoin:round; stroke-width:4; stroke-opacity:1; fill:none\" points=\"\n",
       "  234.125,1005.74 253.023,1005.74 \n",
       "  \"/>\n",
       "<polyline clip-path=\"url(#clip110)\" style=\"stroke:#000000; stroke-linecap:butt; stroke-linejoin:round; stroke-width:4; stroke-opacity:1; fill:none\" points=\"\n",
       "  234.125,796.754 253.023,796.754 \n",
       "  \"/>\n",
       "<polyline clip-path=\"url(#clip110)\" style=\"stroke:#000000; stroke-linecap:butt; stroke-linejoin:round; stroke-width:4; stroke-opacity:1; fill:none\" points=\"\n",
       "  234.125,587.763 253.023,587.763 \n",
       "  \"/>\n",
       "<polyline clip-path=\"url(#clip110)\" style=\"stroke:#000000; stroke-linecap:butt; stroke-linejoin:round; stroke-width:4; stroke-opacity:1; fill:none\" points=\"\n",
       "  234.125,378.773 253.023,378.773 \n",
       "  \"/>\n",
       "<polyline clip-path=\"url(#clip110)\" style=\"stroke:#000000; stroke-linecap:butt; stroke-linejoin:round; stroke-width:4; stroke-opacity:1; fill:none\" points=\"\n",
       "  234.125,169.782 253.023,169.782 \n",
       "  \"/>\n",
       "<path clip-path=\"url(#clip110)\" d=\"M146.066 1197.45 L164.422 1197.45 L164.422 1201.39 L150.348 1201.39 L150.348 1209.86 Q151.366 1209.52 152.385 1209.35 Q153.403 1209.17 154.422 1209.17 Q160.209 1209.17 163.589 1212.34 Q166.968 1215.51 166.968 1220.93 Q166.968 1226.51 163.496 1229.61 Q160.024 1232.69 153.704 1232.69 Q151.528 1232.69 149.26 1232.32 Q147.015 1231.95 144.607 1231.2 L144.607 1226.51 Q146.691 1227.64 148.913 1228.2 Q151.135 1228.75 153.612 1228.75 Q157.616 1228.75 159.954 1226.64 Q162.292 1224.54 162.292 1220.93 Q162.292 1217.32 159.954 1215.21 Q157.616 1213.1 153.612 1213.1 Q151.737 1213.1 149.862 1213.52 Q148.01 1213.94 146.066 1214.82 L146.066 1197.45 Z\" fill=\"#000000\" fill-rule=\"evenodd\" fill-opacity=\"1\" /><path clip-path=\"url(#clip110)\" d=\"M186.181 1200.53 Q182.57 1200.53 180.741 1204.1 Q178.936 1207.64 178.936 1214.77 Q178.936 1221.88 180.741 1225.44 Q182.57 1228.98 186.181 1228.98 Q189.815 1228.98 191.621 1225.44 Q193.45 1221.88 193.45 1214.77 Q193.45 1207.64 191.621 1204.1 Q189.815 1200.53 186.181 1200.53 M186.181 1196.83 Q191.991 1196.83 195.047 1201.44 Q198.125 1206.02 198.125 1214.77 Q198.125 1223.5 195.047 1228.1 Q191.991 1232.69 186.181 1232.69 Q180.371 1232.69 177.292 1228.1 Q174.237 1223.5 174.237 1214.77 Q174.237 1206.02 177.292 1201.44 Q180.371 1196.83 186.181 1196.83 Z\" fill=\"#000000\" fill-rule=\"evenodd\" fill-opacity=\"1\" /><path clip-path=\"url(#clip110)\" d=\"M116.668 1019.09 L124.306 1019.09 L124.306 992.724 L115.996 994.39 L115.996 990.131 L124.26 988.464 L128.936 988.464 L128.936 1019.09 L136.575 1019.09 L136.575 1023.02 L116.668 1023.02 L116.668 1019.09 Z\" fill=\"#000000\" fill-rule=\"evenodd\" fill-opacity=\"1\" /><path clip-path=\"url(#clip110)\" d=\"M156.019 991.543 Q152.408 991.543 150.579 995.108 Q148.774 998.649 148.774 1005.78 Q148.774 1012.89 150.579 1016.45 Q152.408 1019.99 156.019 1019.99 Q159.653 1019.99 161.459 1016.45 Q163.288 1012.89 163.288 1005.78 Q163.288 998.649 161.459 995.108 Q159.653 991.543 156.019 991.543 M156.019 987.839 Q161.829 987.839 164.885 992.446 Q167.964 997.029 167.964 1005.78 Q167.964 1014.51 164.885 1019.11 Q161.829 1023.7 156.019 1023.7 Q150.209 1023.7 147.13 1019.11 Q144.075 1014.51 144.075 1005.78 Q144.075 997.029 147.13 992.446 Q150.209 987.839 156.019 987.839 Z\" fill=\"#000000\" fill-rule=\"evenodd\" fill-opacity=\"1\" /><path clip-path=\"url(#clip110)\" d=\"M186.181 991.543 Q182.57 991.543 180.741 995.108 Q178.936 998.649 178.936 1005.78 Q178.936 1012.89 180.741 1016.45 Q182.57 1019.99 186.181 1019.99 Q189.815 1019.99 191.621 1016.45 Q193.45 1012.89 193.45 1005.78 Q193.45 998.649 191.621 995.108 Q189.815 991.543 186.181 991.543 M186.181 987.839 Q191.991 987.839 195.047 992.446 Q198.125 997.029 198.125 1005.78 Q198.125 1014.51 195.047 1019.11 Q191.991 1023.7 186.181 1023.7 Q180.371 1023.7 177.292 1019.11 Q174.237 1014.51 174.237 1005.78 Q174.237 997.029 177.292 992.446 Q180.371 987.839 186.181 987.839 Z\" fill=\"#000000\" fill-rule=\"evenodd\" fill-opacity=\"1\" /><path clip-path=\"url(#clip110)\" d=\"M116.668 810.099 L124.306 810.099 L124.306 783.733 L115.996 785.4 L115.996 781.14 L124.26 779.474 L128.936 779.474 L128.936 810.099 L136.575 810.099 L136.575 814.034 L116.668 814.034 L116.668 810.099 Z\" fill=\"#000000\" fill-rule=\"evenodd\" fill-opacity=\"1\" /><path clip-path=\"url(#clip110)\" d=\"M146.066 779.474 L164.422 779.474 L164.422 783.409 L150.348 783.409 L150.348 791.881 Q151.366 791.534 152.385 791.372 Q153.403 791.187 154.422 791.187 Q160.209 791.187 163.589 794.358 Q166.968 797.529 166.968 802.946 Q166.968 808.525 163.496 811.626 Q160.024 814.705 153.704 814.705 Q151.528 814.705 149.26 814.335 Q147.015 813.964 144.607 813.224 L144.607 808.525 Q146.691 809.659 148.913 810.214 Q151.135 810.77 153.612 810.77 Q157.616 810.77 159.954 808.663 Q162.292 806.557 162.292 802.946 Q162.292 799.335 159.954 797.228 Q157.616 795.122 153.612 795.122 Q151.737 795.122 149.862 795.538 Q148.01 795.955 146.066 796.835 L146.066 779.474 Z\" fill=\"#000000\" fill-rule=\"evenodd\" fill-opacity=\"1\" /><path clip-path=\"url(#clip110)\" d=\"M186.181 782.552 Q182.57 782.552 180.741 786.117 Q178.936 789.659 178.936 796.788 Q178.936 803.895 180.741 807.46 Q182.57 811.001 186.181 811.001 Q189.815 811.001 191.621 807.46 Q193.45 803.895 193.45 796.788 Q193.45 789.659 191.621 786.117 Q189.815 782.552 186.181 782.552 M186.181 778.849 Q191.991 778.849 195.047 783.455 Q198.125 788.039 198.125 796.788 Q198.125 805.515 195.047 810.122 Q191.991 814.705 186.181 814.705 Q180.371 814.705 177.292 810.122 Q174.237 805.515 174.237 796.788 Q174.237 788.039 177.292 783.455 Q180.371 778.849 186.181 778.849 Z\" fill=\"#000000\" fill-rule=\"evenodd\" fill-opacity=\"1\" /><path clip-path=\"url(#clip110)\" d=\"M119.885 601.108 L136.204 601.108 L136.204 605.043 L114.26 605.043 L114.26 601.108 Q116.922 598.353 121.505 593.724 Q126.112 589.071 127.292 587.728 Q129.538 585.205 130.417 583.469 Q131.32 581.71 131.32 580.02 Q131.32 577.266 129.376 575.529 Q127.455 573.793 124.353 573.793 Q122.154 573.793 119.7 574.557 Q117.269 575.321 114.492 576.872 L114.492 572.15 Q117.316 571.016 119.769 570.437 Q122.223 569.858 124.26 569.858 Q129.63 569.858 132.825 572.543 Q136.019 575.228 136.019 579.719 Q136.019 581.849 135.209 583.77 Q134.422 585.668 132.316 588.261 Q131.737 588.932 128.635 592.15 Q125.533 595.344 119.885 601.108 Z\" fill=\"#000000\" fill-rule=\"evenodd\" fill-opacity=\"1\" /><path clip-path=\"url(#clip110)\" d=\"M156.019 573.562 Q152.408 573.562 150.579 577.127 Q148.774 580.668 148.774 587.798 Q148.774 594.904 150.579 598.469 Q152.408 602.011 156.019 602.011 Q159.653 602.011 161.459 598.469 Q163.288 594.904 163.288 587.798 Q163.288 580.668 161.459 577.127 Q159.653 573.562 156.019 573.562 M156.019 569.858 Q161.829 569.858 164.885 574.465 Q167.964 579.048 167.964 587.798 Q167.964 596.525 164.885 601.131 Q161.829 605.714 156.019 605.714 Q150.209 605.714 147.13 601.131 Q144.075 596.525 144.075 587.798 Q144.075 579.048 147.13 574.465 Q150.209 569.858 156.019 569.858 Z\" fill=\"#000000\" fill-rule=\"evenodd\" fill-opacity=\"1\" /><path clip-path=\"url(#clip110)\" d=\"M186.181 573.562 Q182.57 573.562 180.741 577.127 Q178.936 580.668 178.936 587.798 Q178.936 594.904 180.741 598.469 Q182.57 602.011 186.181 602.011 Q189.815 602.011 191.621 598.469 Q193.45 594.904 193.45 587.798 Q193.45 580.668 191.621 577.127 Q189.815 573.562 186.181 573.562 M186.181 569.858 Q191.991 569.858 195.047 574.465 Q198.125 579.048 198.125 587.798 Q198.125 596.525 195.047 601.131 Q191.991 605.714 186.181 605.714 Q180.371 605.714 177.292 601.131 Q174.237 596.525 174.237 587.798 Q174.237 579.048 177.292 574.465 Q180.371 569.858 186.181 569.858 Z\" fill=\"#000000\" fill-rule=\"evenodd\" fill-opacity=\"1\" /><path clip-path=\"url(#clip110)\" d=\"M119.885 392.117 L136.204 392.117 L136.204 396.053 L114.26 396.053 L114.26 392.117 Q116.922 389.363 121.505 384.733 Q126.112 380.08 127.292 378.738 Q129.538 376.215 130.417 374.479 Q131.32 372.719 131.32 371.03 Q131.32 368.275 129.376 366.539 Q127.455 364.803 124.353 364.803 Q122.154 364.803 119.7 365.567 Q117.269 366.33 114.492 367.881 L114.492 363.159 Q117.316 362.025 119.769 361.446 Q122.223 360.868 124.26 360.868 Q129.63 360.868 132.825 363.553 Q136.019 366.238 136.019 370.729 Q136.019 372.858 135.209 374.779 Q134.422 376.678 132.316 379.27 Q131.737 379.942 128.635 383.159 Q125.533 386.354 119.885 392.117 Z\" fill=\"#000000\" fill-rule=\"evenodd\" fill-opacity=\"1\" /><path clip-path=\"url(#clip110)\" d=\"M146.066 361.493 L164.422 361.493 L164.422 365.428 L150.348 365.428 L150.348 373.9 Q151.366 373.553 152.385 373.391 Q153.403 373.205 154.422 373.205 Q160.209 373.205 163.589 376.377 Q166.968 379.548 166.968 384.965 Q166.968 390.543 163.496 393.645 Q160.024 396.724 153.704 396.724 Q151.528 396.724 149.26 396.353 Q147.015 395.983 144.607 395.242 L144.607 390.543 Q146.691 391.678 148.913 392.233 Q151.135 392.789 153.612 392.789 Q157.616 392.789 159.954 390.682 Q162.292 388.576 162.292 384.965 Q162.292 381.354 159.954 379.247 Q157.616 377.141 153.612 377.141 Q151.737 377.141 149.862 377.557 Q148.01 377.974 146.066 378.854 L146.066 361.493 Z\" fill=\"#000000\" fill-rule=\"evenodd\" fill-opacity=\"1\" /><path clip-path=\"url(#clip110)\" d=\"M186.181 364.571 Q182.57 364.571 180.741 368.136 Q178.936 371.678 178.936 378.807 Q178.936 385.914 180.741 389.478 Q182.57 393.02 186.181 393.02 Q189.815 393.02 191.621 389.478 Q193.45 385.914 193.45 378.807 Q193.45 371.678 191.621 368.136 Q189.815 364.571 186.181 364.571 M186.181 360.868 Q191.991 360.868 195.047 365.474 Q198.125 370.057 198.125 378.807 Q198.125 387.534 195.047 392.141 Q191.991 396.724 186.181 396.724 Q180.371 396.724 177.292 392.141 Q174.237 387.534 174.237 378.807 Q174.237 370.057 177.292 365.474 Q180.371 360.868 186.181 360.868 Z\" fill=\"#000000\" fill-rule=\"evenodd\" fill-opacity=\"1\" /><path clip-path=\"url(#clip110)\" d=\"M130.024 168.428 Q133.38 169.145 135.255 171.414 Q137.154 173.682 137.154 177.016 Q137.154 182.131 133.635 184.932 Q130.117 187.733 123.635 187.733 Q121.459 187.733 119.144 187.293 Q116.853 186.877 114.399 186.02 L114.399 181.506 Q116.343 182.641 118.658 183.219 Q120.973 183.798 123.496 183.798 Q127.894 183.798 130.186 182.062 Q132.501 180.326 132.501 177.016 Q132.501 173.96 130.348 172.247 Q128.218 170.511 124.399 170.511 L120.371 170.511 L120.371 166.669 L124.584 166.669 Q128.033 166.669 129.862 165.303 Q131.691 163.914 131.691 161.321 Q131.691 158.659 129.792 157.247 Q127.917 155.812 124.399 155.812 Q122.478 155.812 120.279 156.229 Q118.08 156.645 115.441 157.525 L115.441 153.358 Q118.103 152.618 120.418 152.247 Q122.755 151.877 124.816 151.877 Q130.14 151.877 133.242 154.307 Q136.343 156.715 136.343 160.835 Q136.343 163.706 134.7 165.696 Q133.056 167.664 130.024 168.428 Z\" fill=\"#000000\" fill-rule=\"evenodd\" fill-opacity=\"1\" /><path clip-path=\"url(#clip110)\" d=\"M156.019 155.581 Q152.408 155.581 150.579 159.145 Q148.774 162.687 148.774 169.817 Q148.774 176.923 150.579 180.488 Q152.408 184.03 156.019 184.03 Q159.653 184.03 161.459 180.488 Q163.288 176.923 163.288 169.817 Q163.288 162.687 161.459 159.145 Q159.653 155.581 156.019 155.581 M156.019 151.877 Q161.829 151.877 164.885 156.483 Q167.964 161.067 167.964 169.817 Q167.964 178.543 164.885 183.15 Q161.829 187.733 156.019 187.733 Q150.209 187.733 147.13 183.15 Q144.075 178.543 144.075 169.817 Q144.075 161.067 147.13 156.483 Q150.209 151.877 156.019 151.877 Z\" fill=\"#000000\" fill-rule=\"evenodd\" fill-opacity=\"1\" /><path clip-path=\"url(#clip110)\" d=\"M186.181 155.581 Q182.57 155.581 180.741 159.145 Q178.936 162.687 178.936 169.817 Q178.936 176.923 180.741 180.488 Q182.57 184.03 186.181 184.03 Q189.815 184.03 191.621 180.488 Q193.45 176.923 193.45 169.817 Q193.45 162.687 191.621 159.145 Q189.815 155.581 186.181 155.581 M186.181 151.877 Q191.991 151.877 195.047 156.483 Q198.125 161.067 198.125 169.817 Q198.125 178.543 195.047 183.15 Q191.991 187.733 186.181 187.733 Q180.371 187.733 177.292 183.15 Q174.237 178.543 174.237 169.817 Q174.237 161.067 177.292 156.483 Q180.371 151.877 186.181 151.877 Z\" fill=\"#000000\" fill-rule=\"evenodd\" fill-opacity=\"1\" /><path clip-path=\"url(#clip110)\" d=\"M16.4842 939.44 L16.4842 899.24 L21.895 899.24 L21.895 916.109 L64.0042 916.109 L64.0042 922.571 L21.895 922.571 L21.895 939.44 L16.4842 939.44 Z\" fill=\"#000000\" fill-rule=\"evenodd\" fill-opacity=\"1\" /><path clip-path=\"url(#clip110)\" d=\"M44.7161 873.873 L47.5806 873.873 L47.5806 900.8 Q53.6281 900.418 56.8109 897.171 Q59.9619 893.893 59.9619 888.068 Q59.9619 884.695 59.1344 881.544 Q58.3069 878.361 56.6518 875.242 L62.1899 875.242 Q63.5267 878.393 64.227 881.703 Q64.9272 885.013 64.9272 888.419 Q64.9272 896.949 59.9619 901.946 Q54.9967 906.911 46.5303 906.911 Q37.7774 906.911 32.6531 902.2 Q27.4968 897.458 27.4968 889.437 Q27.4968 882.244 32.1438 878.074 Q36.7589 873.873 44.7161 873.873 M42.9973 879.729 Q38.1912 879.793 35.3266 882.435 Q32.4621 885.045 32.4621 889.373 Q32.4621 894.275 35.2312 897.235 Q38.0002 900.163 43.0292 900.609 L42.9973 879.729 Z\" fill=\"#000000\" fill-rule=\"evenodd\" fill-opacity=\"1\" /><path clip-path=\"url(#clip110)\" d=\"M35.1993 836.506 Q31.2526 834.31 29.3747 831.255 Q27.4968 828.199 27.4968 824.061 Q27.4968 818.491 31.4117 815.468 Q35.2948 812.444 42.4881 812.444 L64.0042 812.444 L64.0042 818.332 L42.679 818.332 Q37.5546 818.332 35.072 820.146 Q32.5894 821.961 32.5894 825.685 Q32.5894 830.236 35.6131 832.878 Q38.6368 835.52 43.8567 835.52 L64.0042 835.52 L64.0042 841.408 L42.679 841.408 Q37.5228 841.408 35.072 843.222 Q32.5894 845.036 32.5894 848.824 Q32.5894 853.312 35.6449 855.954 Q38.6686 858.595 43.8567 858.595 L64.0042 858.595 L64.0042 864.484 L28.3562 864.484 L28.3562 858.595 L33.8944 858.595 Q30.616 856.59 29.0564 853.789 Q27.4968 850.988 27.4968 847.137 Q27.4968 843.254 29.4702 840.548 Q31.4436 837.811 35.1993 836.506 Z\" fill=\"#000000\" fill-rule=\"evenodd\" fill-opacity=\"1\" /><path clip-path=\"url(#clip110)\" d=\"M58.657 795.097 L77.5631 795.097 L77.5631 800.986 L28.3562 800.986 L28.3562 795.097 L33.7671 795.097 Q30.5842 793.251 29.0564 790.45 Q27.4968 787.618 27.4968 783.703 Q27.4968 777.21 32.6531 773.167 Q37.8093 769.093 46.212 769.093 Q54.6147 769.093 59.771 773.167 Q64.9272 777.21 64.9272 783.703 Q64.9272 787.618 63.3994 790.45 Q61.8398 793.251 58.657 795.097 M46.212 775.173 Q39.7508 775.173 36.0905 777.846 Q32.3984 780.488 32.3984 785.135 Q32.3984 789.782 36.0905 792.456 Q39.7508 795.097 46.212 795.097 Q52.6732 795.097 56.3653 792.456 Q60.0256 789.782 60.0256 785.135 Q60.0256 780.488 56.3653 777.846 Q52.6732 775.173 46.212 775.173 Z\" fill=\"#000000\" fill-rule=\"evenodd\" fill-opacity=\"1\" /><path clip-path=\"url(#clip110)\" d=\"M44.7161 728.894 L47.5806 728.894 L47.5806 755.821 Q53.6281 755.439 56.8109 752.192 Q59.9619 748.914 59.9619 743.09 Q59.9619 739.716 59.1344 736.565 Q58.3069 733.382 56.6518 730.263 L62.1899 730.263 Q63.5267 733.414 64.227 736.724 Q64.9272 740.034 64.9272 743.44 Q64.9272 751.97 59.9619 756.967 Q54.9967 761.932 46.5303 761.932 Q37.7774 761.932 32.6531 757.221 Q27.4968 752.479 27.4968 744.458 Q27.4968 737.265 32.1438 733.095 Q36.7589 728.894 44.7161 728.894 M42.9973 734.75 Q38.1912 734.814 35.3266 737.456 Q32.4621 740.066 32.4621 744.395 Q32.4621 749.296 35.2312 752.256 Q38.0002 755.184 43.0292 755.63 L42.9973 734.75 Z\" fill=\"#000000\" fill-rule=\"evenodd\" fill-opacity=\"1\" /><path clip-path=\"url(#clip110)\" d=\"M33.8307 698.625 Q33.2578 699.612 33.0032 700.789 Q32.7167 701.935 32.7167 703.336 Q32.7167 708.301 35.9632 710.975 Q39.1779 713.616 45.2253 713.616 L64.0042 713.616 L64.0042 719.505 L28.3562 719.505 L28.3562 713.616 L33.8944 713.616 Q30.6479 711.77 29.0883 708.81 Q27.4968 705.85 27.4968 701.617 Q27.4968 701.012 27.5923 700.28 Q27.656 699.548 27.8151 698.657 L33.8307 698.625 Z\" fill=\"#000000\" fill-rule=\"evenodd\" fill-opacity=\"1\" /><path clip-path=\"url(#clip110)\" d=\"M46.0847 676.281 Q46.0847 683.379 47.7079 686.116 Q49.3312 688.854 53.2461 688.854 Q56.3653 688.854 58.2114 686.817 Q60.0256 684.748 60.0256 681.215 Q60.0256 676.345 56.5881 673.417 Q53.1188 670.457 47.3897 670.457 L46.0847 670.457 L46.0847 676.281 M43.6657 664.6 L64.0042 664.6 L64.0042 670.457 L58.5933 670.457 Q61.8398 672.462 63.3994 675.454 Q64.9272 678.446 64.9272 682.774 Q64.9272 688.249 61.8716 691.495 Q58.7843 694.71 53.6281 694.71 Q47.6125 694.71 44.5569 690.7 Q41.5014 686.658 41.5014 678.669 L41.5014 670.457 L40.9285 670.457 Q36.8862 670.457 34.6901 673.13 Q32.4621 675.772 32.4621 680.578 Q32.4621 683.634 33.1941 686.53 Q33.9262 689.427 35.3903 692.1 L29.9795 692.1 Q28.7381 688.886 28.1334 685.862 Q27.4968 682.838 27.4968 679.974 Q27.4968 672.239 31.5072 668.42 Q35.5176 664.6 43.6657 664.6 Z\" fill=\"#000000\" fill-rule=\"evenodd\" fill-opacity=\"1\" /><path clip-path=\"url(#clip110)\" d=\"M18.2347 646.745 L28.3562 646.745 L28.3562 634.682 L32.9077 634.682 L32.9077 646.745 L52.2594 646.745 Q56.6199 646.745 57.8613 645.567 Q59.1026 644.357 59.1026 640.697 L59.1026 634.682 L64.0042 634.682 L64.0042 640.697 Q64.0042 647.477 61.4897 650.055 Q58.9434 652.633 52.2594 652.633 L32.9077 652.633 L32.9077 656.93 L28.3562 656.93 L28.3562 652.633 L18.2347 652.633 L18.2347 646.745 Z\" fill=\"#000000\" fill-rule=\"evenodd\" fill-opacity=\"1\" /><path clip-path=\"url(#clip110)\" d=\"M49.9359 627.584 L28.3562 627.584 L28.3562 621.727 L49.7131 621.727 Q54.7739 621.727 57.3202 619.754 Q59.8346 617.781 59.8346 613.834 Q59.8346 609.091 56.8109 606.354 Q53.7872 603.585 48.5673 603.585 L28.3562 603.585 L28.3562 597.729 L64.0042 597.729 L64.0042 603.585 L58.5296 603.585 Q61.7762 605.718 63.3676 608.55 Q64.9272 611.351 64.9272 615.075 Q64.9272 621.218 61.1078 624.401 Q57.2883 627.584 49.9359 627.584 M27.4968 612.847 L27.4968 612.847 Z\" fill=\"#000000\" fill-rule=\"evenodd\" fill-opacity=\"1\" /><path clip-path=\"url(#clip110)\" d=\"M33.8307 565.009 Q33.2578 565.996 33.0032 567.173 Q32.7167 568.319 32.7167 569.72 Q32.7167 574.685 35.9632 577.358 Q39.1779 580 45.2253 580 L64.0042 580 L64.0042 585.888 L28.3562 585.888 L28.3562 580 L33.8944 580 Q30.6479 578.154 29.0883 575.194 Q27.4968 572.234 27.4968 568.001 Q27.4968 567.396 27.5923 566.664 Q27.656 565.932 27.8151 565.041 L33.8307 565.009 Z\" fill=\"#000000\" fill-rule=\"evenodd\" fill-opacity=\"1\" /><path clip-path=\"url(#clip110)\" d=\"M46.0847 542.665 Q46.0847 549.763 47.7079 552.5 Q49.3312 555.238 53.2461 555.238 Q56.3653 555.238 58.2114 553.201 Q60.0256 551.132 60.0256 547.599 Q60.0256 542.729 56.5881 539.801 Q53.1188 536.841 47.3897 536.841 L46.0847 536.841 L46.0847 542.665 M43.6657 530.984 L64.0042 530.984 L64.0042 536.841 L58.5933 536.841 Q61.8398 538.846 63.3994 541.838 Q64.9272 544.83 64.9272 549.158 Q64.9272 554.633 61.8716 557.879 Q58.7843 561.094 53.6281 561.094 Q47.6125 561.094 44.5569 557.084 Q41.5014 553.041 41.5014 545.052 L41.5014 536.841 L40.9285 536.841 Q36.8862 536.841 34.6901 539.514 Q32.4621 542.156 32.4621 546.962 Q32.4621 550.018 33.1941 552.914 Q33.9262 555.81 35.3903 558.484 L29.9795 558.484 Q28.7381 555.269 28.1334 552.246 Q27.4968 549.222 27.4968 546.357 Q27.4968 538.623 31.5072 534.804 Q35.5176 530.984 43.6657 530.984 Z\" fill=\"#000000\" fill-rule=\"evenodd\" fill-opacity=\"1\" /><circle clip-path=\"url(#clip112)\" cx=\"294.087\" cy=\"1331.77\" r=\"14\" fill=\"#009af9\" fill-rule=\"evenodd\" fill-opacity=\"1\" stroke=\"#000000\" stroke-opacity=\"1\" stroke-width=\"3.2\"/>\n",
       "<circle clip-path=\"url(#clip112)\" cx=\"543.925\" cy=\"1243.99\" r=\"14\" fill=\"#009af9\" fill-rule=\"evenodd\" fill-opacity=\"1\" stroke=\"#000000\" stroke-opacity=\"1\" stroke-width=\"3.2\"/>\n",
       "<circle clip-path=\"url(#clip112)\" cx=\"1043.6\" cy=\"1072.62\" r=\"14\" fill=\"#009af9\" fill-rule=\"evenodd\" fill-opacity=\"1\" stroke=\"#000000\" stroke-opacity=\"1\" stroke-width=\"3.2\"/>\n",
       "<circle clip-path=\"url(#clip112)\" cx=\"2042.96\" cy=\"545.965\" r=\"14\" fill=\"#009af9\" fill-rule=\"evenodd\" fill-opacity=\"1\" stroke=\"#000000\" stroke-opacity=\"1\" stroke-width=\"3.2\"/>\n",
       "<circle clip-path=\"url(#clip112)\" cx=\"2292.79\" cy=\"86.1857\" r=\"14\" fill=\"#009af9\" fill-rule=\"evenodd\" fill-opacity=\"1\" stroke=\"#000000\" stroke-opacity=\"1\" stroke-width=\"3.2\"/>\n",
       "<polyline clip-path=\"url(#clip112)\" style=\"stroke:#e26f46; stroke-linecap:butt; stroke-linejoin:round; stroke-width:4; stroke-opacity:1; fill:none\" points=\"\n",
       "  294.087,1340.55 313.606,1332.89 494.087,1258.09 602.549,1210.41 694.252,1168.81 793.868,1122.47 885.704,1078.81 984.162,1031.07 1098.24,974.691 1199.61,923.696 \n",
       "  1288.51,878.34 1385.43,828.254 1482.93,777.239 1590.72,720.144 1693.29,665.182 1799.93,607.409 1889.7,558.307 1999.31,497.802 2102.33,440.394 2267.39,347.397 \n",
       "  2292.79,332.978 \n",
       "  \"/>\n",
       "<polyline clip-path=\"url(#clip112)\" style=\"stroke:#3da44d; stroke-linecap:butt; stroke-linejoin:round; stroke-width:4; stroke-opacity:1; fill:none\" points=\"\n",
       "  294.087,1384.24 313.606,1379.31 494.087,1324.65 602.549,1284.83 694.252,1247.53 793.868,1203.5 885.704,1159.87 984.162,1110.01 1098.24,1048.45 1199.61,990.479 \n",
       "  1288.51,937.217 1385.43,876.651 1482.93,813.181 1590.72,740.129 1693.29,667.898 1799.93,590.059 1889.7,522.428 1999.31,437.31 2102.33,354.8 2267.39,217.705 \n",
       "  2292.79,196.081 \n",
       "  \"/>\n",
       "<path clip-path=\"url(#clip110)\" d=\"\n",
       "M1857.75 1377.32 L2282.13 1377.32 L2282.13 1169.96 L1857.75 1169.96  Z\n",
       "  \" fill=\"#ffffff\" fill-rule=\"evenodd\" fill-opacity=\"1\"/>\n",
       "<polyline clip-path=\"url(#clip110)\" style=\"stroke:#000000; stroke-linecap:butt; stroke-linejoin:round; stroke-width:4; stroke-opacity:1; fill:none\" points=\"\n",
       "  1857.75,1377.32 2282.13,1377.32 2282.13,1169.96 1857.75,1169.96 1857.75,1377.32 \n",
       "  \"/>\n",
       "<circle clip-path=\"url(#clip110)\" cx=\"1951.91\" cy=\"1221.8\" r=\"23\" fill=\"#009af9\" fill-rule=\"evenodd\" fill-opacity=\"1\" stroke=\"#000000\" stroke-opacity=\"1\" stroke-width=\"5.12\"/>\n",
       "<path clip-path=\"url(#clip110)\" d=\"M2050.36 1235.19 L2050.36 1248.94 L2046.07 1248.94 L2046.07 1213.15 L2050.36 1213.15 L2050.36 1217.08 Q2051.7 1214.77 2053.74 1213.66 Q2055.8 1212.52 2058.64 1212.52 Q2063.37 1212.52 2066.31 1216.27 Q2069.27 1220.02 2069.27 1226.14 Q2069.27 1232.25 2066.31 1236 Q2063.37 1239.75 2058.64 1239.75 Q2055.8 1239.75 2053.74 1238.64 Q2051.7 1237.5 2050.36 1235.19 M2064.85 1226.14 Q2064.85 1221.44 2062.9 1218.77 Q2060.98 1216.09 2057.6 1216.09 Q2054.22 1216.09 2052.28 1218.77 Q2050.36 1221.44 2050.36 1226.14 Q2050.36 1230.83 2052.28 1233.52 Q2054.22 1236.18 2057.6 1236.18 Q2060.98 1236.18 2062.9 1233.52 Q2064.85 1230.83 2064.85 1226.14 Z\" fill=\"#000000\" fill-rule=\"evenodd\" fill-opacity=\"1\" /><path clip-path=\"url(#clip110)\" d=\"M2086.37 1216.14 Q2082.95 1216.14 2080.96 1218.82 Q2078.97 1221.48 2078.97 1226.14 Q2078.97 1230.79 2080.93 1233.47 Q2082.93 1236.14 2086.37 1236.14 Q2089.78 1236.14 2091.77 1233.45 Q2093.76 1230.77 2093.76 1226.14 Q2093.76 1221.53 2091.77 1218.84 Q2089.78 1216.14 2086.37 1216.14 M2086.37 1212.52 Q2091.93 1212.52 2095.1 1216.14 Q2098.27 1219.75 2098.27 1226.14 Q2098.27 1232.5 2095.1 1236.14 Q2091.93 1239.75 2086.37 1239.75 Q2080.8 1239.75 2077.62 1236.14 Q2074.48 1232.5 2074.48 1226.14 Q2074.48 1219.75 2077.62 1216.14 Q2080.8 1212.52 2086.37 1212.52 Z\" fill=\"#000000\" fill-rule=\"evenodd\" fill-opacity=\"1\" /><path clip-path=\"url(#clip110)\" d=\"M2126.88 1223.43 L2126.88 1239.08 L2122.62 1239.08 L2122.62 1223.57 Q2122.62 1219.89 2121.19 1218.06 Q2119.75 1216.23 2116.88 1216.23 Q2113.43 1216.23 2111.44 1218.43 Q2109.45 1220.63 2109.45 1224.42 L2109.45 1239.08 L2105.17 1239.08 L2105.17 1213.15 L2109.45 1213.15 L2109.45 1217.18 Q2110.98 1214.84 2113.04 1213.68 Q2115.12 1212.52 2117.83 1212.52 Q2122.3 1212.52 2124.59 1215.3 Q2126.88 1218.06 2126.88 1223.43 Z\" fill=\"#000000\" fill-rule=\"evenodd\" fill-opacity=\"1\" /><path clip-path=\"url(#clip110)\" d=\"M2139.59 1205.79 L2139.59 1213.15 L2148.36 1213.15 L2148.36 1216.46 L2139.59 1216.46 L2139.59 1230.53 Q2139.59 1233.7 2140.45 1234.61 Q2141.33 1235.51 2143.99 1235.51 L2148.36 1235.51 L2148.36 1239.08 L2143.99 1239.08 Q2139.06 1239.08 2137.18 1237.25 Q2135.31 1235.39 2135.31 1230.53 L2135.31 1216.46 L2132.18 1216.46 L2132.18 1213.15 L2135.31 1213.15 L2135.31 1205.79 L2139.59 1205.79 Z\" fill=\"#000000\" fill-rule=\"evenodd\" fill-opacity=\"1\" /><path clip-path=\"url(#clip110)\" d=\"M2164.01 1216.14 Q2160.59 1216.14 2158.6 1218.82 Q2156.61 1221.48 2156.61 1226.14 Q2156.61 1230.79 2158.57 1233.47 Q2160.56 1236.14 2164.01 1236.14 Q2167.42 1236.14 2169.41 1233.45 Q2171.4 1230.77 2171.4 1226.14 Q2171.4 1221.53 2169.41 1218.84 Q2167.42 1216.14 2164.01 1216.14 M2164.01 1212.52 Q2169.57 1212.52 2172.74 1216.14 Q2175.91 1219.75 2175.91 1226.14 Q2175.91 1232.5 2172.74 1236.14 Q2169.57 1239.75 2164.01 1239.75 Q2158.43 1239.75 2155.26 1236.14 Q2152.11 1232.5 2152.11 1226.14 Q2152.11 1219.75 2155.26 1216.14 Q2158.43 1212.52 2164.01 1212.52 Z\" fill=\"#000000\" fill-rule=\"evenodd\" fill-opacity=\"1\" /><path clip-path=\"url(#clip110)\" d=\"M2199.5 1213.91 L2199.5 1217.94 Q2197.69 1217.02 2195.75 1216.55 Q2193.8 1216.09 2191.72 1216.09 Q2188.55 1216.09 2186.95 1217.06 Q2185.38 1218.03 2185.38 1219.98 Q2185.38 1221.46 2186.51 1222.32 Q2187.65 1223.15 2191.07 1223.91 L2192.53 1224.24 Q2197.07 1225.21 2198.97 1226.99 Q2200.89 1228.75 2200.89 1231.92 Q2200.89 1235.53 2198.02 1237.64 Q2195.17 1239.75 2190.17 1239.75 Q2188.09 1239.75 2185.82 1239.33 Q2183.57 1238.94 2181.07 1238.13 L2181.07 1233.73 Q2183.43 1234.95 2185.73 1235.58 Q2188.02 1236.18 2190.26 1236.18 Q2193.27 1236.18 2194.89 1235.16 Q2196.51 1234.12 2196.51 1232.25 Q2196.51 1230.51 2195.33 1229.58 Q2194.17 1228.66 2190.22 1227.8 L2188.74 1227.46 Q2184.78 1226.62 2183.02 1224.91 Q2181.26 1223.17 2181.26 1220.16 Q2181.26 1216.51 2183.85 1214.52 Q2186.44 1212.52 2191.21 1212.52 Q2193.57 1212.52 2195.66 1212.87 Q2197.74 1213.22 2199.5 1213.91 Z\" fill=\"#000000\" fill-rule=\"evenodd\" fill-opacity=\"1\" /><polyline clip-path=\"url(#clip110)\" style=\"stroke:#e26f46; stroke-linecap:butt; stroke-linejoin:round; stroke-width:4; stroke-opacity:1; fill:none\" points=\"\n",
       "  1881.29,1273.64 2022.53,1273.64 \n",
       "  \"/>\n",
       "<path clip-path=\"url(#clip110)\" d=\"M2046.07 1256.36 L2075.31 1256.36 L2075.31 1260.29 L2063.04 1260.29 L2063.04 1290.92 L2058.34 1290.92 L2058.34 1260.29 L2046.07 1260.29 L2046.07 1256.36 Z\" fill=\"#000000\" fill-rule=\"evenodd\" fill-opacity=\"1\" /><path clip-path=\"url(#clip110)\" d=\"M2089.87 1254.94 Q2086.77 1260.27 2085.26 1265.48 Q2083.76 1270.68 2083.76 1276.03 Q2083.76 1281.38 2085.26 1286.63 Q2086.79 1291.86 2089.87 1297.17 L2086.17 1297.17 Q2082.69 1291.73 2080.96 1286.47 Q2079.24 1281.22 2079.24 1276.03 Q2079.24 1270.87 2080.96 1265.64 Q2082.67 1260.41 2086.17 1254.94 L2089.87 1254.94 Z\" fill=\"#000000\" fill-rule=\"evenodd\" fill-opacity=\"1\" /><path clip-path=\"url(#clip110)\" d=\"M2119.68 1264.99 L2110.31 1277.61 L2120.17 1290.92 L2115.15 1290.92 L2107.6 1280.73 L2100.05 1290.92 L2095.03 1290.92 L2105.1 1277.35 L2095.89 1264.99 L2100.91 1264.99 L2107.79 1274.23 L2114.66 1264.99 L2119.68 1264.99 Z\" fill=\"#000000\" fill-rule=\"evenodd\" fill-opacity=\"1\" /><path clip-path=\"url(#clip110)\" d=\"M2125.52 1254.94 L2129.22 1254.94 Q2132.69 1260.41 2134.41 1265.64 Q2136.14 1270.87 2136.14 1276.03 Q2136.14 1281.22 2134.41 1286.47 Q2132.69 1291.73 2129.22 1297.17 L2125.52 1297.17 Q2128.6 1291.86 2130.1 1286.63 Q2131.63 1281.38 2131.63 1276.03 Q2131.63 1270.68 2130.1 1265.48 Q2128.6 1260.27 2125.52 1254.94 Z\" fill=\"#000000\" fill-rule=\"evenodd\" fill-opacity=\"1\" /><path clip-path=\"url(#clip110)\" d=\"M2181.3 1275.27 L2181.3 1290.92 L2177.05 1290.92 L2177.05 1275.41 Q2177.05 1271.73 2175.61 1269.9 Q2174.17 1268.07 2171.3 1268.07 Q2167.86 1268.07 2165.86 1270.27 Q2163.87 1272.47 2163.87 1276.26 L2163.87 1290.92 L2159.59 1290.92 L2159.59 1264.99 L2163.87 1264.99 L2163.87 1269.02 Q2165.4 1266.68 2167.46 1265.52 Q2169.55 1264.36 2172.25 1264.36 Q2176.72 1264.36 2179.01 1267.14 Q2181.3 1269.9 2181.3 1275.27 Z\" fill=\"#000000\" fill-rule=\"evenodd\" fill-opacity=\"1\" /><path clip-path=\"url(#clip110)\" d=\"M2197.18 1258.72 Q2195.33 1258.72 2194.06 1260.01 Q2192.79 1261.29 2192.79 1263.14 Q2192.79 1264.97 2194.06 1266.24 Q2195.33 1267.49 2197.18 1267.49 Q2199.04 1267.49 2200.31 1266.24 Q2201.58 1264.97 2201.58 1263.14 Q2201.58 1261.31 2200.29 1260.01 Q2199.01 1258.72 2197.18 1258.72 M2197.18 1255.73 Q2198.67 1255.73 2200.03 1256.31 Q2201.4 1256.86 2202.39 1257.93 Q2203.46 1258.97 2203.99 1260.29 Q2204.52 1261.61 2204.52 1263.14 Q2204.52 1266.19 2202.37 1268.32 Q2200.24 1270.43 2197.14 1270.43 Q2194.01 1270.43 2191.93 1268.35 Q2189.85 1266.26 2189.85 1263.14 Q2189.85 1260.04 2191.98 1257.88 Q2194.11 1255.73 2197.18 1255.73 Z\" fill=\"#000000\" fill-rule=\"evenodd\" fill-opacity=\"1\" /><path clip-path=\"url(#clip110)\" d=\"M2214.92 1286.98 L2222.55 1286.98 L2222.55 1260.61 L2214.24 1262.28 L2214.24 1258.02 L2222.51 1256.36 L2227.18 1256.36 L2227.18 1286.98 L2234.82 1286.98 L2234.82 1290.92 L2214.92 1290.92 L2214.92 1286.98 Z\" fill=\"#000000\" fill-rule=\"evenodd\" fill-opacity=\"1\" /><polyline clip-path=\"url(#clip110)\" style=\"stroke:#3da44d; stroke-linecap:butt; stroke-linejoin:round; stroke-width:4; stroke-opacity:1; fill:none\" points=\"\n",
       "  1881.29,1325.48 2022.53,1325.48 \n",
       "  \"/>\n",
       "<path clip-path=\"url(#clip110)\" d=\"M2046.07 1308.2 L2075.31 1308.2 L2075.31 1312.13 L2063.04 1312.13 L2063.04 1342.76 L2058.34 1342.76 L2058.34 1312.13 L2046.07 1312.13 L2046.07 1308.2 Z\" fill=\"#000000\" fill-rule=\"evenodd\" fill-opacity=\"1\" /><path clip-path=\"url(#clip110)\" d=\"M2089.87 1306.78 Q2086.77 1312.11 2085.26 1317.32 Q2083.76 1322.52 2083.76 1327.87 Q2083.76 1333.22 2085.26 1338.47 Q2086.79 1343.7 2089.87 1349.01 L2086.17 1349.01 Q2082.69 1343.57 2080.96 1338.31 Q2079.24 1333.06 2079.24 1327.87 Q2079.24 1322.71 2080.96 1317.48 Q2082.67 1312.25 2086.17 1306.78 L2089.87 1306.78 Z\" fill=\"#000000\" fill-rule=\"evenodd\" fill-opacity=\"1\" /><path clip-path=\"url(#clip110)\" d=\"M2119.68 1316.83 L2110.31 1329.45 L2120.17 1342.76 L2115.15 1342.76 L2107.6 1332.57 L2100.05 1342.76 L2095.03 1342.76 L2105.1 1329.19 L2095.89 1316.83 L2100.91 1316.83 L2107.79 1326.07 L2114.66 1316.83 L2119.68 1316.83 Z\" fill=\"#000000\" fill-rule=\"evenodd\" fill-opacity=\"1\" /><path clip-path=\"url(#clip110)\" d=\"M2125.52 1306.78 L2129.22 1306.78 Q2132.69 1312.25 2134.41 1317.48 Q2136.14 1322.71 2136.14 1327.87 Q2136.14 1333.06 2134.41 1338.31 Q2132.69 1343.57 2129.22 1349.01 L2125.52 1349.01 Q2128.6 1343.7 2130.1 1338.47 Q2131.63 1333.22 2131.63 1327.87 Q2131.63 1322.52 2130.1 1317.32 Q2128.6 1312.11 2125.52 1306.78 Z\" fill=\"#000000\" fill-rule=\"evenodd\" fill-opacity=\"1\" /><path clip-path=\"url(#clip110)\" d=\"M2181.3 1327.11 L2181.3 1342.76 L2177.05 1342.76 L2177.05 1327.25 Q2177.05 1323.57 2175.61 1321.74 Q2174.17 1319.91 2171.3 1319.91 Q2167.86 1319.91 2165.86 1322.11 Q2163.87 1324.31 2163.87 1328.1 L2163.87 1342.76 L2159.59 1342.76 L2159.59 1316.83 L2163.87 1316.83 L2163.87 1320.86 Q2165.4 1318.52 2167.46 1317.36 Q2169.55 1316.2 2172.25 1316.2 Q2176.72 1316.2 2179.01 1318.98 Q2181.3 1321.74 2181.3 1327.11 Z\" fill=\"#000000\" fill-rule=\"evenodd\" fill-opacity=\"1\" /><path clip-path=\"url(#clip110)\" d=\"M2197.18 1310.56 Q2195.33 1310.56 2194.06 1311.85 Q2192.79 1313.13 2192.79 1314.98 Q2192.79 1316.81 2194.06 1318.08 Q2195.33 1319.33 2197.18 1319.33 Q2199.04 1319.33 2200.31 1318.08 Q2201.58 1316.81 2201.58 1314.98 Q2201.58 1313.15 2200.29 1311.85 Q2199.01 1310.56 2197.18 1310.56 M2197.18 1307.57 Q2198.67 1307.57 2200.03 1308.15 Q2201.4 1308.7 2202.39 1309.77 Q2203.46 1310.81 2203.99 1312.13 Q2204.52 1313.45 2204.52 1314.98 Q2204.52 1318.03 2202.37 1320.16 Q2200.24 1322.27 2197.14 1322.27 Q2194.01 1322.27 2191.93 1320.19 Q2189.85 1318.1 2189.85 1314.98 Q2189.85 1311.88 2191.98 1309.72 Q2194.11 1307.57 2197.18 1307.57 Z\" fill=\"#000000\" fill-rule=\"evenodd\" fill-opacity=\"1\" /><path clip-path=\"url(#clip110)\" d=\"M2214.15 1308.2 L2232.51 1308.2 L2232.51 1312.13 L2218.43 1312.13 L2218.43 1320.6 Q2219.45 1320.26 2220.47 1320.09 Q2221.49 1319.91 2222.51 1319.91 Q2228.29 1319.91 2231.67 1323.08 Q2235.05 1326.25 2235.05 1331.67 Q2235.05 1337.25 2231.58 1340.35 Q2228.11 1343.43 2221.79 1343.43 Q2219.61 1343.43 2217.35 1343.06 Q2215.1 1342.69 2212.69 1341.95 L2212.69 1337.25 Q2214.78 1338.38 2217 1338.94 Q2219.22 1339.49 2221.7 1339.49 Q2225.7 1339.49 2228.04 1337.38 Q2230.38 1335.28 2230.38 1331.67 Q2230.38 1328.06 2228.04 1325.95 Q2225.7 1323.84 2221.7 1323.84 Q2219.82 1323.84 2217.95 1324.26 Q2216.1 1324.68 2214.15 1325.56 L2214.15 1308.2 Z\" fill=\"#000000\" fill-rule=\"evenodd\" fill-opacity=\"1\" /></svg>\n"
      ]
     },
     "execution_count": 87,
     "metadata": {},
     "output_type": "execute_result"
    }
   ],
   "source": [
    "using LinearAlgebra\n",
    "using Plots\n",
    "\n",
    "# Vetor gradiente\n",
    "function ∇F(X)\n",
    "    # Variáveis que queremos encontrar\n",
    "    c0 = X[1]\n",
    "    c1 = X[2]\n",
    "    # Vetor gradiente sendo calculado. Abaixo podemos notar as derivadas parciais da função F calculadas\n",
    "    return [\n",
    "        # Derivada parcial F_c0\n",
    "        2*(c0*0.1^c1-22)*0.1^c1 + 2*(c0*0.2^c1-43)*0.2^c1 + 2*(c0*0.4^c1-84)*0.4^c1 + 2*(c0*0.8^c1-210)*0.8^c1 + 2*(c0*0.9^c1-320)*0.9^c1;\n",
    "        # Derivada parcial F_c1\n",
    "        2*(c0*0.1^c1-22)*c0*0.1^c1*log(0.1) + 2*(c0*0.2^c1-43)*c0*0.2^c1*log(0.2) + 2*(c0*0.4^c1-84)*c0*0.4^c1*log(0.4) + 2*(c0*0.8^c1-210)*c0*0.8^c1*log(0.8) + 2*(c0*0.9^c1-320)*c0*0.9^c1*log(0.9) \n",
    "    ]\n",
    "end\n",
    "\n",
    "# Constante eta\n",
    "η = 0.00001\n",
    "# Usado como critério de parada.\n",
    "dif = 0.00000000001\n",
    "\n",
    "# Chute inicial qualquer\n",
    "X = [1; 1]\n",
    "# Inicializa pX = X_{t+1} \n",
    "pX = X - η*∇F(X)\n",
    "\n",
    "while(true)\n",
    "    # Se a norma da diferença dos vetores for menor que o critério de parada, termina.\n",
    "    if norm(pX - X) > dif\n",
    "        # Atualiza X\n",
    "        X = pX\n",
    "        pX = X - η*∇F(X)\n",
    "    else\n",
    "        break \n",
    "    end\n",
    "end\n",
    "\n",
    "# Printa o resultado\n",
    "println(\"c_0 = \", pX[1])\n",
    "println(\"c_1 = \", pX[2])\n",
    "\n",
    "# Nova função T2 com as novas constantes encontradas\n",
    "T2(x) = pX[1]*x^pX[2]\n",
    "\n",
    "# Dados das posições e temperaturas da número 1\n",
    "pontos = [(0.1,22),(0.2,43),(0.4,84),(0.8,210),(0.9,320)]\n",
    "\n",
    "scatter(pontos, legend=:bottomright, label = \"pontos\", xlabel = \"Posição\", ylabel = \"Temperatura\")\n",
    "\n",
    "# Plot da função encontrada na número 1\n",
    "plot!(T, label = \"T(x) n°1\")\n",
    "# Plot da nova função encontrada neste exercício\n",
    "plot!(T2, label = \"T(x) n°5\")"
   ]
  },
  {
   "cell_type": "markdown",
   "id": "3f8a191c",
   "metadata": {},
   "source": [
    "Através do gráfico acima, podemos perceber que pelo método do gradiente descendente também conseguimos uma boa aproximação para $c_0$ e $c_1$."
   ]
  },
  {
   "cell_type": "markdown",
   "id": "4e28b922",
   "metadata": {},
   "source": [
    "*Ref.: https://www.youtube.com/watch?v=s0VhfvCB0Vw*"
   ]
  }
 ],
 "metadata": {
  "kernelspec": {
   "display_name": "Julia 1.6.4",
   "language": "julia",
   "name": "julia-1.6"
  },
  "language_info": {
   "file_extension": ".jl",
   "mimetype": "application/julia",
   "name": "julia",
   "version": "1.6.4"
  }
 },
 "nbformat": 4,
 "nbformat_minor": 5
}
