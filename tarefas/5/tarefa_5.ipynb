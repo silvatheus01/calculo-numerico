{
 "cells": [
  {
   "cell_type": "markdown",
   "id": "e8f41d9a",
   "metadata": {},
   "source": [
    "# Nome: Matheus da Silva Oliveira\n",
    "# DRE: 118178020"
   ]
  },
  {
   "cell_type": "markdown",
   "id": "9a50eb0f",
   "metadata": {},
   "source": [
    "## 1"
   ]
  },
  {
   "cell_type": "markdown",
   "id": "ef8be3a9",
   "metadata": {},
   "source": [
    "Temos $T=c_0x^{c_1}$, mas para utilizar regressão, precisamos que $c_1$ seja um termo linear. Assim, operando a equação encontramos\n",
    "\\begin{align*}\n",
    "    \\ln(T) &= \\ln(c_0x^{c_1})\\\\\n",
    "    &= \\ln(c_0) + \\ln(x^{c_1})\\\\\n",
    "    \\ln(T) &= \\ln(c_0) + c_1\\ln(x)\n",
    "\\end{align*}\n",
    "Fazendo uma mudança de variável,\n",
    "\\begin{align*}\n",
    "    \\overline{c_0} &= \\ln(c_0)\\\\\n",
    "    \\overline{c_1} &= c_1\\\\\n",
    "    \\overline{y} &= \\ln(T)\n",
    "\\end{align*}\n",
    "Então utlizamos regressão na equação\n",
    "\\begin{align*}\n",
    "    \\overline{y} &= \\overline{c_0} + \\overline{c_1}\\ln(x)\n",
    "\\end{align*}\n",
    "e o sistema através dos dados será\n",
    "$$\n",
    "\\begin{bmatrix}\n",
    "    1 & \\ln(0.1)\\\\\n",
    "    1 & \\ln(0.2)\\\\\n",
    "    1 & \\ln(0.4)\\\\\n",
    "    1 & \\ln(0.8)\\\\\n",
    "    1 & \\ln(0.9)\n",
    "\\end{bmatrix}\n",
    "\\begin{bmatrix}\n",
    "    \\overline{c_0}\\\\\n",
    "    \\overline{c_1}\n",
    "\\end{bmatrix}\n",
    "=\n",
    "\\begin{bmatrix}\n",
    "    \\ln(22)\\\\\n",
    "    \\ln(43)\\\\\n",
    "    \\ln(84)\\\\\n",
    "    \\ln(210)\\\\\n",
    "    \\ln(320)\n",
    "\\end{bmatrix}\n",
    "$$\n",
    "Depois de computar $\\overline{c_0}$, calculamos $e^{\\overline{c_0}} = c_0$ para encontrar o valor de $c_0$. O algoritmo abaixo computa as variáveis que queremos:"
   ]
  },
  {
   "cell_type": "code",
   "execution_count": 12,
   "id": "1da93b7e",
   "metadata": {},
   "outputs": [
    {
     "name": "stdout",
     "output_type": "stream",
     "text": [
      "c_0 = 295.232768178912\n",
      "c_1 = 1.171329448559714\n",
      "T(0.3) = 72.061\n"
     ]
    }
   ],
   "source": [
    "using LinearAlgebra\n",
    "\n",
    "V = \n",
    "[\n",
    "    1 log(0.1);\n",
    "    1 log(0.2);\n",
    "    1 log(0.4);\n",
    "    1 log(0.8);\n",
    "    1 log(0.9);\n",
    "]\n",
    "\n",
    "# Valores y_barra\n",
    "y_b = \n",
    "[\n",
    "    log(22);\n",
    "    log(43);\n",
    "    log(84);\n",
    "    log(210);\n",
    "    log(320);\n",
    "]\n",
    "# Computa as variáveis c_barra\n",
    "c_b = V\\y_b\n",
    "\n",
    "# Computa c_0\n",
    "c_0 = exp(c_b[1])\n",
    "c_1 = c_b[2]\n",
    "\n",
    "# Printa o resultado\n",
    "println(\"c_0 = \", c_0)\n",
    "println(\"c_1 = \", c_1)\n",
    "\n",
    "# Gera a função T aproximadora e calcula T(0.3) com 3 casas decimais\n",
    "T(x) = c_0*x^c_1\n",
    "println(\"T(0.3) = \", round(T(0.3),digits=3))\n"
   ]
  },
  {
   "cell_type": "markdown",
   "id": "fa336f71",
   "metadata": {},
   "source": [
    "## 2"
   ]
  },
  {
   "cell_type": "markdown",
   "id": "a3c9e4dd",
   "metadata": {},
   "source": [
    "### a"
   ]
  },
  {
   "cell_type": "markdown",
   "id": "013a123c",
   "metadata": {},
   "source": [
    "Como visto em aula e no vídeo do Abel, a fórmula da integração numérica pelo método do trapézio é\n",
    "$$\n",
    "    \\int_{a}^{b} f(x)\\, dx = \\frac{h}{2}\\left(f(a) + 2\\sum_{i=1}^{n-1} f(a+ih) + f(b)\\right)\n",
    "$$\n",
    "onde $h$ é a dimensão dos subintervalos. A função abaixo computa essa soma."
   ]
  },
  {
   "cell_type": "code",
   "execution_count": 7,
   "id": "15090397",
   "metadata": {},
   "outputs": [
    {
     "data": {
      "text/plain": [
       "trapezio (generic function with 1 method)"
      ]
     },
     "execution_count": 7,
     "metadata": {},
     "output_type": "execute_result"
    }
   ],
   "source": [
    "\n",
    "# f: Função que será integrada\n",
    "# a: Início do intervalo de integração\n",
    "# b: Fim do intervalo de integração\n",
    "# n: Número de subintervalos \n",
    "function trapezio(f,a,b,n)\n",
    "    # Calcula h\n",
    "    h = (b-a)/n\n",
    "    S = 0\n",
    "    for i in 1:(n-1)\n",
    "        # Calcula o somatório central da fórmula.\n",
    "        S += f(a+i*h) \n",
    "    end\n",
    "    # Calcula o restante dos termos da fórmula\n",
    "    return (h/2)*(f(a)+2*S+f(b))\n",
    "end"
   ]
  },
  {
   "cell_type": "markdown",
   "id": "49fd75a1",
   "metadata": {},
   "source": [
    "A função $v(t)$ abaixo calcula a velocidade para um $t$ relativo, ou seja, para valores de $t$ diferentes dos que foram passados na tabela. Isso é feito para conseguirmos utilizar mais facilmente a função trapézio."
   ]
  },
  {
   "cell_type": "code",
   "execution_count": 5,
   "id": "bb333022",
   "metadata": {},
   "outputs": [
    {
     "name": "stdout",
     "output_type": "stream",
     "text": [
      "Altura = 6538.5\n"
     ]
    }
   ],
   "source": [
    "function v(t)\n",
    "    # Valores da velocidade\n",
    "    V = [0 185 319 447 742 1325 1445 4151]\n",
    "    # Valores de t relativos, ou seja, t = 0, t = 1, ..., t = 7. \n",
    "    return V[floor(Int8,t)+1]\n",
    "end\n",
    "\n",
    "# Tempo inicial.\n",
    "t_i = 0\n",
    "# Tempo final.\n",
    "t_f = 7\n",
    "# Número de intervalo igual a 7\n",
    "n = 7\n",
    "\n",
    "println(\"Altura = \", trapezio(v,t_i,t_f,n))"
   ]
  },
  {
   "cell_type": "markdown",
   "id": "6707f5ad",
   "metadata": {},
   "source": [
    "### b"
   ]
  },
  {
   "cell_type": "markdown",
   "id": "e0b59c29",
   "metadata": {},
   "source": [
    "Pelo erro na interpolação visto em aulas passadas, precisaríamos da segunda derivada da função $v$, já que estamos utilizando uma reta para interpolar por partes, ou seja, um polinômio de grau 1."
   ]
  },
  {
   "cell_type": "markdown",
   "id": "688f94fc",
   "metadata": {},
   "source": [
    "### c"
   ]
  },
  {
   "cell_type": "markdown",
   "id": "c15fa207",
   "metadata": {},
   "source": [
    "A matriz será\n",
    "$$\n",
    "\\begin{bmatrix}\n",
    "    10 & 1\\\\\n",
    "    15 & 1\\\\\n",
    "    20 & 1\\\\\n",
    "    32 & 1\\\\\n",
    "    59 & 1\\\\\n",
    "    62 & 1\\\\\n",
    "    125 & 1\n",
    "\\end{bmatrix}\n",
    "\\begin{bmatrix}\n",
    "    c_0\\\\\n",
    "    c_1\n",
    "\\end{bmatrix}\n",
    "=\n",
    "\\begin{bmatrix}\n",
    "   185\\\\\n",
    "   319\\\\\n",
    "   447\\\\\n",
    "   742\\\\\n",
    "   1325\\\\\n",
    "   1445\\\\\n",
    "   4151\n",
    "\\end{bmatrix}\n",
    "$$\n",
    "pois $v(t) = c_0t + c_1$."
   ]
  },
  {
   "cell_type": "code",
   "execution_count": 7,
   "id": "f65027e8",
   "metadata": {},
   "outputs": [
    {
     "name": "stdout",
     "output_type": "stream",
     "text": [
      "c_0 = 32.438909320952575\n",
      "c_1 = -232.97096383346047\n",
      "Altura = 224307.60859075916\n"
     ]
    }
   ],
   "source": [
    "V =\n",
    "[\n",
    "    0 1;\n",
    "    10 1;\n",
    "    15 1;\n",
    "    20 1;\n",
    "    32 1;\n",
    "    59 1;\n",
    "    62 1;\n",
    "    125 1;\n",
    "    \n",
    "]\n",
    "\n",
    "# Velocidades\n",
    "y = \n",
    "[\n",
    "    0;\n",
    "    185;\n",
    "    319;\n",
    "    447; \n",
    "    742;\n",
    "    1325;\n",
    "    1445;\n",
    "    4151;\n",
    "    \n",
    "]\n",
    "\n",
    "# Executa a regressão \n",
    "c = V\\y\n",
    "# Constantes\n",
    "c_0 = c[1]\n",
    "c_1 = c[2]\n",
    "\n",
    "# Constroi a função\n",
    "f(x) = c_0*x + c_1\n",
    "# Aqui utilizamos os tempos t_i dados na tabela, pois a função é contínua\n",
    "a = 0\n",
    "b = 125\n",
    "\n",
    "# Printa o resultado\n",
    "println(\"c_0 = \", c_0)\n",
    "println(\"c_1 = \", c_1)\n",
    "println(\"Altura = \", trapezio(f,a,b,100))"
   ]
  },
  {
   "cell_type": "markdown",
   "id": "d8ddc264",
   "metadata": {},
   "source": [
    "## 3"
   ]
  },
  {
   "cell_type": "markdown",
   "id": "93630fed",
   "metadata": {},
   "source": [
    "### a"
   ]
  },
  {
   "cell_type": "markdown",
   "id": "18f1d687",
   "metadata": {},
   "source": [
    "Sabemos que o intervalo de integração é de 0 a 1, pois $A_c = \\pi r^2 = \\pi$, então $r=1$ e também porque estamos no primeiro quadrante. Sendo assim, isolando $y$, temos\n",
    "$$\n",
    "y = \\sqrt{1-x^2}\n",
    "$$\n",
    "Como queremos h = 0.1, então\n",
    "\\begin{align*}\n",
    "h &= \\frac{b-a}{n}\\\\\n",
    "0.1 &= \\frac{1-0}{n}\\\\\n",
    "n &= 10\n",
    "\\end{align*}\n",
    "Novamente, como estamos no primeiro quadrante, vamos calcular apenas $\\frac{1}{4}$ da área total do círculo. Com isso, precisamos multiplicar a integral por 4 para termos o valor de $\\pi$ aproximado. "
   ]
  },
  {
   "cell_type": "code",
   "execution_count": 14,
   "id": "7646d529",
   "metadata": {},
   "outputs": [
    {
     "name": "stdout",
     "output_type": "stream",
     "text": [
      "π ≈ 3.1045183262483182\n"
     ]
    }
   ],
   "source": [
    "f(x) = sqrt(1-x^2)\n",
    "a = 0\n",
    "b = 1\n",
    "n = 10\n",
    "println(\"π ≈ \", 4*trapezio(f,a,b,n))"
   ]
  },
  {
   "cell_type": "markdown",
   "id": "eea96210",
   "metadata": {},
   "source": [
    "### b"
   ]
  },
  {
   "cell_type": "markdown",
   "id": "3bc01bb6",
   "metadata": {},
   "source": [
    "Pelo resultado (139) encontrado no livro, o erro do método do trapézio é inferior a\n",
    "$$\n",
    "\\frac{h^2(b-a)M}{12}\n",
    "$$\n",
    "onde $M$ é o valor máximo de $|f''(x)|$ no intervalo $[a,b]$. Calculando o módulo da segunda derivada $y''$, encontramos\n",
    "$$\n",
    "|y''| = \\left|-\\frac{1}{\\sqrt{(1-x^2)}(1-x^2)}\\right| = \\frac{1}{\\sqrt{(1-x^2)}(1-x^2)}\n",
    "$$\n",
    "pois estamos no intervalo $[0,1]$. Como é possivel notar, o maior valor dessa derivada ocorre apenas quando $x \\to 1$, mas nunca temos um valor máximo exato, pois o limite é infinito. Com isso é impossível calcular o erro através dessa fórmula, pois não é possivel garantir um valor máximo."
   ]
  },
  {
   "cell_type": "markdown",
   "id": "5bbb0591",
   "metadata": {},
   "source": [
    "## 4"
   ]
  },
  {
   "cell_type": "markdown",
   "id": "ac23c32c",
   "metadata": {},
   "source": [
    "Queremos computar uma integral I do tipo\n",
    "$$\n",
    "I = \\int_{a}^{b}\\int_{f_1(y)}^{f_2(y)} f(x,y) \\,dx\\,dy\n",
    "$$\n",
    "que pode ser reescrita como\n",
    "$$\n",
    "I = \\int_{a}^{b} F(y) \\,dy\n",
    "$$\n",
    "onde\n",
    "$$\n",
    "F(x) = \\int_{f_1(y)}^{f_2(y)} f(x,y) \\,dx\n",
    "$$\n",
    "Utilizando o método do trapézio, temos a fórmula \n",
    "$$\n",
    "I = \\int_{a}^{b} F(y) \\,dy = \\frac{h}{2}\\left(F(a) + 2\\sum_{i=1}^{n-1} F(a+ih) + F(b)\\right)\n",
    "$$\n",
    "que pode ser vista como\n",
    "$$\n",
    "I = \\frac{h}{2}\\left(\\int_{f_1(a)}^{f_2(a)} f(x,a) \\,dx + 2\\sum_{i=1}^{n-1} \\int_{f_1(a+ih)}^{f_2(a+ih)} f(x,a+ih) \\,dx + \\int_{f_1(b)}^{f_2(b)} f(x,b) \\,dx\\right)\n",
    "$$\n",
    "Dessa forma, podemos utilizar o método do trapézio para calcular cada integral separadamente na fórmula acima. O algoritmo abaixo computa esse resultado:"
   ]
  },
  {
   "cell_type": "code",
   "execution_count": 14,
   "id": "05897e44",
   "metadata": {},
   "outputs": [
    {
     "data": {
      "text/plain": [
       "Integral_Dupla (generic function with 1 method)"
      ]
     },
     "execution_count": 14,
     "metadata": {},
     "output_type": "execute_result"
    }
   ],
   "source": [
    "# f: Função com duas variáveis que será integrada\n",
    "# f1: Função que delimita o limite inferior na integral mais interna\n",
    "# f1: Função que delimita o limite superior na integral mais interna\n",
    "# a: Constante que delimita o limite inferior na integral mais externa\n",
    "# b: Constante que delimita o limite superior na integral mais externa\n",
    "# n: Número de subintervalos\n",
    "function Integral_Dupla(f,f1,f2,a,b,n)\n",
    "    # Calcula h\n",
    "    h = (b-a)/n\n",
    "    S = 0\n",
    "    for i in 1:(n-1)\n",
    "        # Calcula o somatório central da fórmula.\n",
    "        y_i = a+i*h\n",
    "        # Função apenas de x com y constante\n",
    "        p1(x) = f(x,y_i)\n",
    "        S += trapezio(p1,f1(y_i),f2(y_i),n)\n",
    "    end\n",
    "    # Calcula o restante dos termos da fórmula\n",
    "     # Funções apenas de x com y constante\n",
    "    p2(x) = f(x,a)\n",
    "    p3(x) = f(x,b)\n",
    "    return (h/2)*( trapezio(p2,f1(a),f2(a),n) + 2*S +  trapezio(p3,f1(b),f2(b),n) )\n",
    "    \n",
    "end"
   ]
  },
  {
   "cell_type": "code",
   "execution_count": 13,
   "id": "bdb89e0b",
   "metadata": {},
   "outputs": [
    {
     "data": {
      "text/plain": [
       "376.8754949999498"
      ]
     },
     "execution_count": 13,
     "metadata": {},
     "output_type": "execute_result"
    }
   ],
   "source": [
    "# Teste\n",
    "f(x,y) = x*y\n",
    "a = 1\n",
    "b = 4\n",
    "h(y) = y\n",
    "g(y) = y^2+1\n",
    "n = 1000\n",
    "\n",
    "Integral_Dupla(f,h,g,a,b,n)"
   ]
  },
  {
   "cell_type": "markdown",
   "id": "a253141a",
   "metadata": {},
   "source": []
  }
 ],
 "metadata": {
  "kernelspec": {
   "display_name": "Julia 1.6.4",
   "language": "julia",
   "name": "julia-1.6"
  },
  "language_info": {
   "file_extension": ".jl",
   "mimetype": "application/julia",
   "name": "julia",
   "version": "1.6.4"
  }
 },
 "nbformat": 4,
 "nbformat_minor": 5
}
