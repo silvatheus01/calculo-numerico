{
 "cells": [
  {
   "cell_type": "markdown",
   "id": "f6702c51",
   "metadata": {},
   "source": [
    "# Nome: Matheus da Silva Oliveira\n",
    "# DRE: 118178020"
   ]
  },
  {
   "cell_type": "markdown",
   "id": "128f0cea",
   "metadata": {},
   "source": [
    "## 1"
   ]
  },
  {
   "cell_type": "markdown",
   "id": "82463bdf",
   "metadata": {},
   "source": [
    "Temos $T=c_0x^{c_1}$, mas para utilizar regressão, precisamos que $c_1$ seja um termo linear. Assim, operando a equação encontramos\n",
    "\\begin{align*}\n",
    "    \\ln(T) &= \\ln(c_0x^{c_1})\\\\\n",
    "    &= \\ln(c_0) + \\ln(x^{c_1})\\\\\n",
    "    \\ln(T) &= \\ln(c_0) + c_1\\ln(x)\n",
    "\\end{align*}\n",
    "Fazendo uma mudança de variável,\n",
    "\\begin{align*}\n",
    "    \\overline{c_0} &= \\ln(c_0)\\\\\n",
    "    \\overline{c_1} &= c_1\\\\\n",
    "    \\overline{y} &= \\ln(T)\n",
    "\\end{align*}\n",
    "Então utlizamos regressão na equação\n",
    "\\begin{align*}\n",
    "    \\overline{y} &= \\overline{c_0} + \\overline{c_1}\\ln(x)\n",
    "\\end{align*}\n",
    "e o sistema através dos dados será\n",
    "$$\n",
    "\\begin{bmatrix}\n",
    "    1 & \\ln(0.1)\\\\\n",
    "    1 & \\ln(0.2)\\\\\n",
    "    1 & \\ln(0.4)\\\\\n",
    "    1 & \\ln(0.8)\\\\\n",
    "    1 & \\ln(0.9)\n",
    "\\end{bmatrix}\n",
    "\\begin{bmatrix}\n",
    "    \\overline{c_0}\\\\\n",
    "    \\overline{c_1}\n",
    "\\end{bmatrix}\n",
    "=\n",
    "\\begin{bmatrix}\n",
    "    \\ln(22)\\\\\n",
    "    \\ln(43)\\\\\n",
    "    \\ln(84)\\\\\n",
    "    \\ln(210)\\\\\n",
    "    \\ln(320)\n",
    "\\end{bmatrix}\n",
    "$$\n",
    "Depois de computar $\\overline{c_0}$, calculamos $e^{\\overline{c_0}} = c_0$ para encontrar o valor de $c_0$. O algoritmo abaixo computa as variáveis que queremos:"
   ]
  },
  {
   "cell_type": "code",
   "execution_count": 12,
   "id": "1da93b7e",
   "metadata": {},
   "outputs": [
    {
     "name": "stdout",
     "output_type": "stream",
     "text": [
      "c_0 = 295.232768178912\n",
      "c_1 = 1.171329448559714\n",
      "T(0.3) = 72.061\n"
     ]
    }
   ],
   "source": [
    "using LinearAlgebra\n",
    "\n",
    "V = \n",
    "[\n",
    "    1 log(0.1);\n",
    "    1 log(0.2);\n",
    "    1 log(0.4);\n",
    "    1 log(0.8);\n",
    "    1 log(0.9);\n",
    "]\n",
    "\n",
    "# Valores y_barra\n",
    "y_b = \n",
    "[\n",
    "    log(22);\n",
    "    log(43);\n",
    "    log(84);\n",
    "    log(210);\n",
    "    log(320);\n",
    "]\n",
    "# Computa as variáveis c_barra\n",
    "c_b = V\\y_b\n",
    "\n",
    "# Computa c_0\n",
    "c_0 = exp(c_b[1])\n",
    "c_1 = c_b[2]\n",
    "\n",
    "# Printa o resultado\n",
    "println(\"c_0 = \", c_0)\n",
    "println(\"c_1 = \", c_1)\n",
    "\n",
    "# Gera a função T aproximadora e calcula T(0.3) com 3 casas decimais\n",
    "T(x) = c_0*x^c_1\n",
    "println(\"T(0.3) = \", round(T(0.3),digits=3))\n"
   ]
  }
 ],
 "metadata": {
  "kernelspec": {
   "display_name": "Julia 1.6.4",
   "language": "julia",
   "name": "julia-1.6"
  },
  "language_info": {
   "file_extension": ".jl",
   "mimetype": "application/julia",
   "name": "julia",
   "version": "1.6.4"
  }
 },
 "nbformat": 4,
 "nbformat_minor": 5
}
