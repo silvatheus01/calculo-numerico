{
 "cells": [
  {
   "cell_type": "markdown",
   "id": "e8f41d9a",
   "metadata": {},
   "source": [
    "# Nome: Matheus da Silva Oliveira\n",
    "# DRE: 118178020"
   ]
  },
  {
   "cell_type": "markdown",
   "id": "9a50eb0f",
   "metadata": {},
   "source": [
    "## 1"
   ]
  },
  {
   "cell_type": "markdown",
   "id": "ef8be3a9",
   "metadata": {},
   "source": [
    "Temos $T=c_0x^{c_1}$, mas para utilizar regressão, precisamos que $c_1$ seja um termo linear. Assim, operando a equação encontramos\n",
    "\\begin{align*}\n",
    "    \\ln(T) &= \\ln(c_0x^{c_1})\\\\\n",
    "    &= \\ln(c_0) + \\ln(x^{c_1})\\\\\n",
    "    \\ln(T) &= \\ln(c_0) + c_1\\ln(x)\n",
    "\\end{align*}\n",
    "Fazendo uma mudança de variável,\n",
    "\\begin{align*}\n",
    "    \\overline{c_0} &= \\ln(c_0)\\\\\n",
    "    \\overline{c_1} &= c_1\\\\\n",
    "    \\overline{y} &= \\ln(T)\n",
    "\\end{align*}\n",
    "Então utlizamos regressão na equação\n",
    "\\begin{align*}\n",
    "    \\overline{y} &= \\overline{c_0} + \\overline{c_1}\\ln(x)\n",
    "\\end{align*}\n",
    "e o sistema através dos dados será\n",
    "$$\n",
    "\\begin{bmatrix}\n",
    "    1 & \\ln(0.1)\\\\\n",
    "    1 & \\ln(0.2)\\\\\n",
    "    1 & \\ln(0.4)\\\\\n",
    "    1 & \\ln(0.8)\\\\\n",
    "    1 & \\ln(0.9)\n",
    "\\end{bmatrix}\n",
    "\\begin{bmatrix}\n",
    "    \\overline{c_0}\\\\\n",
    "    \\overline{c_1}\n",
    "\\end{bmatrix}\n",
    "=\n",
    "\\begin{bmatrix}\n",
    "    \\ln(22)\\\\\n",
    "    \\ln(43)\\\\\n",
    "    \\ln(84)\\\\\n",
    "    \\ln(210)\\\\\n",
    "    \\ln(320)\n",
    "\\end{bmatrix}\n",
    "$$\n",
    "Depois de computar $\\overline{c_0}$, calculamos $e^{\\overline{c_0}} = c_0$ para encontrar o valor de $c_0$. O algoritmo abaixo computa as variáveis que queremos:"
   ]
  },
  {
   "cell_type": "code",
   "execution_count": 12,
   "id": "1da93b7e",
   "metadata": {},
   "outputs": [
    {
     "name": "stdout",
     "output_type": "stream",
     "text": [
      "c_0 = 295.232768178912\n",
      "c_1 = 1.171329448559714\n",
      "T(0.3) = 72.061\n"
     ]
    }
   ],
   "source": [
    "using LinearAlgebra\n",
    "\n",
    "V = \n",
    "[\n",
    "    1 log(0.1);\n",
    "    1 log(0.2);\n",
    "    1 log(0.4);\n",
    "    1 log(0.8);\n",
    "    1 log(0.9);\n",
    "]\n",
    "\n",
    "# Valores y_barra\n",
    "y_b = \n",
    "[\n",
    "    log(22);\n",
    "    log(43);\n",
    "    log(84);\n",
    "    log(210);\n",
    "    log(320);\n",
    "]\n",
    "# Computa as variáveis c_barra\n",
    "c_b = V\\y_b\n",
    "\n",
    "# Computa c_0\n",
    "c_0 = exp(c_b[1])\n",
    "c_1 = c_b[2]\n",
    "\n",
    "# Printa o resultado\n",
    "println(\"c_0 = \", c_0)\n",
    "println(\"c_1 = \", c_1)\n",
    "\n",
    "# Gera a função T aproximadora e calcula T(0.3) com 3 casas decimais\n",
    "T(x) = c_0*x^c_1\n",
    "println(\"T(0.3) = \", round(T(0.3),digits=3))\n"
   ]
  },
  {
   "cell_type": "markdown",
   "id": "fa336f71",
   "metadata": {},
   "source": [
    "## 2"
   ]
  },
  {
   "cell_type": "markdown",
   "id": "db9bc1e5",
   "metadata": {},
   "source": [
    "### a"
   ]
  },
  {
   "cell_type": "code",
   "execution_count": 36,
   "id": "bb333022",
   "metadata": {},
   "outputs": [
    {
     "name": "stdout",
     "output_type": "stream",
     "text": [
      "9.727474946430448e-6\n"
     ]
    },
    {
     "data": {
      "text/plain": [
       "6538.5"
      ]
     },
     "execution_count": 36,
     "metadata": {},
     "output_type": "execute_result"
    }
   ],
   "source": [
    "function v(t) \n",
    "    V = [0 185 319 447 742 1325 1445 4151]\n",
    "    return V[(floor(Int64,t)+1)]\n",
    "end\n",
    "\n",
    "function trapezio(f,a,b,n)\n",
    "    h = (b-a)/n\n",
    "    S = 0\n",
    "    for i in 1:(n-1)\n",
    "        S += f(a+i*h) \n",
    "    end\n",
    "    return (h/2)*(f(a)+2*S+f(b))\n",
    "end\n",
    "\n",
    "f(x) = exp(x)\n",
    "F(x) = exp(x)\n",
    "a = 1\n",
    "b = 4\n",
    "\n",
    "IExata = F(b) - F(a)\n",
    "IT = trapezio(f,a,b,2000)\n",
    "println(abs(IExata-IT))\n",
    "\n",
    "t_i = 0\n",
    "t_f = 7\n",
    "n = 7\n",
    "\n",
    "trapezio(v,t_i,t_f,n)"
   ]
  },
  {
   "cell_type": "markdown",
   "id": "b39f8063",
   "metadata": {},
   "source": [
    "### b"
   ]
  },
  {
   "cell_type": "markdown",
   "id": "7c079cb9",
   "metadata": {},
   "source": [
    "Pelo erro na interpolação visto em aulas passadas, precisaríamos da segunda derivada da função $v$, já que estamos utilizando uma reta para interpolar por partes, ou seja, um polinômio de grau 1."
   ]
  },
  {
   "cell_type": "markdown",
   "id": "d1172ba1",
   "metadata": {},
   "source": [
    "### c"
   ]
  },
  {
   "cell_type": "code",
   "execution_count": 44,
   "id": "96ad6496",
   "metadata": {},
   "outputs": [
    {
     "name": "stdout",
     "output_type": "stream",
     "text": [
      "c_0 = 32.438909320952575\n",
      "c_1 = -232.97096383346047\n"
     ]
    },
    {
     "data": {
      "text/plain": [
       "224307.60859075916"
      ]
     },
     "execution_count": 44,
     "metadata": {},
     "output_type": "execute_result"
    }
   ],
   "source": [
    "V =\n",
    "[\n",
    "    0 1;\n",
    "    10 1;\n",
    "    15 1;\n",
    "    20 1;\n",
    "    32 1;\n",
    "    59 1;\n",
    "    62 1;\n",
    "    125 1;\n",
    "    \n",
    "]\n",
    "\n",
    "y = \n",
    "[\n",
    "    0;\n",
    "    185;\n",
    "    319;\n",
    "    447; \n",
    "    742;\n",
    "    1325;\n",
    "    1445;\n",
    "    4151;\n",
    "    \n",
    "]\n",
    "\n",
    "c = V\\y\n",
    "c_0 = c[1]\n",
    "c_1 = c[2]\n",
    "\n",
    "f(x) = c_0*x + c_1\n",
    "a = 0\n",
    "b = 125\n",
    "println(\"c_0 = \", c_0)\n",
    "println(\"c_1 = \", c_1)\n",
    "trapezio(f,a,b,100)"
   ]
  },
  {
   "cell_type": "code",
   "execution_count": null,
   "id": "323974ef",
   "metadata": {},
   "outputs": [],
   "source": []
  }
 ],
 "metadata": {
  "kernelspec": {
   "display_name": "Julia 1.6.4",
   "language": "julia",
   "name": "julia-1.6"
  },
  "language_info": {
   "file_extension": ".jl",
   "mimetype": "application/julia",
   "name": "julia",
   "version": "1.6.4"
  }
 },
 "nbformat": 4,
 "nbformat_minor": 5
}
