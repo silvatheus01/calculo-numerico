{
 "cells": [
  {
   "cell_type": "markdown",
   "id": "2e0e2f9b",
   "metadata": {},
   "source": [
    "## 1.1\n",
    "### 2"
   ]
  },
  {
   "cell_type": "markdown",
   "id": "d3f56444",
   "metadata": {},
   "source": [
    "O algoritmo que implementa o método de Newton é"
   ]
  },
  {
   "cell_type": "code",
   "execution_count": 2,
   "id": "d26d2cf9",
   "metadata": {},
   "outputs": [
    {
     "data": {
      "text/plain": [
       "newton (generic function with 1 method)"
      ]
     },
     "execution_count": 2,
     "metadata": {},
     "output_type": "execute_result"
    }
   ],
   "source": [
    "# x: Valor inicial\n",
    "# f: Função f(x)\n",
    "# f_linha: Derivada da função f(x)\n",
    "# n: Número de interações que serão feitas\n",
    "function newton(x,f,f_linha,n)\n",
    "    # Método de newton sendo aplicado. A cada iteração, temos uma aproximação melhor.\n",
    "    # Itera de 1 até n\n",
    "    for i in 1:n\n",
    "        x = x - f(x)/f_linha(x)\n",
    "    end\n",
    "    # Retorna a aproximação desejada\n",
    "    return x\n",
    "end"
   ]
  },
  {
   "cell_type": "markdown",
   "id": "bcf3366c",
   "metadata": {},
   "source": [
    "A função que nos interessa é $f(x) = \\ln(3x)$ quando $x=1$. Tornando ambos os lados como o expoente da função $e$, temos\n",
    "\\begin{align*}\n",
    "e^{f(1)} = 3\n",
    "\\end{align*}\n",
    "pois x = 1. Isolando o 3\n",
    "\\begin{align*}\n",
    "e^{f(1)} - 3 = 0\n",
    "\\end{align*}\n",
    "Dessa forma, procuramos a raiz da função\n",
    "\\begin{align*}\n",
    "g(y)=e^y-3 \n",
    "\\end{align*}\n",
    "onde $y = f(1) = \\ln(3)$. Utilizando o resultado acima, podemos utilizar o método de Newton para aproximar $\\ln(3)$. Dessa forma, precisamos da primeira derivada, ou seja\n",
    "$$\n",
    "g'(y) = e^y\n",
    "$$\n",
    "e também do chute inicial. Para o chute inicial, sabemos que a raiz está entre $g(0)=-2$ e $g(2)\\approx4.3890$, sendo assim, tomando a média desses dois resultados, podemos supor um chute inicial $y=1.1945$. O algoritmo será"
   ]
  },
  {
   "cell_type": "code",
   "execution_count": null,
   "id": "07c0c60b",
   "metadata": {},
   "outputs": [],
   "source": [
    "# Função f\n",
    "g(y) = exp(y) - 3\n",
    "\n",
    "# Derivada da função g\n",
    "g_linha(y) = exp(y)\n",
    "\n",
    "# Número de passos\n",
    "n = 20\n",
    "\n",
    "# Chute inical\n",
    "y = 1.1945\n",
    "\n",
    "# Imprime o resultado\n",
    "print(newton(y,g,g_linha,n))"
   ]
  },
  {
   "cell_type": "markdown",
   "id": "d7df8e23",
   "metadata": {},
   "source": [
    "## 1.2"
   ]
  },
  {
   "cell_type": "code",
   "execution_count": 13,
   "id": "7841427f",
   "metadata": {},
   "outputs": [
    {
     "data": {
      "text/plain": [
       "regressao (generic function with 1 method)"
      ]
     },
     "execution_count": 13,
     "metadata": {},
     "output_type": "execute_result"
    }
   ],
   "source": [
    "using LinearAlgebra\n",
    "\n",
    "function regressao(pontos, grau)\n",
    "    n_eq =  length(pontos)\n",
    "    n_col = grau + 1\n",
    "    \n",
    "    V = zeros(n_eq, n_col)\n",
    "    y = zeros(n_eq)\n",
    "    \n",
    "    for i in 1:n_eq\n",
    "        y[i] = pontos[i][2]\n",
    "        for j in 1:n_col\n",
    "            V[i,j] = pontos[i][1]^(j-1)\n",
    "        end\n",
    "    end\n",
    "    return V\\y\n",
    "end"
   ]
  },
  {
   "cell_type": "code",
   "execution_count": 68,
   "id": "7d71d383",
   "metadata": {},
   "outputs": [
    {
     "data": {
      "image/svg+xml": [
       "<?xml version=\"1.0\" encoding=\"utf-8\"?>\n",
       "<svg xmlns=\"http://www.w3.org/2000/svg\" xmlns:xlink=\"http://www.w3.org/1999/xlink\" width=\"600\" height=\"400\" viewBox=\"0 0 2400 1600\">\n",
       "<defs>\n",
       "  <clipPath id=\"clip220\">\n",
       "    <rect x=\"0\" y=\"0\" width=\"2400\" height=\"1600\"/>\n",
       "  </clipPath>\n",
       "</defs>\n",
       "<path clip-path=\"url(#clip220)\" d=\"\n",
       "M0 1600 L2400 1600 L2400 0 L0 0  Z\n",
       "  \" fill=\"#ffffff\" fill-rule=\"evenodd\" fill-opacity=\"1\"/>\n",
       "<defs>\n",
       "  <clipPath id=\"clip221\">\n",
       "    <rect x=\"480\" y=\"0\" width=\"1681\" height=\"1600\"/>\n",
       "  </clipPath>\n",
       "</defs>\n",
       "<path clip-path=\"url(#clip220)\" d=\"\n",
       "M172.015 1486.45 L2352.76 1486.45 L2352.76 47.2441 L172.015 47.2441  Z\n",
       "  \" fill=\"#ffffff\" fill-rule=\"evenodd\" fill-opacity=\"1\"/>\n",
       "<defs>\n",
       "  <clipPath id=\"clip222\">\n",
       "    <rect x=\"172\" y=\"47\" width=\"2182\" height=\"1440\"/>\n",
       "  </clipPath>\n",
       "</defs>\n",
       "<polyline clip-path=\"url(#clip222)\" style=\"stroke:#000000; stroke-linecap:butt; stroke-linejoin:round; stroke-width:2; stroke-opacity:0.1; fill:none\" points=\"\n",
       "  233.734,1486.45 233.734,47.2441 \n",
       "  \"/>\n",
       "<polyline clip-path=\"url(#clip222)\" style=\"stroke:#000000; stroke-linecap:butt; stroke-linejoin:round; stroke-width:2; stroke-opacity:0.1; fill:none\" points=\"\n",
       "  588.441,1486.45 588.441,47.2441 \n",
       "  \"/>\n",
       "<polyline clip-path=\"url(#clip222)\" style=\"stroke:#000000; stroke-linecap:butt; stroke-linejoin:round; stroke-width:2; stroke-opacity:0.1; fill:none\" points=\"\n",
       "  943.149,1486.45 943.149,47.2441 \n",
       "  \"/>\n",
       "<polyline clip-path=\"url(#clip222)\" style=\"stroke:#000000; stroke-linecap:butt; stroke-linejoin:round; stroke-width:2; stroke-opacity:0.1; fill:none\" points=\"\n",
       "  1297.86,1486.45 1297.86,47.2441 \n",
       "  \"/>\n",
       "<polyline clip-path=\"url(#clip222)\" style=\"stroke:#000000; stroke-linecap:butt; stroke-linejoin:round; stroke-width:2; stroke-opacity:0.1; fill:none\" points=\"\n",
       "  1652.56,1486.45 1652.56,47.2441 \n",
       "  \"/>\n",
       "<polyline clip-path=\"url(#clip222)\" style=\"stroke:#000000; stroke-linecap:butt; stroke-linejoin:round; stroke-width:2; stroke-opacity:0.1; fill:none\" points=\"\n",
       "  2007.27,1486.45 2007.27,47.2441 \n",
       "  \"/>\n",
       "<polyline clip-path=\"url(#clip220)\" style=\"stroke:#000000; stroke-linecap:butt; stroke-linejoin:round; stroke-width:4; stroke-opacity:1; fill:none\" points=\"\n",
       "  172.015,1486.45 2352.76,1486.45 \n",
       "  \"/>\n",
       "<polyline clip-path=\"url(#clip220)\" style=\"stroke:#000000; stroke-linecap:butt; stroke-linejoin:round; stroke-width:4; stroke-opacity:1; fill:none\" points=\"\n",
       "  233.734,1486.45 233.734,1467.55 \n",
       "  \"/>\n",
       "<polyline clip-path=\"url(#clip220)\" style=\"stroke:#000000; stroke-linecap:butt; stroke-linejoin:round; stroke-width:4; stroke-opacity:1; fill:none\" points=\"\n",
       "  588.441,1486.45 588.441,1467.55 \n",
       "  \"/>\n",
       "<polyline clip-path=\"url(#clip220)\" style=\"stroke:#000000; stroke-linecap:butt; stroke-linejoin:round; stroke-width:4; stroke-opacity:1; fill:none\" points=\"\n",
       "  943.149,1486.45 943.149,1467.55 \n",
       "  \"/>\n",
       "<polyline clip-path=\"url(#clip220)\" style=\"stroke:#000000; stroke-linecap:butt; stroke-linejoin:round; stroke-width:4; stroke-opacity:1; fill:none\" points=\"\n",
       "  1297.86,1486.45 1297.86,1467.55 \n",
       "  \"/>\n",
       "<polyline clip-path=\"url(#clip220)\" style=\"stroke:#000000; stroke-linecap:butt; stroke-linejoin:round; stroke-width:4; stroke-opacity:1; fill:none\" points=\"\n",
       "  1652.56,1486.45 1652.56,1467.55 \n",
       "  \"/>\n",
       "<polyline clip-path=\"url(#clip220)\" style=\"stroke:#000000; stroke-linecap:butt; stroke-linejoin:round; stroke-width:4; stroke-opacity:1; fill:none\" points=\"\n",
       "  2007.27,1486.45 2007.27,1467.55 \n",
       "  \"/>\n",
       "<path clip-path=\"url(#clip220)\" d=\"M233.734 1517.37 Q230.123 1517.37 228.294 1520.93 Q226.489 1524.47 226.489 1531.6 Q226.489 1538.71 228.294 1542.27 Q230.123 1545.82 233.734 1545.82 Q237.368 1545.82 239.174 1542.27 Q241.002 1538.71 241.002 1531.6 Q241.002 1524.47 239.174 1520.93 Q237.368 1517.37 233.734 1517.37 M233.734 1513.66 Q239.544 1513.66 242.6 1518.27 Q245.678 1522.85 245.678 1531.6 Q245.678 1540.33 242.6 1544.94 Q239.544 1549.52 233.734 1549.52 Q227.924 1549.52 224.845 1544.94 Q221.79 1540.33 221.79 1531.6 Q221.79 1522.85 224.845 1518.27 Q227.924 1513.66 233.734 1513.66 Z\" fill=\"#000000\" fill-rule=\"evenodd\" fill-opacity=\"1\" /><path clip-path=\"url(#clip220)\" d=\"M578.719 1514.29 L597.076 1514.29 L597.076 1518.22 L583.002 1518.22 L583.002 1526.7 Q584.02 1526.35 585.039 1526.19 Q586.057 1526 587.076 1526 Q592.863 1526 596.242 1529.17 Q599.622 1532.34 599.622 1537.76 Q599.622 1543.34 596.15 1546.44 Q592.677 1549.52 586.358 1549.52 Q584.182 1549.52 581.914 1549.15 Q579.668 1548.78 577.261 1548.04 L577.261 1543.34 Q579.344 1544.47 581.566 1545.03 Q583.789 1545.58 586.265 1545.58 Q590.27 1545.58 592.608 1543.48 Q594.946 1541.37 594.946 1537.76 Q594.946 1534.15 592.608 1532.04 Q590.27 1529.94 586.265 1529.94 Q584.39 1529.94 582.515 1530.35 Q580.664 1530.77 578.719 1531.65 L578.719 1514.29 Z\" fill=\"#000000\" fill-rule=\"evenodd\" fill-opacity=\"1\" /><path clip-path=\"url(#clip220)\" d=\"M917.836 1544.91 L925.475 1544.91 L925.475 1518.55 L917.165 1520.21 L917.165 1515.95 L925.429 1514.29 L930.105 1514.29 L930.105 1544.91 L937.744 1544.91 L937.744 1548.85 L917.836 1548.85 L917.836 1544.91 Z\" fill=\"#000000\" fill-rule=\"evenodd\" fill-opacity=\"1\" /><path clip-path=\"url(#clip220)\" d=\"M957.188 1517.37 Q953.577 1517.37 951.748 1520.93 Q949.943 1524.47 949.943 1531.6 Q949.943 1538.71 951.748 1542.27 Q953.577 1545.82 957.188 1545.82 Q960.822 1545.82 962.628 1542.27 Q964.456 1538.71 964.456 1531.6 Q964.456 1524.47 962.628 1520.93 Q960.822 1517.37 957.188 1517.37 M957.188 1513.66 Q962.998 1513.66 966.054 1518.27 Q969.132 1522.85 969.132 1531.6 Q969.132 1540.33 966.054 1544.94 Q962.998 1549.52 957.188 1549.52 Q951.378 1549.52 948.299 1544.94 Q945.244 1540.33 945.244 1531.6 Q945.244 1522.85 948.299 1518.27 Q951.378 1513.66 957.188 1513.66 Z\" fill=\"#000000\" fill-rule=\"evenodd\" fill-opacity=\"1\" /><path clip-path=\"url(#clip220)\" d=\"M1273.04 1544.91 L1280.68 1544.91 L1280.68 1518.55 L1272.37 1520.21 L1272.37 1515.95 L1280.63 1514.29 L1285.31 1514.29 L1285.31 1544.91 L1292.95 1544.91 L1292.95 1548.85 L1273.04 1548.85 L1273.04 1544.91 Z\" fill=\"#000000\" fill-rule=\"evenodd\" fill-opacity=\"1\" /><path clip-path=\"url(#clip220)\" d=\"M1302.44 1514.29 L1320.8 1514.29 L1320.8 1518.22 L1306.72 1518.22 L1306.72 1526.7 Q1307.74 1526.35 1308.76 1526.19 Q1309.78 1526 1310.8 1526 Q1316.58 1526 1319.96 1529.17 Q1323.34 1532.34 1323.34 1537.76 Q1323.34 1543.34 1319.87 1546.44 Q1316.4 1549.52 1310.08 1549.52 Q1307.9 1549.52 1305.63 1549.15 Q1303.39 1548.78 1300.98 1548.04 L1300.98 1543.34 Q1303.06 1544.47 1305.29 1545.03 Q1307.51 1545.58 1309.99 1545.58 Q1313.99 1545.58 1316.33 1543.48 Q1318.67 1541.37 1318.67 1537.76 Q1318.67 1534.15 1316.33 1532.04 Q1313.99 1529.94 1309.99 1529.94 Q1308.11 1529.94 1306.24 1530.35 Q1304.38 1530.77 1302.44 1531.65 L1302.44 1514.29 Z\" fill=\"#000000\" fill-rule=\"evenodd\" fill-opacity=\"1\" /><path clip-path=\"url(#clip220)\" d=\"M1631.34 1544.91 L1647.66 1544.91 L1647.66 1548.85 L1625.71 1548.85 L1625.71 1544.91 Q1628.37 1542.16 1632.96 1537.53 Q1637.56 1532.88 1638.74 1531.53 Q1640.99 1529.01 1641.87 1527.27 Q1642.77 1525.51 1642.77 1523.82 Q1642.77 1521.07 1640.83 1519.33 Q1638.91 1517.6 1635.8 1517.6 Q1633.61 1517.6 1631.15 1518.36 Q1628.72 1519.13 1625.94 1520.68 L1625.94 1515.95 Q1628.77 1514.82 1631.22 1514.24 Q1633.67 1513.66 1635.71 1513.66 Q1641.08 1513.66 1644.28 1516.35 Q1647.47 1519.03 1647.47 1523.52 Q1647.47 1525.65 1646.66 1527.57 Q1645.87 1529.47 1643.77 1532.07 Q1643.19 1532.74 1640.09 1535.95 Q1636.98 1539.15 1631.34 1544.91 Z\" fill=\"#000000\" fill-rule=\"evenodd\" fill-opacity=\"1\" /><path clip-path=\"url(#clip220)\" d=\"M1667.47 1517.37 Q1663.86 1517.37 1662.03 1520.93 Q1660.23 1524.47 1660.23 1531.6 Q1660.23 1538.71 1662.03 1542.27 Q1663.86 1545.82 1667.47 1545.82 Q1671.11 1545.82 1672.91 1542.27 Q1674.74 1538.71 1674.74 1531.6 Q1674.74 1524.47 1672.91 1520.93 Q1671.11 1517.37 1667.47 1517.37 M1667.47 1513.66 Q1673.28 1513.66 1676.34 1518.27 Q1679.42 1522.85 1679.42 1531.6 Q1679.42 1540.33 1676.34 1544.94 Q1673.28 1549.52 1667.47 1549.52 Q1661.66 1549.52 1658.58 1544.94 Q1655.53 1540.33 1655.53 1531.6 Q1655.53 1522.85 1658.58 1518.27 Q1661.66 1513.66 1667.47 1513.66 Z\" fill=\"#000000\" fill-rule=\"evenodd\" fill-opacity=\"1\" /><path clip-path=\"url(#clip220)\" d=\"M1986.54 1544.91 L2002.86 1544.91 L2002.86 1548.85 L1980.92 1548.85 L1980.92 1544.91 Q1983.58 1542.16 1988.16 1537.53 Q1992.77 1532.88 1993.95 1531.53 Q1996.19 1529.01 1997.07 1527.27 Q1997.98 1525.51 1997.98 1523.82 Q1997.98 1521.07 1996.03 1519.33 Q1994.11 1517.6 1991.01 1517.6 Q1988.81 1517.6 1986.36 1518.36 Q1983.93 1519.13 1981.15 1520.68 L1981.15 1515.95 Q1983.97 1514.82 1986.43 1514.24 Q1988.88 1513.66 1990.92 1513.66 Q1996.29 1513.66 1999.48 1516.35 Q2002.68 1519.03 2002.68 1523.52 Q2002.68 1525.65 2001.87 1527.57 Q2001.08 1529.47 1998.97 1532.07 Q1998.39 1532.74 1995.29 1535.95 Q1992.19 1539.15 1986.54 1544.91 Z\" fill=\"#000000\" fill-rule=\"evenodd\" fill-opacity=\"1\" /><path clip-path=\"url(#clip220)\" d=\"M2012.72 1514.29 L2031.08 1514.29 L2031.08 1518.22 L2017 1518.22 L2017 1526.7 Q2018.02 1526.35 2019.04 1526.19 Q2020.06 1526 2021.08 1526 Q2026.87 1526 2030.25 1529.17 Q2033.62 1532.34 2033.62 1537.76 Q2033.62 1543.34 2030.15 1546.44 Q2026.68 1549.52 2020.36 1549.52 Q2018.19 1549.52 2015.92 1549.15 Q2013.67 1548.78 2011.26 1548.04 L2011.26 1543.34 Q2013.35 1544.47 2015.57 1545.03 Q2017.79 1545.58 2020.27 1545.58 Q2024.27 1545.58 2026.61 1543.48 Q2028.95 1541.37 2028.95 1537.76 Q2028.95 1534.15 2026.61 1532.04 Q2024.27 1529.94 2020.27 1529.94 Q2018.39 1529.94 2016.52 1530.35 Q2014.67 1530.77 2012.72 1531.65 L2012.72 1514.29 Z\" fill=\"#000000\" fill-rule=\"evenodd\" fill-opacity=\"1\" /><polyline clip-path=\"url(#clip222)\" style=\"stroke:#000000; stroke-linecap:butt; stroke-linejoin:round; stroke-width:2; stroke-opacity:0.1; fill:none\" points=\"\n",
       "  172.015,1445.72 2352.76,1445.72 \n",
       "  \"/>\n",
       "<polyline clip-path=\"url(#clip222)\" style=\"stroke:#000000; stroke-linecap:butt; stroke-linejoin:round; stroke-width:2; stroke-opacity:0.1; fill:none\" points=\"\n",
       "  172.015,1188.05 2352.76,1188.05 \n",
       "  \"/>\n",
       "<polyline clip-path=\"url(#clip222)\" style=\"stroke:#000000; stroke-linecap:butt; stroke-linejoin:round; stroke-width:2; stroke-opacity:0.1; fill:none\" points=\"\n",
       "  172.015,930.391 2352.76,930.391 \n",
       "  \"/>\n",
       "<polyline clip-path=\"url(#clip222)\" style=\"stroke:#000000; stroke-linecap:butt; stroke-linejoin:round; stroke-width:2; stroke-opacity:0.1; fill:none\" points=\"\n",
       "  172.015,672.729 2352.76,672.729 \n",
       "  \"/>\n",
       "<polyline clip-path=\"url(#clip222)\" style=\"stroke:#000000; stroke-linecap:butt; stroke-linejoin:round; stroke-width:2; stroke-opacity:0.1; fill:none\" points=\"\n",
       "  172.015,415.067 2352.76,415.067 \n",
       "  \"/>\n",
       "<polyline clip-path=\"url(#clip222)\" style=\"stroke:#000000; stroke-linecap:butt; stroke-linejoin:round; stroke-width:2; stroke-opacity:0.1; fill:none\" points=\"\n",
       "  172.015,157.405 2352.76,157.405 \n",
       "  \"/>\n",
       "<polyline clip-path=\"url(#clip220)\" style=\"stroke:#000000; stroke-linecap:butt; stroke-linejoin:round; stroke-width:4; stroke-opacity:1; fill:none\" points=\"\n",
       "  172.015,1486.45 172.015,47.2441 \n",
       "  \"/>\n",
       "<polyline clip-path=\"url(#clip220)\" style=\"stroke:#000000; stroke-linecap:butt; stroke-linejoin:round; stroke-width:4; stroke-opacity:1; fill:none\" points=\"\n",
       "  172.015,1445.72 190.912,1445.72 \n",
       "  \"/>\n",
       "<polyline clip-path=\"url(#clip220)\" style=\"stroke:#000000; stroke-linecap:butt; stroke-linejoin:round; stroke-width:4; stroke-opacity:1; fill:none\" points=\"\n",
       "  172.015,1188.05 190.912,1188.05 \n",
       "  \"/>\n",
       "<polyline clip-path=\"url(#clip220)\" style=\"stroke:#000000; stroke-linecap:butt; stroke-linejoin:round; stroke-width:4; stroke-opacity:1; fill:none\" points=\"\n",
       "  172.015,930.391 190.912,930.391 \n",
       "  \"/>\n",
       "<polyline clip-path=\"url(#clip220)\" style=\"stroke:#000000; stroke-linecap:butt; stroke-linejoin:round; stroke-width:4; stroke-opacity:1; fill:none\" points=\"\n",
       "  172.015,672.729 190.912,672.729 \n",
       "  \"/>\n",
       "<polyline clip-path=\"url(#clip220)\" style=\"stroke:#000000; stroke-linecap:butt; stroke-linejoin:round; stroke-width:4; stroke-opacity:1; fill:none\" points=\"\n",
       "  172.015,415.067 190.912,415.067 \n",
       "  \"/>\n",
       "<polyline clip-path=\"url(#clip220)\" style=\"stroke:#000000; stroke-linecap:butt; stroke-linejoin:round; stroke-width:4; stroke-opacity:1; fill:none\" points=\"\n",
       "  172.015,157.405 190.912,157.405 \n",
       "  \"/>\n",
       "<path clip-path=\"url(#clip220)\" d=\"M124.07 1431.51 Q120.459 1431.51 118.631 1435.08 Q116.825 1438.62 116.825 1445.75 Q116.825 1452.86 118.631 1456.42 Q120.459 1459.96 124.07 1459.96 Q127.705 1459.96 129.51 1456.42 Q131.339 1452.86 131.339 1445.75 Q131.339 1438.62 129.51 1435.08 Q127.705 1431.51 124.07 1431.51 M124.07 1427.81 Q129.881 1427.81 132.936 1432.42 Q136.015 1437 136.015 1445.75 Q136.015 1454.48 132.936 1459.08 Q129.881 1463.67 124.07 1463.67 Q118.26 1463.67 115.182 1459.08 Q112.126 1454.48 112.126 1445.75 Q112.126 1437 115.182 1432.42 Q118.26 1427.81 124.07 1427.81 Z\" fill=\"#000000\" fill-rule=\"evenodd\" fill-opacity=\"1\" /><path clip-path=\"url(#clip220)\" d=\"M54.5569 1201.4 L62.1958 1201.4 L62.1958 1175.03 L53.8856 1176.7 L53.8856 1172.44 L62.1495 1170.77 L66.8254 1170.77 L66.8254 1201.4 L74.4642 1201.4 L74.4642 1205.33 L54.5569 1205.33 L54.5569 1201.4 Z\" fill=\"#000000\" fill-rule=\"evenodd\" fill-opacity=\"1\" /><path clip-path=\"url(#clip220)\" d=\"M93.9086 1173.85 Q90.2975 1173.85 88.4688 1177.42 Q86.6632 1180.96 86.6632 1188.09 Q86.6632 1195.19 88.4688 1198.76 Q90.2975 1202.3 93.9086 1202.3 Q97.5428 1202.3 99.3483 1198.76 Q101.177 1195.19 101.177 1188.09 Q101.177 1180.96 99.3483 1177.42 Q97.5428 1173.85 93.9086 1173.85 M93.9086 1170.15 Q99.7187 1170.15 102.774 1174.76 Q105.853 1179.34 105.853 1188.09 Q105.853 1196.82 102.774 1201.42 Q99.7187 1206 93.9086 1206 Q88.0984 1206 85.0197 1201.42 Q81.9642 1196.82 81.9642 1188.09 Q81.9642 1179.34 85.0197 1174.76 Q88.0984 1170.15 93.9086 1170.15 Z\" fill=\"#000000\" fill-rule=\"evenodd\" fill-opacity=\"1\" /><path clip-path=\"url(#clip220)\" d=\"M124.07 1173.85 Q120.459 1173.85 118.631 1177.42 Q116.825 1180.96 116.825 1188.09 Q116.825 1195.19 118.631 1198.76 Q120.459 1202.3 124.07 1202.3 Q127.705 1202.3 129.51 1198.76 Q131.339 1195.19 131.339 1188.09 Q131.339 1180.96 129.51 1177.42 Q127.705 1173.85 124.07 1173.85 M124.07 1170.15 Q129.881 1170.15 132.936 1174.76 Q136.015 1179.34 136.015 1188.09 Q136.015 1196.82 132.936 1201.42 Q129.881 1206 124.07 1206 Q118.26 1206 115.182 1201.42 Q112.126 1196.82 112.126 1188.09 Q112.126 1179.34 115.182 1174.76 Q118.26 1170.15 124.07 1170.15 Z\" fill=\"#000000\" fill-rule=\"evenodd\" fill-opacity=\"1\" /><path clip-path=\"url(#clip220)\" d=\"M57.7745 943.736 L74.0939 943.736 L74.0939 947.671 L52.1495 947.671 L52.1495 943.736 Q54.8115 940.982 59.3949 936.352 Q64.0013 931.699 65.1819 930.357 Q67.4272 927.834 68.3068 926.097 Q69.2096 924.338 69.2096 922.648 Q69.2096 919.894 67.2652 918.158 Q65.3439 916.422 62.2421 916.422 Q60.043 916.422 57.5893 917.185 Q55.1588 917.949 52.381 919.5 L52.381 914.778 Q55.2051 913.644 57.6588 913.065 Q60.1124 912.486 62.1495 912.486 Q67.5198 912.486 70.7142 915.172 Q73.9087 917.857 73.9087 922.348 Q73.9087 924.477 73.0985 926.398 Q72.3115 928.297 70.205 930.889 Q69.6263 931.56 66.5245 934.778 Q63.4226 937.972 57.7745 943.736 Z\" fill=\"#000000\" fill-rule=\"evenodd\" fill-opacity=\"1\" /><path clip-path=\"url(#clip220)\" d=\"M93.9086 916.19 Q90.2975 916.19 88.4688 919.755 Q86.6632 923.297 86.6632 930.426 Q86.6632 937.533 88.4688 941.097 Q90.2975 944.639 93.9086 944.639 Q97.5428 944.639 99.3483 941.097 Q101.177 937.533 101.177 930.426 Q101.177 923.297 99.3483 919.755 Q97.5428 916.19 93.9086 916.19 M93.9086 912.486 Q99.7187 912.486 102.774 917.093 Q105.853 921.676 105.853 930.426 Q105.853 939.153 102.774 943.759 Q99.7187 948.343 93.9086 948.343 Q88.0984 948.343 85.0197 943.759 Q81.9642 939.153 81.9642 930.426 Q81.9642 921.676 85.0197 917.093 Q88.0984 912.486 93.9086 912.486 Z\" fill=\"#000000\" fill-rule=\"evenodd\" fill-opacity=\"1\" /><path clip-path=\"url(#clip220)\" d=\"M124.07 916.19 Q120.459 916.19 118.631 919.755 Q116.825 923.297 116.825 930.426 Q116.825 937.533 118.631 941.097 Q120.459 944.639 124.07 944.639 Q127.705 944.639 129.51 941.097 Q131.339 937.533 131.339 930.426 Q131.339 923.297 129.51 919.755 Q127.705 916.19 124.07 916.19 M124.07 912.486 Q129.881 912.486 132.936 917.093 Q136.015 921.676 136.015 930.426 Q136.015 939.153 132.936 943.759 Q129.881 948.343 124.07 948.343 Q118.26 948.343 115.182 943.759 Q112.126 939.153 112.126 930.426 Q112.126 921.676 115.182 917.093 Q118.26 912.486 124.07 912.486 Z\" fill=\"#000000\" fill-rule=\"evenodd\" fill-opacity=\"1\" /><path clip-path=\"url(#clip220)\" d=\"M67.9133 671.375 Q71.2698 672.093 73.1448 674.361 Q75.0429 676.63 75.0429 679.963 Q75.0429 685.079 71.5244 687.88 Q68.0059 690.681 61.5245 690.681 Q59.3486 690.681 57.0338 690.241 Q54.7421 689.824 52.2884 688.968 L52.2884 684.454 Q54.2328 685.588 56.5477 686.167 Q58.8625 686.745 61.3856 686.745 Q65.7837 686.745 68.0754 685.009 Q70.3902 683.273 70.3902 679.963 Q70.3902 676.908 68.2374 675.195 Q66.1078 673.458 62.2884 673.458 L58.2606 673.458 L58.2606 669.616 L62.4735 669.616 Q65.9226 669.616 67.7513 668.25 Q69.58 666.861 69.58 664.269 Q69.58 661.607 67.6819 660.195 Q65.8069 658.759 62.2884 658.759 Q60.3671 658.759 58.168 659.176 Q55.969 659.593 53.3301 660.472 L53.3301 656.306 Q55.9921 655.565 58.3069 655.195 Q60.6449 654.824 62.705 654.824 Q68.0291 654.824 71.1309 657.255 Q74.2327 659.662 74.2327 663.783 Q74.2327 666.653 72.5892 668.644 Q70.9457 670.611 67.9133 671.375 Z\" fill=\"#000000\" fill-rule=\"evenodd\" fill-opacity=\"1\" /><path clip-path=\"url(#clip220)\" d=\"M93.9086 658.528 Q90.2975 658.528 88.4688 662.093 Q86.6632 665.634 86.6632 672.764 Q86.6632 679.87 88.4688 683.435 Q90.2975 686.977 93.9086 686.977 Q97.5428 686.977 99.3483 683.435 Q101.177 679.87 101.177 672.764 Q101.177 665.634 99.3483 662.093 Q97.5428 658.528 93.9086 658.528 M93.9086 654.824 Q99.7187 654.824 102.774 659.431 Q105.853 664.014 105.853 672.764 Q105.853 681.491 102.774 686.097 Q99.7187 690.681 93.9086 690.681 Q88.0984 690.681 85.0197 686.097 Q81.9642 681.491 81.9642 672.764 Q81.9642 664.014 85.0197 659.431 Q88.0984 654.824 93.9086 654.824 Z\" fill=\"#000000\" fill-rule=\"evenodd\" fill-opacity=\"1\" /><path clip-path=\"url(#clip220)\" d=\"M124.07 658.528 Q120.459 658.528 118.631 662.093 Q116.825 665.634 116.825 672.764 Q116.825 679.87 118.631 683.435 Q120.459 686.977 124.07 686.977 Q127.705 686.977 129.51 683.435 Q131.339 679.87 131.339 672.764 Q131.339 665.634 129.51 662.093 Q127.705 658.528 124.07 658.528 M124.07 654.824 Q129.881 654.824 132.936 659.431 Q136.015 664.014 136.015 672.764 Q136.015 681.491 132.936 686.097 Q129.881 690.681 124.07 690.681 Q118.26 690.681 115.182 686.097 Q112.126 681.491 112.126 672.764 Q112.126 664.014 115.182 659.431 Q118.26 654.824 124.07 654.824 Z\" fill=\"#000000\" fill-rule=\"evenodd\" fill-opacity=\"1\" /><path clip-path=\"url(#clip220)\" d=\"M66.5939 401.861 L54.7884 420.31 L66.5939 420.31 L66.5939 401.861 M65.367 397.787 L71.2466 397.787 L71.2466 420.31 L76.1772 420.31 L76.1772 424.199 L71.2466 424.199 L71.2466 432.347 L66.5939 432.347 L66.5939 424.199 L50.9921 424.199 L50.9921 419.685 L65.367 397.787 Z\" fill=\"#000000\" fill-rule=\"evenodd\" fill-opacity=\"1\" /><path clip-path=\"url(#clip220)\" d=\"M93.9086 400.866 Q90.2975 400.866 88.4688 404.431 Q86.6632 407.972 86.6632 415.102 Q86.6632 422.208 88.4688 425.773 Q90.2975 429.315 93.9086 429.315 Q97.5428 429.315 99.3483 425.773 Q101.177 422.208 101.177 415.102 Q101.177 407.972 99.3483 404.431 Q97.5428 400.866 93.9086 400.866 M93.9086 397.162 Q99.7187 397.162 102.774 401.769 Q105.853 406.352 105.853 415.102 Q105.853 423.829 102.774 428.435 Q99.7187 433.018 93.9086 433.018 Q88.0984 433.018 85.0197 428.435 Q81.9642 423.829 81.9642 415.102 Q81.9642 406.352 85.0197 401.769 Q88.0984 397.162 93.9086 397.162 Z\" fill=\"#000000\" fill-rule=\"evenodd\" fill-opacity=\"1\" /><path clip-path=\"url(#clip220)\" d=\"M124.07 400.866 Q120.459 400.866 118.631 404.431 Q116.825 407.972 116.825 415.102 Q116.825 422.208 118.631 425.773 Q120.459 429.315 124.07 429.315 Q127.705 429.315 129.51 425.773 Q131.339 422.208 131.339 415.102 Q131.339 407.972 129.51 404.431 Q127.705 400.866 124.07 400.866 M124.07 397.162 Q129.881 397.162 132.936 401.769 Q136.015 406.352 136.015 415.102 Q136.015 423.829 132.936 428.435 Q129.881 433.018 124.07 433.018 Q118.26 433.018 115.182 428.435 Q112.126 423.829 112.126 415.102 Q112.126 406.352 115.182 401.769 Q118.26 397.162 124.07 397.162 Z\" fill=\"#000000\" fill-rule=\"evenodd\" fill-opacity=\"1\" /><path clip-path=\"url(#clip220)\" d=\"M53.793 140.125 L72.1494 140.125 L72.1494 144.06 L58.0754 144.06 L58.0754 152.532 Q59.0939 152.185 60.1124 152.023 Q61.131 151.838 62.1495 151.838 Q67.9365 151.838 71.3161 155.009 Q74.6957 158.181 74.6957 163.597 Q74.6957 169.176 71.2235 172.278 Q67.7513 175.356 61.4319 175.356 Q59.256 175.356 56.9875 174.986 Q54.7421 174.616 52.3347 173.875 L52.3347 169.176 Q54.418 170.31 56.6402 170.866 Q58.8625 171.421 61.3393 171.421 Q65.3439 171.421 67.6819 169.315 Q70.0198 167.208 70.0198 163.597 Q70.0198 159.986 67.6819 157.88 Q65.3439 155.773 61.3393 155.773 Q59.4643 155.773 57.5893 156.19 Q55.7375 156.606 53.793 157.486 L53.793 140.125 Z\" fill=\"#000000\" fill-rule=\"evenodd\" fill-opacity=\"1\" /><path clip-path=\"url(#clip220)\" d=\"M93.9086 143.204 Q90.2975 143.204 88.4688 146.769 Q86.6632 150.31 86.6632 157.44 Q86.6632 164.546 88.4688 168.111 Q90.2975 171.653 93.9086 171.653 Q97.5428 171.653 99.3483 168.111 Q101.177 164.546 101.177 157.44 Q101.177 150.31 99.3483 146.769 Q97.5428 143.204 93.9086 143.204 M93.9086 139.5 Q99.7187 139.5 102.774 144.107 Q105.853 148.69 105.853 157.44 Q105.853 166.167 102.774 170.773 Q99.7187 175.356 93.9086 175.356 Q88.0984 175.356 85.0197 170.773 Q81.9642 166.167 81.9642 157.44 Q81.9642 148.69 85.0197 144.107 Q88.0984 139.5 93.9086 139.5 Z\" fill=\"#000000\" fill-rule=\"evenodd\" fill-opacity=\"1\" /><path clip-path=\"url(#clip220)\" d=\"M124.07 143.204 Q120.459 143.204 118.631 146.769 Q116.825 150.31 116.825 157.44 Q116.825 164.546 118.631 168.111 Q120.459 171.653 124.07 171.653 Q127.705 171.653 129.51 168.111 Q131.339 164.546 131.339 157.44 Q131.339 150.31 129.51 146.769 Q127.705 143.204 124.07 143.204 M124.07 139.5 Q129.881 139.5 132.936 144.107 Q136.015 148.69 136.015 157.44 Q136.015 166.167 132.936 170.773 Q129.881 175.356 124.07 175.356 Q118.26 175.356 115.182 170.773 Q112.126 166.167 112.126 157.44 Q112.126 148.69 115.182 144.107 Q118.26 139.5 124.07 139.5 Z\" fill=\"#000000\" fill-rule=\"evenodd\" fill-opacity=\"1\" /><circle clip-path=\"url(#clip222)\" cx=\"233.734\" cy=\"87.9763\" r=\"14\" fill=\"#009af9\" fill-rule=\"evenodd\" fill-opacity=\"1\" stroke=\"#000000\" stroke-opacity=\"1\" stroke-width=\"3.2\"/>\n",
       "<circle clip-path=\"url(#clip222)\" cx=\"304.675\" cy=\"248.529\" r=\"14\" fill=\"#009af9\" fill-rule=\"evenodd\" fill-opacity=\"1\" stroke=\"#000000\" stroke-opacity=\"1\" stroke-width=\"3.2\"/>\n",
       "<circle clip-path=\"url(#clip222)\" cx=\"375.617\" cy=\"259.247\" r=\"14\" fill=\"#009af9\" fill-rule=\"evenodd\" fill-opacity=\"1\" stroke=\"#000000\" stroke-opacity=\"1\" stroke-width=\"3.2\"/>\n",
       "<circle clip-path=\"url(#clip222)\" cx=\"446.558\" cy=\"1130.26\" r=\"14\" fill=\"#009af9\" fill-rule=\"evenodd\" fill-opacity=\"1\" stroke=\"#000000\" stroke-opacity=\"1\" stroke-width=\"3.2\"/>\n",
       "<circle clip-path=\"url(#clip222)\" cx=\"517.5\" cy=\"1247.76\" r=\"14\" fill=\"#009af9\" fill-rule=\"evenodd\" fill-opacity=\"1\" stroke=\"#000000\" stroke-opacity=\"1\" stroke-width=\"3.2\"/>\n",
       "<circle clip-path=\"url(#clip222)\" cx=\"588.441\" cy=\"1445.72\" r=\"14\" fill=\"#009af9\" fill-rule=\"evenodd\" fill-opacity=\"1\" stroke=\"#000000\" stroke-opacity=\"1\" stroke-width=\"3.2\"/>\n",
       "<circle clip-path=\"url(#clip222)\" cx=\"659.383\" cy=\"1445.72\" r=\"14\" fill=\"#009af9\" fill-rule=\"evenodd\" fill-opacity=\"1\" stroke=\"#000000\" stroke-opacity=\"1\" stroke-width=\"3.2\"/>\n",
       "<circle clip-path=\"url(#clip222)\" cx=\"730.324\" cy=\"1445.72\" r=\"14\" fill=\"#009af9\" fill-rule=\"evenodd\" fill-opacity=\"1\" stroke=\"#000000\" stroke-opacity=\"1\" stroke-width=\"3.2\"/>\n",
       "<circle clip-path=\"url(#clip222)\" cx=\"801.266\" cy=\"1445.72\" r=\"14\" fill=\"#009af9\" fill-rule=\"evenodd\" fill-opacity=\"1\" stroke=\"#000000\" stroke-opacity=\"1\" stroke-width=\"3.2\"/>\n",
       "<circle clip-path=\"url(#clip222)\" cx=\"872.207\" cy=\"1445.72\" r=\"14\" fill=\"#009af9\" fill-rule=\"evenodd\" fill-opacity=\"1\" stroke=\"#000000\" stroke-opacity=\"1\" stroke-width=\"3.2\"/>\n",
       "<circle clip-path=\"url(#clip222)\" cx=\"943.149\" cy=\"1445.72\" r=\"14\" fill=\"#009af9\" fill-rule=\"evenodd\" fill-opacity=\"1\" stroke=\"#000000\" stroke-opacity=\"1\" stroke-width=\"3.2\"/>\n",
       "<circle clip-path=\"url(#clip222)\" cx=\"1014.09\" cy=\"1445.72\" r=\"14\" fill=\"#009af9\" fill-rule=\"evenodd\" fill-opacity=\"1\" stroke=\"#000000\" stroke-opacity=\"1\" stroke-width=\"3.2\"/>\n",
       "<circle clip-path=\"url(#clip222)\" cx=\"1085.03\" cy=\"1445.72\" r=\"14\" fill=\"#009af9\" fill-rule=\"evenodd\" fill-opacity=\"1\" stroke=\"#000000\" stroke-opacity=\"1\" stroke-width=\"3.2\"/>\n",
       "<circle clip-path=\"url(#clip222)\" cx=\"1155.97\" cy=\"1445.72\" r=\"14\" fill=\"#009af9\" fill-rule=\"evenodd\" fill-opacity=\"1\" stroke=\"#000000\" stroke-opacity=\"1\" stroke-width=\"3.2\"/>\n",
       "<circle clip-path=\"url(#clip222)\" cx=\"1226.91\" cy=\"1445.72\" r=\"14\" fill=\"#009af9\" fill-rule=\"evenodd\" fill-opacity=\"1\" stroke=\"#000000\" stroke-opacity=\"1\" stroke-width=\"3.2\"/>\n",
       "<circle clip-path=\"url(#clip222)\" cx=\"1297.86\" cy=\"1445.72\" r=\"14\" fill=\"#009af9\" fill-rule=\"evenodd\" fill-opacity=\"1\" stroke=\"#000000\" stroke-opacity=\"1\" stroke-width=\"3.2\"/>\n",
       "<circle clip-path=\"url(#clip222)\" cx=\"1368.8\" cy=\"1445.72\" r=\"14\" fill=\"#009af9\" fill-rule=\"evenodd\" fill-opacity=\"1\" stroke=\"#000000\" stroke-opacity=\"1\" stroke-width=\"3.2\"/>\n",
       "<circle clip-path=\"url(#clip222)\" cx=\"1439.74\" cy=\"1445.72\" r=\"14\" fill=\"#009af9\" fill-rule=\"evenodd\" fill-opacity=\"1\" stroke=\"#000000\" stroke-opacity=\"1\" stroke-width=\"3.2\"/>\n",
       "<circle clip-path=\"url(#clip222)\" cx=\"1510.68\" cy=\"1445.72\" r=\"14\" fill=\"#009af9\" fill-rule=\"evenodd\" fill-opacity=\"1\" stroke=\"#000000\" stroke-opacity=\"1\" stroke-width=\"3.2\"/>\n",
       "<circle clip-path=\"url(#clip222)\" cx=\"1581.62\" cy=\"1445.72\" r=\"14\" fill=\"#009af9\" fill-rule=\"evenodd\" fill-opacity=\"1\" stroke=\"#000000\" stroke-opacity=\"1\" stroke-width=\"3.2\"/>\n",
       "<circle clip-path=\"url(#clip222)\" cx=\"1652.56\" cy=\"1445.66\" r=\"14\" fill=\"#009af9\" fill-rule=\"evenodd\" fill-opacity=\"1\" stroke=\"#000000\" stroke-opacity=\"1\" stroke-width=\"3.2\"/>\n",
       "<circle clip-path=\"url(#clip222)\" cx=\"1723.5\" cy=\"1445.1\" r=\"14\" fill=\"#009af9\" fill-rule=\"evenodd\" fill-opacity=\"1\" stroke=\"#000000\" stroke-opacity=\"1\" stroke-width=\"3.2\"/>\n",
       "<circle clip-path=\"url(#clip222)\" cx=\"1794.45\" cy=\"1444.68\" r=\"14\" fill=\"#009af9\" fill-rule=\"evenodd\" fill-opacity=\"1\" stroke=\"#000000\" stroke-opacity=\"1\" stroke-width=\"3.2\"/>\n",
       "<circle clip-path=\"url(#clip222)\" cx=\"1865.39\" cy=\"1443.44\" r=\"14\" fill=\"#009af9\" fill-rule=\"evenodd\" fill-opacity=\"1\" stroke=\"#000000\" stroke-opacity=\"1\" stroke-width=\"3.2\"/>\n",
       "<circle clip-path=\"url(#clip222)\" cx=\"1936.33\" cy=\"1438.22\" r=\"14\" fill=\"#009af9\" fill-rule=\"evenodd\" fill-opacity=\"1\" stroke=\"#000000\" stroke-opacity=\"1\" stroke-width=\"3.2\"/>\n",
       "<circle clip-path=\"url(#clip222)\" cx=\"2007.27\" cy=\"1436.83\" r=\"14\" fill=\"#009af9\" fill-rule=\"evenodd\" fill-opacity=\"1\" stroke=\"#000000\" stroke-opacity=\"1\" stroke-width=\"3.2\"/>\n",
       "<circle clip-path=\"url(#clip222)\" cx=\"2078.21\" cy=\"1437.05\" r=\"14\" fill=\"#009af9\" fill-rule=\"evenodd\" fill-opacity=\"1\" stroke=\"#000000\" stroke-opacity=\"1\" stroke-width=\"3.2\"/>\n",
       "<circle clip-path=\"url(#clip222)\" cx=\"2149.15\" cy=\"1435.24\" r=\"14\" fill=\"#009af9\" fill-rule=\"evenodd\" fill-opacity=\"1\" stroke=\"#000000\" stroke-opacity=\"1\" stroke-width=\"3.2\"/>\n",
       "<circle clip-path=\"url(#clip222)\" cx=\"2220.1\" cy=\"1435.42\" r=\"14\" fill=\"#009af9\" fill-rule=\"evenodd\" fill-opacity=\"1\" stroke=\"#000000\" stroke-opacity=\"1\" stroke-width=\"3.2\"/>\n",
       "<circle clip-path=\"url(#clip222)\" cx=\"2291.04\" cy=\"1445.72\" r=\"14\" fill=\"#009af9\" fill-rule=\"evenodd\" fill-opacity=\"1\" stroke=\"#000000\" stroke-opacity=\"1\" stroke-width=\"3.2\"/>\n",
       "<path clip-path=\"url(#clip220)\" d=\"\n",
       "M1985.33 198.898 L2280.06 198.898 L2280.06 95.2176 L1985.33 95.2176  Z\n",
       "  \" fill=\"#ffffff\" fill-rule=\"evenodd\" fill-opacity=\"1\"/>\n",
       "<polyline clip-path=\"url(#clip220)\" style=\"stroke:#000000; stroke-linecap:butt; stroke-linejoin:round; stroke-width:4; stroke-opacity:1; fill:none\" points=\"\n",
       "  1985.33,198.898 2280.06,198.898 2280.06,95.2176 1985.33,95.2176 1985.33,198.898 \n",
       "  \"/>\n",
       "<circle clip-path=\"url(#clip220)\" cx=\"2082.25\" cy=\"147.058\" r=\"23\" fill=\"#009af9\" fill-rule=\"evenodd\" fill-opacity=\"1\" stroke=\"#000000\" stroke-opacity=\"1\" stroke-width=\"5.12\"/>\n",
       "<path clip-path=\"url(#clip220)\" d=\"M2193.02 166.745 Q2191.21 171.375 2189.5 172.787 Q2187.78 174.199 2184.91 174.199 L2181.51 174.199 L2181.51 170.634 L2184.01 170.634 Q2185.77 170.634 2186.74 169.8 Q2187.71 168.967 2188.9 165.865 L2189.66 163.921 L2179.17 138.412 L2183.69 138.412 L2191.79 158.689 L2199.89 138.412 L2204.4 138.412 L2193.02 166.745 Z\" fill=\"#000000\" fill-rule=\"evenodd\" fill-opacity=\"1\" /><path clip-path=\"url(#clip220)\" d=\"M2211.7 160.402 L2219.34 160.402 L2219.34 134.037 L2211.03 135.703 L2211.03 131.444 L2219.29 129.778 L2223.96 129.778 L2223.96 160.402 L2231.6 160.402 L2231.6 164.338 L2211.7 164.338 L2211.7 160.402 Z\" fill=\"#000000\" fill-rule=\"evenodd\" fill-opacity=\"1\" /></svg>\n"
      ]
     },
     "execution_count": 68,
     "metadata": {},
     "output_type": "execute_result"
    }
   ],
   "source": [
    "using Plots\n",
    "using Distributions\n",
    "\n",
    "# Polinômio de grau 5 \n",
    "f(x) = x^(5)-x^(4)-x^(3)+x^(2)+x+1\n",
    "\n",
    "# \n",
    "xs = rand(Uniform(-5, 5), 30)\n",
    "xs = sort(xs)\n",
    "pontos = map((x) -> (x, f(x)), xs)\n",
    "\n",
    "function g(coefs, x)\n",
    "    y = 0\n",
    "    for i in 1:length(coefs)\n",
    "        y = y + coefs[i]*x^(i-1)\n",
    "    end\n",
    "    return y\n",
    "end\n",
    "# Contradomínio. (Erros)\n",
    "Y = []\n",
    "n_pontos = length(pontos)\n",
    "grau_lim = 29\n",
    "\n",
    "for i in 0:grau_lim\n",
    "    erro = 0\n",
    "    coefs = regressao(pontos,i)\n",
    "    # Para cada ponto\n",
    "    for j in 1:n_pontos\n",
    "        x = pontos[j][1]\n",
    "        # Soma os erros em cada ponto\n",
    "        erro = erro + abs(g(coefs,x) - f(x))\n",
    "    end\n",
    "    # Média\n",
    "    erro = erro / n_pontos\n",
    "    push!(Y,erro)\n",
    "end\n",
    "\n",
    "# Graus\n",
    "X = 0:grau_lim\n",
    "\n",
    "scatter(X,Y)"
   ]
  },
  {
   "cell_type": "code",
   "execution_count": 60,
   "id": "4349a34b",
   "metadata": {},
   "outputs": [
    {
     "ename": "LoadError",
     "evalue": "MethodError: no method matching push!(::Int64, ::Vector{Any})\n\u001b[0mClosest candidates are:\n\u001b[0m  push!(::Any, ::Any, \u001b[91m::Any\u001b[39m) at abstractarray.jl:2387\n\u001b[0m  push!(::Any, ::Any, \u001b[91m::Any\u001b[39m, \u001b[91m::Any...\u001b[39m) at abstractarray.jl:2388\n\u001b[0m  push!(\u001b[91m::DataStructures.CircularDeque\u001b[39m, ::Any) at /home/matheus/.julia/packages/DataStructures/vSp4s/src/circ_deque.jl:55\n\u001b[0m  ...",
     "output_type": "error",
     "traceback": [
      "MethodError: no method matching push!(::Int64, ::Vector{Any})\n\u001b[0mClosest candidates are:\n\u001b[0m  push!(::Any, ::Any, \u001b[91m::Any\u001b[39m) at abstractarray.jl:2387\n\u001b[0m  push!(::Any, ::Any, \u001b[91m::Any\u001b[39m, \u001b[91m::Any...\u001b[39m) at abstractarray.jl:2388\n\u001b[0m  push!(\u001b[91m::DataStructures.CircularDeque\u001b[39m, ::Any) at /home/matheus/.julia/packages/DataStructures/vSp4s/src/circ_deque.jl:55\n\u001b[0m  ...",
      "",
      "Stacktrace:",
      " [1] top-level scope",
      "   @ In[60]:2",
      " [2] eval",
      "   @ ./boot.jl:360 [inlined]",
      " [3] include_string(mapexpr::typeof(REPL.softscope), mod::Module, code::String, filename::String)",
      "   @ Base ./loading.jl:1116"
     ]
    }
   ],
   "source": [
    "Y = []\n",
    "push!(3,Y)\n",
    "print(Y)"
   ]
  },
  {
   "cell_type": "code",
   "execution_count": null,
   "id": "3c3166f9",
   "metadata": {},
   "outputs": [],
   "source": []
  }
 ],
 "metadata": {
  "kernelspec": {
   "display_name": "Julia 1.6.4",
   "language": "julia",
   "name": "julia-1.6"
  },
  "language_info": {
   "file_extension": ".jl",
   "mimetype": "application/julia",
   "name": "julia",
   "version": "1.6.4"
  }
 },
 "nbformat": 4,
 "nbformat_minor": 5
}
